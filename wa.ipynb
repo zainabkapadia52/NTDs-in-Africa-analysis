{
 "cells": [
  {
   "cell_type": "markdown",
   "metadata": {},
   "source": [
    "<h1><center>Neglected Tropical Diseases in Africa and their eradication</center></h1>\n",
    "<h4><center>\n",
    "<a style=\"text-decoration:none\" href=\"https://github.com/zainabkapadia52\">Zainab Kapadia</a>, IIT Gandhinagar, <a style=\"text-decoration:none\" href=\"mailto:<author1>@iitgn.ac.in\">23110373@iitgn.ac.in</a>\n",
    "<br><br>\n",
    "<a style=\"text-decoration:none\" href=\"https://github.com/nikhil-405\">Nikhil Goyal</a>, IIT Gandhinagar, <a style=\"text-decoration:none\" href=\"mailto:<author2>@iitgn.ac.in\">.g@iitgn.ac.in</a>\n",
    "<br><br>\n",
    "<a style=\"text-decoration:none\" href=\"https://github.com/Vishal1309\">Vishal Soni</a>, IIT Gandhinagar, <a style=\"text-decoration:none\" href=\"mailto:<author3>@iitgn.ac.in\">jayesh.s@iitgn.ac.in</a>\n",
    "</center></h4>"
   ]
  },
  {
   "cell_type": "markdown",
   "metadata": {},
   "source": [
    "# Neglected Tropical Diseases in Africa and their eradication"
   ]
  },
  {
   "cell_type": "markdown",
   "metadata": {},
   "source": [
    "### Introduction\n",
    "\n",
    "Neglected tropical diseases (NTDs) affect more than one billion of the world’s poorest people, trapping them in a vicious cycle of infection, disability, and poverty. In sub‑Saharan Africa, diseases like lymphatic filariasis and soil‑transmitted helminthiases burden rural communities with chronic illness, impaired child development, and lost economic productivity. Despite decades of mass‑drug administration campaigns and global partnerships led by the World Health Organization, progress toward eradication remains uneven—country by country, year by year.\n",
    "\n",
    "A rigorous, data‑driven approach can illuminate where interventions have succeeded and where gaps persist. By combining prevalence and treatment records with socioeconomic indicators such as GDP per capita, health‑expenditure, and access to improved sanitation, we can quantify five‑year changes in disease burden, assess the impact of mass‑drug coverage, and uncover the underlying drivers of progress. In the sections that follow, we summarize our cleaned datasets, posit clear hypotheses around program coverage and socioeconomic context, and use statistical tests and visualizations to chart a path toward the lasting elimination of NTDs in Africa."
   ]
  },
  {
   "cell_type": "code",
   "execution_count": 1,
   "metadata": {},
   "outputs": [
    {
     "data": {
      "text/html": [
       "<button type=\"button\" class=\"btn btn-outline-danger\"  onclick=\"codeToggle();\">Toggle Code</button>"
      ],
      "text/plain": [
       "<IPython.core.display.HTML object>"
      ]
     },
     "execution_count": 1,
     "metadata": {},
     "output_type": "execute_result"
    }
   ],
   "source": [
    "from IPython.display import HTML\n",
    "HTML('''<button type=\"button\" class=\"btn btn-outline-danger\"  onclick=\"codeToggle();\">Toggle Code</button>''')"
   ]
  },
  {
   "cell_type": "markdown",
   "metadata": {},
   "source": [
    "### Analysis of lymphatic filariasis and soil‑transmitted helminthiases Spread in Africa "
   ]
  },
  {
   "cell_type": "code",
   "execution_count": 4,
   "metadata": {},
   "outputs": [
    {
     "data": {
      "text/html": [
       "        <script type=\"text/javascript\">\n",
       "        window.PlotlyConfig = {MathJaxConfig: 'local'};\n",
       "        if (window.MathJax && window.MathJax.Hub && window.MathJax.Hub.Config) {window.MathJax.Hub.Config({SVG: {font: \"STIX-Web\"}});}\n",
       "        </script>\n",
       "        <script type=\"module\">import \"https://cdn.plot.ly/plotly-3.0.1.min\"</script>\n",
       "        "
      ]
     },
     "metadata": {},
     "output_type": "display_data"
    }
   ],
   "source": [
    "# Importing the libraries needed\n",
    "import pandas as pd\n",
    "import numpy as np\n",
    "import matplotlib.pyplot as plt\n",
    "import seaborn as sns\n",
    "from ipywidgets import widgets, interactive\n",
    "import plotly.io as pio\n",
    "import plotly.express as px\n",
    "import warnings\n",
    "import os\n",
    "\n",
    "data_dir = \"data\"\n",
    "\n",
    "warnings.filterwarnings('ignore')\n",
    "pio.renderers.default='notebook'\n",
    "from plotly.offline import init_notebook_mode\n",
    "init_notebook_mode(connected=True)"
   ]
  },
  {
   "cell_type": "code",
   "execution_count": 11,
   "metadata": {},
   "outputs": [],
   "source": [
    "df= pd.read_excel(\"data/STH_data.xlsx\")\n",
    "df= df[df[\"region\"] == \"AFR\"].copy()\n",
    "df.sort_values(by=\"year\", inplace=True)\n",
    "df.drop(columns=[\"region\", \"country\"], inplace=True)\n",
    "df[\"country_code\"]= df[\"country_code\"].str.upper()\n",
    "df.rename(columns={\n",
    "    \"year\": \"Year\",\n",
    "    \"country_code\": \"CountryCode\"\n",
    "}, inplace=True)\n",
    "df.to_csv(\"data/STH_summary.csv\", index=False)\n",
    "\n",
    "\n",
    "df= pd.read_excel(\"data/LF_data.xlsx\")\n",
    "df= df[df[\"Region\"] == \"AFR\"].copy()\n",
    "df.sort_values(by=\"Year\", inplace=True)\n",
    "df.drop(columns=[\"Region\", \"Country\"], inplace=True)\n",
    "df[\"country_code\"]= df[\"country_code\"].str.upper()\n",
    "df.rename(columns={\n",
    "    \"country_code\": \"CountryCode\"\n",
    "}, inplace=True)\n",
    "df.to_csv( \"data/LF_summary.csv\", index=False)\n",
    "\n",
    "\n",
    "df = pd.read_csv(\"data/COUNTRY.csv\")\n",
    "african_countries_df = df[df[\"ParentCode\"] == \"AFR\"]\n",
    "african_country_codes = african_countries_df[\"Code\"].tolist()\n",
    "\n",
    "\n",
    "gdp_df = pd.read_csv(\"data/GDP.csv\") \n",
    "gdp_africa = gdp_df[gdp_df[\"Country Code\"].isin(african_country_codes)].copy()\n",
    "gdp_africa.drop(columns=[\"Country Name\", \"Indicator Name\", \"Indicator Code\"], inplace=True)\n",
    "gdp_africa.rename(columns={\"Country Code\": \"CountryCode\"}, inplace=True)\n",
    "if 'Unnamed: 0' in df.columns:\n",
    "    df.drop(columns=['Unnamed: 0'], inplace=True)\n",
    "gdp_africa.to_csv(\"data/gdp_per_capita_africa.csv\", index=False)\n",
    "\n",
    "\n",
    "df = pd.read_csv(\"data/health_expenditure_per_capita.csv\")  \n",
    "df = df[df[\"Country Code\"].isin(african_country_codes)].copy()\n",
    "columns_to_drop = [\"Country Name\", \"Unnamed: 0\"]\n",
    "df.drop(columns=[col for col in columns_to_drop if col in df.columns], inplace=True)\n",
    "df.rename(columns={\"Country Code\": \"CountryCode\"}, inplace=True)\n",
    "df.to_csv(\"data/health_expenditure_per_capita_africa.csv\", index=False)\n",
    "\n",
    "\n",
    "df = pd.read_csv(\"data/edited_API_SH.STA.BASS.ZS_DS2_EN_CSV_v2_65890.csv\")\n",
    "df = df[df[\"Country Code\"].isin(african_country_codes)].copy()\n",
    "columns_to_drop = [\"Country Name\", \"Unnamed: 0\"]\n",
    "df.drop(columns=[col for col in columns_to_drop if col in df.columns], inplace=True)\n",
    "df.rename(columns={\"Country Code\": \"CountryCode\"}, inplace=True)\n",
    "df.to_csv(\"data/sanitation_africa.csv\", index=False)\n",
    "\n",
    "\n",
    "available_country_codes = [\n",
    "    'AGO', 'BDI', 'BEN', 'BFA', 'BWA', 'CAF', 'CIV', 'CMR', 'COD', 'COG',\n",
    "    'COM', 'CPV', 'DZA', 'ERI', 'ETH', 'GAB', 'GHA', 'GIN', 'GMB', 'GNB',\n",
    "    'GNQ', 'KEN', 'LBR', 'LSO', 'MDG', 'MLI', 'MOZ', 'MRT', 'MUS', 'MWI',\n",
    "    'NAM', 'NER', 'NGA', 'RWA', 'SEN', 'SLE', 'SSD', 'STP', 'SWZ', 'SYC',\n",
    "    'TCD', 'TGO', 'TZA', 'UGA', 'ZAF', 'ZMB', 'ZWE'\n",
    "]\n",
    "\n",
    "# List of disease names\n",
    "diseases= [\"STH\",\"LF\"]\n",
    "for disease_name in diseases:\n",
    "    file_path= f\"data/{disease_name}_summary.csv\"\n",
    "    df= pd.read_csv(file_path)\n",
    "    df_filtered= df[df[\"CountryCode\"].isin(available_country_codes)].copy()\n",
    "    filtered_path= f\"data/{disease_name}_filtered.csv\"\n",
    "    df_filtered.to_csv(filtered_path, index=False)"
   ]
  },
  {
   "cell_type": "code",
   "execution_count": 12,
   "metadata": {},
   "outputs": [],
   "source": [
    "lf= pd.read_csv(\"data/LF_filtered.csv\")\n",
    "sth= pd.read_csv(\"data/STH_filtered.csv\")\n",
    "\n",
    "# Dropping columns with >70% missing values\n",
    "def drop_high_missing(df, threshold=0.7):\n",
    "    return df.loc[:, df.isna().mean() <= threshold]\n",
    "\n",
    "lf_clean= drop_high_missing(lf)\n",
    "sth_clean= drop_high_missing(sth)\n",
    "lf_clean.replace(\"No data\", pd.NA, inplace=True)\n",
    "sth_clean.replace(\"No data\", pd.NA, inplace=True)\n",
    "\n",
    "# Imputing numeric columns by country using transform \n",
    "for df in (lf_clean, sth_clean):\n",
    "    num_cols = df.select_dtypes(include='number').columns.drop('Year', errors='ignore')\n",
    "    df[num_cols] = df.groupby(\"CountryCode\")[num_cols] \\\n",
    "                     .transform(lambda grp: grp.interpolate(method='linear')\n",
    "                                            .ffill().bfill())\n",
    "    cat_cols = [c for c in df.columns if c not in num_cols and c not in [\"CountryCode\", \"Year\"]]\n",
    "    for col in cat_cols:\n",
    "        if df[col].isna().any():\n",
    "            df[col] = df[col].fillna(df[col].mode().iloc[0])\n",
    "\n",
    "\n",
    "lf_clean.to_csv(\"data/LF_cleaned.csv\", index=False)\n",
    "sth_clean.to_csv(\"data/STH_cleaned.csv\", index=False)"
   ]
  },
  {
   "cell_type": "code",
   "execution_count": 16,
   "metadata": {},
   "outputs": [],
   "source": [
    "gdp_wide= pd.read_csv(\"data/gdp_per_capita_africa.csv\",index_col=0)       \n",
    "healthexp= pd.read_csv(\"data/health_expenditure_per_capita_africa.csv\")\n",
    "sanit= pd.read_csv(\"data/sanitation_africa.csv\")\n",
    "\n",
    "gdp_long= (\n",
    "    gdp_wide\n",
    "      .melt(id_vars=\"CountryCode\", \n",
    "            var_name=\"Year\", \n",
    "            value_name=\"GDP_per_capita\")\n",
    "      .assign(Year=lambda df: df[\"Year\"].astype(int))\n",
    ")\n",
    "\n",
    "healthexp_long= (\n",
    "    healthexp\n",
    "      .melt(id_vars=\"CountryCode\",\n",
    "            var_name=\"Year\",\n",
    "            value_name=\"HealthExp_per_capita\")\n",
    "      .assign(Year=lambda df: df[\"Year\"].astype(int))\n",
    ")\n",
    "\n",
    "sanit_long= (\n",
    "    sanit\n",
    "      .melt(id_vars=\"CountryCode\",\n",
    "            var_name=\"Year\",\n",
    "            value_name=\"Pct_with_improved_sanitation\")\n",
    "      .assign(Year=lambda df: df[\"Year\"].astype(int))\n",
    ")\n",
    "\n",
    "cov= (\n",
    "    gdp_long\n",
    "      .merge(healthexp_long, on=[\"CountryCode\",\"Year\"], how=\"outer\")\n",
    "      .merge(sanit_long,     on=[\"CountryCode\",\"Year\"], how=\"outer\")\n",
    ")\n",
    "\n",
    "lf_full= lf_clean.merge(cov, on=[\"CountryCode\",\"Year\"], how=\"left\")\n",
    "sth_full= sth_clean.merge(cov, on=[\"CountryCode\",\"Year\"], how=\"left\")\n",
    "\n",
    "lf_final= lf_full.drop(columns=[\n",
    "    'Mapping status',\n",
    "    'Type of MDA',\n",
    "    'Current status of MDA',\n",
    "    'Number of IUs covered',\n",
    "    'Geographical coverage (%)',\n",
    "    'Total population of IUs'\n",
    "])\n",
    "\n",
    "sth_final= sth_full.drop(columns=[\n",
    "    'Number of Pre-SAC targeted',\n",
    "    'Drug combination, Pre-SAC'\n",
    "])\n",
    "\n",
    "lf_final.to_csv('data/LF_final.csv', index=False)\n",
    "\n",
    "cov_cols= [\"Programme coverage, Pre-SAC (%)\", \"National coverage, Pre-SAC (%)\"]\n",
    "for col in cov_cols:\n",
    "    sth_final[col]= pd.to_numeric(sth_final[col], errors=\"coerce\")\n",
    "\n",
    "missing_pct= sth_final[cov_cols].isna().mean() * 100\n",
    "sth_final[cov_cols]= (\n",
    "    sth_final\n",
    "    .groupby(\"CountryCode\")[cov_cols]\n",
    "    .transform(lambda grp: grp.interpolate(method=\"linear\")\n",
    "                                .ffill()\n",
    "                                .bfill())\n",
    ")\n",
    "\n",
    "for col in cov_cols:\n",
    "    median_val = sth_final[col].median()\n",
    "    sth_final[col].fillna(median_val, inplace=True)\n",
    "\n",
    "sth_final.to_csv(\"data/STH_final.csv\", index=False)"
   ]
  },
  {
   "cell_type": "code",
   "execution_count": 19,
   "metadata": {},
   "outputs": [
    {
     "data": {
      "application/vnd.plotly.v1+json": {
       "config": {
        "plotlyServerURL": "https://plot.ly"
       },
       "data": [
        {
         "hovertemplate": "Disease=LF<br>Year=%{x}<br>Population Requiring PC=%{y}<extra></extra>",
         "legendgroup": "LF",
         "line": {
          "color": "#636efa",
          "dash": "solid"
         },
         "marker": {
          "symbol": "circle"
         },
         "mode": "lines",
         "name": "LF",
         "orientation": "v",
         "showlegend": true,
         "type": "scatter",
         "x": {
          "bdata": "0AfRB9IH0wfUB9UH1gfXB9gH2QfaB9sH3AfdB94H3wfgB+EH4gfjB+QH5QfmB+cH",
          "dtype": "i2"
         },
         "xaxis": "x",
         "y": {
          "bdata": "AAAAAP8Hl0EAAAAgpNifQQAAAChnRKJBAAAAVI5OokEAAADk0O2iQQAAAM70SqZBAAAAljACp0EAAACcD2mpQQAAACwKvqtBAAAAyiEyuEEAAAD0Kc+5QQAAALHYfLtBAAAAefu7u0EAAACyR/27QQAAAJfkYrlBAAAA25xYuEEAAACx3Cm3QQAAAH3WsbVB4+sFBNlbuEF4k1F3uXq4QXpqf6zBorZBKYlgH+vmt0HkXf18PY25QQAAAMsGmbFB",
          "dtype": "f8"
         },
         "yaxis": "y"
        },
        {
         "hovertemplate": "Disease=STH<br>Year=%{x}<br>Population Requiring PC=%{y}<extra></extra>",
         "legendgroup": "STH",
         "line": {
          "color": "#EF553B",
          "dash": "solid"
         },
         "marker": {
          "symbol": "circle"
         },
         "mode": "lines",
         "name": "STH",
         "orientation": "v",
         "showlegend": true,
         "type": "scatter",
         "x": {
          "bdata": "0wfUB9UH1gfXB9gH2QfaB9sH3AfdB94H3wfgB+EH4gfjB+QH5QfmB+cH",
          "dtype": "i2"
         },
         "xaxis": "x",
         "y": {
          "bdata": "AAAA+B+JlEEAAABko/+UQQAAABihrZdBAAAAqAEumUEAAABQnN2ZQQAAAECBG51BcT0K6SfTm0EK16MLJWKeQUjheoQ4q5lBuB6EatVcmEEfhevcYyulQQAAAGhy+aVBAAAAqHTmo0EAAADalRygQQAAACBaWaRBotu/t66+l0EAAADqnCijQQAAAJixQZVBAAAAqNgbk0EAAADguFeUQQAAACDoO5ZB",
          "dtype": "f8"
         },
         "yaxis": "y"
        }
       ],
       "layout": {
        "legend": {
         "title": {
          "text": "Disease"
         },
         "tracegroupgap": 0
        },
        "template": {
         "data": {
          "bar": [
           {
            "error_x": {
             "color": "#2a3f5f"
            },
            "error_y": {
             "color": "#2a3f5f"
            },
            "marker": {
             "line": {
              "color": "#E5ECF6",
              "width": 0.5
             },
             "pattern": {
              "fillmode": "overlay",
              "size": 10,
              "solidity": 0.2
             }
            },
            "type": "bar"
           }
          ],
          "barpolar": [
           {
            "marker": {
             "line": {
              "color": "#E5ECF6",
              "width": 0.5
             },
             "pattern": {
              "fillmode": "overlay",
              "size": 10,
              "solidity": 0.2
             }
            },
            "type": "barpolar"
           }
          ],
          "carpet": [
           {
            "aaxis": {
             "endlinecolor": "#2a3f5f",
             "gridcolor": "white",
             "linecolor": "white",
             "minorgridcolor": "white",
             "startlinecolor": "#2a3f5f"
            },
            "baxis": {
             "endlinecolor": "#2a3f5f",
             "gridcolor": "white",
             "linecolor": "white",
             "minorgridcolor": "white",
             "startlinecolor": "#2a3f5f"
            },
            "type": "carpet"
           }
          ],
          "choropleth": [
           {
            "colorbar": {
             "outlinewidth": 0,
             "ticks": ""
            },
            "type": "choropleth"
           }
          ],
          "contour": [
           {
            "colorbar": {
             "outlinewidth": 0,
             "ticks": ""
            },
            "colorscale": [
             [
              0,
              "#0d0887"
             ],
             [
              0.1111111111111111,
              "#46039f"
             ],
             [
              0.2222222222222222,
              "#7201a8"
             ],
             [
              0.3333333333333333,
              "#9c179e"
             ],
             [
              0.4444444444444444,
              "#bd3786"
             ],
             [
              0.5555555555555556,
              "#d8576b"
             ],
             [
              0.6666666666666666,
              "#ed7953"
             ],
             [
              0.7777777777777778,
              "#fb9f3a"
             ],
             [
              0.8888888888888888,
              "#fdca26"
             ],
             [
              1,
              "#f0f921"
             ]
            ],
            "type": "contour"
           }
          ],
          "contourcarpet": [
           {
            "colorbar": {
             "outlinewidth": 0,
             "ticks": ""
            },
            "type": "contourcarpet"
           }
          ],
          "heatmap": [
           {
            "colorbar": {
             "outlinewidth": 0,
             "ticks": ""
            },
            "colorscale": [
             [
              0,
              "#0d0887"
             ],
             [
              0.1111111111111111,
              "#46039f"
             ],
             [
              0.2222222222222222,
              "#7201a8"
             ],
             [
              0.3333333333333333,
              "#9c179e"
             ],
             [
              0.4444444444444444,
              "#bd3786"
             ],
             [
              0.5555555555555556,
              "#d8576b"
             ],
             [
              0.6666666666666666,
              "#ed7953"
             ],
             [
              0.7777777777777778,
              "#fb9f3a"
             ],
             [
              0.8888888888888888,
              "#fdca26"
             ],
             [
              1,
              "#f0f921"
             ]
            ],
            "type": "heatmap"
           }
          ],
          "histogram": [
           {
            "marker": {
             "pattern": {
              "fillmode": "overlay",
              "size": 10,
              "solidity": 0.2
             }
            },
            "type": "histogram"
           }
          ],
          "histogram2d": [
           {
            "colorbar": {
             "outlinewidth": 0,
             "ticks": ""
            },
            "colorscale": [
             [
              0,
              "#0d0887"
             ],
             [
              0.1111111111111111,
              "#46039f"
             ],
             [
              0.2222222222222222,
              "#7201a8"
             ],
             [
              0.3333333333333333,
              "#9c179e"
             ],
             [
              0.4444444444444444,
              "#bd3786"
             ],
             [
              0.5555555555555556,
              "#d8576b"
             ],
             [
              0.6666666666666666,
              "#ed7953"
             ],
             [
              0.7777777777777778,
              "#fb9f3a"
             ],
             [
              0.8888888888888888,
              "#fdca26"
             ],
             [
              1,
              "#f0f921"
             ]
            ],
            "type": "histogram2d"
           }
          ],
          "histogram2dcontour": [
           {
            "colorbar": {
             "outlinewidth": 0,
             "ticks": ""
            },
            "colorscale": [
             [
              0,
              "#0d0887"
             ],
             [
              0.1111111111111111,
              "#46039f"
             ],
             [
              0.2222222222222222,
              "#7201a8"
             ],
             [
              0.3333333333333333,
              "#9c179e"
             ],
             [
              0.4444444444444444,
              "#bd3786"
             ],
             [
              0.5555555555555556,
              "#d8576b"
             ],
             [
              0.6666666666666666,
              "#ed7953"
             ],
             [
              0.7777777777777778,
              "#fb9f3a"
             ],
             [
              0.8888888888888888,
              "#fdca26"
             ],
             [
              1,
              "#f0f921"
             ]
            ],
            "type": "histogram2dcontour"
           }
          ],
          "mesh3d": [
           {
            "colorbar": {
             "outlinewidth": 0,
             "ticks": ""
            },
            "type": "mesh3d"
           }
          ],
          "parcoords": [
           {
            "line": {
             "colorbar": {
              "outlinewidth": 0,
              "ticks": ""
             }
            },
            "type": "parcoords"
           }
          ],
          "pie": [
           {
            "automargin": true,
            "type": "pie"
           }
          ],
          "scatter": [
           {
            "fillpattern": {
             "fillmode": "overlay",
             "size": 10,
             "solidity": 0.2
            },
            "type": "scatter"
           }
          ],
          "scatter3d": [
           {
            "line": {
             "colorbar": {
              "outlinewidth": 0,
              "ticks": ""
             }
            },
            "marker": {
             "colorbar": {
              "outlinewidth": 0,
              "ticks": ""
             }
            },
            "type": "scatter3d"
           }
          ],
          "scattercarpet": [
           {
            "marker": {
             "colorbar": {
              "outlinewidth": 0,
              "ticks": ""
             }
            },
            "type": "scattercarpet"
           }
          ],
          "scattergeo": [
           {
            "marker": {
             "colorbar": {
              "outlinewidth": 0,
              "ticks": ""
             }
            },
            "type": "scattergeo"
           }
          ],
          "scattergl": [
           {
            "marker": {
             "colorbar": {
              "outlinewidth": 0,
              "ticks": ""
             }
            },
            "type": "scattergl"
           }
          ],
          "scattermap": [
           {
            "marker": {
             "colorbar": {
              "outlinewidth": 0,
              "ticks": ""
             }
            },
            "type": "scattermap"
           }
          ],
          "scattermapbox": [
           {
            "marker": {
             "colorbar": {
              "outlinewidth": 0,
              "ticks": ""
             }
            },
            "type": "scattermapbox"
           }
          ],
          "scatterpolar": [
           {
            "marker": {
             "colorbar": {
              "outlinewidth": 0,
              "ticks": ""
             }
            },
            "type": "scatterpolar"
           }
          ],
          "scatterpolargl": [
           {
            "marker": {
             "colorbar": {
              "outlinewidth": 0,
              "ticks": ""
             }
            },
            "type": "scatterpolargl"
           }
          ],
          "scatterternary": [
           {
            "marker": {
             "colorbar": {
              "outlinewidth": 0,
              "ticks": ""
             }
            },
            "type": "scatterternary"
           }
          ],
          "surface": [
           {
            "colorbar": {
             "outlinewidth": 0,
             "ticks": ""
            },
            "colorscale": [
             [
              0,
              "#0d0887"
             ],
             [
              0.1111111111111111,
              "#46039f"
             ],
             [
              0.2222222222222222,
              "#7201a8"
             ],
             [
              0.3333333333333333,
              "#9c179e"
             ],
             [
              0.4444444444444444,
              "#bd3786"
             ],
             [
              0.5555555555555556,
              "#d8576b"
             ],
             [
              0.6666666666666666,
              "#ed7953"
             ],
             [
              0.7777777777777778,
              "#fb9f3a"
             ],
             [
              0.8888888888888888,
              "#fdca26"
             ],
             [
              1,
              "#f0f921"
             ]
            ],
            "type": "surface"
           }
          ],
          "table": [
           {
            "cells": {
             "fill": {
              "color": "#EBF0F8"
             },
             "line": {
              "color": "white"
             }
            },
            "header": {
             "fill": {
              "color": "#C8D4E3"
             },
             "line": {
              "color": "white"
             }
            },
            "type": "table"
           }
          ]
         },
         "layout": {
          "annotationdefaults": {
           "arrowcolor": "#2a3f5f",
           "arrowhead": 0,
           "arrowwidth": 1
          },
          "autotypenumbers": "strict",
          "coloraxis": {
           "colorbar": {
            "outlinewidth": 0,
            "ticks": ""
           }
          },
          "colorscale": {
           "diverging": [
            [
             0,
             "#8e0152"
            ],
            [
             0.1,
             "#c51b7d"
            ],
            [
             0.2,
             "#de77ae"
            ],
            [
             0.3,
             "#f1b6da"
            ],
            [
             0.4,
             "#fde0ef"
            ],
            [
             0.5,
             "#f7f7f7"
            ],
            [
             0.6,
             "#e6f5d0"
            ],
            [
             0.7,
             "#b8e186"
            ],
            [
             0.8,
             "#7fbc41"
            ],
            [
             0.9,
             "#4d9221"
            ],
            [
             1,
             "#276419"
            ]
           ],
           "sequential": [
            [
             0,
             "#0d0887"
            ],
            [
             0.1111111111111111,
             "#46039f"
            ],
            [
             0.2222222222222222,
             "#7201a8"
            ],
            [
             0.3333333333333333,
             "#9c179e"
            ],
            [
             0.4444444444444444,
             "#bd3786"
            ],
            [
             0.5555555555555556,
             "#d8576b"
            ],
            [
             0.6666666666666666,
             "#ed7953"
            ],
            [
             0.7777777777777778,
             "#fb9f3a"
            ],
            [
             0.8888888888888888,
             "#fdca26"
            ],
            [
             1,
             "#f0f921"
            ]
           ],
           "sequentialminus": [
            [
             0,
             "#0d0887"
            ],
            [
             0.1111111111111111,
             "#46039f"
            ],
            [
             0.2222222222222222,
             "#7201a8"
            ],
            [
             0.3333333333333333,
             "#9c179e"
            ],
            [
             0.4444444444444444,
             "#bd3786"
            ],
            [
             0.5555555555555556,
             "#d8576b"
            ],
            [
             0.6666666666666666,
             "#ed7953"
            ],
            [
             0.7777777777777778,
             "#fb9f3a"
            ],
            [
             0.8888888888888888,
             "#fdca26"
            ],
            [
             1,
             "#f0f921"
            ]
           ]
          },
          "colorway": [
           "#636efa",
           "#EF553B",
           "#00cc96",
           "#ab63fa",
           "#FFA15A",
           "#19d3f3",
           "#FF6692",
           "#B6E880",
           "#FF97FF",
           "#FECB52"
          ],
          "font": {
           "color": "#2a3f5f"
          },
          "geo": {
           "bgcolor": "white",
           "lakecolor": "white",
           "landcolor": "#E5ECF6",
           "showlakes": true,
           "showland": true,
           "subunitcolor": "white"
          },
          "hoverlabel": {
           "align": "left"
          },
          "hovermode": "closest",
          "mapbox": {
           "style": "light"
          },
          "paper_bgcolor": "white",
          "plot_bgcolor": "#E5ECF6",
          "polar": {
           "angularaxis": {
            "gridcolor": "white",
            "linecolor": "white",
            "ticks": ""
           },
           "bgcolor": "#E5ECF6",
           "radialaxis": {
            "gridcolor": "white",
            "linecolor": "white",
            "ticks": ""
           }
          },
          "scene": {
           "xaxis": {
            "backgroundcolor": "#E5ECF6",
            "gridcolor": "white",
            "gridwidth": 2,
            "linecolor": "white",
            "showbackground": true,
            "ticks": "",
            "zerolinecolor": "white"
           },
           "yaxis": {
            "backgroundcolor": "#E5ECF6",
            "gridcolor": "white",
            "gridwidth": 2,
            "linecolor": "white",
            "showbackground": true,
            "ticks": "",
            "zerolinecolor": "white"
           },
           "zaxis": {
            "backgroundcolor": "#E5ECF6",
            "gridcolor": "white",
            "gridwidth": 2,
            "linecolor": "white",
            "showbackground": true,
            "ticks": "",
            "zerolinecolor": "white"
           }
          },
          "shapedefaults": {
           "line": {
            "color": "#2a3f5f"
           }
          },
          "ternary": {
           "aaxis": {
            "gridcolor": "white",
            "linecolor": "white",
            "ticks": ""
           },
           "baxis": {
            "gridcolor": "white",
            "linecolor": "white",
            "ticks": ""
           },
           "bgcolor": "#E5ECF6",
           "caxis": {
            "gridcolor": "white",
            "linecolor": "white",
            "ticks": ""
           }
          },
          "title": {
           "x": 0.05
          },
          "xaxis": {
           "automargin": true,
           "gridcolor": "white",
           "linecolor": "white",
           "ticks": "",
           "title": {
            "standoff": 15
           },
           "zerolinecolor": "white",
           "zerolinewidth": 2
          },
          "yaxis": {
           "automargin": true,
           "gridcolor": "white",
           "linecolor": "white",
           "ticks": "",
           "title": {
            "standoff": 15
           },
           "zerolinecolor": "white",
           "zerolinewidth": 2
          }
         }
        },
        "title": {
         "text": "Trend of Population Requiring Preventive Chemotherapy: LF and STH"
        },
        "xaxis": {
         "anchor": "y",
         "domain": [
          0,
          1
         ],
         "dtick": 1,
         "title": {
          "text": "Year"
         }
        },
        "yaxis": {
         "anchor": "x",
         "domain": [
          0,
          1
         ],
         "title": {
          "text": "Population Requiring PC"
         }
        }
       }
      },
      "text/html": [
       "<div>            <script src=\"https://cdnjs.cloudflare.com/ajax/libs/mathjax/2.7.5/MathJax.js?config=TeX-AMS-MML_SVG\"></script><script type=\"text/javascript\">if (window.MathJax && window.MathJax.Hub && window.MathJax.Hub.Config) {window.MathJax.Hub.Config({SVG: {font: \"STIX-Web\"}});}</script>                <script type=\"text/javascript\">window.PlotlyConfig = {MathJaxConfig: 'local'};</script>\n",
       "        <script charset=\"utf-8\" src=\"https://cdn.plot.ly/plotly-3.0.1.min.js\"></script>                <div id=\"a785c1a0-a9f3-419f-8bb7-8ee357e35c12\" class=\"plotly-graph-div\" style=\"height:525px; width:100%;\"></div>            <script type=\"text/javascript\">                window.PLOTLYENV=window.PLOTLYENV || {};                                if (document.getElementById(\"a785c1a0-a9f3-419f-8bb7-8ee357e35c12\")) {                    Plotly.newPlot(                        \"a785c1a0-a9f3-419f-8bb7-8ee357e35c12\",                        [{\"hovertemplate\":\"Disease=LF\\u003cbr\\u003eYear=%{x}\\u003cbr\\u003ePopulation Requiring PC=%{y}\\u003cextra\\u003e\\u003c\\u002fextra\\u003e\",\"legendgroup\":\"LF\",\"line\":{\"color\":\"#636efa\",\"dash\":\"solid\"},\"marker\":{\"symbol\":\"circle\"},\"mode\":\"lines\",\"name\":\"LF\",\"orientation\":\"v\",\"showlegend\":true,\"x\":{\"dtype\":\"i2\",\"bdata\":\"0AfRB9IH0wfUB9UH1gfXB9gH2QfaB9sH3AfdB94H3wfgB+EH4gfjB+QH5QfmB+cH\"},\"xaxis\":\"x\",\"y\":{\"dtype\":\"f8\",\"bdata\":\"AAAAAP8Hl0EAAAAgpNifQQAAAChnRKJBAAAAVI5OokEAAADk0O2iQQAAAM70SqZBAAAAljACp0EAAACcD2mpQQAAACwKvqtBAAAAyiEyuEEAAAD0Kc+5QQAAALHYfLtBAAAAefu7u0EAAACyR\\u002f27QQAAAJfkYrlBAAAA25xYuEEAAACx3Cm3QQAAAH3WsbVB4+sFBNlbuEF4k1F3uXq4QXpqf6zBorZBKYlgH+vmt0HkXf18PY25QQAAAMsGmbFB\"},\"yaxis\":\"y\",\"type\":\"scatter\"},{\"hovertemplate\":\"Disease=STH\\u003cbr\\u003eYear=%{x}\\u003cbr\\u003ePopulation Requiring PC=%{y}\\u003cextra\\u003e\\u003c\\u002fextra\\u003e\",\"legendgroup\":\"STH\",\"line\":{\"color\":\"#EF553B\",\"dash\":\"solid\"},\"marker\":{\"symbol\":\"circle\"},\"mode\":\"lines\",\"name\":\"STH\",\"orientation\":\"v\",\"showlegend\":true,\"x\":{\"dtype\":\"i2\",\"bdata\":\"0wfUB9UH1gfXB9gH2QfaB9sH3AfdB94H3wfgB+EH4gfjB+QH5QfmB+cH\"},\"xaxis\":\"x\",\"y\":{\"dtype\":\"f8\",\"bdata\":\"AAAA+B+JlEEAAABko\\u002f+UQQAAABihrZdBAAAAqAEumUEAAABQnN2ZQQAAAECBG51BcT0K6SfTm0EK16MLJWKeQUjheoQ4q5lBuB6EatVcmEEfhevcYyulQQAAAGhy+aVBAAAAqHTmo0EAAADalRygQQAAACBaWaRBotu\\u002ft66+l0EAAADqnCijQQAAAJixQZVBAAAAqNgbk0EAAADguFeUQQAAACDoO5ZB\"},\"yaxis\":\"y\",\"type\":\"scatter\"}],                        {\"template\":{\"data\":{\"histogram2dcontour\":[{\"type\":\"histogram2dcontour\",\"colorbar\":{\"outlinewidth\":0,\"ticks\":\"\"},\"colorscale\":[[0.0,\"#0d0887\"],[0.1111111111111111,\"#46039f\"],[0.2222222222222222,\"#7201a8\"],[0.3333333333333333,\"#9c179e\"],[0.4444444444444444,\"#bd3786\"],[0.5555555555555556,\"#d8576b\"],[0.6666666666666666,\"#ed7953\"],[0.7777777777777778,\"#fb9f3a\"],[0.8888888888888888,\"#fdca26\"],[1.0,\"#f0f921\"]]}],\"choropleth\":[{\"type\":\"choropleth\",\"colorbar\":{\"outlinewidth\":0,\"ticks\":\"\"}}],\"histogram2d\":[{\"type\":\"histogram2d\",\"colorbar\":{\"outlinewidth\":0,\"ticks\":\"\"},\"colorscale\":[[0.0,\"#0d0887\"],[0.1111111111111111,\"#46039f\"],[0.2222222222222222,\"#7201a8\"],[0.3333333333333333,\"#9c179e\"],[0.4444444444444444,\"#bd3786\"],[0.5555555555555556,\"#d8576b\"],[0.6666666666666666,\"#ed7953\"],[0.7777777777777778,\"#fb9f3a\"],[0.8888888888888888,\"#fdca26\"],[1.0,\"#f0f921\"]]}],\"heatmap\":[{\"type\":\"heatmap\",\"colorbar\":{\"outlinewidth\":0,\"ticks\":\"\"},\"colorscale\":[[0.0,\"#0d0887\"],[0.1111111111111111,\"#46039f\"],[0.2222222222222222,\"#7201a8\"],[0.3333333333333333,\"#9c179e\"],[0.4444444444444444,\"#bd3786\"],[0.5555555555555556,\"#d8576b\"],[0.6666666666666666,\"#ed7953\"],[0.7777777777777778,\"#fb9f3a\"],[0.8888888888888888,\"#fdca26\"],[1.0,\"#f0f921\"]]}],\"contourcarpet\":[{\"type\":\"contourcarpet\",\"colorbar\":{\"outlinewidth\":0,\"ticks\":\"\"}}],\"contour\":[{\"type\":\"contour\",\"colorbar\":{\"outlinewidth\":0,\"ticks\":\"\"},\"colorscale\":[[0.0,\"#0d0887\"],[0.1111111111111111,\"#46039f\"],[0.2222222222222222,\"#7201a8\"],[0.3333333333333333,\"#9c179e\"],[0.4444444444444444,\"#bd3786\"],[0.5555555555555556,\"#d8576b\"],[0.6666666666666666,\"#ed7953\"],[0.7777777777777778,\"#fb9f3a\"],[0.8888888888888888,\"#fdca26\"],[1.0,\"#f0f921\"]]}],\"surface\":[{\"type\":\"surface\",\"colorbar\":{\"outlinewidth\":0,\"ticks\":\"\"},\"colorscale\":[[0.0,\"#0d0887\"],[0.1111111111111111,\"#46039f\"],[0.2222222222222222,\"#7201a8\"],[0.3333333333333333,\"#9c179e\"],[0.4444444444444444,\"#bd3786\"],[0.5555555555555556,\"#d8576b\"],[0.6666666666666666,\"#ed7953\"],[0.7777777777777778,\"#fb9f3a\"],[0.8888888888888888,\"#fdca26\"],[1.0,\"#f0f921\"]]}],\"mesh3d\":[{\"type\":\"mesh3d\",\"colorbar\":{\"outlinewidth\":0,\"ticks\":\"\"}}],\"scatter\":[{\"fillpattern\":{\"fillmode\":\"overlay\",\"size\":10,\"solidity\":0.2},\"type\":\"scatter\"}],\"parcoords\":[{\"type\":\"parcoords\",\"line\":{\"colorbar\":{\"outlinewidth\":0,\"ticks\":\"\"}}}],\"scatterpolargl\":[{\"type\":\"scatterpolargl\",\"marker\":{\"colorbar\":{\"outlinewidth\":0,\"ticks\":\"\"}}}],\"bar\":[{\"error_x\":{\"color\":\"#2a3f5f\"},\"error_y\":{\"color\":\"#2a3f5f\"},\"marker\":{\"line\":{\"color\":\"#E5ECF6\",\"width\":0.5},\"pattern\":{\"fillmode\":\"overlay\",\"size\":10,\"solidity\":0.2}},\"type\":\"bar\"}],\"scattergeo\":[{\"type\":\"scattergeo\",\"marker\":{\"colorbar\":{\"outlinewidth\":0,\"ticks\":\"\"}}}],\"scatterpolar\":[{\"type\":\"scatterpolar\",\"marker\":{\"colorbar\":{\"outlinewidth\":0,\"ticks\":\"\"}}}],\"histogram\":[{\"marker\":{\"pattern\":{\"fillmode\":\"overlay\",\"size\":10,\"solidity\":0.2}},\"type\":\"histogram\"}],\"scattergl\":[{\"type\":\"scattergl\",\"marker\":{\"colorbar\":{\"outlinewidth\":0,\"ticks\":\"\"}}}],\"scatter3d\":[{\"type\":\"scatter3d\",\"line\":{\"colorbar\":{\"outlinewidth\":0,\"ticks\":\"\"}},\"marker\":{\"colorbar\":{\"outlinewidth\":0,\"ticks\":\"\"}}}],\"scattermap\":[{\"type\":\"scattermap\",\"marker\":{\"colorbar\":{\"outlinewidth\":0,\"ticks\":\"\"}}}],\"scattermapbox\":[{\"type\":\"scattermapbox\",\"marker\":{\"colorbar\":{\"outlinewidth\":0,\"ticks\":\"\"}}}],\"scatterternary\":[{\"type\":\"scatterternary\",\"marker\":{\"colorbar\":{\"outlinewidth\":0,\"ticks\":\"\"}}}],\"scattercarpet\":[{\"type\":\"scattercarpet\",\"marker\":{\"colorbar\":{\"outlinewidth\":0,\"ticks\":\"\"}}}],\"carpet\":[{\"aaxis\":{\"endlinecolor\":\"#2a3f5f\",\"gridcolor\":\"white\",\"linecolor\":\"white\",\"minorgridcolor\":\"white\",\"startlinecolor\":\"#2a3f5f\"},\"baxis\":{\"endlinecolor\":\"#2a3f5f\",\"gridcolor\":\"white\",\"linecolor\":\"white\",\"minorgridcolor\":\"white\",\"startlinecolor\":\"#2a3f5f\"},\"type\":\"carpet\"}],\"table\":[{\"cells\":{\"fill\":{\"color\":\"#EBF0F8\"},\"line\":{\"color\":\"white\"}},\"header\":{\"fill\":{\"color\":\"#C8D4E3\"},\"line\":{\"color\":\"white\"}},\"type\":\"table\"}],\"barpolar\":[{\"marker\":{\"line\":{\"color\":\"#E5ECF6\",\"width\":0.5},\"pattern\":{\"fillmode\":\"overlay\",\"size\":10,\"solidity\":0.2}},\"type\":\"barpolar\"}],\"pie\":[{\"automargin\":true,\"type\":\"pie\"}]},\"layout\":{\"autotypenumbers\":\"strict\",\"colorway\":[\"#636efa\",\"#EF553B\",\"#00cc96\",\"#ab63fa\",\"#FFA15A\",\"#19d3f3\",\"#FF6692\",\"#B6E880\",\"#FF97FF\",\"#FECB52\"],\"font\":{\"color\":\"#2a3f5f\"},\"hovermode\":\"closest\",\"hoverlabel\":{\"align\":\"left\"},\"paper_bgcolor\":\"white\",\"plot_bgcolor\":\"#E5ECF6\",\"polar\":{\"bgcolor\":\"#E5ECF6\",\"angularaxis\":{\"gridcolor\":\"white\",\"linecolor\":\"white\",\"ticks\":\"\"},\"radialaxis\":{\"gridcolor\":\"white\",\"linecolor\":\"white\",\"ticks\":\"\"}},\"ternary\":{\"bgcolor\":\"#E5ECF6\",\"aaxis\":{\"gridcolor\":\"white\",\"linecolor\":\"white\",\"ticks\":\"\"},\"baxis\":{\"gridcolor\":\"white\",\"linecolor\":\"white\",\"ticks\":\"\"},\"caxis\":{\"gridcolor\":\"white\",\"linecolor\":\"white\",\"ticks\":\"\"}},\"coloraxis\":{\"colorbar\":{\"outlinewidth\":0,\"ticks\":\"\"}},\"colorscale\":{\"sequential\":[[0.0,\"#0d0887\"],[0.1111111111111111,\"#46039f\"],[0.2222222222222222,\"#7201a8\"],[0.3333333333333333,\"#9c179e\"],[0.4444444444444444,\"#bd3786\"],[0.5555555555555556,\"#d8576b\"],[0.6666666666666666,\"#ed7953\"],[0.7777777777777778,\"#fb9f3a\"],[0.8888888888888888,\"#fdca26\"],[1.0,\"#f0f921\"]],\"sequentialminus\":[[0.0,\"#0d0887\"],[0.1111111111111111,\"#46039f\"],[0.2222222222222222,\"#7201a8\"],[0.3333333333333333,\"#9c179e\"],[0.4444444444444444,\"#bd3786\"],[0.5555555555555556,\"#d8576b\"],[0.6666666666666666,\"#ed7953\"],[0.7777777777777778,\"#fb9f3a\"],[0.8888888888888888,\"#fdca26\"],[1.0,\"#f0f921\"]],\"diverging\":[[0,\"#8e0152\"],[0.1,\"#c51b7d\"],[0.2,\"#de77ae\"],[0.3,\"#f1b6da\"],[0.4,\"#fde0ef\"],[0.5,\"#f7f7f7\"],[0.6,\"#e6f5d0\"],[0.7,\"#b8e186\"],[0.8,\"#7fbc41\"],[0.9,\"#4d9221\"],[1,\"#276419\"]]},\"xaxis\":{\"gridcolor\":\"white\",\"linecolor\":\"white\",\"ticks\":\"\",\"title\":{\"standoff\":15},\"zerolinecolor\":\"white\",\"automargin\":true,\"zerolinewidth\":2},\"yaxis\":{\"gridcolor\":\"white\",\"linecolor\":\"white\",\"ticks\":\"\",\"title\":{\"standoff\":15},\"zerolinecolor\":\"white\",\"automargin\":true,\"zerolinewidth\":2},\"scene\":{\"xaxis\":{\"backgroundcolor\":\"#E5ECF6\",\"gridcolor\":\"white\",\"linecolor\":\"white\",\"showbackground\":true,\"ticks\":\"\",\"zerolinecolor\":\"white\",\"gridwidth\":2},\"yaxis\":{\"backgroundcolor\":\"#E5ECF6\",\"gridcolor\":\"white\",\"linecolor\":\"white\",\"showbackground\":true,\"ticks\":\"\",\"zerolinecolor\":\"white\",\"gridwidth\":2},\"zaxis\":{\"backgroundcolor\":\"#E5ECF6\",\"gridcolor\":\"white\",\"linecolor\":\"white\",\"showbackground\":true,\"ticks\":\"\",\"zerolinecolor\":\"white\",\"gridwidth\":2}},\"shapedefaults\":{\"line\":{\"color\":\"#2a3f5f\"}},\"annotationdefaults\":{\"arrowcolor\":\"#2a3f5f\",\"arrowhead\":0,\"arrowwidth\":1},\"geo\":{\"bgcolor\":\"white\",\"landcolor\":\"#E5ECF6\",\"subunitcolor\":\"white\",\"showland\":true,\"showlakes\":true,\"lakecolor\":\"white\"},\"title\":{\"x\":0.05},\"mapbox\":{\"style\":\"light\"}}},\"xaxis\":{\"anchor\":\"y\",\"domain\":[0.0,1.0],\"title\":{\"text\":\"Year\"},\"dtick\":1},\"yaxis\":{\"anchor\":\"x\",\"domain\":[0.0,1.0],\"title\":{\"text\":\"Population Requiring PC\"}},\"legend\":{\"title\":{\"text\":\"Disease\"},\"tracegroupgap\":0},\"title\":{\"text\":\"Trend of Population Requiring Preventive Chemotherapy: LF and STH\"}},                        {\"responsive\": true}                    ).then(function(){\n",
       "                            \n",
       "var gd = document.getElementById('a785c1a0-a9f3-419f-8bb7-8ee357e35c12');\n",
       "var x = new MutationObserver(function (mutations, observer) {{\n",
       "        var display = window.getComputedStyle(gd).display;\n",
       "        if (!display || display === 'none') {{\n",
       "            console.log([gd, 'removed!']);\n",
       "            Plotly.purge(gd);\n",
       "            observer.disconnect();\n",
       "        }}\n",
       "}});\n",
       "\n",
       "// Listen for the removal of the full notebook cells\n",
       "var notebookContainer = gd.closest('#notebook-container');\n",
       "if (notebookContainer) {{\n",
       "    x.observe(notebookContainer, {childList: true});\n",
       "}}\n",
       "\n",
       "// Listen for the clearing of the current output cell\n",
       "var outputEl = gd.closest('.output');\n",
       "if (outputEl) {{\n",
       "    x.observe(outputEl, {childList: true});\n",
       "}}\n",
       "\n",
       "                        })                };            </script>        </div>"
      ]
     },
     "metadata": {},
     "output_type": "display_data"
    }
   ],
   "source": [
    "import pandas as pd\n",
    "import plotly.express as px\n",
    "\n",
    "lf = pd.read_csv('data/LF_final.csv')\n",
    "sth = pd.read_csv('data/STH_final.csv')\n",
    "\n",
    "lf['Population requiring PC for LF'] = pd.to_numeric(\n",
    "    lf['Population requiring PC for LF'], errors='coerce')\n",
    "sth['Population requiring PC for STH, Pre-SAC'] = pd.to_numeric(\n",
    "    sth['Population requiring PC for STH, Pre-SAC'], errors='coerce')\n",
    "\n",
    "lf_year = (\n",
    "    lf.groupby('Year')['Population requiring PC for LF']\n",
    "      .sum()\n",
    "      .reset_index(name='Pop_PC')\n",
    "      .assign(Disease='LF')\n",
    ")\n",
    "sth_year = (\n",
    "    sth.groupby('Year')['Population requiring PC for STH, Pre-SAC']\n",
    "       .sum()\n",
    "       .reset_index(name='Pop_PC')\n",
    "       .assign(Disease='STH')\n",
    ")\n",
    "\n",
    "df = pd.concat([lf_year, sth_year], ignore_index=True)\n",
    "fig = px.line(\n",
    "    df,\n",
    "    x='Year',\n",
    "    y='Pop_PC',\n",
    "    color='Disease',\n",
    "    labels={'Pop_PC':'Population Requiring PC'},\n",
    "    title='Trend of Population Requiring Preventive Chemotherapy: LF and STH'\n",
    ")\n",
    "fig.update_layout(xaxis=dict(dtick=1), yaxis_title='Population Requiring PC')\n",
    "fig.show()\n"
   ]
  },
  {
   "cell_type": "code",
   "execution_count": 20,
   "metadata": {},
   "outputs": [
    {
     "data": {
      "application/vnd.plotly.v1+json": {
       "config": {
        "plotlyServerURL": "https://plot.ly"
       },
       "data": [
        {
         "coloraxis": "coloraxis",
         "geo": "geo",
         "hovertemplate": "<b>%{hovertext}</b><br><br>Year=2000<br>CountryCode=%{location}<br>Pop. requiring PC=%{z}<extra></extra>",
         "hovertext": [
          "TGO",
          "GHA",
          "NGA",
          "TZA"
         ],
         "locations": [
          "TGO",
          "GHA",
          "NGA",
          "TZA"
         ],
         "name": "",
         "type": "choropleth",
         "z": {
          "bdata": "AAAAAABqOEEAAAAAgIROQQAAAADQEpNBAAAAABj7ZEE=",
          "dtype": "f8"
         }
        }
       ],
       "frames": [
        {
         "data": [
          {
           "coloraxis": "coloraxis",
           "geo": "geo",
           "hovertemplate": "<b>%{hovertext}</b><br><br>Year=2000<br>CountryCode=%{location}<br>Pop. requiring PC=%{z}<extra></extra>",
           "hovertext": [
            "TGO",
            "GHA",
            "NGA",
            "TZA"
           ],
           "locations": [
            "TGO",
            "GHA",
            "NGA",
            "TZA"
           ],
           "name": "",
           "type": "choropleth",
           "z": {
            "bdata": "AAAAAABqOEEAAAAAgIROQQAAAADQEpNBAAAAABj7ZEE=",
            "dtype": "f8"
           }
          }
         ],
         "name": "2000"
        },
        {
         "data": [
          {
           "coloraxis": "coloraxis",
           "geo": "geo",
           "hovertemplate": "<b>%{hovertext}</b><br><br>Year=2001<br>CountryCode=%{location}<br>Pop. requiring PC=%{z}<extra></extra>",
           "hovertext": [
            "GHA",
            "NGA",
            "COM",
            "TGO",
            "BFA",
            "TZA"
           ],
           "locations": [
            "GHA",
            "NGA",
            "COM",
            "TGO",
            "BFA",
            "TZA"
           ],
           "name": "",
           "type": "choropleth",
           "z": {
            "bdata": "AAAAgM/yVkEAAAAA0BKTQQAAAADo2BtBAAAAABDMMEEAAAAAYONmQQAAAABkNoBB",
            "dtype": "f8"
           }
          }
         ],
         "name": "2001"
        },
        {
         "data": [
          {
           "coloraxis": "coloraxis",
           "geo": "geo",
           "hovertemplate": "<b>%{hovertext}</b><br><br>Year=2002<br>CountryCode=%{location}<br>Pop. requiring PC=%{z}<extra></extra>",
           "hovertext": [
            "COM",
            "TGO",
            "GHA",
            "UGA",
            "KEN",
            "TZA",
            "BFA",
            "NGA",
            "BEN"
           ],
           "locations": [
            "COM",
            "TGO",
            "GHA",
            "UGA",
            "KEN",
            "TZA",
            "BFA",
            "NGA",
            "BEN"
           ],
           "name": "",
           "type": "choropleth",
           "z": {
            "bdata": "AAAAAOjYG0EAAAAArSUxQQAAAIDP8lZBAAAAIAy1Z0EAAAAAgcpGQQAAAABkNoBBAAAAgANnaEEAAAAA0BKTQQAAAAA4K0pB",
            "dtype": "f8"
           }
          }
         ],
         "name": "2002"
        },
        {
         "data": [
          {
           "coloraxis": "coloraxis",
           "geo": "geo",
           "hovertemplate": "<b>%{hovertext}</b><br><br>Year=2003<br>CountryCode=%{location}<br>Pop. requiring PC=%{z}<extra></extra>",
           "hovertext": [
            "BFA",
            "BEN",
            "TGO",
            "NGA",
            "KEN",
            "GHA",
            "COM",
            "TZA",
            "UGA"
           ],
           "locations": [
            "BFA",
            "BEN",
            "TGO",
            "NGA",
            "KEN",
            "GHA",
            "COM",
            "TZA",
            "UGA"
           ],
           "name": "",
           "type": "choropleth",
           "z": {
            "bdata": "AAAAoG8EaUEAAAAAOCtKQQAAAADZLjBBAAAAANASk0EAAAAAgcpGQQAAAABg41ZBAAAAAAKmIEEAAAAAZDaAQQAAACAMtWdB",
            "dtype": "f8"
           }
          }
         ],
         "name": "2003"
        },
        {
         "data": [
          {
           "coloraxis": "coloraxis",
           "geo": "geo",
           "hovertemplate": "<b>%{hovertext}</b><br><br>Year=2004<br>CountryCode=%{location}<br>Pop. requiring PC=%{z}<extra></extra>",
           "hovertext": [
            "BFA",
            "COM",
            "TGO",
            "KEN",
            "BEN",
            "NGA",
            "UGA",
            "GHA",
            "TZA"
           ],
           "locations": [
            "BFA",
            "COM",
            "TGO",
            "KEN",
            "BEN",
            "NGA",
            "UGA",
            "GHA",
            "TZA"
           ],
           "name": "",
           "type": "choropleth",
           "z": {
            "bdata": "AAAAoKoqaUEAAAAAAqYgQQAAAAAROTBBAAAAAIHKRkEAAAAAV6RQQQAAAADQEpNBAAAAIAy1Z0EAAACA+XZjQQAAAABkNoBB",
            "dtype": "f8"
           }
          }
         ],
         "name": "2004"
        },
        {
         "data": [
          {
           "coloraxis": "coloraxis",
           "geo": "geo",
           "hovertemplate": "<b>%{hovertext}</b><br><br>Year=2005<br>CountryCode=%{location}<br>Pop. requiring PC=%{z}<extra></extra>",
           "hovertext": [
            "COM",
            "UGA",
            "BFA",
            "KEN",
            "TGO",
            "MDG",
            "GHA",
            "MLI",
            "TZA",
            "NGA",
            "BEN"
           ],
           "locations": [
            "COM",
            "UGA",
            "BFA",
            "KEN",
            "TGO",
            "MDG",
            "GHA",
            "MLI",
            "TZA",
            "NGA",
            "BEN"
           ],
           "name": "",
           "type": "choropleth",
           "z": {
            "bdata": "AAAAABZ2IUEAAAAgDLVnQQAAAKDq62lBAAAAAIHKRkEAAAAAuT4wQQAAAAB0LW5BAAAAgPl2Y0EAAABgeMJlQQAAAADZRYBBAAAAANASk0EAAAAAZ09SQQ==",
            "dtype": "f8"
           }
          }
         ],
         "name": "2005"
        },
        {
         "data": [
          {
           "coloraxis": "coloraxis",
           "geo": "geo",
           "hovertemplate": "<b>%{hovertext}</b><br><br>Year=2006<br>CountryCode=%{location}<br>Pop. requiring PC=%{z}<extra></extra>",
           "hovertext": [
            "NGA",
            "TGO",
            "GHA",
            "UGA",
            "MDG",
            "BEN",
            "TZA",
            "BFA",
            "MLI",
            "COM",
            "KEN"
           ],
           "locations": [
            "NGA",
            "TGO",
            "GHA",
            "UGA",
            "MDG",
            "BEN",
            "TZA",
            "BFA",
            "MLI",
            "COM",
            "KEN"
           ],
           "name": "",
           "type": "choropleth",
           "z": {
            "bdata": "AAAAANASk0EAAAAA2BAxQQAAAOAmDGRBAAAAIAy1Z0EAAAAAdC1uQQAAAABnT1JBAAAAgI9fgkEAAADgHpZqQQAAAGC1dWdBAAAAABZ2IUEAAAAAgcpGQQ==",
            "dtype": "f8"
           }
          }
         ],
         "name": "2006"
        },
        {
         "data": [
          {
           "coloraxis": "coloraxis",
           "geo": "geo",
           "hovertemplate": "<b>%{hovertext}</b><br><br>Year=2007<br>CountryCode=%{location}<br>Pop. requiring PC=%{z}<extra></extra>",
           "hovertext": [
            "BEN",
            "TZA",
            "MLI",
            "SEN",
            "MDG",
            "KEN",
            "COM",
            "TGO",
            "NER",
            "SLE",
            "BFA",
            "UGA",
            "GHA",
            "NGA"
           ],
           "locations": [
            "BEN",
            "TZA",
            "MLI",
            "SEN",
            "MDG",
            "KEN",
            "COM",
            "TGO",
            "NER",
            "SLE",
            "BFA",
            "UGA",
            "GHA",
            "NGA"
           ],
           "name": "",
           "type": "choropleth",
           "z": {
            "bdata": "AAAAAGdPUkEAAACYwtGBQQAAAEA6x2hBAAAAAAQ1UEEAAAAAdC1uQQAAAACjIUdBAAAAAPhgH0EAAAAAf+gxQQAAAKDuIWRBAAAAgF7zUkEAAABA9VZrQQAAAEBRfWhBAAAA4CYMZEEAAAAA0BKTQQ==",
            "dtype": "f8"
           }
          }
         ],
         "name": "2007"
        },
        {
         "data": [
          {
           "coloraxis": "coloraxis",
           "geo": "geo",
           "hovertemplate": "<b>%{hovertext}</b><br><br>Year=2008<br>CountryCode=%{location}<br>Pop. requiring PC=%{z}<extra></extra>",
           "hovertext": [
            "COM",
            "TGO",
            "TZA",
            "UGA",
            "NGA",
            "SLE",
            "MWI",
            "BFA",
            "MLI",
            "KEN",
            "SEN",
            "BEN",
            "NER",
            "GHA",
            "CMR",
            "MDG"
           ],
           "locations": [
            "COM",
            "TGO",
            "TZA",
            "UGA",
            "NGA",
            "SLE",
            "MWI",
            "BFA",
            "MLI",
            "KEN",
            "SEN",
            "BEN",
            "NER",
            "GHA",
            "CMR",
            "MDG"
           ],
           "name": "",
           "type": "choropleth",
           "z": {
            "bdata": "AAAAAPhgH0EAAAAARWQyQQAAAIgVRoNBAAAAoMdMaUEAAACI4C+OQQAAAIATS1RBAAAAAJqUaEEAAAAgUWVtQQAAACA3bmlBAAAAAKMhR0EAAAAACkZUQQAAAABnJlRBAAAAoGXAY0EAAACgxrNlQQAAAADdSGtBAAAAAI6VcEE=",
            "dtype": "f8"
           }
          }
         ],
         "name": "2008"
        },
        {
         "data": [
          {
           "coloraxis": "coloraxis",
           "geo": "geo",
           "hovertemplate": "<b>%{hovertext}</b><br><br>Year=2009<br>CountryCode=%{location}<br>Pop. requiring PC=%{z}<extra></extra>",
           "hovertext": [
            "MUS",
            "RWA",
            "COM",
            "NER",
            "STP",
            "MLI",
            "NGA",
            "MWI",
            "COG",
            "MOZ",
            "GMB",
            "GAB",
            "UGA",
            "SEN",
            "COD",
            "LBR",
            "KEN",
            "SYC",
            "GNB",
            "GNQ",
            "TGO",
            "SLE",
            "GIN",
            "ERI",
            "GHA",
            "MDG",
            "CIV",
            "AGO",
            "ETH",
            "TZA",
            "ZWE",
            "CPV",
            "CMR",
            "BFA",
            "TCD",
            "ZMB",
            "BDI",
            "BEN",
            "CAF"
           ],
           "locations": [
            "MUS",
            "RWA",
            "COM",
            "NER",
            "STP",
            "MLI",
            "NGA",
            "MWI",
            "COG",
            "MOZ",
            "GMB",
            "GAB",
            "UGA",
            "SEN",
            "COD",
            "LBR",
            "KEN",
            "SYC",
            "GNB",
            "GNQ",
            "TGO",
            "SLE",
            "GIN",
            "ERI",
            "GHA",
            "MDG",
            "CIV",
            "AGO",
            "ETH",
            "TZA",
            "ZWE",
            "CPV",
            "CMR",
            "BFA",
            "TCD",
            "ZMB",
            "BDI",
            "BEN",
            "CAF"
           ],
           "name": "",
           "type": "choropleth",
           "z": {
            "bdata": "AAAAAAAA+H8AAAAAAAD4fwAAAAD4YB9BAAAAQD3eZUEAAAAAQAYZQQAAAABOUWpBAAAAWDDYkEEAAAAAmpRoQQAAAAAg1kNBAAAAQDajbUEAAAAAgE8yQQAAAABosTNBAAAAoMdMaUEAAAAACkZUQQAAAACJbodBAAAAAEB3S0EAAAAAoyFHQQAAAAAAAPh/AAAAAP0DNEEAAAAAgKIZQQAAAAAoLzJBAAAAgBNLVEEAAADA7yRXQQAAAABUSktBAAAAIC4aZkEAAADABB5xQQAAAADws2pBAAAAAFIPZ0EAAAAAOJx8QQAAAJjC0YFBAAAAAGDjVkEAAAAAAAD4fwAAAADdSGtBAAAAIFFlbUEAAAAAnLtbQQAAAAAcv2BBAAAAAAAA+H8AAAAAZyZUQQAAAABQLUlB",
            "dtype": "f8"
           }
          }
         ],
         "name": "2009"
        },
        {
         "data": [
          {
           "coloraxis": "coloraxis",
           "geo": "geo",
           "hovertemplate": "<b>%{hovertext}</b><br><br>Year=2010<br>CountryCode=%{location}<br>Pop. requiring PC=%{z}<extra></extra>",
           "hovertext": [
            "ETH",
            "GAB",
            "CMR",
            "CAF",
            "ERI",
            "TGO",
            "CPV",
            "GNQ",
            "BDI",
            "ZMB",
            "GHA",
            "COD",
            "GMB",
            "SLE",
            "GNB",
            "AGO",
            "NGA",
            "NER",
            "MOZ",
            "MUS",
            "RWA",
            "STP",
            "MLI",
            "BEN",
            "MWI",
            "MDG",
            "ZWE",
            "SEN",
            "LBR",
            "BFA",
            "KEN",
            "SYC",
            "GIN",
            "UGA",
            "TZA",
            "COM",
            "TCD",
            "COG",
            "CIV"
           ],
           "locations": [
            "ETH",
            "GAB",
            "CMR",
            "CAF",
            "ERI",
            "TGO",
            "CPV",
            "GNQ",
            "BDI",
            "ZMB",
            "GHA",
            "COD",
            "GMB",
            "SLE",
            "GNB",
            "AGO",
            "NGA",
            "NER",
            "MOZ",
            "MUS",
            "RWA",
            "STP",
            "MLI",
            "BEN",
            "MWI",
            "MDG",
            "ZWE",
            "SEN",
            "LBR",
            "BFA",
            "KEN",
            "SYC",
            "GIN",
            "UGA",
            "TZA",
            "COM",
            "TCD",
            "COG",
            "CIV"
           ],
           "name": "",
           "type": "choropleth",
           "z": {
            "bdata": "AAAAADicfEEAAAAAaLEzQQAAAKBOCnBBAAAAAFAtSUEAAAAAVEpLQQAAAAAoLzJBAAAAAAAA+H8AAAAAgKIZQQAAAAAAAPh/AAAAABy/YEEAAADg8r5mQQAAAACJbodBAAAAAIBPMkEAAABAul9XQQAAAAD9AzRBAAAAAFIPZ0EAAACkGjaVQQAAAEA93mVBAAAAwE9TcEEAAAAAAAD4fwAAAAAAAPh/AAAAAEAGGUEAAABApq9sQQAAAABnJlRBAAAAwInraEEAAACwmL1xQQAAAABg41ZBAAAAAApGVEEAAAAAQHdLQQAAACBRZW1BAAAAAKMhR0EAAAAAAAD4fwAAAMDvJFdBAAAAAMkLbEEAAACYwtGBQQAAAAD4YB9BAAAAAJy7W0EAAAAAINZDQQAAAADws2pB",
            "dtype": "f8"
           }
          }
         ],
         "name": "2010"
        },
        {
         "data": [
          {
           "coloraxis": "coloraxis",
           "geo": "geo",
           "hovertemplate": "<b>%{hovertext}</b><br><br>Year=2011<br>CountryCode=%{location}<br>Pop. requiring PC=%{z}<extra></extra>",
           "hovertext": [
            "GHA",
            "GNB",
            "GNQ",
            "MLI",
            "TGO",
            "BEN",
            "CMR",
            "CAF",
            "ERI",
            "TCD",
            "MWI",
            "ZMB",
            "COG",
            "ETH",
            "GMB",
            "BFA",
            "MDG",
            "KEN",
            "ZWE",
            "SEN",
            "GAB",
            "COM",
            "STP",
            "LBR",
            "UGA",
            "MOZ",
            "NGA",
            "CIV",
            "NER",
            "GIN",
            "COD",
            "AGO",
            "TZA",
            "SLE"
           ],
           "locations": [
            "GHA",
            "GNB",
            "GNQ",
            "MLI",
            "TGO",
            "BEN",
            "CMR",
            "CAF",
            "ERI",
            "TCD",
            "MWI",
            "ZMB",
            "COG",
            "ETH",
            "GMB",
            "BFA",
            "MDG",
            "KEN",
            "ZWE",
            "SEN",
            "GAB",
            "COM",
            "STP",
            "LBR",
            "UGA",
            "MOZ",
            "NGA",
            "CIV",
            "NER",
            "GIN",
            "COD",
            "AGO",
            "TZA",
            "SLE"
           ],
           "name": "",
           "type": "choropleth",
           "z": {
            "bdata": "AAAAYMYsZ0EAAAAAoCU4QQAAAACAohlBAAAAQPzVbkEAAAAAKC8yQQAAAMDgK1ZBAAAAICDNb0EAAAAAUC1JQQAAAABUSktBAAAAAJy7W0EAAACgv+ZqQQAAAAAcv2BBAAAAACDWQ0EAAAAAOJx8QQAAAACATzJBAAAAQEKbb0EAAACwmL1xQQAAAIAWG0pBAAAAAGDjVkEAAAAACkZUQQAAAABosTNBAAAAAPhgH0EAAAAAQAYZQQAAAABAd0tBAAAAAEEXa0EAAABQdFJwQQAAADRZTZlBAAAAAPCzakEAAAAgsyJmQQAAAMDvJFdBAAAAAIluh0EAAAAAUg9nQQAAAEDD9YRBAAAAQMoUWEE=",
            "dtype": "f8"
           }
          }
         ],
         "name": "2011"
        },
        {
         "data": [
          {
           "coloraxis": "coloraxis",
           "geo": "geo",
           "hovertemplate": "<b>%{hovertext}</b><br><br>Year=2012<br>CountryCode=%{location}<br>Pop. requiring PC=%{z}<extra></extra>",
           "hovertext": [
            "AGO",
            "GAB",
            "BFA",
            "MWI",
            "GIN",
            "NGA",
            "ZMB",
            "GMB",
            "ETH",
            "KEN",
            "STP",
            "SEN",
            "MDG",
            "ZWE",
            "TZA",
            "MOZ",
            "COG",
            "MLI",
            "UGA",
            "TGO",
            "TCD",
            "CIV",
            "LBR",
            "NER",
            "GNB",
            "SLE",
            "GHA",
            "COM",
            "CAF",
            "CMR",
            "COD",
            "ERI",
            "BEN",
            "GNQ"
           ],
           "locations": [
            "AGO",
            "GAB",
            "BFA",
            "MWI",
            "GIN",
            "NGA",
            "ZMB",
            "GMB",
            "ETH",
            "KEN",
            "STP",
            "SEN",
            "MDG",
            "ZWE",
            "TZA",
            "MOZ",
            "COG",
            "MLI",
            "UGA",
            "TGO",
            "TCD",
            "CIV",
            "LBR",
            "NER",
            "GNB",
            "SLE",
            "GHA",
            "COM",
            "CAF",
            "CMR",
            "COD",
            "ERI",
            "BEN",
            "GNQ"
           ],
           "name": "",
           "type": "choropleth",
           "z": {
            "bdata": "AAAAAFIPZ0EAAAAAaLEzQQAAAIB8AHBBAAAAoFA+bEEAAADA7yRXQQAAALTs35lBAAAAABy/YEEAAAAAgE8yQQAAAAA4nHxBAAAAgBYbSkEAAAAAQAYZQQAAAAAKRlRBAAAAsJi9cUEAAAAAYONWQQAAABhQioVBAAAAUHRScEEAAAAAINZDQQAAAED81W5BAAAAgJ6Wa0EAAAAAKC8yQQAAAACcu1tBAAAAAPCzakEAAAAAQHdLQQAAAACxx2dBAAAAAKAlOEEAAADAaW9ZQQAAAODyvmZBAAAAAPhgH0EAAAAAUC1JQQAAANC4THBBAAAAAIluh0EAAAAAVEpLQQAAAIAkmExBAAAAAICiGUE=",
            "dtype": "f8"
           }
          }
         ],
         "name": "2012"
        },
        {
         "data": [
          {
           "coloraxis": "coloraxis",
           "geo": "geo",
           "hovertemplate": "<b>%{hovertext}</b><br><br>Year=2013<br>CountryCode=%{location}<br>Pop. requiring PC=%{z}<extra></extra>",
           "hovertext": [
            "SEN",
            "KEN",
            "GHA",
            "CMR",
            "GNB",
            "COG",
            "TCD",
            "GMB",
            "SLE",
            "GIN",
            "SSD",
            "BFA",
            "CIV",
            "GAB",
            "AGO",
            "NGA",
            "COD",
            "NER",
            "TZA",
            "MOZ",
            "TGO",
            "UGA",
            "GNQ",
            "MLI",
            "COM",
            "CAF",
            "BEN",
            "ERI",
            "ZMB",
            "MWI",
            "STP",
            "ETH",
            "LBR",
            "MDG",
            "ZWE"
           ],
           "locations": [
            "SEN",
            "KEN",
            "GHA",
            "CMR",
            "GNB",
            "COG",
            "TCD",
            "GMB",
            "SLE",
            "GIN",
            "SSD",
            "BFA",
            "CIV",
            "GAB",
            "AGO",
            "NGA",
            "COD",
            "NER",
            "TZA",
            "MOZ",
            "TGO",
            "UGA",
            "GNQ",
            "MLI",
            "COM",
            "CAF",
            "BEN",
            "ERI",
            "ZMB",
            "MWI",
            "STP",
            "ETH",
            "LBR",
            "MDG",
            "ZWE"
           ],
           "name": "",
           "type": "choropleth",
           "z": {
            "bdata": "AAAAAHf0XkEAAACAFhtKQQAAAEC1hmNBAAAA0LhMcEEAAAAASHY5QQAAAAAg1kNBAAAAAJy7W0EAAAAAgE8yQQAAAABQBFpBAAAAwO8kV0EAAAAAplI5QQAAACAHA2lBAAAAgI+icEEAAAAAaLEzQQAAAABSD2dBAAAAUHw/m0EAAAAAiW6HQQAAAEC7CmhBAAAAIKoGg0EAAADA0+dwQQAAAAAoLzJBAAAAQIBfbEEAAAAAgKIZQQAAAIDUgXBBAAAAAPhgH0EAAAAAUC1JQQAAAIAkmExBAAAAAFRKS0EAAAAAHL9gQQAAACALl2xBAAAAAEAGGUEAAAAAOJx8QQAAAAABa0ZBAAAAIN/1cEEAAAAAYONWQQ==",
            "dtype": "f8"
           }
          }
         ],
         "name": "2013"
        },
        {
         "data": [
          {
           "coloraxis": "coloraxis",
           "geo": "geo",
           "hovertemplate": "<b>%{hovertext}</b><br><br>Year=2014<br>CountryCode=%{location}<br>Pop. requiring PC=%{z}<extra></extra>",
           "hovertext": [
            "BFA",
            "SEN",
            "AGO",
            "KEN",
            "GIN",
            "NER",
            "LBR",
            "MOZ",
            "BEN",
            "ZWE",
            "MLI",
            "MDG",
            "STP",
            "TCD",
            "MWI",
            "NGA",
            "COM",
            "GNB",
            "GMB",
            "UGA",
            "TZA",
            "GAB",
            "COG",
            "CMR",
            "COD",
            "GHA",
            "CAF",
            "ERI",
            "TGO",
            "ZMB",
            "SLE",
            "SSD",
            "ETH",
            "CIV",
            "GNQ"
           ],
           "locations": [
            "BFA",
            "SEN",
            "AGO",
            "KEN",
            "GIN",
            "NER",
            "LBR",
            "MOZ",
            "BEN",
            "ZWE",
            "MLI",
            "MDG",
            "STP",
            "TCD",
            "MWI",
            "NGA",
            "COM",
            "GNB",
            "GMB",
            "UGA",
            "TZA",
            "GAB",
            "COG",
            "CMR",
            "COD",
            "GHA",
            "CAF",
            "ERI",
            "TGO",
            "ZMB",
            "SLE",
            "SSD",
            "ETH",
            "CIV",
            "GNQ"
           ],
           "name": "",
           "type": "choropleth",
           "z": {
            "bdata": "AAAA4KE4ZkEAAABAkNtfQQAAAABSD2dBAAAAAN99S0EAAADA7yRXQQAAACBthmNBAAAAAAFrRkEAAACg0F9xQQAAAIB+vUxBAAAAAGDjVkEAAACw40xwQQAAALDRf3FBAAAAABDJB0EAAAAAnLtbQQAAACALl2xBAAAAgG6SnEEAAAAA+GAfQQAAAABIdjlBAAAAAIBPMkEAAAAgRqhqQQAAAEB2d3pBAAAAAGixM0EAAAAAINZDQQAAAIDpg25BAAAAiBmmgUEAAACAagloQQAAAABQLUlBAAAAACBN9UAAAAAAKC8yQQAAAAAcv2BBAAAAAFAEWkEAAAAAplI5QQAAAKCC+GRBAAAA4GOUcEEAAAAAgKIZQQ==",
            "dtype": "f8"
           }
          }
         ],
         "name": "2014"
        },
        {
         "data": [
          {
           "coloraxis": "coloraxis",
           "geo": "geo",
           "hovertemplate": "<b>%{hovertext}</b><br><br>Year=2015<br>CountryCode=%{location}<br>Pop. requiring PC=%{z}<extra></extra>",
           "hovertext": [
            "SSD",
            "CAF",
            "GNQ",
            "KEN",
            "SLE",
            "SEN",
            "ERI",
            "MLI",
            "GAB",
            "MWI",
            "LBR",
            "COM",
            "BEN",
            "STP",
            "MDG",
            "ZMB",
            "UGA",
            "TCD",
            "TZA",
            "GMB",
            "COD",
            "COG",
            "ETH",
            "NGA",
            "GNB",
            "GHA",
            "MOZ",
            "AGO",
            "NER",
            "GIN",
            "ZWE",
            "TGO",
            "CIV",
            "BFA",
            "CMR"
           ],
           "locations": [
            "SSD",
            "CAF",
            "GNQ",
            "KEN",
            "SLE",
            "SEN",
            "ERI",
            "MLI",
            "GAB",
            "MWI",
            "LBR",
            "COM",
            "BEN",
            "STP",
            "MDG",
            "ZMB",
            "UGA",
            "TCD",
            "TZA",
            "GMB",
            "COD",
            "COG",
            "ETH",
            "NGA",
            "GNB",
            "GHA",
            "MOZ",
            "AGO",
            "NER",
            "GIN",
            "ZWE",
            "TGO",
            "CIV",
            "BFA",
            "CMR"
           ],
           "name": "",
           "type": "choropleth",
           "z": {
            "bdata": "AAAAAKZSOUEAAAAAUC1JQQAAAACAohlBAAAAACPlTUEAAABAb51aQQAAAEBNgV9BAAAAACAA8UAAAAAAA19uQQAAAABosTNBAAAAIAuXbEEAAAAAH0VFQQAAAAD4YB9BAAAAAAK/TUEAAAAAMPcGQQAAAOA98XFBAAAAIAIyZkEAAADALnJkQQAAAICFRkhBAAAAkIe2eUEAAAAAgE8yQQAAAIgZpoFBAAAAAEoLLkEAAADgSjJlQQAAAKCEopxBAAAAACfjN0EAAAAAGYRCQQAAAKDQX3FBAAAAAFIPZ0EAAAAA2sNkQQAAAMDEUVtBAAAAAJR7XEEAAAAAKC8yQQAAAJCIBXFBAAAAQFqcWUEAAADgly5wQQ==",
            "dtype": "f8"
           }
          }
         ],
         "name": "2015"
        },
        {
         "data": [
          {
           "coloraxis": "coloraxis",
           "geo": "geo",
           "hovertemplate": "<b>%{hovertext}</b><br><br>Year=2016<br>CountryCode=%{location}<br>Pop. requiring PC=%{z}<extra></extra>",
           "hovertext": [
            "CIV",
            "AGO",
            "TZA",
            "BEN",
            "NER",
            "MDG",
            "STP",
            "COD",
            "MWI",
            "ERI",
            "NGA",
            "MOZ",
            "CAF",
            "ZWE",
            "GNQ",
            "TGO",
            "MLI",
            "UGA",
            "ETH",
            "SLE",
            "BFA",
            "COM",
            "GNB",
            "TCD",
            "GAB",
            "COG",
            "GIN",
            "ZMB",
            "GHA",
            "SSD",
            "KEN",
            "SEN",
            "CMR",
            "LBR"
           ],
           "locations": [
            "CIV",
            "AGO",
            "TZA",
            "BEN",
            "NER",
            "MDG",
            "STP",
            "COD",
            "MWI",
            "ERI",
            "NGA",
            "MOZ",
            "CAF",
            "ZWE",
            "GNQ",
            "TGO",
            "MLI",
            "UGA",
            "ETH",
            "SLE",
            "BFA",
            "COM",
            "GNB",
            "TCD",
            "GAB",
            "COG",
            "GIN",
            "ZMB",
            "GHA",
            "SSD",
            "KEN",
            "SEN",
            "CMR",
            "LBR"
           ],
           "name": "",
           "type": "choropleth",
           "z": {
            "bdata": "AAAAgOb1b0EAAABA3JVUQQAAAKCEUG9BAAAAAJvQRkEAAAAA2sNkQQAAADBB/XFBAAAAADD3BkEAAAAgxXiCQQAAACALl2xBAAAAACAA8UAAAAAoZmadQQAAAFDQPnNBAAAAAFAtSUEAAACAoEldQQAAAACAohlBAAAAACgvMkEAAACARX5xQQAAAMCQW1pBAAAAAK7xVUEAAAAAGTtbQQAAAECGXmBBAAAAAPhgH0EAAAAAegk6QQAAAICFRkhBAAAAADQhFUEAAAAA2GAtQQAAAMDEUVtBAAAAIMSMZUEAAAAAEFI7QQAAAACmUjlBAAAAAAIRTEEAAABA2EZgQQAAAOCXLnBBAAAAgG60REE=",
            "dtype": "f8"
           }
          }
         ],
         "name": "2016"
        },
        {
         "data": [
          {
           "coloraxis": "coloraxis",
           "geo": "geo",
           "hovertemplate": "<b>%{hovertext}</b><br><br>Year=2017<br>CountryCode=%{location}<br>Pop. requiring PC=%{z}<extra></extra>",
           "hovertext": [
            "TZA",
            "TCD",
            "MLI",
            "BFA",
            "CIV",
            "GNB",
            "CAF",
            "KEN",
            "MOZ",
            "NGA",
            "COG",
            "COD",
            "ZMB",
            "GHA",
            "NER",
            "GIN",
            "ZWE",
            "GNQ",
            "ETH",
            "AGO",
            "SSD",
            "BEN",
            "LBR",
            "UGA",
            "MDG",
            "COM",
            "SLE",
            "ERI",
            "CMR",
            "SEN",
            "GAB",
            "STP",
            "MWI"
           ],
           "locations": [
            "TZA",
            "TCD",
            "MLI",
            "BFA",
            "CIV",
            "GNB",
            "CAF",
            "KEN",
            "MOZ",
            "NGA",
            "COG",
            "COD",
            "ZMB",
            "GHA",
            "NER",
            "GIN",
            "ZWE",
            "GNQ",
            "ETH",
            "AGO",
            "SSD",
            "BEN",
            "LBR",
            "UGA",
            "MDG",
            "COM",
            "SLE",
            "ERI",
            "CMR",
            "SEN",
            "GAB",
            "STP",
            "MWI"
           ],
           "name": "",
           "type": "choropleth",
           "z": {
            "bdata": "AAAAoNv5YkEAAABATkZRQQAAAAC330FBAAAAwIIYVUEAAAAA44dzQQAAAAB4RDFBAAAAAFAtSUEAAAAAOYFNQQAAAFDb2HJBAAAAqGCZnkEAAAAAioInQQAAAOhVVIRBAAAAYLJQZ0EAAAAAKGE1QQAAAMDPsGJBAAAAAKLrW0EAAACAoEldQQAAAACAohlBAAAAwHl9VUEAAAAAoUFOQQAAAMDzolNBAAAAAPyFQkEAAAAARy9CQQAAAACm0EZBAAAA8Fq6ckEAAAAA6EUpQQAAAEDzW1BBAAAAAHDS8UAAAACA8ZVkQQAAAOBey2BBAAAAADQhFUEAAAAAMPcGQQAAACALl2xB",
            "dtype": "f8"
           }
          }
         ],
         "name": "2017"
        },
        {
         "data": [
          {
           "coloraxis": "coloraxis",
           "geo": "geo",
           "hovertemplate": "<b>%{hovertext}</b><br><br>Year=2018<br>CountryCode=%{location}<br>Pop. requiring PC=%{z}<extra></extra>",
           "hovertext": [
            "COG",
            "GIN",
            "MDG",
            "BEN",
            "CMR",
            "COD",
            "AGO",
            "COM",
            "ZWE",
            "TZA",
            "COD",
            "STP",
            "NER",
            "ETH",
            "GNQ",
            "MOZ",
            "SEN",
            "GAB",
            "GHA",
            "MWI",
            "SLE",
            "MLI",
            "BFA",
            "ERI",
            "CIV",
            "ZMB",
            "TCD",
            "GNB",
            "LBR",
            "CAF",
            "CAF",
            "KEN",
            "SSD",
            "NGA",
            "UGA"
           ],
           "locations": [
            "COG",
            "GIN",
            "MDG",
            "BEN",
            "CMR",
            "COD",
            "AGO",
            "COM",
            "ZWE",
            "TZA",
            "COD",
            "STP",
            "NER",
            "ETH",
            "GNQ",
            "MOZ",
            "SEN",
            "GAB",
            "GHA",
            "MWI",
            "SLE",
            "MLI",
            "BFA",
            "ERI",
            "CIV",
            "ZMB",
            "TCD",
            "GNB",
            "LBR",
            "CAF",
            "CAF",
            "KEN",
            "SSD",
            "NGA",
            "UGA"
           ],
           "name": "",
           "type": "choropleth",
           "z": {
            "bdata": "AAAAANhgLUEAAABA4YhcQQAAAPBaunJBAAAAAAtVNUEAAAAAQL44QQAAACCX54ZBAAAAAEUtTkEAAAAA6EUpQQAAAICgSV1BAAAAYHIMY0EAAAAgl+eGQQAAAADAoQhBAAAAgHYjYUG++HoBdChXQQAAAACAohlBAAAAIJJSc0EAAACgaEhhQQAAAACEChZBAAAAAKDzM0EAAAAgC5dsQQAAAIAGs0RBAAAAAAScLUEAAAAAL3VBQQAAAAAAevFAAAAAUJcHdEEAAABgNvNmQQAAAIBWRVFBAAAAAIBuMEEAAAAASQlGQQAAAABQLUlBAAAAAFAtSUEAAAAA0mNOQQAAAMBmhlZBAAAAKLJRn0EAAAAAtyY+QQ==",
            "dtype": "f8"
           }
          }
         ],
         "name": "2018"
        },
        {
         "data": [
          {
           "coloraxis": "coloraxis",
           "geo": "geo",
           "hovertemplate": "<b>%{hovertext}</b><br><br>Year=2019<br>CountryCode=%{location}<br>Pop. requiring PC=%{z}<extra></extra>",
           "hovertext": [
            "SEN",
            "ZWE",
            "NGA",
            "ZMB",
            "SLE",
            "UGA",
            "SSD",
            "TZA",
            "STP",
            "GNB",
            "ERI",
            "COD",
            "BFA",
            "MDG",
            "COG",
            "COG",
            "GNQ",
            "KEN",
            "BEN",
            "KEN",
            "CAF",
            "CAF",
            "GIN",
            "COM",
            "ETH",
            "GHA",
            "GAB",
            "CMR",
            "MWI",
            "LBR",
            "MLI",
            "NER",
            "CIV",
            "AGO",
            "COD",
            "MOZ",
            "TCD"
           ],
           "locations": [
            "SEN",
            "ZWE",
            "NGA",
            "ZMB",
            "SLE",
            "UGA",
            "SSD",
            "TZA",
            "STP",
            "GNB",
            "ERI",
            "COD",
            "BFA",
            "MDG",
            "COG",
            "COG",
            "GNQ",
            "KEN",
            "BEN",
            "KEN",
            "CAF",
            "CAF",
            "GIN",
            "COM",
            "ETH",
            "GHA",
            "GAB",
            "CMR",
            "MWI",
            "LBR",
            "MLI",
            "NER",
            "CIV",
            "AGO",
            "COD",
            "MOZ",
            "TCD"
           ],
           "name": "",
           "type": "choropleth",
           "z": {
            "bdata": "AAAAYIDQYEEAAACAoEldQQAAAHD+CaBBAAAAYDbzZkEAAAAAnXNGQQAAAACMIj9BAAAAQOIoYEEAAADAX1heQQAAAADQjAhBAAAAAOYjPEEAAAAAcNLxQAAAAJB49YVBAAAAgIoiQEEAAABgpiV0QQAAAAC4eC9BAAAAALh4L0EAAAAAgKIZQTUzM8M2TU9BAAAAAAATEkE1MzPDNk1PQd898zCy8lBB3z3zMLLyUEEAAABA4YhcQQAAAACaEihBxTZxvNyUVkEAAAAAGpg0QQAAAACEChZBAAAAAIBw7EAAAAAgC5dsQQAAAADOnEZBAAAAACKlLkEAAADA9XdZQQAAAGAwtXRB/KnxYnVEQkEAAACQePWFQcxIWGAROXFBAAAAgL+MU0E=",
            "dtype": "f8"
           }
          }
         ],
         "name": "2019"
        },
        {
         "data": [
          {
           "coloraxis": "coloraxis",
           "geo": "geo",
           "hovertemplate": "<b>%{hovertext}</b><br><br>Year=2020<br>CountryCode=%{location}<br>Pop. requiring PC=%{z}<extra></extra>",
           "hovertext": [
            "GNB",
            "ERI",
            "MOZ",
            "CIV",
            "GIN",
            "ZWE",
            "COM",
            "MLI",
            "BEN",
            "GHA",
            "NER",
            "TZA",
            "SLE",
            "ETH",
            "CAF",
            "TCD",
            "GAB",
            "MDG",
            "CMR",
            "MDG",
            "LBR",
            "UGA",
            "COG",
            "ZMB",
            "COG",
            "MWI",
            "SSD",
            "BFA",
            "AGO",
            "STP",
            "KEN",
            "NGA",
            "COD",
            "GNQ",
            "SEN"
           ],
           "locations": [
            "GNB",
            "ERI",
            "MOZ",
            "CIV",
            "GIN",
            "ZWE",
            "COM",
            "MLI",
            "BEN",
            "GHA",
            "NER",
            "TZA",
            "SLE",
            "ETH",
            "CAF",
            "TCD",
            "GAB",
            "MDG",
            "CMR",
            "MDG",
            "LBR",
            "UGA",
            "COG",
            "ZMB",
            "COG",
            "MWI",
            "SSD",
            "BFA",
            "AGO",
            "STP",
            "KEN",
            "NGA",
            "COD",
            "GNQ",
            "SEN"
           ],
           "name": "",
           "type": "choropleth",
           "z": {
            "bdata": "AAAAAAHgPEEAAAAAMLLxQKAmNfS5NnJBAAAAoNTydEEAAAAAzTRfQQAAAEC6oV5BAAAAAIRtGEEAAAAAIqUuQQAAAADgOxNBAAAAABqYNEEAAACAvotPQY2WT/FlbV9B4RaFAfhAOUE7W6aHWw9aQQAAAECy8lBBAAAAAOlqVEEAAAAAlOAVQQAAAEBEZnRBAAAAAIBw7EAAAABARGZ0QQAAAADBf0ZBAAAAAIwiP0HNzMzMNTUwQQAAAKAAb2hBzczMzDU1MEEAAAAgC5dsQQAAAAASVGBBH54lSISuQEEAAACA1yNNQQAAAADwqQlBAAAAAM4eUEG5rFk67kGgQQAAAMiyjYZBAAAAAICiGUEAAACA7lNVQQ==",
            "dtype": "f8"
           }
          }
         ],
         "name": "2020"
        },
        {
         "data": [
          {
           "coloraxis": "coloraxis",
           "geo": "geo",
           "hovertemplate": "<b>%{hovertext}</b><br><br>Year=2021<br>CountryCode=%{location}<br>Pop. requiring PC=%{z}<extra></extra>",
           "hovertext": [
            "COD",
            "COG",
            "SSD",
            "TCD",
            "GNQ",
            "UGA",
            "CIV",
            "ERI",
            "COM",
            "COD",
            "COM",
            "GIN",
            "BFA",
            "NER",
            "ZWE",
            "MOZ",
            "NGA",
            "AGO",
            "MLI",
            "BEN",
            "MDG",
            "STP",
            "ZMB",
            "LBR",
            "ETH",
            "KEN",
            "COG",
            "GAB",
            "CMR",
            "GNB",
            "CAF",
            "CAF",
            "COG",
            "SLE",
            "SEN",
            "TZA",
            "GHA"
           ],
           "locations": [
            "COD",
            "COG",
            "SSD",
            "TCD",
            "GNQ",
            "UGA",
            "CIV",
            "ERI",
            "COM",
            "COD",
            "COM",
            "GIN",
            "BFA",
            "NER",
            "ZWE",
            "MOZ",
            "NGA",
            "AGO",
            "MLI",
            "BEN",
            "MDG",
            "STP",
            "ZMB",
            "LBR",
            "ETH",
            "KEN",
            "COG",
            "GAB",
            "CMR",
            "GNB",
            "CAF",
            "CAF",
            "COG",
            "SLE",
            "SEN",
            "TZA",
            "GHA"
           ],
           "name": "",
           "type": "choropleth",
           "z": {
            "bdata": "AAAAsNAyh0EAAAAAbp8wQQAAAMCbtGBBAAAAwHOUVEEAAAAAQPIsQQAAAACMIj9BAAAAwLRea0EAAAAAoOfxQAAAAADU4RhBAAAAsNAyh0EAAAAA1OEYQQAAAGALCWBBAAAAgBYMQEEAAACAY21QQQAAAIA3FF9BAAAAEF2sckEAAACCua2gQQAAAADBXE5BAAAAACKlLkEAAAAA4DsTQQAAAJDfN3RBAAAAAPCpCUEAAABARiZpQQAAAAByDUdBSkoimHKrWUEAAACAjH5QQQAAAABunzBBAAAAAJTgFUEAAAAA4DLtQAAAAACVoT1BAAAAQOZfWEEAAABA5l9YQQAAAABunzBBAAAAAKrVOUEAAABAd/1VQQAAAMA+N15BAAAAAGcJMUE=",
            "dtype": "f8"
           }
          }
         ],
         "name": "2021"
        },
        {
         "data": [
          {
           "coloraxis": "coloraxis",
           "geo": "geo",
           "hovertemplate": "<b>%{hovertext}</b><br><br>Year=2022<br>CountryCode=%{location}<br>Pop. requiring PC=%{z}<extra></extra>",
           "hovertext": [
            "BFA",
            "TCD",
            "BEN",
            "TZA",
            "ZMB",
            "UGA",
            "CMR",
            "COM",
            "AGO",
            "CAF",
            "NER",
            "COG",
            "GNB",
            "ZWE",
            "KEN",
            "GIN",
            "COG",
            "GHA",
            "LBR",
            "SLE",
            "GAB",
            "STP",
            "ETH",
            "SSD",
            "MDG",
            "MDG",
            "SSD",
            "COD",
            "MOZ",
            "CIV",
            "COD",
            "COD",
            "NGA",
            "ERI",
            "SEN",
            "MLI",
            "GNQ"
           ],
           "locations": [
            "BFA",
            "TCD",
            "BEN",
            "TZA",
            "ZMB",
            "UGA",
            "CMR",
            "COM",
            "AGO",
            "CAF",
            "NER",
            "COG",
            "GNB",
            "ZWE",
            "KEN",
            "GIN",
            "COG",
            "GHA",
            "LBR",
            "SLE",
            "GAB",
            "STP",
            "ETH",
            "SSD",
            "MDG",
            "MDG",
            "SSD",
            "COD",
            "MOZ",
            "CIV",
            "COD",
            "COD",
            "NGA",
            "ERI",
            "SEN",
            "MLI",
            "GNQ"
           ],
           "name": "",
           "type": "choropleth",
           "z": {
            "bdata": "AAAAAKEvP0EAAADA4TlVQQAAAADgOxNBAAAAAFR2WUEAAABARiZpQQAAAACMIj9BAAAAAOAy7UAAAAAA1OEYQQAAAIBfUk9BAAAAQOZfWEEIcSTa338VQQAAAADfADFBAAAAAL5oPkEAAAAA79xfQQAAAAAjFFBBAAAAAKp5YEEAAAAA3wAxQQAAAAA63SdBAAAAgBEPSkEAAAAAOk4hQQAAAADM5BZBAAAAAPCpCUFJfXWv9EtMQQsbnqhJi2FBAAAAQIfcdUEAAABAh9x1QQsbnqhJi2FBAAAAQO6ShUFwGxtaIxJjQQAAAACrnjlBAAAAQO6ShUEAAABA7pKFQYNemszGj6BBAAAAAICl3UAAAAAAaGEeQQAAAAAipS5BAAAAAEDyLEE=",
            "dtype": "f8"
           }
          }
         ],
         "name": "2022"
        },
        {
         "data": [
          {
           "coloraxis": "coloraxis",
           "geo": "geo",
           "hovertemplate": "<b>%{hovertext}</b><br><br>Year=2023<br>CountryCode=%{location}<br>Pop. requiring PC=%{z}<extra></extra>",
           "hovertext": [
            "STP",
            "NGA",
            "LBR",
            "AGO",
            "BFA",
            "KEN",
            "MLI",
            "BEN",
            "GNB",
            "MDG",
            "MOZ",
            "ZMB",
            "MDG",
            "GHA",
            "CMR",
            "COG",
            "COG",
            "CIV",
            "UGA",
            "COD",
            "COD",
            "COM",
            "GNQ",
            "NER",
            "ERI",
            "TCD",
            "SSD",
            "CAF",
            "CAF",
            "ETH",
            "SLE",
            "GAB",
            "TZA",
            "GIN",
            "SEN",
            "ZWE"
           ],
           "locations": [
            "STP",
            "NGA",
            "LBR",
            "AGO",
            "BFA",
            "KEN",
            "MLI",
            "BEN",
            "GNB",
            "MDG",
            "MOZ",
            "ZMB",
            "MDG",
            "GHA",
            "CMR",
            "COG",
            "COG",
            "CIV",
            "UGA",
            "COD",
            "COD",
            "COM",
            "GNQ",
            "NER",
            "ERI",
            "TCD",
            "SSD",
            "CAF",
            "CAF",
            "ETH",
            "SLE",
            "GAB",
            "TZA",
            "GIN",
            "SEN",
            "ZWE"
           ],
           "name": "",
           "type": "choropleth",
           "z": {
            "bdata": "AAAAAPCpCUEAAAC4QcySQQAAAAB+VkVBAAAAQAx+UEH/////rUg7QQAAAAAjFFBBAAAAACKlLkEAAAAA4DsTQQAAAABu5itBAAAAkNNKdEEAAACAQwhmQQAAAEBGJmlBAAAAkNNKdEEAAAAAum0oQQAAAADgMu1AAAAAAIxkMUEAAAAAjGQxQQAAAABQDhtBAAAAAIwiP0EAAABYDh2CQQAAAFgOHYJBAAAAANThGEEAAAAAeG8uQQAAAADMKhdBAAAAADCM8kAAAADAiINSQQAAAIDDVGJBAAAAwFGzWkEAAADAUbNaQQAAAID82E1BAAAAAMQaHkEAAAAAEHkXQQAAAAAPm0dBAAAAQMa1U0EAAAAACA0KQQAAAADv3F9B",
            "dtype": "f8"
           }
          }
         ],
         "name": "2023"
        }
       ],
       "layout": {
        "coloraxis": {
         "cmax": 139910337,
         "cmin": 0,
         "colorbar": {
          "title": {
           "text": "Pop. requiring PC"
          }
         },
         "colorscale": [
          [
           0,
           "#440154"
          ],
          [
           0.1111111111111111,
           "#482878"
          ],
          [
           0.2222222222222222,
           "#3e4989"
          ],
          [
           0.3333333333333333,
           "#31688e"
          ],
          [
           0.4444444444444444,
           "#26828e"
          ],
          [
           0.5555555555555556,
           "#1f9e89"
          ],
          [
           0.6666666666666666,
           "#35b779"
          ],
          [
           0.7777777777777778,
           "#6ece58"
          ],
          [
           0.8888888888888888,
           "#b5de2b"
          ],
          [
           1,
           "#fde725"
          ]
         ]
        },
        "geo": {
         "center": {},
         "domain": {
          "x": [
           0,
           1
          ],
          "y": [
           0,
           1
          ]
         },
         "scope": "africa"
        },
        "legend": {
         "tracegroupgap": 0
        },
        "margin": {
         "b": 0,
         "l": 0,
         "r": 0,
         "t": 40
        },
        "sliders": [
         {
          "active": 0,
          "currentvalue": {
           "prefix": "Year="
          },
          "len": 0.9,
          "pad": {
           "b": 10,
           "t": 60
          },
          "steps": [
           {
            "args": [
             [
              "2000"
             ],
             {
              "frame": {
               "duration": 0,
               "redraw": true
              },
              "fromcurrent": true,
              "mode": "immediate",
              "transition": {
               "duration": 0,
               "easing": "linear"
              }
             }
            ],
            "label": "2000",
            "method": "animate"
           },
           {
            "args": [
             [
              "2001"
             ],
             {
              "frame": {
               "duration": 0,
               "redraw": true
              },
              "fromcurrent": true,
              "mode": "immediate",
              "transition": {
               "duration": 0,
               "easing": "linear"
              }
             }
            ],
            "label": "2001",
            "method": "animate"
           },
           {
            "args": [
             [
              "2002"
             ],
             {
              "frame": {
               "duration": 0,
               "redraw": true
              },
              "fromcurrent": true,
              "mode": "immediate",
              "transition": {
               "duration": 0,
               "easing": "linear"
              }
             }
            ],
            "label": "2002",
            "method": "animate"
           },
           {
            "args": [
             [
              "2003"
             ],
             {
              "frame": {
               "duration": 0,
               "redraw": true
              },
              "fromcurrent": true,
              "mode": "immediate",
              "transition": {
               "duration": 0,
               "easing": "linear"
              }
             }
            ],
            "label": "2003",
            "method": "animate"
           },
           {
            "args": [
             [
              "2004"
             ],
             {
              "frame": {
               "duration": 0,
               "redraw": true
              },
              "fromcurrent": true,
              "mode": "immediate",
              "transition": {
               "duration": 0,
               "easing": "linear"
              }
             }
            ],
            "label": "2004",
            "method": "animate"
           },
           {
            "args": [
             [
              "2005"
             ],
             {
              "frame": {
               "duration": 0,
               "redraw": true
              },
              "fromcurrent": true,
              "mode": "immediate",
              "transition": {
               "duration": 0,
               "easing": "linear"
              }
             }
            ],
            "label": "2005",
            "method": "animate"
           },
           {
            "args": [
             [
              "2006"
             ],
             {
              "frame": {
               "duration": 0,
               "redraw": true
              },
              "fromcurrent": true,
              "mode": "immediate",
              "transition": {
               "duration": 0,
               "easing": "linear"
              }
             }
            ],
            "label": "2006",
            "method": "animate"
           },
           {
            "args": [
             [
              "2007"
             ],
             {
              "frame": {
               "duration": 0,
               "redraw": true
              },
              "fromcurrent": true,
              "mode": "immediate",
              "transition": {
               "duration": 0,
               "easing": "linear"
              }
             }
            ],
            "label": "2007",
            "method": "animate"
           },
           {
            "args": [
             [
              "2008"
             ],
             {
              "frame": {
               "duration": 0,
               "redraw": true
              },
              "fromcurrent": true,
              "mode": "immediate",
              "transition": {
               "duration": 0,
               "easing": "linear"
              }
             }
            ],
            "label": "2008",
            "method": "animate"
           },
           {
            "args": [
             [
              "2009"
             ],
             {
              "frame": {
               "duration": 0,
               "redraw": true
              },
              "fromcurrent": true,
              "mode": "immediate",
              "transition": {
               "duration": 0,
               "easing": "linear"
              }
             }
            ],
            "label": "2009",
            "method": "animate"
           },
           {
            "args": [
             [
              "2010"
             ],
             {
              "frame": {
               "duration": 0,
               "redraw": true
              },
              "fromcurrent": true,
              "mode": "immediate",
              "transition": {
               "duration": 0,
               "easing": "linear"
              }
             }
            ],
            "label": "2010",
            "method": "animate"
           },
           {
            "args": [
             [
              "2011"
             ],
             {
              "frame": {
               "duration": 0,
               "redraw": true
              },
              "fromcurrent": true,
              "mode": "immediate",
              "transition": {
               "duration": 0,
               "easing": "linear"
              }
             }
            ],
            "label": "2011",
            "method": "animate"
           },
           {
            "args": [
             [
              "2012"
             ],
             {
              "frame": {
               "duration": 0,
               "redraw": true
              },
              "fromcurrent": true,
              "mode": "immediate",
              "transition": {
               "duration": 0,
               "easing": "linear"
              }
             }
            ],
            "label": "2012",
            "method": "animate"
           },
           {
            "args": [
             [
              "2013"
             ],
             {
              "frame": {
               "duration": 0,
               "redraw": true
              },
              "fromcurrent": true,
              "mode": "immediate",
              "transition": {
               "duration": 0,
               "easing": "linear"
              }
             }
            ],
            "label": "2013",
            "method": "animate"
           },
           {
            "args": [
             [
              "2014"
             ],
             {
              "frame": {
               "duration": 0,
               "redraw": true
              },
              "fromcurrent": true,
              "mode": "immediate",
              "transition": {
               "duration": 0,
               "easing": "linear"
              }
             }
            ],
            "label": "2014",
            "method": "animate"
           },
           {
            "args": [
             [
              "2015"
             ],
             {
              "frame": {
               "duration": 0,
               "redraw": true
              },
              "fromcurrent": true,
              "mode": "immediate",
              "transition": {
               "duration": 0,
               "easing": "linear"
              }
             }
            ],
            "label": "2015",
            "method": "animate"
           },
           {
            "args": [
             [
              "2016"
             ],
             {
              "frame": {
               "duration": 0,
               "redraw": true
              },
              "fromcurrent": true,
              "mode": "immediate",
              "transition": {
               "duration": 0,
               "easing": "linear"
              }
             }
            ],
            "label": "2016",
            "method": "animate"
           },
           {
            "args": [
             [
              "2017"
             ],
             {
              "frame": {
               "duration": 0,
               "redraw": true
              },
              "fromcurrent": true,
              "mode": "immediate",
              "transition": {
               "duration": 0,
               "easing": "linear"
              }
             }
            ],
            "label": "2017",
            "method": "animate"
           },
           {
            "args": [
             [
              "2018"
             ],
             {
              "frame": {
               "duration": 0,
               "redraw": true
              },
              "fromcurrent": true,
              "mode": "immediate",
              "transition": {
               "duration": 0,
               "easing": "linear"
              }
             }
            ],
            "label": "2018",
            "method": "animate"
           },
           {
            "args": [
             [
              "2019"
             ],
             {
              "frame": {
               "duration": 0,
               "redraw": true
              },
              "fromcurrent": true,
              "mode": "immediate",
              "transition": {
               "duration": 0,
               "easing": "linear"
              }
             }
            ],
            "label": "2019",
            "method": "animate"
           },
           {
            "args": [
             [
              "2020"
             ],
             {
              "frame": {
               "duration": 0,
               "redraw": true
              },
              "fromcurrent": true,
              "mode": "immediate",
              "transition": {
               "duration": 0,
               "easing": "linear"
              }
             }
            ],
            "label": "2020",
            "method": "animate"
           },
           {
            "args": [
             [
              "2021"
             ],
             {
              "frame": {
               "duration": 0,
               "redraw": true
              },
              "fromcurrent": true,
              "mode": "immediate",
              "transition": {
               "duration": 0,
               "easing": "linear"
              }
             }
            ],
            "label": "2021",
            "method": "animate"
           },
           {
            "args": [
             [
              "2022"
             ],
             {
              "frame": {
               "duration": 0,
               "redraw": true
              },
              "fromcurrent": true,
              "mode": "immediate",
              "transition": {
               "duration": 0,
               "easing": "linear"
              }
             }
            ],
            "label": "2022",
            "method": "animate"
           },
           {
            "args": [
             [
              "2023"
             ],
             {
              "frame": {
               "duration": 0,
               "redraw": true
              },
              "fromcurrent": true,
              "mode": "immediate",
              "transition": {
               "duration": 0,
               "easing": "linear"
              }
             }
            ],
            "label": "2023",
            "method": "animate"
           }
          ],
          "x": 0.1,
          "xanchor": "left",
          "y": 0,
          "yanchor": "top"
         }
        ],
        "template": {
         "data": {
          "bar": [
           {
            "error_x": {
             "color": "#2a3f5f"
            },
            "error_y": {
             "color": "#2a3f5f"
            },
            "marker": {
             "line": {
              "color": "#E5ECF6",
              "width": 0.5
             },
             "pattern": {
              "fillmode": "overlay",
              "size": 10,
              "solidity": 0.2
             }
            },
            "type": "bar"
           }
          ],
          "barpolar": [
           {
            "marker": {
             "line": {
              "color": "#E5ECF6",
              "width": 0.5
             },
             "pattern": {
              "fillmode": "overlay",
              "size": 10,
              "solidity": 0.2
             }
            },
            "type": "barpolar"
           }
          ],
          "carpet": [
           {
            "aaxis": {
             "endlinecolor": "#2a3f5f",
             "gridcolor": "white",
             "linecolor": "white",
             "minorgridcolor": "white",
             "startlinecolor": "#2a3f5f"
            },
            "baxis": {
             "endlinecolor": "#2a3f5f",
             "gridcolor": "white",
             "linecolor": "white",
             "minorgridcolor": "white",
             "startlinecolor": "#2a3f5f"
            },
            "type": "carpet"
           }
          ],
          "choropleth": [
           {
            "colorbar": {
             "outlinewidth": 0,
             "ticks": ""
            },
            "type": "choropleth"
           }
          ],
          "contour": [
           {
            "colorbar": {
             "outlinewidth": 0,
             "ticks": ""
            },
            "colorscale": [
             [
              0,
              "#0d0887"
             ],
             [
              0.1111111111111111,
              "#46039f"
             ],
             [
              0.2222222222222222,
              "#7201a8"
             ],
             [
              0.3333333333333333,
              "#9c179e"
             ],
             [
              0.4444444444444444,
              "#bd3786"
             ],
             [
              0.5555555555555556,
              "#d8576b"
             ],
             [
              0.6666666666666666,
              "#ed7953"
             ],
             [
              0.7777777777777778,
              "#fb9f3a"
             ],
             [
              0.8888888888888888,
              "#fdca26"
             ],
             [
              1,
              "#f0f921"
             ]
            ],
            "type": "contour"
           }
          ],
          "contourcarpet": [
           {
            "colorbar": {
             "outlinewidth": 0,
             "ticks": ""
            },
            "type": "contourcarpet"
           }
          ],
          "heatmap": [
           {
            "colorbar": {
             "outlinewidth": 0,
             "ticks": ""
            },
            "colorscale": [
             [
              0,
              "#0d0887"
             ],
             [
              0.1111111111111111,
              "#46039f"
             ],
             [
              0.2222222222222222,
              "#7201a8"
             ],
             [
              0.3333333333333333,
              "#9c179e"
             ],
             [
              0.4444444444444444,
              "#bd3786"
             ],
             [
              0.5555555555555556,
              "#d8576b"
             ],
             [
              0.6666666666666666,
              "#ed7953"
             ],
             [
              0.7777777777777778,
              "#fb9f3a"
             ],
             [
              0.8888888888888888,
              "#fdca26"
             ],
             [
              1,
              "#f0f921"
             ]
            ],
            "type": "heatmap"
           }
          ],
          "histogram": [
           {
            "marker": {
             "pattern": {
              "fillmode": "overlay",
              "size": 10,
              "solidity": 0.2
             }
            },
            "type": "histogram"
           }
          ],
          "histogram2d": [
           {
            "colorbar": {
             "outlinewidth": 0,
             "ticks": ""
            },
            "colorscale": [
             [
              0,
              "#0d0887"
             ],
             [
              0.1111111111111111,
              "#46039f"
             ],
             [
              0.2222222222222222,
              "#7201a8"
             ],
             [
              0.3333333333333333,
              "#9c179e"
             ],
             [
              0.4444444444444444,
              "#bd3786"
             ],
             [
              0.5555555555555556,
              "#d8576b"
             ],
             [
              0.6666666666666666,
              "#ed7953"
             ],
             [
              0.7777777777777778,
              "#fb9f3a"
             ],
             [
              0.8888888888888888,
              "#fdca26"
             ],
             [
              1,
              "#f0f921"
             ]
            ],
            "type": "histogram2d"
           }
          ],
          "histogram2dcontour": [
           {
            "colorbar": {
             "outlinewidth": 0,
             "ticks": ""
            },
            "colorscale": [
             [
              0,
              "#0d0887"
             ],
             [
              0.1111111111111111,
              "#46039f"
             ],
             [
              0.2222222222222222,
              "#7201a8"
             ],
             [
              0.3333333333333333,
              "#9c179e"
             ],
             [
              0.4444444444444444,
              "#bd3786"
             ],
             [
              0.5555555555555556,
              "#d8576b"
             ],
             [
              0.6666666666666666,
              "#ed7953"
             ],
             [
              0.7777777777777778,
              "#fb9f3a"
             ],
             [
              0.8888888888888888,
              "#fdca26"
             ],
             [
              1,
              "#f0f921"
             ]
            ],
            "type": "histogram2dcontour"
           }
          ],
          "mesh3d": [
           {
            "colorbar": {
             "outlinewidth": 0,
             "ticks": ""
            },
            "type": "mesh3d"
           }
          ],
          "parcoords": [
           {
            "line": {
             "colorbar": {
              "outlinewidth": 0,
              "ticks": ""
             }
            },
            "type": "parcoords"
           }
          ],
          "pie": [
           {
            "automargin": true,
            "type": "pie"
           }
          ],
          "scatter": [
           {
            "fillpattern": {
             "fillmode": "overlay",
             "size": 10,
             "solidity": 0.2
            },
            "type": "scatter"
           }
          ],
          "scatter3d": [
           {
            "line": {
             "colorbar": {
              "outlinewidth": 0,
              "ticks": ""
             }
            },
            "marker": {
             "colorbar": {
              "outlinewidth": 0,
              "ticks": ""
             }
            },
            "type": "scatter3d"
           }
          ],
          "scattercarpet": [
           {
            "marker": {
             "colorbar": {
              "outlinewidth": 0,
              "ticks": ""
             }
            },
            "type": "scattercarpet"
           }
          ],
          "scattergeo": [
           {
            "marker": {
             "colorbar": {
              "outlinewidth": 0,
              "ticks": ""
             }
            },
            "type": "scattergeo"
           }
          ],
          "scattergl": [
           {
            "marker": {
             "colorbar": {
              "outlinewidth": 0,
              "ticks": ""
             }
            },
            "type": "scattergl"
           }
          ],
          "scattermap": [
           {
            "marker": {
             "colorbar": {
              "outlinewidth": 0,
              "ticks": ""
             }
            },
            "type": "scattermap"
           }
          ],
          "scattermapbox": [
           {
            "marker": {
             "colorbar": {
              "outlinewidth": 0,
              "ticks": ""
             }
            },
            "type": "scattermapbox"
           }
          ],
          "scatterpolar": [
           {
            "marker": {
             "colorbar": {
              "outlinewidth": 0,
              "ticks": ""
             }
            },
            "type": "scatterpolar"
           }
          ],
          "scatterpolargl": [
           {
            "marker": {
             "colorbar": {
              "outlinewidth": 0,
              "ticks": ""
             }
            },
            "type": "scatterpolargl"
           }
          ],
          "scatterternary": [
           {
            "marker": {
             "colorbar": {
              "outlinewidth": 0,
              "ticks": ""
             }
            },
            "type": "scatterternary"
           }
          ],
          "surface": [
           {
            "colorbar": {
             "outlinewidth": 0,
             "ticks": ""
            },
            "colorscale": [
             [
              0,
              "#0d0887"
             ],
             [
              0.1111111111111111,
              "#46039f"
             ],
             [
              0.2222222222222222,
              "#7201a8"
             ],
             [
              0.3333333333333333,
              "#9c179e"
             ],
             [
              0.4444444444444444,
              "#bd3786"
             ],
             [
              0.5555555555555556,
              "#d8576b"
             ],
             [
              0.6666666666666666,
              "#ed7953"
             ],
             [
              0.7777777777777778,
              "#fb9f3a"
             ],
             [
              0.8888888888888888,
              "#fdca26"
             ],
             [
              1,
              "#f0f921"
             ]
            ],
            "type": "surface"
           }
          ],
          "table": [
           {
            "cells": {
             "fill": {
              "color": "#EBF0F8"
             },
             "line": {
              "color": "white"
             }
            },
            "header": {
             "fill": {
              "color": "#C8D4E3"
             },
             "line": {
              "color": "white"
             }
            },
            "type": "table"
           }
          ]
         },
         "layout": {
          "annotationdefaults": {
           "arrowcolor": "#2a3f5f",
           "arrowhead": 0,
           "arrowwidth": 1
          },
          "autotypenumbers": "strict",
          "coloraxis": {
           "colorbar": {
            "outlinewidth": 0,
            "ticks": ""
           }
          },
          "colorscale": {
           "diverging": [
            [
             0,
             "#8e0152"
            ],
            [
             0.1,
             "#c51b7d"
            ],
            [
             0.2,
             "#de77ae"
            ],
            [
             0.3,
             "#f1b6da"
            ],
            [
             0.4,
             "#fde0ef"
            ],
            [
             0.5,
             "#f7f7f7"
            ],
            [
             0.6,
             "#e6f5d0"
            ],
            [
             0.7,
             "#b8e186"
            ],
            [
             0.8,
             "#7fbc41"
            ],
            [
             0.9,
             "#4d9221"
            ],
            [
             1,
             "#276419"
            ]
           ],
           "sequential": [
            [
             0,
             "#0d0887"
            ],
            [
             0.1111111111111111,
             "#46039f"
            ],
            [
             0.2222222222222222,
             "#7201a8"
            ],
            [
             0.3333333333333333,
             "#9c179e"
            ],
            [
             0.4444444444444444,
             "#bd3786"
            ],
            [
             0.5555555555555556,
             "#d8576b"
            ],
            [
             0.6666666666666666,
             "#ed7953"
            ],
            [
             0.7777777777777778,
             "#fb9f3a"
            ],
            [
             0.8888888888888888,
             "#fdca26"
            ],
            [
             1,
             "#f0f921"
            ]
           ],
           "sequentialminus": [
            [
             0,
             "#0d0887"
            ],
            [
             0.1111111111111111,
             "#46039f"
            ],
            [
             0.2222222222222222,
             "#7201a8"
            ],
            [
             0.3333333333333333,
             "#9c179e"
            ],
            [
             0.4444444444444444,
             "#bd3786"
            ],
            [
             0.5555555555555556,
             "#d8576b"
            ],
            [
             0.6666666666666666,
             "#ed7953"
            ],
            [
             0.7777777777777778,
             "#fb9f3a"
            ],
            [
             0.8888888888888888,
             "#fdca26"
            ],
            [
             1,
             "#f0f921"
            ]
           ]
          },
          "colorway": [
           "#636efa",
           "#EF553B",
           "#00cc96",
           "#ab63fa",
           "#FFA15A",
           "#19d3f3",
           "#FF6692",
           "#B6E880",
           "#FF97FF",
           "#FECB52"
          ],
          "font": {
           "color": "#2a3f5f"
          },
          "geo": {
           "bgcolor": "white",
           "lakecolor": "white",
           "landcolor": "#E5ECF6",
           "showlakes": true,
           "showland": true,
           "subunitcolor": "white"
          },
          "hoverlabel": {
           "align": "left"
          },
          "hovermode": "closest",
          "mapbox": {
           "style": "light"
          },
          "paper_bgcolor": "white",
          "plot_bgcolor": "#E5ECF6",
          "polar": {
           "angularaxis": {
            "gridcolor": "white",
            "linecolor": "white",
            "ticks": ""
           },
           "bgcolor": "#E5ECF6",
           "radialaxis": {
            "gridcolor": "white",
            "linecolor": "white",
            "ticks": ""
           }
          },
          "scene": {
           "xaxis": {
            "backgroundcolor": "#E5ECF6",
            "gridcolor": "white",
            "gridwidth": 2,
            "linecolor": "white",
            "showbackground": true,
            "ticks": "",
            "zerolinecolor": "white"
           },
           "yaxis": {
            "backgroundcolor": "#E5ECF6",
            "gridcolor": "white",
            "gridwidth": 2,
            "linecolor": "white",
            "showbackground": true,
            "ticks": "",
            "zerolinecolor": "white"
           },
           "zaxis": {
            "backgroundcolor": "#E5ECF6",
            "gridcolor": "white",
            "gridwidth": 2,
            "linecolor": "white",
            "showbackground": true,
            "ticks": "",
            "zerolinecolor": "white"
           }
          },
          "shapedefaults": {
           "line": {
            "color": "#2a3f5f"
           }
          },
          "ternary": {
           "aaxis": {
            "gridcolor": "white",
            "linecolor": "white",
            "ticks": ""
           },
           "baxis": {
            "gridcolor": "white",
            "linecolor": "white",
            "ticks": ""
           },
           "bgcolor": "#E5ECF6",
           "caxis": {
            "gridcolor": "white",
            "linecolor": "white",
            "ticks": ""
           }
          },
          "title": {
           "x": 0.05
          },
          "xaxis": {
           "automargin": true,
           "gridcolor": "white",
           "linecolor": "white",
           "ticks": "",
           "title": {
            "standoff": 15
           },
           "zerolinecolor": "white",
           "zerolinewidth": 2
          },
          "yaxis": {
           "automargin": true,
           "gridcolor": "white",
           "linecolor": "white",
           "ticks": "",
           "title": {
            "standoff": 15
           },
           "zerolinecolor": "white",
           "zerolinewidth": 2
          }
         }
        },
        "title": {
         "text": "LF: Population Requiring Preventive Chemotherapy Over Time"
        },
        "updatemenus": [
         {
          "buttons": [
           {
            "args": [
             null,
             {
              "frame": {
               "duration": 500,
               "redraw": true
              },
              "fromcurrent": true,
              "mode": "immediate",
              "transition": {
               "duration": 500,
               "easing": "linear"
              }
             }
            ],
            "label": "&#9654;",
            "method": "animate"
           },
           {
            "args": [
             [
              null
             ],
             {
              "frame": {
               "duration": 0,
               "redraw": true
              },
              "fromcurrent": true,
              "mode": "immediate",
              "transition": {
               "duration": 0,
               "easing": "linear"
              }
             }
            ],
            "label": "&#9724;",
            "method": "animate"
           }
          ],
          "direction": "left",
          "pad": {
           "r": 10,
           "t": 70
          },
          "showactive": false,
          "type": "buttons",
          "x": 0.1,
          "xanchor": "right",
          "y": 0,
          "yanchor": "top"
         }
        ]
       }
      },
      "text/html": [
       "<div>            <script src=\"https://cdnjs.cloudflare.com/ajax/libs/mathjax/2.7.5/MathJax.js?config=TeX-AMS-MML_SVG\"></script><script type=\"text/javascript\">if (window.MathJax && window.MathJax.Hub && window.MathJax.Hub.Config) {window.MathJax.Hub.Config({SVG: {font: \"STIX-Web\"}});}</script>                <script type=\"text/javascript\">window.PlotlyConfig = {MathJaxConfig: 'local'};</script>\n",
       "        <script charset=\"utf-8\" src=\"https://cdn.plot.ly/plotly-3.0.1.min.js\"></script>                <div id=\"2bd7301d-2ca1-4634-ac51-12bc603af940\" class=\"plotly-graph-div\" style=\"height:525px; width:100%;\"></div>            <script type=\"text/javascript\">                window.PLOTLYENV=window.PLOTLYENV || {};                                if (document.getElementById(\"2bd7301d-2ca1-4634-ac51-12bc603af940\")) {                    Plotly.newPlot(                        \"2bd7301d-2ca1-4634-ac51-12bc603af940\",                        [{\"coloraxis\":\"coloraxis\",\"geo\":\"geo\",\"hovertemplate\":\"\\u003cb\\u003e%{hovertext}\\u003c\\u002fb\\u003e\\u003cbr\\u003e\\u003cbr\\u003eYear=2000\\u003cbr\\u003eCountryCode=%{location}\\u003cbr\\u003ePop. requiring PC=%{z}\\u003cextra\\u003e\\u003c\\u002fextra\\u003e\",\"hovertext\":[\"TGO\",\"GHA\",\"NGA\",\"TZA\"],\"locations\":[\"TGO\",\"GHA\",\"NGA\",\"TZA\"],\"name\":\"\",\"z\":{\"dtype\":\"f8\",\"bdata\":\"AAAAAABqOEEAAAAAgIROQQAAAADQEpNBAAAAABj7ZEE=\"},\"type\":\"choropleth\"}],                        {\"template\":{\"data\":{\"histogram2dcontour\":[{\"type\":\"histogram2dcontour\",\"colorbar\":{\"outlinewidth\":0,\"ticks\":\"\"},\"colorscale\":[[0.0,\"#0d0887\"],[0.1111111111111111,\"#46039f\"],[0.2222222222222222,\"#7201a8\"],[0.3333333333333333,\"#9c179e\"],[0.4444444444444444,\"#bd3786\"],[0.5555555555555556,\"#d8576b\"],[0.6666666666666666,\"#ed7953\"],[0.7777777777777778,\"#fb9f3a\"],[0.8888888888888888,\"#fdca26\"],[1.0,\"#f0f921\"]]}],\"choropleth\":[{\"type\":\"choropleth\",\"colorbar\":{\"outlinewidth\":0,\"ticks\":\"\"}}],\"histogram2d\":[{\"type\":\"histogram2d\",\"colorbar\":{\"outlinewidth\":0,\"ticks\":\"\"},\"colorscale\":[[0.0,\"#0d0887\"],[0.1111111111111111,\"#46039f\"],[0.2222222222222222,\"#7201a8\"],[0.3333333333333333,\"#9c179e\"],[0.4444444444444444,\"#bd3786\"],[0.5555555555555556,\"#d8576b\"],[0.6666666666666666,\"#ed7953\"],[0.7777777777777778,\"#fb9f3a\"],[0.8888888888888888,\"#fdca26\"],[1.0,\"#f0f921\"]]}],\"heatmap\":[{\"type\":\"heatmap\",\"colorbar\":{\"outlinewidth\":0,\"ticks\":\"\"},\"colorscale\":[[0.0,\"#0d0887\"],[0.1111111111111111,\"#46039f\"],[0.2222222222222222,\"#7201a8\"],[0.3333333333333333,\"#9c179e\"],[0.4444444444444444,\"#bd3786\"],[0.5555555555555556,\"#d8576b\"],[0.6666666666666666,\"#ed7953\"],[0.7777777777777778,\"#fb9f3a\"],[0.8888888888888888,\"#fdca26\"],[1.0,\"#f0f921\"]]}],\"contourcarpet\":[{\"type\":\"contourcarpet\",\"colorbar\":{\"outlinewidth\":0,\"ticks\":\"\"}}],\"contour\":[{\"type\":\"contour\",\"colorbar\":{\"outlinewidth\":0,\"ticks\":\"\"},\"colorscale\":[[0.0,\"#0d0887\"],[0.1111111111111111,\"#46039f\"],[0.2222222222222222,\"#7201a8\"],[0.3333333333333333,\"#9c179e\"],[0.4444444444444444,\"#bd3786\"],[0.5555555555555556,\"#d8576b\"],[0.6666666666666666,\"#ed7953\"],[0.7777777777777778,\"#fb9f3a\"],[0.8888888888888888,\"#fdca26\"],[1.0,\"#f0f921\"]]}],\"surface\":[{\"type\":\"surface\",\"colorbar\":{\"outlinewidth\":0,\"ticks\":\"\"},\"colorscale\":[[0.0,\"#0d0887\"],[0.1111111111111111,\"#46039f\"],[0.2222222222222222,\"#7201a8\"],[0.3333333333333333,\"#9c179e\"],[0.4444444444444444,\"#bd3786\"],[0.5555555555555556,\"#d8576b\"],[0.6666666666666666,\"#ed7953\"],[0.7777777777777778,\"#fb9f3a\"],[0.8888888888888888,\"#fdca26\"],[1.0,\"#f0f921\"]]}],\"mesh3d\":[{\"type\":\"mesh3d\",\"colorbar\":{\"outlinewidth\":0,\"ticks\":\"\"}}],\"scatter\":[{\"fillpattern\":{\"fillmode\":\"overlay\",\"size\":10,\"solidity\":0.2},\"type\":\"scatter\"}],\"parcoords\":[{\"type\":\"parcoords\",\"line\":{\"colorbar\":{\"outlinewidth\":0,\"ticks\":\"\"}}}],\"scatterpolargl\":[{\"type\":\"scatterpolargl\",\"marker\":{\"colorbar\":{\"outlinewidth\":0,\"ticks\":\"\"}}}],\"bar\":[{\"error_x\":{\"color\":\"#2a3f5f\"},\"error_y\":{\"color\":\"#2a3f5f\"},\"marker\":{\"line\":{\"color\":\"#E5ECF6\",\"width\":0.5},\"pattern\":{\"fillmode\":\"overlay\",\"size\":10,\"solidity\":0.2}},\"type\":\"bar\"}],\"scattergeo\":[{\"type\":\"scattergeo\",\"marker\":{\"colorbar\":{\"outlinewidth\":0,\"ticks\":\"\"}}}],\"scatterpolar\":[{\"type\":\"scatterpolar\",\"marker\":{\"colorbar\":{\"outlinewidth\":0,\"ticks\":\"\"}}}],\"histogram\":[{\"marker\":{\"pattern\":{\"fillmode\":\"overlay\",\"size\":10,\"solidity\":0.2}},\"type\":\"histogram\"}],\"scattergl\":[{\"type\":\"scattergl\",\"marker\":{\"colorbar\":{\"outlinewidth\":0,\"ticks\":\"\"}}}],\"scatter3d\":[{\"type\":\"scatter3d\",\"line\":{\"colorbar\":{\"outlinewidth\":0,\"ticks\":\"\"}},\"marker\":{\"colorbar\":{\"outlinewidth\":0,\"ticks\":\"\"}}}],\"scattermap\":[{\"type\":\"scattermap\",\"marker\":{\"colorbar\":{\"outlinewidth\":0,\"ticks\":\"\"}}}],\"scattermapbox\":[{\"type\":\"scattermapbox\",\"marker\":{\"colorbar\":{\"outlinewidth\":0,\"ticks\":\"\"}}}],\"scatterternary\":[{\"type\":\"scatterternary\",\"marker\":{\"colorbar\":{\"outlinewidth\":0,\"ticks\":\"\"}}}],\"scattercarpet\":[{\"type\":\"scattercarpet\",\"marker\":{\"colorbar\":{\"outlinewidth\":0,\"ticks\":\"\"}}}],\"carpet\":[{\"aaxis\":{\"endlinecolor\":\"#2a3f5f\",\"gridcolor\":\"white\",\"linecolor\":\"white\",\"minorgridcolor\":\"white\",\"startlinecolor\":\"#2a3f5f\"},\"baxis\":{\"endlinecolor\":\"#2a3f5f\",\"gridcolor\":\"white\",\"linecolor\":\"white\",\"minorgridcolor\":\"white\",\"startlinecolor\":\"#2a3f5f\"},\"type\":\"carpet\"}],\"table\":[{\"cells\":{\"fill\":{\"color\":\"#EBF0F8\"},\"line\":{\"color\":\"white\"}},\"header\":{\"fill\":{\"color\":\"#C8D4E3\"},\"line\":{\"color\":\"white\"}},\"type\":\"table\"}],\"barpolar\":[{\"marker\":{\"line\":{\"color\":\"#E5ECF6\",\"width\":0.5},\"pattern\":{\"fillmode\":\"overlay\",\"size\":10,\"solidity\":0.2}},\"type\":\"barpolar\"}],\"pie\":[{\"automargin\":true,\"type\":\"pie\"}]},\"layout\":{\"autotypenumbers\":\"strict\",\"colorway\":[\"#636efa\",\"#EF553B\",\"#00cc96\",\"#ab63fa\",\"#FFA15A\",\"#19d3f3\",\"#FF6692\",\"#B6E880\",\"#FF97FF\",\"#FECB52\"],\"font\":{\"color\":\"#2a3f5f\"},\"hovermode\":\"closest\",\"hoverlabel\":{\"align\":\"left\"},\"paper_bgcolor\":\"white\",\"plot_bgcolor\":\"#E5ECF6\",\"polar\":{\"bgcolor\":\"#E5ECF6\",\"angularaxis\":{\"gridcolor\":\"white\",\"linecolor\":\"white\",\"ticks\":\"\"},\"radialaxis\":{\"gridcolor\":\"white\",\"linecolor\":\"white\",\"ticks\":\"\"}},\"ternary\":{\"bgcolor\":\"#E5ECF6\",\"aaxis\":{\"gridcolor\":\"white\",\"linecolor\":\"white\",\"ticks\":\"\"},\"baxis\":{\"gridcolor\":\"white\",\"linecolor\":\"white\",\"ticks\":\"\"},\"caxis\":{\"gridcolor\":\"white\",\"linecolor\":\"white\",\"ticks\":\"\"}},\"coloraxis\":{\"colorbar\":{\"outlinewidth\":0,\"ticks\":\"\"}},\"colorscale\":{\"sequential\":[[0.0,\"#0d0887\"],[0.1111111111111111,\"#46039f\"],[0.2222222222222222,\"#7201a8\"],[0.3333333333333333,\"#9c179e\"],[0.4444444444444444,\"#bd3786\"],[0.5555555555555556,\"#d8576b\"],[0.6666666666666666,\"#ed7953\"],[0.7777777777777778,\"#fb9f3a\"],[0.8888888888888888,\"#fdca26\"],[1.0,\"#f0f921\"]],\"sequentialminus\":[[0.0,\"#0d0887\"],[0.1111111111111111,\"#46039f\"],[0.2222222222222222,\"#7201a8\"],[0.3333333333333333,\"#9c179e\"],[0.4444444444444444,\"#bd3786\"],[0.5555555555555556,\"#d8576b\"],[0.6666666666666666,\"#ed7953\"],[0.7777777777777778,\"#fb9f3a\"],[0.8888888888888888,\"#fdca26\"],[1.0,\"#f0f921\"]],\"diverging\":[[0,\"#8e0152\"],[0.1,\"#c51b7d\"],[0.2,\"#de77ae\"],[0.3,\"#f1b6da\"],[0.4,\"#fde0ef\"],[0.5,\"#f7f7f7\"],[0.6,\"#e6f5d0\"],[0.7,\"#b8e186\"],[0.8,\"#7fbc41\"],[0.9,\"#4d9221\"],[1,\"#276419\"]]},\"xaxis\":{\"gridcolor\":\"white\",\"linecolor\":\"white\",\"ticks\":\"\",\"title\":{\"standoff\":15},\"zerolinecolor\":\"white\",\"automargin\":true,\"zerolinewidth\":2},\"yaxis\":{\"gridcolor\":\"white\",\"linecolor\":\"white\",\"ticks\":\"\",\"title\":{\"standoff\":15},\"zerolinecolor\":\"white\",\"automargin\":true,\"zerolinewidth\":2},\"scene\":{\"xaxis\":{\"backgroundcolor\":\"#E5ECF6\",\"gridcolor\":\"white\",\"linecolor\":\"white\",\"showbackground\":true,\"ticks\":\"\",\"zerolinecolor\":\"white\",\"gridwidth\":2},\"yaxis\":{\"backgroundcolor\":\"#E5ECF6\",\"gridcolor\":\"white\",\"linecolor\":\"white\",\"showbackground\":true,\"ticks\":\"\",\"zerolinecolor\":\"white\",\"gridwidth\":2},\"zaxis\":{\"backgroundcolor\":\"#E5ECF6\",\"gridcolor\":\"white\",\"linecolor\":\"white\",\"showbackground\":true,\"ticks\":\"\",\"zerolinecolor\":\"white\",\"gridwidth\":2}},\"shapedefaults\":{\"line\":{\"color\":\"#2a3f5f\"}},\"annotationdefaults\":{\"arrowcolor\":\"#2a3f5f\",\"arrowhead\":0,\"arrowwidth\":1},\"geo\":{\"bgcolor\":\"white\",\"landcolor\":\"#E5ECF6\",\"subunitcolor\":\"white\",\"showland\":true,\"showlakes\":true,\"lakecolor\":\"white\"},\"title\":{\"x\":0.05},\"mapbox\":{\"style\":\"light\"}}},\"geo\":{\"domain\":{\"x\":[0.0,1.0],\"y\":[0.0,1.0]},\"center\":{},\"scope\":\"africa\"},\"coloraxis\":{\"colorbar\":{\"title\":{\"text\":\"Pop. requiring PC\"}},\"colorscale\":[[0.0,\"#440154\"],[0.1111111111111111,\"#482878\"],[0.2222222222222222,\"#3e4989\"],[0.3333333333333333,\"#31688e\"],[0.4444444444444444,\"#26828e\"],[0.5555555555555556,\"#1f9e89\"],[0.6666666666666666,\"#35b779\"],[0.7777777777777778,\"#6ece58\"],[0.8888888888888888,\"#b5de2b\"],[1.0,\"#fde725\"]],\"cmin\":0,\"cmax\":139910337.0},\"legend\":{\"tracegroupgap\":0},\"title\":{\"text\":\"LF: Population Requiring Preventive Chemotherapy Over Time\"},\"updatemenus\":[{\"buttons\":[{\"args\":[null,{\"frame\":{\"duration\":500,\"redraw\":true},\"mode\":\"immediate\",\"fromcurrent\":true,\"transition\":{\"duration\":500,\"easing\":\"linear\"}}],\"label\":\"&#9654;\",\"method\":\"animate\"},{\"args\":[[null],{\"frame\":{\"duration\":0,\"redraw\":true},\"mode\":\"immediate\",\"fromcurrent\":true,\"transition\":{\"duration\":0,\"easing\":\"linear\"}}],\"label\":\"&#9724;\",\"method\":\"animate\"}],\"direction\":\"left\",\"pad\":{\"r\":10,\"t\":70},\"showactive\":false,\"type\":\"buttons\",\"x\":0.1,\"xanchor\":\"right\",\"y\":0,\"yanchor\":\"top\"}],\"sliders\":[{\"active\":0,\"currentvalue\":{\"prefix\":\"Year=\"},\"len\":0.9,\"pad\":{\"b\":10,\"t\":60},\"steps\":[{\"args\":[[\"2000\"],{\"frame\":{\"duration\":0,\"redraw\":true},\"mode\":\"immediate\",\"fromcurrent\":true,\"transition\":{\"duration\":0,\"easing\":\"linear\"}}],\"label\":\"2000\",\"method\":\"animate\"},{\"args\":[[\"2001\"],{\"frame\":{\"duration\":0,\"redraw\":true},\"mode\":\"immediate\",\"fromcurrent\":true,\"transition\":{\"duration\":0,\"easing\":\"linear\"}}],\"label\":\"2001\",\"method\":\"animate\"},{\"args\":[[\"2002\"],{\"frame\":{\"duration\":0,\"redraw\":true},\"mode\":\"immediate\",\"fromcurrent\":true,\"transition\":{\"duration\":0,\"easing\":\"linear\"}}],\"label\":\"2002\",\"method\":\"animate\"},{\"args\":[[\"2003\"],{\"frame\":{\"duration\":0,\"redraw\":true},\"mode\":\"immediate\",\"fromcurrent\":true,\"transition\":{\"duration\":0,\"easing\":\"linear\"}}],\"label\":\"2003\",\"method\":\"animate\"},{\"args\":[[\"2004\"],{\"frame\":{\"duration\":0,\"redraw\":true},\"mode\":\"immediate\",\"fromcurrent\":true,\"transition\":{\"duration\":0,\"easing\":\"linear\"}}],\"label\":\"2004\",\"method\":\"animate\"},{\"args\":[[\"2005\"],{\"frame\":{\"duration\":0,\"redraw\":true},\"mode\":\"immediate\",\"fromcurrent\":true,\"transition\":{\"duration\":0,\"easing\":\"linear\"}}],\"label\":\"2005\",\"method\":\"animate\"},{\"args\":[[\"2006\"],{\"frame\":{\"duration\":0,\"redraw\":true},\"mode\":\"immediate\",\"fromcurrent\":true,\"transition\":{\"duration\":0,\"easing\":\"linear\"}}],\"label\":\"2006\",\"method\":\"animate\"},{\"args\":[[\"2007\"],{\"frame\":{\"duration\":0,\"redraw\":true},\"mode\":\"immediate\",\"fromcurrent\":true,\"transition\":{\"duration\":0,\"easing\":\"linear\"}}],\"label\":\"2007\",\"method\":\"animate\"},{\"args\":[[\"2008\"],{\"frame\":{\"duration\":0,\"redraw\":true},\"mode\":\"immediate\",\"fromcurrent\":true,\"transition\":{\"duration\":0,\"easing\":\"linear\"}}],\"label\":\"2008\",\"method\":\"animate\"},{\"args\":[[\"2009\"],{\"frame\":{\"duration\":0,\"redraw\":true},\"mode\":\"immediate\",\"fromcurrent\":true,\"transition\":{\"duration\":0,\"easing\":\"linear\"}}],\"label\":\"2009\",\"method\":\"animate\"},{\"args\":[[\"2010\"],{\"frame\":{\"duration\":0,\"redraw\":true},\"mode\":\"immediate\",\"fromcurrent\":true,\"transition\":{\"duration\":0,\"easing\":\"linear\"}}],\"label\":\"2010\",\"method\":\"animate\"},{\"args\":[[\"2011\"],{\"frame\":{\"duration\":0,\"redraw\":true},\"mode\":\"immediate\",\"fromcurrent\":true,\"transition\":{\"duration\":0,\"easing\":\"linear\"}}],\"label\":\"2011\",\"method\":\"animate\"},{\"args\":[[\"2012\"],{\"frame\":{\"duration\":0,\"redraw\":true},\"mode\":\"immediate\",\"fromcurrent\":true,\"transition\":{\"duration\":0,\"easing\":\"linear\"}}],\"label\":\"2012\",\"method\":\"animate\"},{\"args\":[[\"2013\"],{\"frame\":{\"duration\":0,\"redraw\":true},\"mode\":\"immediate\",\"fromcurrent\":true,\"transition\":{\"duration\":0,\"easing\":\"linear\"}}],\"label\":\"2013\",\"method\":\"animate\"},{\"args\":[[\"2014\"],{\"frame\":{\"duration\":0,\"redraw\":true},\"mode\":\"immediate\",\"fromcurrent\":true,\"transition\":{\"duration\":0,\"easing\":\"linear\"}}],\"label\":\"2014\",\"method\":\"animate\"},{\"args\":[[\"2015\"],{\"frame\":{\"duration\":0,\"redraw\":true},\"mode\":\"immediate\",\"fromcurrent\":true,\"transition\":{\"duration\":0,\"easing\":\"linear\"}}],\"label\":\"2015\",\"method\":\"animate\"},{\"args\":[[\"2016\"],{\"frame\":{\"duration\":0,\"redraw\":true},\"mode\":\"immediate\",\"fromcurrent\":true,\"transition\":{\"duration\":0,\"easing\":\"linear\"}}],\"label\":\"2016\",\"method\":\"animate\"},{\"args\":[[\"2017\"],{\"frame\":{\"duration\":0,\"redraw\":true},\"mode\":\"immediate\",\"fromcurrent\":true,\"transition\":{\"duration\":0,\"easing\":\"linear\"}}],\"label\":\"2017\",\"method\":\"animate\"},{\"args\":[[\"2018\"],{\"frame\":{\"duration\":0,\"redraw\":true},\"mode\":\"immediate\",\"fromcurrent\":true,\"transition\":{\"duration\":0,\"easing\":\"linear\"}}],\"label\":\"2018\",\"method\":\"animate\"},{\"args\":[[\"2019\"],{\"frame\":{\"duration\":0,\"redraw\":true},\"mode\":\"immediate\",\"fromcurrent\":true,\"transition\":{\"duration\":0,\"easing\":\"linear\"}}],\"label\":\"2019\",\"method\":\"animate\"},{\"args\":[[\"2020\"],{\"frame\":{\"duration\":0,\"redraw\":true},\"mode\":\"immediate\",\"fromcurrent\":true,\"transition\":{\"duration\":0,\"easing\":\"linear\"}}],\"label\":\"2020\",\"method\":\"animate\"},{\"args\":[[\"2021\"],{\"frame\":{\"duration\":0,\"redraw\":true},\"mode\":\"immediate\",\"fromcurrent\":true,\"transition\":{\"duration\":0,\"easing\":\"linear\"}}],\"label\":\"2021\",\"method\":\"animate\"},{\"args\":[[\"2022\"],{\"frame\":{\"duration\":0,\"redraw\":true},\"mode\":\"immediate\",\"fromcurrent\":true,\"transition\":{\"duration\":0,\"easing\":\"linear\"}}],\"label\":\"2022\",\"method\":\"animate\"},{\"args\":[[\"2023\"],{\"frame\":{\"duration\":0,\"redraw\":true},\"mode\":\"immediate\",\"fromcurrent\":true,\"transition\":{\"duration\":0,\"easing\":\"linear\"}}],\"label\":\"2023\",\"method\":\"animate\"}],\"x\":0.1,\"xanchor\":\"left\",\"y\":0,\"yanchor\":\"top\"}],\"margin\":{\"r\":0,\"t\":40,\"l\":0,\"b\":0}},                        {\"responsive\": true}                    ).then(function(){\n",
       "                            Plotly.addFrames('2bd7301d-2ca1-4634-ac51-12bc603af940', [{\"data\":[{\"coloraxis\":\"coloraxis\",\"geo\":\"geo\",\"hovertemplate\":\"\\u003cb\\u003e%{hovertext}\\u003c\\u002fb\\u003e\\u003cbr\\u003e\\u003cbr\\u003eYear=2000\\u003cbr\\u003eCountryCode=%{location}\\u003cbr\\u003ePop. requiring PC=%{z}\\u003cextra\\u003e\\u003c\\u002fextra\\u003e\",\"hovertext\":[\"TGO\",\"GHA\",\"NGA\",\"TZA\"],\"locations\":[\"TGO\",\"GHA\",\"NGA\",\"TZA\"],\"name\":\"\",\"z\":{\"dtype\":\"f8\",\"bdata\":\"AAAAAABqOEEAAAAAgIROQQAAAADQEpNBAAAAABj7ZEE=\"},\"type\":\"choropleth\"}],\"name\":\"2000\"},{\"data\":[{\"coloraxis\":\"coloraxis\",\"geo\":\"geo\",\"hovertemplate\":\"\\u003cb\\u003e%{hovertext}\\u003c\\u002fb\\u003e\\u003cbr\\u003e\\u003cbr\\u003eYear=2001\\u003cbr\\u003eCountryCode=%{location}\\u003cbr\\u003ePop. requiring PC=%{z}\\u003cextra\\u003e\\u003c\\u002fextra\\u003e\",\"hovertext\":[\"GHA\",\"NGA\",\"COM\",\"TGO\",\"BFA\",\"TZA\"],\"locations\":[\"GHA\",\"NGA\",\"COM\",\"TGO\",\"BFA\",\"TZA\"],\"name\":\"\",\"z\":{\"dtype\":\"f8\",\"bdata\":\"AAAAgM\\u002fyVkEAAAAA0BKTQQAAAADo2BtBAAAAABDMMEEAAAAAYONmQQAAAABkNoBB\"},\"type\":\"choropleth\"}],\"name\":\"2001\"},{\"data\":[{\"coloraxis\":\"coloraxis\",\"geo\":\"geo\",\"hovertemplate\":\"\\u003cb\\u003e%{hovertext}\\u003c\\u002fb\\u003e\\u003cbr\\u003e\\u003cbr\\u003eYear=2002\\u003cbr\\u003eCountryCode=%{location}\\u003cbr\\u003ePop. requiring PC=%{z}\\u003cextra\\u003e\\u003c\\u002fextra\\u003e\",\"hovertext\":[\"COM\",\"TGO\",\"GHA\",\"UGA\",\"KEN\",\"TZA\",\"BFA\",\"NGA\",\"BEN\"],\"locations\":[\"COM\",\"TGO\",\"GHA\",\"UGA\",\"KEN\",\"TZA\",\"BFA\",\"NGA\",\"BEN\"],\"name\":\"\",\"z\":{\"dtype\":\"f8\",\"bdata\":\"AAAAAOjYG0EAAAAArSUxQQAAAIDP8lZBAAAAIAy1Z0EAAAAAgcpGQQAAAABkNoBBAAAAgANnaEEAAAAA0BKTQQAAAAA4K0pB\"},\"type\":\"choropleth\"}],\"name\":\"2002\"},{\"data\":[{\"coloraxis\":\"coloraxis\",\"geo\":\"geo\",\"hovertemplate\":\"\\u003cb\\u003e%{hovertext}\\u003c\\u002fb\\u003e\\u003cbr\\u003e\\u003cbr\\u003eYear=2003\\u003cbr\\u003eCountryCode=%{location}\\u003cbr\\u003ePop. requiring PC=%{z}\\u003cextra\\u003e\\u003c\\u002fextra\\u003e\",\"hovertext\":[\"BFA\",\"BEN\",\"TGO\",\"NGA\",\"KEN\",\"GHA\",\"COM\",\"TZA\",\"UGA\"],\"locations\":[\"BFA\",\"BEN\",\"TGO\",\"NGA\",\"KEN\",\"GHA\",\"COM\",\"TZA\",\"UGA\"],\"name\":\"\",\"z\":{\"dtype\":\"f8\",\"bdata\":\"AAAAoG8EaUEAAAAAOCtKQQAAAADZLjBBAAAAANASk0EAAAAAgcpGQQAAAABg41ZBAAAAAAKmIEEAAAAAZDaAQQAAACAMtWdB\"},\"type\":\"choropleth\"}],\"name\":\"2003\"},{\"data\":[{\"coloraxis\":\"coloraxis\",\"geo\":\"geo\",\"hovertemplate\":\"\\u003cb\\u003e%{hovertext}\\u003c\\u002fb\\u003e\\u003cbr\\u003e\\u003cbr\\u003eYear=2004\\u003cbr\\u003eCountryCode=%{location}\\u003cbr\\u003ePop. requiring PC=%{z}\\u003cextra\\u003e\\u003c\\u002fextra\\u003e\",\"hovertext\":[\"BFA\",\"COM\",\"TGO\",\"KEN\",\"BEN\",\"NGA\",\"UGA\",\"GHA\",\"TZA\"],\"locations\":[\"BFA\",\"COM\",\"TGO\",\"KEN\",\"BEN\",\"NGA\",\"UGA\",\"GHA\",\"TZA\"],\"name\":\"\",\"z\":{\"dtype\":\"f8\",\"bdata\":\"AAAAoKoqaUEAAAAAAqYgQQAAAAAROTBBAAAAAIHKRkEAAAAAV6RQQQAAAADQEpNBAAAAIAy1Z0EAAACA+XZjQQAAAABkNoBB\"},\"type\":\"choropleth\"}],\"name\":\"2004\"},{\"data\":[{\"coloraxis\":\"coloraxis\",\"geo\":\"geo\",\"hovertemplate\":\"\\u003cb\\u003e%{hovertext}\\u003c\\u002fb\\u003e\\u003cbr\\u003e\\u003cbr\\u003eYear=2005\\u003cbr\\u003eCountryCode=%{location}\\u003cbr\\u003ePop. requiring PC=%{z}\\u003cextra\\u003e\\u003c\\u002fextra\\u003e\",\"hovertext\":[\"COM\",\"UGA\",\"BFA\",\"KEN\",\"TGO\",\"MDG\",\"GHA\",\"MLI\",\"TZA\",\"NGA\",\"BEN\"],\"locations\":[\"COM\",\"UGA\",\"BFA\",\"KEN\",\"TGO\",\"MDG\",\"GHA\",\"MLI\",\"TZA\",\"NGA\",\"BEN\"],\"name\":\"\",\"z\":{\"dtype\":\"f8\",\"bdata\":\"AAAAABZ2IUEAAAAgDLVnQQAAAKDq62lBAAAAAIHKRkEAAAAAuT4wQQAAAAB0LW5BAAAAgPl2Y0EAAABgeMJlQQAAAADZRYBBAAAAANASk0EAAAAAZ09SQQ==\"},\"type\":\"choropleth\"}],\"name\":\"2005\"},{\"data\":[{\"coloraxis\":\"coloraxis\",\"geo\":\"geo\",\"hovertemplate\":\"\\u003cb\\u003e%{hovertext}\\u003c\\u002fb\\u003e\\u003cbr\\u003e\\u003cbr\\u003eYear=2006\\u003cbr\\u003eCountryCode=%{location}\\u003cbr\\u003ePop. requiring PC=%{z}\\u003cextra\\u003e\\u003c\\u002fextra\\u003e\",\"hovertext\":[\"NGA\",\"TGO\",\"GHA\",\"UGA\",\"MDG\",\"BEN\",\"TZA\",\"BFA\",\"MLI\",\"COM\",\"KEN\"],\"locations\":[\"NGA\",\"TGO\",\"GHA\",\"UGA\",\"MDG\",\"BEN\",\"TZA\",\"BFA\",\"MLI\",\"COM\",\"KEN\"],\"name\":\"\",\"z\":{\"dtype\":\"f8\",\"bdata\":\"AAAAANASk0EAAAAA2BAxQQAAAOAmDGRBAAAAIAy1Z0EAAAAAdC1uQQAAAABnT1JBAAAAgI9fgkEAAADgHpZqQQAAAGC1dWdBAAAAABZ2IUEAAAAAgcpGQQ==\"},\"type\":\"choropleth\"}],\"name\":\"2006\"},{\"data\":[{\"coloraxis\":\"coloraxis\",\"geo\":\"geo\",\"hovertemplate\":\"\\u003cb\\u003e%{hovertext}\\u003c\\u002fb\\u003e\\u003cbr\\u003e\\u003cbr\\u003eYear=2007\\u003cbr\\u003eCountryCode=%{location}\\u003cbr\\u003ePop. requiring PC=%{z}\\u003cextra\\u003e\\u003c\\u002fextra\\u003e\",\"hovertext\":[\"BEN\",\"TZA\",\"MLI\",\"SEN\",\"MDG\",\"KEN\",\"COM\",\"TGO\",\"NER\",\"SLE\",\"BFA\",\"UGA\",\"GHA\",\"NGA\"],\"locations\":[\"BEN\",\"TZA\",\"MLI\",\"SEN\",\"MDG\",\"KEN\",\"COM\",\"TGO\",\"NER\",\"SLE\",\"BFA\",\"UGA\",\"GHA\",\"NGA\"],\"name\":\"\",\"z\":{\"dtype\":\"f8\",\"bdata\":\"AAAAAGdPUkEAAACYwtGBQQAAAEA6x2hBAAAAAAQ1UEEAAAAAdC1uQQAAAACjIUdBAAAAAPhgH0EAAAAAf+gxQQAAAKDuIWRBAAAAgF7zUkEAAABA9VZrQQAAAEBRfWhBAAAA4CYMZEEAAAAA0BKTQQ==\"},\"type\":\"choropleth\"}],\"name\":\"2007\"},{\"data\":[{\"coloraxis\":\"coloraxis\",\"geo\":\"geo\",\"hovertemplate\":\"\\u003cb\\u003e%{hovertext}\\u003c\\u002fb\\u003e\\u003cbr\\u003e\\u003cbr\\u003eYear=2008\\u003cbr\\u003eCountryCode=%{location}\\u003cbr\\u003ePop. requiring PC=%{z}\\u003cextra\\u003e\\u003c\\u002fextra\\u003e\",\"hovertext\":[\"COM\",\"TGO\",\"TZA\",\"UGA\",\"NGA\",\"SLE\",\"MWI\",\"BFA\",\"MLI\",\"KEN\",\"SEN\",\"BEN\",\"NER\",\"GHA\",\"CMR\",\"MDG\"],\"locations\":[\"COM\",\"TGO\",\"TZA\",\"UGA\",\"NGA\",\"SLE\",\"MWI\",\"BFA\",\"MLI\",\"KEN\",\"SEN\",\"BEN\",\"NER\",\"GHA\",\"CMR\",\"MDG\"],\"name\":\"\",\"z\":{\"dtype\":\"f8\",\"bdata\":\"AAAAAPhgH0EAAAAARWQyQQAAAIgVRoNBAAAAoMdMaUEAAACI4C+OQQAAAIATS1RBAAAAAJqUaEEAAAAgUWVtQQAAACA3bmlBAAAAAKMhR0EAAAAACkZUQQAAAABnJlRBAAAAoGXAY0EAAACgxrNlQQAAAADdSGtBAAAAAI6VcEE=\"},\"type\":\"choropleth\"}],\"name\":\"2008\"},{\"data\":[{\"coloraxis\":\"coloraxis\",\"geo\":\"geo\",\"hovertemplate\":\"\\u003cb\\u003e%{hovertext}\\u003c\\u002fb\\u003e\\u003cbr\\u003e\\u003cbr\\u003eYear=2009\\u003cbr\\u003eCountryCode=%{location}\\u003cbr\\u003ePop. requiring PC=%{z}\\u003cextra\\u003e\\u003c\\u002fextra\\u003e\",\"hovertext\":[\"MUS\",\"RWA\",\"COM\",\"NER\",\"STP\",\"MLI\",\"NGA\",\"MWI\",\"COG\",\"MOZ\",\"GMB\",\"GAB\",\"UGA\",\"SEN\",\"COD\",\"LBR\",\"KEN\",\"SYC\",\"GNB\",\"GNQ\",\"TGO\",\"SLE\",\"GIN\",\"ERI\",\"GHA\",\"MDG\",\"CIV\",\"AGO\",\"ETH\",\"TZA\",\"ZWE\",\"CPV\",\"CMR\",\"BFA\",\"TCD\",\"ZMB\",\"BDI\",\"BEN\",\"CAF\"],\"locations\":[\"MUS\",\"RWA\",\"COM\",\"NER\",\"STP\",\"MLI\",\"NGA\",\"MWI\",\"COG\",\"MOZ\",\"GMB\",\"GAB\",\"UGA\",\"SEN\",\"COD\",\"LBR\",\"KEN\",\"SYC\",\"GNB\",\"GNQ\",\"TGO\",\"SLE\",\"GIN\",\"ERI\",\"GHA\",\"MDG\",\"CIV\",\"AGO\",\"ETH\",\"TZA\",\"ZWE\",\"CPV\",\"CMR\",\"BFA\",\"TCD\",\"ZMB\",\"BDI\",\"BEN\",\"CAF\"],\"name\":\"\",\"z\":{\"dtype\":\"f8\",\"bdata\":\"AAAAAAAA+H8AAAAAAAD4fwAAAAD4YB9BAAAAQD3eZUEAAAAAQAYZQQAAAABOUWpBAAAAWDDYkEEAAAAAmpRoQQAAAAAg1kNBAAAAQDajbUEAAAAAgE8yQQAAAABosTNBAAAAoMdMaUEAAAAACkZUQQAAAACJbodBAAAAAEB3S0EAAAAAoyFHQQAAAAAAAPh\\u002fAAAAAP0DNEEAAAAAgKIZQQAAAAAoLzJBAAAAgBNLVEEAAADA7yRXQQAAAABUSktBAAAAIC4aZkEAAADABB5xQQAAAADws2pBAAAAAFIPZ0EAAAAAOJx8QQAAAJjC0YFBAAAAAGDjVkEAAAAAAAD4fwAAAADdSGtBAAAAIFFlbUEAAAAAnLtbQQAAAAAcv2BBAAAAAAAA+H8AAAAAZyZUQQAAAABQLUlB\"},\"type\":\"choropleth\"}],\"name\":\"2009\"},{\"data\":[{\"coloraxis\":\"coloraxis\",\"geo\":\"geo\",\"hovertemplate\":\"\\u003cb\\u003e%{hovertext}\\u003c\\u002fb\\u003e\\u003cbr\\u003e\\u003cbr\\u003eYear=2010\\u003cbr\\u003eCountryCode=%{location}\\u003cbr\\u003ePop. requiring PC=%{z}\\u003cextra\\u003e\\u003c\\u002fextra\\u003e\",\"hovertext\":[\"ETH\",\"GAB\",\"CMR\",\"CAF\",\"ERI\",\"TGO\",\"CPV\",\"GNQ\",\"BDI\",\"ZMB\",\"GHA\",\"COD\",\"GMB\",\"SLE\",\"GNB\",\"AGO\",\"NGA\",\"NER\",\"MOZ\",\"MUS\",\"RWA\",\"STP\",\"MLI\",\"BEN\",\"MWI\",\"MDG\",\"ZWE\",\"SEN\",\"LBR\",\"BFA\",\"KEN\",\"SYC\",\"GIN\",\"UGA\",\"TZA\",\"COM\",\"TCD\",\"COG\",\"CIV\"],\"locations\":[\"ETH\",\"GAB\",\"CMR\",\"CAF\",\"ERI\",\"TGO\",\"CPV\",\"GNQ\",\"BDI\",\"ZMB\",\"GHA\",\"COD\",\"GMB\",\"SLE\",\"GNB\",\"AGO\",\"NGA\",\"NER\",\"MOZ\",\"MUS\",\"RWA\",\"STP\",\"MLI\",\"BEN\",\"MWI\",\"MDG\",\"ZWE\",\"SEN\",\"LBR\",\"BFA\",\"KEN\",\"SYC\",\"GIN\",\"UGA\",\"TZA\",\"COM\",\"TCD\",\"COG\",\"CIV\"],\"name\":\"\",\"z\":{\"dtype\":\"f8\",\"bdata\":\"AAAAADicfEEAAAAAaLEzQQAAAKBOCnBBAAAAAFAtSUEAAAAAVEpLQQAAAAAoLzJBAAAAAAAA+H8AAAAAgKIZQQAAAAAAAPh\\u002fAAAAABy\\u002fYEEAAADg8r5mQQAAAACJbodBAAAAAIBPMkEAAABAul9XQQAAAAD9AzRBAAAAAFIPZ0EAAACkGjaVQQAAAEA93mVBAAAAwE9TcEEAAAAAAAD4fwAAAAAAAPh\\u002fAAAAAEAGGUEAAABApq9sQQAAAABnJlRBAAAAwInraEEAAACwmL1xQQAAAABg41ZBAAAAAApGVEEAAAAAQHdLQQAAACBRZW1BAAAAAKMhR0EAAAAAAAD4fwAAAMDvJFdBAAAAAMkLbEEAAACYwtGBQQAAAAD4YB9BAAAAAJy7W0EAAAAAINZDQQAAAADws2pB\"},\"type\":\"choropleth\"}],\"name\":\"2010\"},{\"data\":[{\"coloraxis\":\"coloraxis\",\"geo\":\"geo\",\"hovertemplate\":\"\\u003cb\\u003e%{hovertext}\\u003c\\u002fb\\u003e\\u003cbr\\u003e\\u003cbr\\u003eYear=2011\\u003cbr\\u003eCountryCode=%{location}\\u003cbr\\u003ePop. requiring PC=%{z}\\u003cextra\\u003e\\u003c\\u002fextra\\u003e\",\"hovertext\":[\"GHA\",\"GNB\",\"GNQ\",\"MLI\",\"TGO\",\"BEN\",\"CMR\",\"CAF\",\"ERI\",\"TCD\",\"MWI\",\"ZMB\",\"COG\",\"ETH\",\"GMB\",\"BFA\",\"MDG\",\"KEN\",\"ZWE\",\"SEN\",\"GAB\",\"COM\",\"STP\",\"LBR\",\"UGA\",\"MOZ\",\"NGA\",\"CIV\",\"NER\",\"GIN\",\"COD\",\"AGO\",\"TZA\",\"SLE\"],\"locations\":[\"GHA\",\"GNB\",\"GNQ\",\"MLI\",\"TGO\",\"BEN\",\"CMR\",\"CAF\",\"ERI\",\"TCD\",\"MWI\",\"ZMB\",\"COG\",\"ETH\",\"GMB\",\"BFA\",\"MDG\",\"KEN\",\"ZWE\",\"SEN\",\"GAB\",\"COM\",\"STP\",\"LBR\",\"UGA\",\"MOZ\",\"NGA\",\"CIV\",\"NER\",\"GIN\",\"COD\",\"AGO\",\"TZA\",\"SLE\"],\"name\":\"\",\"z\":{\"dtype\":\"f8\",\"bdata\":\"AAAAYMYsZ0EAAAAAoCU4QQAAAACAohlBAAAAQPzVbkEAAAAAKC8yQQAAAMDgK1ZBAAAAICDNb0EAAAAAUC1JQQAAAABUSktBAAAAAJy7W0EAAACgv+ZqQQAAAAAcv2BBAAAAACDWQ0EAAAAAOJx8QQAAAACATzJBAAAAQEKbb0EAAACwmL1xQQAAAIAWG0pBAAAAAGDjVkEAAAAACkZUQQAAAABosTNBAAAAAPhgH0EAAAAAQAYZQQAAAABAd0tBAAAAAEEXa0EAAABQdFJwQQAAADRZTZlBAAAAAPCzakEAAAAgsyJmQQAAAMDvJFdBAAAAAIluh0EAAAAAUg9nQQAAAEDD9YRBAAAAQMoUWEE=\"},\"type\":\"choropleth\"}],\"name\":\"2011\"},{\"data\":[{\"coloraxis\":\"coloraxis\",\"geo\":\"geo\",\"hovertemplate\":\"\\u003cb\\u003e%{hovertext}\\u003c\\u002fb\\u003e\\u003cbr\\u003e\\u003cbr\\u003eYear=2012\\u003cbr\\u003eCountryCode=%{location}\\u003cbr\\u003ePop. requiring PC=%{z}\\u003cextra\\u003e\\u003c\\u002fextra\\u003e\",\"hovertext\":[\"AGO\",\"GAB\",\"BFA\",\"MWI\",\"GIN\",\"NGA\",\"ZMB\",\"GMB\",\"ETH\",\"KEN\",\"STP\",\"SEN\",\"MDG\",\"ZWE\",\"TZA\",\"MOZ\",\"COG\",\"MLI\",\"UGA\",\"TGO\",\"TCD\",\"CIV\",\"LBR\",\"NER\",\"GNB\",\"SLE\",\"GHA\",\"COM\",\"CAF\",\"CMR\",\"COD\",\"ERI\",\"BEN\",\"GNQ\"],\"locations\":[\"AGO\",\"GAB\",\"BFA\",\"MWI\",\"GIN\",\"NGA\",\"ZMB\",\"GMB\",\"ETH\",\"KEN\",\"STP\",\"SEN\",\"MDG\",\"ZWE\",\"TZA\",\"MOZ\",\"COG\",\"MLI\",\"UGA\",\"TGO\",\"TCD\",\"CIV\",\"LBR\",\"NER\",\"GNB\",\"SLE\",\"GHA\",\"COM\",\"CAF\",\"CMR\",\"COD\",\"ERI\",\"BEN\",\"GNQ\"],\"name\":\"\",\"z\":{\"dtype\":\"f8\",\"bdata\":\"AAAAAFIPZ0EAAAAAaLEzQQAAAIB8AHBBAAAAoFA+bEEAAADA7yRXQQAAALTs35lBAAAAABy\\u002fYEEAAAAAgE8yQQAAAAA4nHxBAAAAgBYbSkEAAAAAQAYZQQAAAAAKRlRBAAAAsJi9cUEAAAAAYONWQQAAABhQioVBAAAAUHRScEEAAAAAINZDQQAAAED81W5BAAAAgJ6Wa0EAAAAAKC8yQQAAAACcu1tBAAAAAPCzakEAAAAAQHdLQQAAAACxx2dBAAAAAKAlOEEAAADAaW9ZQQAAAODyvmZBAAAAAPhgH0EAAAAAUC1JQQAAANC4THBBAAAAAIluh0EAAAAAVEpLQQAAAIAkmExBAAAAAICiGUE=\"},\"type\":\"choropleth\"}],\"name\":\"2012\"},{\"data\":[{\"coloraxis\":\"coloraxis\",\"geo\":\"geo\",\"hovertemplate\":\"\\u003cb\\u003e%{hovertext}\\u003c\\u002fb\\u003e\\u003cbr\\u003e\\u003cbr\\u003eYear=2013\\u003cbr\\u003eCountryCode=%{location}\\u003cbr\\u003ePop. requiring PC=%{z}\\u003cextra\\u003e\\u003c\\u002fextra\\u003e\",\"hovertext\":[\"SEN\",\"KEN\",\"GHA\",\"CMR\",\"GNB\",\"COG\",\"TCD\",\"GMB\",\"SLE\",\"GIN\",\"SSD\",\"BFA\",\"CIV\",\"GAB\",\"AGO\",\"NGA\",\"COD\",\"NER\",\"TZA\",\"MOZ\",\"TGO\",\"UGA\",\"GNQ\",\"MLI\",\"COM\",\"CAF\",\"BEN\",\"ERI\",\"ZMB\",\"MWI\",\"STP\",\"ETH\",\"LBR\",\"MDG\",\"ZWE\"],\"locations\":[\"SEN\",\"KEN\",\"GHA\",\"CMR\",\"GNB\",\"COG\",\"TCD\",\"GMB\",\"SLE\",\"GIN\",\"SSD\",\"BFA\",\"CIV\",\"GAB\",\"AGO\",\"NGA\",\"COD\",\"NER\",\"TZA\",\"MOZ\",\"TGO\",\"UGA\",\"GNQ\",\"MLI\",\"COM\",\"CAF\",\"BEN\",\"ERI\",\"ZMB\",\"MWI\",\"STP\",\"ETH\",\"LBR\",\"MDG\",\"ZWE\"],\"name\":\"\",\"z\":{\"dtype\":\"f8\",\"bdata\":\"AAAAAHf0XkEAAACAFhtKQQAAAEC1hmNBAAAA0LhMcEEAAAAASHY5QQAAAAAg1kNBAAAAAJy7W0EAAAAAgE8yQQAAAABQBFpBAAAAwO8kV0EAAAAAplI5QQAAACAHA2lBAAAAgI+icEEAAAAAaLEzQQAAAABSD2dBAAAAUHw\\u002fm0EAAAAAiW6HQQAAAEC7CmhBAAAAIKoGg0EAAADA0+dwQQAAAAAoLzJBAAAAQIBfbEEAAAAAgKIZQQAAAIDUgXBBAAAAAPhgH0EAAAAAUC1JQQAAAIAkmExBAAAAAFRKS0EAAAAAHL9gQQAAACALl2xBAAAAAEAGGUEAAAAAOJx8QQAAAAABa0ZBAAAAIN\\u002f1cEEAAAAAYONWQQ==\"},\"type\":\"choropleth\"}],\"name\":\"2013\"},{\"data\":[{\"coloraxis\":\"coloraxis\",\"geo\":\"geo\",\"hovertemplate\":\"\\u003cb\\u003e%{hovertext}\\u003c\\u002fb\\u003e\\u003cbr\\u003e\\u003cbr\\u003eYear=2014\\u003cbr\\u003eCountryCode=%{location}\\u003cbr\\u003ePop. requiring PC=%{z}\\u003cextra\\u003e\\u003c\\u002fextra\\u003e\",\"hovertext\":[\"BFA\",\"SEN\",\"AGO\",\"KEN\",\"GIN\",\"NER\",\"LBR\",\"MOZ\",\"BEN\",\"ZWE\",\"MLI\",\"MDG\",\"STP\",\"TCD\",\"MWI\",\"NGA\",\"COM\",\"GNB\",\"GMB\",\"UGA\",\"TZA\",\"GAB\",\"COG\",\"CMR\",\"COD\",\"GHA\",\"CAF\",\"ERI\",\"TGO\",\"ZMB\",\"SLE\",\"SSD\",\"ETH\",\"CIV\",\"GNQ\"],\"locations\":[\"BFA\",\"SEN\",\"AGO\",\"KEN\",\"GIN\",\"NER\",\"LBR\",\"MOZ\",\"BEN\",\"ZWE\",\"MLI\",\"MDG\",\"STP\",\"TCD\",\"MWI\",\"NGA\",\"COM\",\"GNB\",\"GMB\",\"UGA\",\"TZA\",\"GAB\",\"COG\",\"CMR\",\"COD\",\"GHA\",\"CAF\",\"ERI\",\"TGO\",\"ZMB\",\"SLE\",\"SSD\",\"ETH\",\"CIV\",\"GNQ\"],\"name\":\"\",\"z\":{\"dtype\":\"f8\",\"bdata\":\"AAAA4KE4ZkEAAABAkNtfQQAAAABSD2dBAAAAAN99S0EAAADA7yRXQQAAACBthmNBAAAAAAFrRkEAAACg0F9xQQAAAIB+vUxBAAAAAGDjVkEAAACw40xwQQAAALDRf3FBAAAAABDJB0EAAAAAnLtbQQAAACALl2xBAAAAgG6SnEEAAAAA+GAfQQAAAABIdjlBAAAAAIBPMkEAAAAgRqhqQQAAAEB2d3pBAAAAAGixM0EAAAAAINZDQQAAAIDpg25BAAAAiBmmgUEAAACAagloQQAAAABQLUlBAAAAACBN9UAAAAAAKC8yQQAAAAAcv2BBAAAAAFAEWkEAAAAAplI5QQAAAKCC+GRBAAAA4GOUcEEAAAAAgKIZQQ==\"},\"type\":\"choropleth\"}],\"name\":\"2014\"},{\"data\":[{\"coloraxis\":\"coloraxis\",\"geo\":\"geo\",\"hovertemplate\":\"\\u003cb\\u003e%{hovertext}\\u003c\\u002fb\\u003e\\u003cbr\\u003e\\u003cbr\\u003eYear=2015\\u003cbr\\u003eCountryCode=%{location}\\u003cbr\\u003ePop. requiring PC=%{z}\\u003cextra\\u003e\\u003c\\u002fextra\\u003e\",\"hovertext\":[\"SSD\",\"CAF\",\"GNQ\",\"KEN\",\"SLE\",\"SEN\",\"ERI\",\"MLI\",\"GAB\",\"MWI\",\"LBR\",\"COM\",\"BEN\",\"STP\",\"MDG\",\"ZMB\",\"UGA\",\"TCD\",\"TZA\",\"GMB\",\"COD\",\"COG\",\"ETH\",\"NGA\",\"GNB\",\"GHA\",\"MOZ\",\"AGO\",\"NER\",\"GIN\",\"ZWE\",\"TGO\",\"CIV\",\"BFA\",\"CMR\"],\"locations\":[\"SSD\",\"CAF\",\"GNQ\",\"KEN\",\"SLE\",\"SEN\",\"ERI\",\"MLI\",\"GAB\",\"MWI\",\"LBR\",\"COM\",\"BEN\",\"STP\",\"MDG\",\"ZMB\",\"UGA\",\"TCD\",\"TZA\",\"GMB\",\"COD\",\"COG\",\"ETH\",\"NGA\",\"GNB\",\"GHA\",\"MOZ\",\"AGO\",\"NER\",\"GIN\",\"ZWE\",\"TGO\",\"CIV\",\"BFA\",\"CMR\"],\"name\":\"\",\"z\":{\"dtype\":\"f8\",\"bdata\":\"AAAAAKZSOUEAAAAAUC1JQQAAAACAohlBAAAAACPlTUEAAABAb51aQQAAAEBNgV9BAAAAACAA8UAAAAAAA19uQQAAAABosTNBAAAAIAuXbEEAAAAAH0VFQQAAAAD4YB9BAAAAAAK\\u002fTUEAAAAAMPcGQQAAAOA98XFBAAAAIAIyZkEAAADALnJkQQAAAICFRkhBAAAAkIe2eUEAAAAAgE8yQQAAAIgZpoFBAAAAAEoLLkEAAADgSjJlQQAAAKCEopxBAAAAACfjN0EAAAAAGYRCQQAAAKDQX3FBAAAAAFIPZ0EAAAAA2sNkQQAAAMDEUVtBAAAAAJR7XEEAAAAAKC8yQQAAAJCIBXFBAAAAQFqcWUEAAADgly5wQQ==\"},\"type\":\"choropleth\"}],\"name\":\"2015\"},{\"data\":[{\"coloraxis\":\"coloraxis\",\"geo\":\"geo\",\"hovertemplate\":\"\\u003cb\\u003e%{hovertext}\\u003c\\u002fb\\u003e\\u003cbr\\u003e\\u003cbr\\u003eYear=2016\\u003cbr\\u003eCountryCode=%{location}\\u003cbr\\u003ePop. requiring PC=%{z}\\u003cextra\\u003e\\u003c\\u002fextra\\u003e\",\"hovertext\":[\"CIV\",\"AGO\",\"TZA\",\"BEN\",\"NER\",\"MDG\",\"STP\",\"COD\",\"MWI\",\"ERI\",\"NGA\",\"MOZ\",\"CAF\",\"ZWE\",\"GNQ\",\"TGO\",\"MLI\",\"UGA\",\"ETH\",\"SLE\",\"BFA\",\"COM\",\"GNB\",\"TCD\",\"GAB\",\"COG\",\"GIN\",\"ZMB\",\"GHA\",\"SSD\",\"KEN\",\"SEN\",\"CMR\",\"LBR\"],\"locations\":[\"CIV\",\"AGO\",\"TZA\",\"BEN\",\"NER\",\"MDG\",\"STP\",\"COD\",\"MWI\",\"ERI\",\"NGA\",\"MOZ\",\"CAF\",\"ZWE\",\"GNQ\",\"TGO\",\"MLI\",\"UGA\",\"ETH\",\"SLE\",\"BFA\",\"COM\",\"GNB\",\"TCD\",\"GAB\",\"COG\",\"GIN\",\"ZMB\",\"GHA\",\"SSD\",\"KEN\",\"SEN\",\"CMR\",\"LBR\"],\"name\":\"\",\"z\":{\"dtype\":\"f8\",\"bdata\":\"AAAAgOb1b0EAAABA3JVUQQAAAKCEUG9BAAAAAJvQRkEAAAAA2sNkQQAAADBB\\u002fXFBAAAAADD3BkEAAAAgxXiCQQAAACALl2xBAAAAACAA8UAAAAAoZmadQQAAAFDQPnNBAAAAAFAtSUEAAACAoEldQQAAAACAohlBAAAAACgvMkEAAACARX5xQQAAAMCQW1pBAAAAAK7xVUEAAAAAGTtbQQAAAECGXmBBAAAAAPhgH0EAAAAAegk6QQAAAICFRkhBAAAAADQhFUEAAAAA2GAtQQAAAMDEUVtBAAAAIMSMZUEAAAAAEFI7QQAAAACmUjlBAAAAAAIRTEEAAABA2EZgQQAAAOCXLnBBAAAAgG60REE=\"},\"type\":\"choropleth\"}],\"name\":\"2016\"},{\"data\":[{\"coloraxis\":\"coloraxis\",\"geo\":\"geo\",\"hovertemplate\":\"\\u003cb\\u003e%{hovertext}\\u003c\\u002fb\\u003e\\u003cbr\\u003e\\u003cbr\\u003eYear=2017\\u003cbr\\u003eCountryCode=%{location}\\u003cbr\\u003ePop. requiring PC=%{z}\\u003cextra\\u003e\\u003c\\u002fextra\\u003e\",\"hovertext\":[\"TZA\",\"TCD\",\"MLI\",\"BFA\",\"CIV\",\"GNB\",\"CAF\",\"KEN\",\"MOZ\",\"NGA\",\"COG\",\"COD\",\"ZMB\",\"GHA\",\"NER\",\"GIN\",\"ZWE\",\"GNQ\",\"ETH\",\"AGO\",\"SSD\",\"BEN\",\"LBR\",\"UGA\",\"MDG\",\"COM\",\"SLE\",\"ERI\",\"CMR\",\"SEN\",\"GAB\",\"STP\",\"MWI\"],\"locations\":[\"TZA\",\"TCD\",\"MLI\",\"BFA\",\"CIV\",\"GNB\",\"CAF\",\"KEN\",\"MOZ\",\"NGA\",\"COG\",\"COD\",\"ZMB\",\"GHA\",\"NER\",\"GIN\",\"ZWE\",\"GNQ\",\"ETH\",\"AGO\",\"SSD\",\"BEN\",\"LBR\",\"UGA\",\"MDG\",\"COM\",\"SLE\",\"ERI\",\"CMR\",\"SEN\",\"GAB\",\"STP\",\"MWI\"],\"name\":\"\",\"z\":{\"dtype\":\"f8\",\"bdata\":\"AAAAoNv5YkEAAABATkZRQQAAAAC330FBAAAAwIIYVUEAAAAA44dzQQAAAAB4RDFBAAAAAFAtSUEAAAAAOYFNQQAAAFDb2HJBAAAAqGCZnkEAAAAAioInQQAAAOhVVIRBAAAAYLJQZ0EAAAAAKGE1QQAAAMDPsGJBAAAAAKLrW0EAAACAoEldQQAAAACAohlBAAAAwHl9VUEAAAAAoUFOQQAAAMDzolNBAAAAAPyFQkEAAAAARy9CQQAAAACm0EZBAAAA8Fq6ckEAAAAA6EUpQQAAAEDzW1BBAAAAAHDS8UAAAACA8ZVkQQAAAOBey2BBAAAAADQhFUEAAAAAMPcGQQAAACALl2xB\"},\"type\":\"choropleth\"}],\"name\":\"2017\"},{\"data\":[{\"coloraxis\":\"coloraxis\",\"geo\":\"geo\",\"hovertemplate\":\"\\u003cb\\u003e%{hovertext}\\u003c\\u002fb\\u003e\\u003cbr\\u003e\\u003cbr\\u003eYear=2018\\u003cbr\\u003eCountryCode=%{location}\\u003cbr\\u003ePop. requiring PC=%{z}\\u003cextra\\u003e\\u003c\\u002fextra\\u003e\",\"hovertext\":[\"COG\",\"GIN\",\"MDG\",\"BEN\",\"CMR\",\"COD\",\"AGO\",\"COM\",\"ZWE\",\"TZA\",\"COD\",\"STP\",\"NER\",\"ETH\",\"GNQ\",\"MOZ\",\"SEN\",\"GAB\",\"GHA\",\"MWI\",\"SLE\",\"MLI\",\"BFA\",\"ERI\",\"CIV\",\"ZMB\",\"TCD\",\"GNB\",\"LBR\",\"CAF\",\"CAF\",\"KEN\",\"SSD\",\"NGA\",\"UGA\"],\"locations\":[\"COG\",\"GIN\",\"MDG\",\"BEN\",\"CMR\",\"COD\",\"AGO\",\"COM\",\"ZWE\",\"TZA\",\"COD\",\"STP\",\"NER\",\"ETH\",\"GNQ\",\"MOZ\",\"SEN\",\"GAB\",\"GHA\",\"MWI\",\"SLE\",\"MLI\",\"BFA\",\"ERI\",\"CIV\",\"ZMB\",\"TCD\",\"GNB\",\"LBR\",\"CAF\",\"CAF\",\"KEN\",\"SSD\",\"NGA\",\"UGA\"],\"name\":\"\",\"z\":{\"dtype\":\"f8\",\"bdata\":\"AAAAANhgLUEAAABA4YhcQQAAAPBaunJBAAAAAAtVNUEAAAAAQL44QQAAACCX54ZBAAAAAEUtTkEAAAAA6EUpQQAAAICgSV1BAAAAYHIMY0EAAAAgl+eGQQAAAADAoQhBAAAAgHYjYUG++HoBdChXQQAAAACAohlBAAAAIJJSc0EAAACgaEhhQQAAAACEChZBAAAAAKDzM0EAAAAgC5dsQQAAAIAGs0RBAAAAAAScLUEAAAAAL3VBQQAAAAAAevFAAAAAUJcHdEEAAABgNvNmQQAAAIBWRVFBAAAAAIBuMEEAAAAASQlGQQAAAABQLUlBAAAAAFAtSUEAAAAA0mNOQQAAAMBmhlZBAAAAKLJRn0EAAAAAtyY+QQ==\"},\"type\":\"choropleth\"}],\"name\":\"2018\"},{\"data\":[{\"coloraxis\":\"coloraxis\",\"geo\":\"geo\",\"hovertemplate\":\"\\u003cb\\u003e%{hovertext}\\u003c\\u002fb\\u003e\\u003cbr\\u003e\\u003cbr\\u003eYear=2019\\u003cbr\\u003eCountryCode=%{location}\\u003cbr\\u003ePop. requiring PC=%{z}\\u003cextra\\u003e\\u003c\\u002fextra\\u003e\",\"hovertext\":[\"SEN\",\"ZWE\",\"NGA\",\"ZMB\",\"SLE\",\"UGA\",\"SSD\",\"TZA\",\"STP\",\"GNB\",\"ERI\",\"COD\",\"BFA\",\"MDG\",\"COG\",\"COG\",\"GNQ\",\"KEN\",\"BEN\",\"KEN\",\"CAF\",\"CAF\",\"GIN\",\"COM\",\"ETH\",\"GHA\",\"GAB\",\"CMR\",\"MWI\",\"LBR\",\"MLI\",\"NER\",\"CIV\",\"AGO\",\"COD\",\"MOZ\",\"TCD\"],\"locations\":[\"SEN\",\"ZWE\",\"NGA\",\"ZMB\",\"SLE\",\"UGA\",\"SSD\",\"TZA\",\"STP\",\"GNB\",\"ERI\",\"COD\",\"BFA\",\"MDG\",\"COG\",\"COG\",\"GNQ\",\"KEN\",\"BEN\",\"KEN\",\"CAF\",\"CAF\",\"GIN\",\"COM\",\"ETH\",\"GHA\",\"GAB\",\"CMR\",\"MWI\",\"LBR\",\"MLI\",\"NER\",\"CIV\",\"AGO\",\"COD\",\"MOZ\",\"TCD\"],\"name\":\"\",\"z\":{\"dtype\":\"f8\",\"bdata\":\"AAAAYIDQYEEAAACAoEldQQAAAHD+CaBBAAAAYDbzZkEAAAAAnXNGQQAAAACMIj9BAAAAQOIoYEEAAADAX1heQQAAAADQjAhBAAAAAOYjPEEAAAAAcNLxQAAAAJB49YVBAAAAgIoiQEEAAABgpiV0QQAAAAC4eC9BAAAAALh4L0EAAAAAgKIZQTUzM8M2TU9BAAAAAAATEkE1MzPDNk1PQd898zCy8lBB3z3zMLLyUEEAAABA4YhcQQAAAACaEihBxTZxvNyUVkEAAAAAGpg0QQAAAACEChZBAAAAAIBw7EAAAAAgC5dsQQAAAADOnEZBAAAAACKlLkEAAADA9XdZQQAAAGAwtXRB\\u002fKnxYnVEQkEAAACQePWFQcxIWGAROXFBAAAAgL+MU0E=\"},\"type\":\"choropleth\"}],\"name\":\"2019\"},{\"data\":[{\"coloraxis\":\"coloraxis\",\"geo\":\"geo\",\"hovertemplate\":\"\\u003cb\\u003e%{hovertext}\\u003c\\u002fb\\u003e\\u003cbr\\u003e\\u003cbr\\u003eYear=2020\\u003cbr\\u003eCountryCode=%{location}\\u003cbr\\u003ePop. requiring PC=%{z}\\u003cextra\\u003e\\u003c\\u002fextra\\u003e\",\"hovertext\":[\"GNB\",\"ERI\",\"MOZ\",\"CIV\",\"GIN\",\"ZWE\",\"COM\",\"MLI\",\"BEN\",\"GHA\",\"NER\",\"TZA\",\"SLE\",\"ETH\",\"CAF\",\"TCD\",\"GAB\",\"MDG\",\"CMR\",\"MDG\",\"LBR\",\"UGA\",\"COG\",\"ZMB\",\"COG\",\"MWI\",\"SSD\",\"BFA\",\"AGO\",\"STP\",\"KEN\",\"NGA\",\"COD\",\"GNQ\",\"SEN\"],\"locations\":[\"GNB\",\"ERI\",\"MOZ\",\"CIV\",\"GIN\",\"ZWE\",\"COM\",\"MLI\",\"BEN\",\"GHA\",\"NER\",\"TZA\",\"SLE\",\"ETH\",\"CAF\",\"TCD\",\"GAB\",\"MDG\",\"CMR\",\"MDG\",\"LBR\",\"UGA\",\"COG\",\"ZMB\",\"COG\",\"MWI\",\"SSD\",\"BFA\",\"AGO\",\"STP\",\"KEN\",\"NGA\",\"COD\",\"GNQ\",\"SEN\"],\"name\":\"\",\"z\":{\"dtype\":\"f8\",\"bdata\":\"AAAAAAHgPEEAAAAAMLLxQKAmNfS5NnJBAAAAoNTydEEAAAAAzTRfQQAAAEC6oV5BAAAAAIRtGEEAAAAAIqUuQQAAAADgOxNBAAAAABqYNEEAAACAvotPQY2WT\\u002fFlbV9B4RaFAfhAOUE7W6aHWw9aQQAAAECy8lBBAAAAAOlqVEEAAAAAlOAVQQAAAEBEZnRBAAAAAIBw7EAAAABARGZ0QQAAAADBf0ZBAAAAAIwiP0HNzMzMNTUwQQAAAKAAb2hBzczMzDU1MEEAAAAgC5dsQQAAAAASVGBBH54lSISuQEEAAACA1yNNQQAAAADwqQlBAAAAAM4eUEG5rFk67kGgQQAAAMiyjYZBAAAAAICiGUEAAACA7lNVQQ==\"},\"type\":\"choropleth\"}],\"name\":\"2020\"},{\"data\":[{\"coloraxis\":\"coloraxis\",\"geo\":\"geo\",\"hovertemplate\":\"\\u003cb\\u003e%{hovertext}\\u003c\\u002fb\\u003e\\u003cbr\\u003e\\u003cbr\\u003eYear=2021\\u003cbr\\u003eCountryCode=%{location}\\u003cbr\\u003ePop. requiring PC=%{z}\\u003cextra\\u003e\\u003c\\u002fextra\\u003e\",\"hovertext\":[\"COD\",\"COG\",\"SSD\",\"TCD\",\"GNQ\",\"UGA\",\"CIV\",\"ERI\",\"COM\",\"COD\",\"COM\",\"GIN\",\"BFA\",\"NER\",\"ZWE\",\"MOZ\",\"NGA\",\"AGO\",\"MLI\",\"BEN\",\"MDG\",\"STP\",\"ZMB\",\"LBR\",\"ETH\",\"KEN\",\"COG\",\"GAB\",\"CMR\",\"GNB\",\"CAF\",\"CAF\",\"COG\",\"SLE\",\"SEN\",\"TZA\",\"GHA\"],\"locations\":[\"COD\",\"COG\",\"SSD\",\"TCD\",\"GNQ\",\"UGA\",\"CIV\",\"ERI\",\"COM\",\"COD\",\"COM\",\"GIN\",\"BFA\",\"NER\",\"ZWE\",\"MOZ\",\"NGA\",\"AGO\",\"MLI\",\"BEN\",\"MDG\",\"STP\",\"ZMB\",\"LBR\",\"ETH\",\"KEN\",\"COG\",\"GAB\",\"CMR\",\"GNB\",\"CAF\",\"CAF\",\"COG\",\"SLE\",\"SEN\",\"TZA\",\"GHA\"],\"name\":\"\",\"z\":{\"dtype\":\"f8\",\"bdata\":\"AAAAsNAyh0EAAAAAbp8wQQAAAMCbtGBBAAAAwHOUVEEAAAAAQPIsQQAAAACMIj9BAAAAwLRea0EAAAAAoOfxQAAAAADU4RhBAAAAsNAyh0EAAAAA1OEYQQAAAGALCWBBAAAAgBYMQEEAAACAY21QQQAAAIA3FF9BAAAAEF2sckEAAACCua2gQQAAAADBXE5BAAAAACKlLkEAAAAA4DsTQQAAAJDfN3RBAAAAAPCpCUEAAABARiZpQQAAAAByDUdBSkoimHKrWUEAAACAjH5QQQAAAABunzBBAAAAAJTgFUEAAAAA4DLtQAAAAACVoT1BAAAAQOZfWEEAAABA5l9YQQAAAABunzBBAAAAAKrVOUEAAABAd\\u002f1VQQAAAMA+N15BAAAAAGcJMUE=\"},\"type\":\"choropleth\"}],\"name\":\"2021\"},{\"data\":[{\"coloraxis\":\"coloraxis\",\"geo\":\"geo\",\"hovertemplate\":\"\\u003cb\\u003e%{hovertext}\\u003c\\u002fb\\u003e\\u003cbr\\u003e\\u003cbr\\u003eYear=2022\\u003cbr\\u003eCountryCode=%{location}\\u003cbr\\u003ePop. requiring PC=%{z}\\u003cextra\\u003e\\u003c\\u002fextra\\u003e\",\"hovertext\":[\"BFA\",\"TCD\",\"BEN\",\"TZA\",\"ZMB\",\"UGA\",\"CMR\",\"COM\",\"AGO\",\"CAF\",\"NER\",\"COG\",\"GNB\",\"ZWE\",\"KEN\",\"GIN\",\"COG\",\"GHA\",\"LBR\",\"SLE\",\"GAB\",\"STP\",\"ETH\",\"SSD\",\"MDG\",\"MDG\",\"SSD\",\"COD\",\"MOZ\",\"CIV\",\"COD\",\"COD\",\"NGA\",\"ERI\",\"SEN\",\"MLI\",\"GNQ\"],\"locations\":[\"BFA\",\"TCD\",\"BEN\",\"TZA\",\"ZMB\",\"UGA\",\"CMR\",\"COM\",\"AGO\",\"CAF\",\"NER\",\"COG\",\"GNB\",\"ZWE\",\"KEN\",\"GIN\",\"COG\",\"GHA\",\"LBR\",\"SLE\",\"GAB\",\"STP\",\"ETH\",\"SSD\",\"MDG\",\"MDG\",\"SSD\",\"COD\",\"MOZ\",\"CIV\",\"COD\",\"COD\",\"NGA\",\"ERI\",\"SEN\",\"MLI\",\"GNQ\"],\"name\":\"\",\"z\":{\"dtype\":\"f8\",\"bdata\":\"AAAAAKEvP0EAAADA4TlVQQAAAADgOxNBAAAAAFR2WUEAAABARiZpQQAAAACMIj9BAAAAAOAy7UAAAAAA1OEYQQAAAIBfUk9BAAAAQOZfWEEIcSTa338VQQAAAADfADFBAAAAAL5oPkEAAAAA79xfQQAAAAAjFFBBAAAAAKp5YEEAAAAA3wAxQQAAAAA63SdBAAAAgBEPSkEAAAAAOk4hQQAAAADM5BZBAAAAAPCpCUFJfXWv9EtMQQsbnqhJi2FBAAAAQIfcdUEAAABAh9x1QQsbnqhJi2FBAAAAQO6ShUFwGxtaIxJjQQAAAACrnjlBAAAAQO6ShUEAAABA7pKFQYNemszGj6BBAAAAAICl3UAAAAAAaGEeQQAAAAAipS5BAAAAAEDyLEE=\"},\"type\":\"choropleth\"}],\"name\":\"2022\"},{\"data\":[{\"coloraxis\":\"coloraxis\",\"geo\":\"geo\",\"hovertemplate\":\"\\u003cb\\u003e%{hovertext}\\u003c\\u002fb\\u003e\\u003cbr\\u003e\\u003cbr\\u003eYear=2023\\u003cbr\\u003eCountryCode=%{location}\\u003cbr\\u003ePop. requiring PC=%{z}\\u003cextra\\u003e\\u003c\\u002fextra\\u003e\",\"hovertext\":[\"STP\",\"NGA\",\"LBR\",\"AGO\",\"BFA\",\"KEN\",\"MLI\",\"BEN\",\"GNB\",\"MDG\",\"MOZ\",\"ZMB\",\"MDG\",\"GHA\",\"CMR\",\"COG\",\"COG\",\"CIV\",\"UGA\",\"COD\",\"COD\",\"COM\",\"GNQ\",\"NER\",\"ERI\",\"TCD\",\"SSD\",\"CAF\",\"CAF\",\"ETH\",\"SLE\",\"GAB\",\"TZA\",\"GIN\",\"SEN\",\"ZWE\"],\"locations\":[\"STP\",\"NGA\",\"LBR\",\"AGO\",\"BFA\",\"KEN\",\"MLI\",\"BEN\",\"GNB\",\"MDG\",\"MOZ\",\"ZMB\",\"MDG\",\"GHA\",\"CMR\",\"COG\",\"COG\",\"CIV\",\"UGA\",\"COD\",\"COD\",\"COM\",\"GNQ\",\"NER\",\"ERI\",\"TCD\",\"SSD\",\"CAF\",\"CAF\",\"ETH\",\"SLE\",\"GAB\",\"TZA\",\"GIN\",\"SEN\",\"ZWE\"],\"name\":\"\",\"z\":{\"dtype\":\"f8\",\"bdata\":\"AAAAAPCpCUEAAAC4QcySQQAAAAB+VkVBAAAAQAx+UEH\\u002f\\u002f\\u002f\\u002f\\u002frUg7QQAAAAAjFFBBAAAAACKlLkEAAAAA4DsTQQAAAABu5itBAAAAkNNKdEEAAACAQwhmQQAAAEBGJmlBAAAAkNNKdEEAAAAAum0oQQAAAADgMu1AAAAAAIxkMUEAAAAAjGQxQQAAAABQDhtBAAAAAIwiP0EAAABYDh2CQQAAAFgOHYJBAAAAANThGEEAAAAAeG8uQQAAAADMKhdBAAAAADCM8kAAAADAiINSQQAAAIDDVGJBAAAAwFGzWkEAAADAUbNaQQAAAID82E1BAAAAAMQaHkEAAAAAEHkXQQAAAAAPm0dBAAAAQMa1U0EAAAAACA0KQQAAAADv3F9B\"},\"type\":\"choropleth\"}],\"name\":\"2023\"}]);\n",
       "                        }).then(function(){\n",
       "                            \n",
       "var gd = document.getElementById('2bd7301d-2ca1-4634-ac51-12bc603af940');\n",
       "var x = new MutationObserver(function (mutations, observer) {{\n",
       "        var display = window.getComputedStyle(gd).display;\n",
       "        if (!display || display === 'none') {{\n",
       "            console.log([gd, 'removed!']);\n",
       "            Plotly.purge(gd);\n",
       "            observer.disconnect();\n",
       "        }}\n",
       "}});\n",
       "\n",
       "// Listen for the removal of the full notebook cells\n",
       "var notebookContainer = gd.closest('#notebook-container');\n",
       "if (notebookContainer) {{\n",
       "    x.observe(notebookContainer, {childList: true});\n",
       "}}\n",
       "\n",
       "// Listen for the clearing of the current output cell\n",
       "var outputEl = gd.closest('.output');\n",
       "if (outputEl) {{\n",
       "    x.observe(outputEl, {childList: true});\n",
       "}}\n",
       "\n",
       "                        })                };            </script>        </div>"
      ]
     },
     "metadata": {},
     "output_type": "display_data"
    }
   ],
   "source": [
    "fig_lf = px.choropleth(\n",
    "    lf,\n",
    "    locations='CountryCode',           \n",
    "    color='Population requiring PC for LF',\n",
    "    hover_name='CountryCode',\n",
    "    animation_frame='Year',\n",
    "    color_continuous_scale='Viridis',\n",
    "    range_color=[0, lf['Population requiring PC for LF'].max()],\n",
    "    scope='africa',\n",
    "    labels={'Population requiring PC for LF':'Pop. requiring PC'},\n",
    "    title='LF: Population Requiring Preventive Chemotherapy Over Time'\n",
    ")\n",
    "fig_lf.update_layout(margin={\"r\":0,\"t\":40,\"l\":0,\"b\":0})\n",
    "fig_lf.show()"
   ]
  },
  {
   "cell_type": "code",
   "execution_count": 21,
   "metadata": {},
   "outputs": [
    {
     "data": {
      "application/vnd.plotly.v1+json": {
       "config": {
        "plotlyServerURL": "https://plot.ly"
       },
       "data": [
        {
         "coloraxis": "coloraxis",
         "geo": "geo",
         "hovertemplate": "<b>%{hovertext}</b><br><br>Year=2003<br>CountryCode=%{location}<br>Pop. requiring PC=%{z}<extra></extra>",
         "hovertext": [
          "AGO",
          "TZA",
          "UGA",
          "BFA",
          "TGO",
          "BDI",
          "ZAF",
          "CMR",
          "SLE",
          "SEN",
          "CAF",
          "TCD",
          "RWA",
          "COM",
          "NGA",
          "NER",
          "CIV",
          "MOZ",
          "COD",
          "MRT",
          "MLI",
          "MWI",
          "SWZ",
          "MDG",
          "ETH",
          "LSO",
          "KEN",
          "GMB",
          "GNB",
          "GHA",
          "BEN",
          "ZMB",
          "GIN"
         ],
         "locations": [
          "AGO",
          "TZA",
          "UGA",
          "BFA",
          "TGO",
          "BDI",
          "ZAF",
          "CMR",
          "SLE",
          "SEN",
          "CAF",
          "TCD",
          "RWA",
          "COM",
          "NGA",
          "NER",
          "CIV",
          "MOZ",
          "COD",
          "MRT",
          "MLI",
          "MWI",
          "SWZ",
          "MDG",
          "ETH",
          "LSO",
          "KEN",
          "GMB",
          "GNB",
          "GHA",
          "BEN",
          "ZMB",
          "GIN"
         ],
         "name": "",
         "type": "choropleth",
         "z": {
          "bdata": "AAAAADJAQUEAAADAEUlTQQAAAABLp09BAAAAAKnnO0EAAAAA3GclQQAAAACElylBAAAAAEJeT0EAAACASwNAQQAAAAAYKyNBAAAAAPTXNUEAAAAAdGUeQQAAAAD4rDRBAAAAANojMUEAAAAA0GLwQAAAAIA273BBAAAAABwcPUEAAAAA9E5BQQAAAAATwERBAAAAAPX4X0EAAAAAyAoVQQAAAAC7PzdBAAAAAJa7PEEAAAAAIJz+QAAAAIAGN0FBAAAAAGVjYkEAAAAASOYKQQAAAMCBo1BBAAAAALBMB0EAAAAAsMsGQQAAAICvo0JBAAAAAJ5GLkEAAAAAm3Y4QQAAAADo+jFB",
          "dtype": "f8"
         }
        }
       ],
       "frames": [
        {
         "data": [
          {
           "coloraxis": "coloraxis",
           "geo": "geo",
           "hovertemplate": "<b>%{hovertext}</b><br><br>Year=2003<br>CountryCode=%{location}<br>Pop. requiring PC=%{z}<extra></extra>",
           "hovertext": [
            "AGO",
            "TZA",
            "UGA",
            "BFA",
            "TGO",
            "BDI",
            "ZAF",
            "CMR",
            "SLE",
            "SEN",
            "CAF",
            "TCD",
            "RWA",
            "COM",
            "NGA",
            "NER",
            "CIV",
            "MOZ",
            "COD",
            "MRT",
            "MLI",
            "MWI",
            "SWZ",
            "MDG",
            "ETH",
            "LSO",
            "KEN",
            "GMB",
            "GNB",
            "GHA",
            "BEN",
            "ZMB",
            "GIN"
           ],
           "locations": [
            "AGO",
            "TZA",
            "UGA",
            "BFA",
            "TGO",
            "BDI",
            "ZAF",
            "CMR",
            "SLE",
            "SEN",
            "CAF",
            "TCD",
            "RWA",
            "COM",
            "NGA",
            "NER",
            "CIV",
            "MOZ",
            "COD",
            "MRT",
            "MLI",
            "MWI",
            "SWZ",
            "MDG",
            "ETH",
            "LSO",
            "KEN",
            "GMB",
            "GNB",
            "GHA",
            "BEN",
            "ZMB",
            "GIN"
           ],
           "name": "",
           "type": "choropleth",
           "z": {
            "bdata": "AAAAADJAQUEAAADAEUlTQQAAAABLp09BAAAAAKnnO0EAAAAA3GclQQAAAACElylBAAAAAEJeT0EAAACASwNAQQAAAAAYKyNBAAAAAPTXNUEAAAAAdGUeQQAAAAD4rDRBAAAAANojMUEAAAAA0GLwQAAAAIA273BBAAAAABwcPUEAAAAA9E5BQQAAAAATwERBAAAAAPX4X0EAAAAAyAoVQQAAAAC7PzdBAAAAAJa7PEEAAAAAIJz+QAAAAIAGN0FBAAAAAGVjYkEAAAAASOYKQQAAAMCBo1BBAAAAALBMB0EAAAAAsMsGQQAAAICvo0JBAAAAAJ5GLkEAAAAAm3Y4QQAAAADo+jFB",
            "dtype": "f8"
           }
          }
         ],
         "name": "2003"
        },
        {
         "data": [
          {
           "coloraxis": "coloraxis",
           "geo": "geo",
           "hovertemplate": "<b>%{hovertext}</b><br><br>Year=2004<br>CountryCode=%{location}<br>Pop. requiring PC=%{z}<extra></extra>",
           "hovertext": [
            "MOZ",
            "CMR",
            "ETH",
            "GMB",
            "MDG",
            "MRT",
            "SEN",
            "KEN",
            "TCD",
            "BDI",
            "SWZ",
            "TGO",
            "TZA",
            "SLE",
            "GIN",
            "UGA",
            "ZMB",
            "CIV",
            "GHA",
            "LSO",
            "MWI",
            "NER",
            "BFA",
            "ZAF",
            "CAF",
            "GNB",
            "BEN",
            "RWA",
            "NGA",
            "COM",
            "AGO",
            "COD",
            "MLI"
           ],
           "locations": [
            "MOZ",
            "CMR",
            "ETH",
            "GMB",
            "MDG",
            "MRT",
            "SEN",
            "KEN",
            "TCD",
            "BDI",
            "SWZ",
            "TGO",
            "TZA",
            "SLE",
            "GIN",
            "UGA",
            "ZMB",
            "CIV",
            "GHA",
            "LSO",
            "MWI",
            "NER",
            "BFA",
            "ZAF",
            "CAF",
            "GNB",
            "BEN",
            "RWA",
            "NGA",
            "COM",
            "AGO",
            "COD",
            "MLI"
           ],
           "name": "",
           "type": "choropleth",
           "z": {
            "bdata": "AAAAgO9gRUEAAACA8l9AQQAAAMAWo2JBAAAAAAjUB0EAAAAAEnpBQQAAAAAscBVBAAAAAPJCNkEAAAAAuS5RQQAAAADzYzVBAAAAAJbMKUEAAAAAAJH+QAAAAABEvCVBAAAAwM3jU0EAAAAAlh8kQQAAAACNPjJBAAAAwKVNUEEAAAAAVxM5QQAAAIBpqUFBAAAAAA/kQkEAAAAAUNgKQQAAAACZQz1BAAAAAP86PkEAAAAAh8k8QQAAAIARlE9BAAAAADTKHkEAAAAAqFQHQQAAAABeFC9BAAAAANaTMUEAAAAgmUlxQQAAAAAQxvBAAAAAgLu1QUEAAADg8GpgQQAAAACXwjdB",
            "dtype": "f8"
           }
          }
         ],
         "name": "2004"
        },
        {
         "data": [
          {
           "coloraxis": "coloraxis",
           "geo": "geo",
           "hovertemplate": "<b>%{hovertext}</b><br><br>Year=2005<br>CountryCode=%{location}<br>Pop. requiring PC=%{z}<extra></extra>",
           "hovertext": [
            "BFA",
            "GMB",
            "SEN",
            "BFA",
            "LBR",
            "BDI",
            "KEN",
            "TGO",
            "GNB",
            "MOZ",
            "MRT",
            "CMR",
            "SLE",
            "GHA",
            "COD",
            "COD",
            "ZAF",
            "CIV",
            "LSO",
            "AGO",
            "MLI",
            "UGA",
            "ZMB",
            "COM",
            "RWA",
            "MDG",
            "STP",
            "TCD",
            "ETH",
            "NER",
            "SWZ",
            "BEN",
            "TZA",
            "MWI",
            "NGA",
            "CAF",
            "GIN"
           ],
           "locations": [
            "BFA",
            "GMB",
            "SEN",
            "BFA",
            "LBR",
            "BDI",
            "KEN",
            "TGO",
            "GNB",
            "MOZ",
            "MRT",
            "CMR",
            "SLE",
            "GHA",
            "COD",
            "COD",
            "ZAF",
            "CIV",
            "LSO",
            "AGO",
            "MLI",
            "UGA",
            "ZMB",
            "COM",
            "RWA",
            "MDG",
            "STP",
            "TCD",
            "ETH",
            "NER",
            "SWZ",
            "BEN",
            "TZA",
            "MWI",
            "NGA",
            "CAF",
            "GIN"
           ],
           "name": "",
           "type": "choropleth",
           "z": {
            "bdata": "AAAAAPThPUEAAAAAoFUIQQAAAAA+uzZBAAAAAAAA+H8AAAAAZOEaQQAAAABKGypBAAAAwAbAUUEAAAAABg4mQQAAAADg2AdBAAAAALvtRUEAAAAAvNIVQQAAAIDLwkBBAAAAALz5JEEAAAAATiZDQQAAAKCyzmBBAAAAoLLOYEEAAACAOLpPQQAAAICrAEJBAAAAAODFCkEAAAAAiR5CQQAAAAAQUThBAAAAQI/NUEEAAAAAP6w5QQAAAAAwMvFAAAAAAFUQMkEAAAAAJrtBQQAAAACA3NFAAAAAANANNkEAAADAwupiQQAAAAB9ij9BAAAAANCP/kAAAAAAau0vQQAAAEBkhlRBAAAAAJnIPUEAAAAQz6RxQQAAAACMHh9BAAAAAJ2IMkE=",
            "dtype": "f8"
           }
          }
         ],
         "name": "2005"
        },
        {
         "data": [
          {
           "coloraxis": "coloraxis",
           "geo": "geo",
           "hovertemplate": "<b>%{hovertext}</b><br><br>Year=2006<br>CountryCode=%{location}<br>Pop. requiring PC=%{z}<extra></extra>",
           "hovertext": [
            "SLE",
            "CIV",
            "BDI",
            "MOZ",
            "MDG",
            "GIN",
            "CMR",
            "TCD",
            "NGA",
            "ETH",
            "ETH",
            "GHA",
            "COM",
            "COD",
            "BEN",
            "ZMB",
            "LSO",
            "MRT",
            "SLE",
            "ZAF",
            "UGA",
            "RWA",
            "BFA",
            "LBR",
            "GMB",
            "SEN",
            "TZA",
            "BFA",
            "CAF",
            "SWZ",
            "GAB",
            "MWI",
            "SWZ",
            "AGO",
            "MWI",
            "KEN",
            "NER",
            "GNB",
            "TGO",
            "MLI",
            "GNB"
           ],
           "locations": [
            "SLE",
            "CIV",
            "BDI",
            "MOZ",
            "MDG",
            "GIN",
            "CMR",
            "TCD",
            "NGA",
            "ETH",
            "ETH",
            "GHA",
            "COM",
            "COD",
            "BEN",
            "ZMB",
            "LSO",
            "MRT",
            "SLE",
            "ZAF",
            "UGA",
            "RWA",
            "BFA",
            "LBR",
            "GMB",
            "SEN",
            "TZA",
            "BFA",
            "CAF",
            "SWZ",
            "GAB",
            "MWI",
            "SWZ",
            "AGO",
            "MWI",
            "KEN",
            "NER",
            "GNB",
            "TGO",
            "MLI",
            "GNB"
           ],
           "name": "",
           "type": "choropleth",
           "z": {
            "bdata": "AAAAAPaxJUEAAACAH1RCQQAAAAC+hCpBAAAAgLFjRkEAAAAAj/pBQQAAAADx2TJBAAAAADIsQUEAAAAA0qc2QQAAACCoAHJBAAAAAAo8Y0EAAAAACjxjQQAAAABbakNBAAAAAHCn8UAAAACAxCVhQQAAAAAoaTBBAAAAAJtAOkEAAAAAqK4KQQAAAACwMRZBAAAAAPaxJUEAAAAAV81PQQAAAACzU1FBAAAAALGYMkEAAAAAAAD4fwAAAABowBtBAAAAADjRCEEAAAAAnkI3QQAAAMBaMFVBAAAAANM3P0EAAAAAjGAfQQAAAABQmP5AAAAAALh2AUEAAAAAqEo+QQAAAAAAAPh/AAAAANh3QkEAAAAAqEo+QQAAAACqVlJBAAAAADOIQEEAAAAAiFcIQQAAAADEXCZBAAAAAJ7rOEEAAAAAiFcIQQ==",
            "dtype": "f8"
           }
          }
         ],
         "name": "2006"
        },
        {
         "data": [
          {
           "coloraxis": "coloraxis",
           "geo": "geo",
           "hovertemplate": "<b>%{hovertext}</b><br><br>Year=2007<br>CountryCode=%{location}<br>Pop. requiring PC=%{z}<extra></extra>",
           "hovertext": [
            "SLE",
            "SLE",
            "NGA",
            "NER",
            "CAF",
            "COG",
            "CIV",
            "KEN",
            "GAB",
            "COM",
            "TCD",
            "GMB",
            "STP",
            "AGO",
            "GNB",
            "CMR",
            "RWA",
            "MOZ",
            "RWA",
            "GNB",
            "SEN",
            "ZAF",
            "CPV",
            "BDI",
            "TGO",
            "MLI",
            "GHA",
            "MWI",
            "UGA",
            "LBR",
            "BDI",
            "MDG",
            "SWZ",
            "ZMB",
            "TZA",
            "ETH",
            "ETH",
            "BEN",
            "GIN",
            "SWZ",
            "LSO",
            "BFA",
            "MRT",
            "COD"
           ],
           "locations": [
            "SLE",
            "SLE",
            "NGA",
            "NER",
            "CAF",
            "COG",
            "CIV",
            "KEN",
            "GAB",
            "COM",
            "TCD",
            "GMB",
            "STP",
            "AGO",
            "GNB",
            "CMR",
            "RWA",
            "MOZ",
            "RWA",
            "GNB",
            "SEN",
            "ZAF",
            "CPV",
            "BDI",
            "TGO",
            "MLI",
            "GHA",
            "MWI",
            "UGA",
            "LBR",
            "BDI",
            "MDG",
            "SWZ",
            "ZMB",
            "TZA",
            "ETH",
            "ETH",
            "BEN",
            "GIN",
            "SWZ",
            "LSO",
            "BFA",
            "MRT",
            "COD"
           ],
           "name": "",
           "type": "choropleth",
           "z": {
            "bdata": "AAAAAFBMJkEAAAAAUEwmQQAAAPAeXHJBAAAAADdiQUEAAAAAsJEfQQAAAAB4JxpBAAAAAOejQkEAAADA8vBSQQAAAAAoiAFBAAAAAKAi8kAAAAAA6TM3QQAAAADIRglBAAAAAAAc0kAAAACADMVCQQAAAABI0QhBAAAAAM2aQUEAAAAA8CMzQQAAAAA0xUZBAAAAAPAjM0EAAAAASNEIQQAAAADb1TdBAAAAABHQT0EAAAAAAJnnQAAAAAAwBytBAAAAALSnJkEAAAAAfJA5QQAAAIAbsENBAAAAAL3HPkEAAAAAW99RQQAAAABUvxxBAAAAADAHK0EAAACAgzhCQQAAAAAAAPh/AAAAAPTPOkEAAABAy+BVQQAAAKColWNBAAAAoKiVY0EAAAAAgOAwQQAAAABbMjNBAAAAAGCs/kAAAAAA2JIKQQAAAAD/X0BBAAAAALiMFkEAAACAz3JhQQ==",
            "dtype": "f8"
           }
          }
         ],
         "name": "2007"
        },
        {
         "data": [
          {
           "coloraxis": "coloraxis",
           "geo": "geo",
           "hovertemplate": "<b>%{hovertext}</b><br><br>Year=2008<br>CountryCode=%{location}<br>Pop. requiring PC=%{z}<extra></extra>",
           "hovertext": [
            "BDI",
            "SLE",
            "LBR",
            "MDG",
            "NER",
            "MDG",
            "COG",
            "BWA",
            "MDG",
            "STP",
            "AGO",
            "MUS",
            "SWZ",
            "GNB",
            "GNB",
            "SWZ",
            "RWA",
            "CIV",
            "TZA",
            "COM",
            "AGO",
            "TCD",
            "ETH",
            "BEN",
            "BEN",
            "KEN",
            "ZWE",
            "GIN",
            "GIN",
            "UGA",
            "MRT",
            "CAF",
            "CPV",
            "ZMB",
            "MLI",
            "ZAF",
            "NAM",
            "GMB",
            "NGA",
            "MOZ",
            "TGO",
            "GHA",
            "MOZ",
            "GAB",
            "LSO",
            "SEN",
            "COD",
            "COD",
            "MWI",
            "BDI",
            "CMR",
            "CMR",
            "GNQ",
            "BFA"
           ],
           "locations": [
            "BDI",
            "SLE",
            "LBR",
            "MDG",
            "NER",
            "MDG",
            "COG",
            "BWA",
            "MDG",
            "STP",
            "AGO",
            "MUS",
            "SWZ",
            "GNB",
            "GNB",
            "SWZ",
            "RWA",
            "CIV",
            "TZA",
            "COM",
            "AGO",
            "TCD",
            "ETH",
            "BEN",
            "BEN",
            "KEN",
            "ZWE",
            "GIN",
            "GIN",
            "UGA",
            "MRT",
            "CAF",
            "CPV",
            "ZMB",
            "MLI",
            "ZAF",
            "NAM",
            "GMB",
            "NGA",
            "MOZ",
            "TGO",
            "GHA",
            "MOZ",
            "GAB",
            "LSO",
            "SEN",
            "COD",
            "COD",
            "MWI",
            "BDI",
            "CMR",
            "CMR",
            "GNQ",
            "BFA"
           ],
           "name": "",
           "type": "choropleth",
           "z": {
            "bdata": "AAAAAIycK0EAAAAAPM4mQQAAAACEyx1BAAAAgAh2QkEAAACAdElCQQAAAIAIdkJBAAAAAByIGkEAAAAAAEoFQQAAAIAIdkJBAAAAAIAz0kAAAACAMwtDQQAAAABQxPFAAAAAANDL/kAAAAAAGEgJQQAAAAAYSAlBAAAAAAAA+H8AAAAAaLIzQQAAAADk70JBAAAAgPOUVkEAAAAA4JvyQAAAAIAzC0NBAAAAAKm1N0EAAABgs/RjQQAAAADOWjFBAAAAAM5aMUEAAADAe4lTQQAAAABJkzRBAAAAABqRM0EAAAAAGpEzQQAAAADKblJBAAAAACDjFkEAAAAA+LcfQQAAAAAgWOdAAAAAALtaO0EAAAAAczo6QQAAAAD6xU9BAAAAAGjECkEAAAAAgLcJQQAAALCMtHJBAAAAgJgTR0EAAAAAOPAmQQAAAAAwjvlAAAAAgJgTR0EAAAAAUKMBQQAAAACgdgpBAAAAAIVtOEEAAAAgIblhQQAAACAhuWFBAAAAABNEP0EAAAAAjJwrQQAAAACwCEJBAAAAALAIQkEAAAAAcLrzQAAAAID2L0FB",
            "dtype": "f8"
           }
          }
         ],
         "name": "2008"
        },
        {
         "data": [
          {
           "coloraxis": "coloraxis",
           "geo": "geo",
           "hovertemplate": "<b>%{hovertext}</b><br><br>Year=2009<br>CountryCode=%{location}<br>Pop. requiring PC=%{z}<extra></extra>",
           "hovertext": [
            "SWZ",
            "AGO",
            "MOZ",
            "KEN",
            "MOZ",
            "CIV",
            "ZWE",
            "CIV",
            "ETH",
            "MLI",
            "MUS",
            "GNQ",
            "LBR",
            "MDG",
            "MDG",
            "COD",
            "MWI",
            "COG",
            "LSO",
            "MWI",
            "NAM",
            "NER",
            "NER",
            "GAB",
            "COM",
            "MLI",
            "SWZ",
            "MRT",
            "NGA",
            "TCD",
            "UGA",
            "STP",
            "CPV",
            "CPV",
            "TZA",
            "BWA",
            "TZA",
            "GHA",
            "SEN",
            "SLE",
            "SLE",
            "RWA",
            "TGO",
            "CAF",
            "CMR",
            "CMR",
            "TGO",
            "RWA",
            "ZMB",
            "BEN",
            "BFA",
            "BDI",
            "GIN",
            "BFA",
            "GIN",
            "GMB",
            "ZAF",
            "ETH",
            "GNB",
            "ZMB"
           ],
           "locations": [
            "SWZ",
            "AGO",
            "MOZ",
            "KEN",
            "MOZ",
            "CIV",
            "ZWE",
            "CIV",
            "ETH",
            "MLI",
            "MUS",
            "GNQ",
            "LBR",
            "MDG",
            "MDG",
            "COD",
            "MWI",
            "COG",
            "LSO",
            "MWI",
            "NAM",
            "NER",
            "NER",
            "GAB",
            "COM",
            "MLI",
            "SWZ",
            "MRT",
            "NGA",
            "TCD",
            "UGA",
            "STP",
            "CPV",
            "CPV",
            "TZA",
            "BWA",
            "TZA",
            "GHA",
            "SEN",
            "SLE",
            "SLE",
            "RWA",
            "TGO",
            "CAF",
            "CMR",
            "CMR",
            "TGO",
            "RWA",
            "ZMB",
            "BEN",
            "BFA",
            "BDI",
            "GIN",
            "BFA",
            "GIN",
            "GMB",
            "ZAF",
            "ETH",
            "GNB",
            "ZMB"
           ],
           "name": "",
           "type": "choropleth",
           "z": {
            "bdata": "AAAAAAAA+H8AAAAAAVJDQQAAAAAAUkdBAAAAQKEZVEEAAAAAAFJHQQAAAAAAAPh/AAAAAIAsJ0EAAACAMThDQQAAAIC2VGRBAAAAAJ3iOkGamZmZ2Uy5QDMzMzPDyONAAAAAAAzJHkEAAAAAAAD4fwAAAIBGtEJBAAAAoOD9YUEAAAAAt8Q/QQAAAADE3BpBUrgehV25AkEAAAAAt8Q/QQAAAACQCQtBAAAAgBgwQ0EAAAAAAAD4fwAAAABwwwFBAAAAAABe6EAAAAAAAAD4fwAAAADg9v5AAAAAAAAA+H8AAACwmQZzQQAAAADVMjhBAAAAQJj/UkEUrkfhegjLQAAAAAAAAPh/AAAAAAAf50AAAADAX0lXQWZmZmamNvFAAAAAAAAA+H8AAAAAMI75QAAAAABH/zhBAAAAAN5BJ0EAAAAA3kEnQQAAAAAAAPh/AAAAABQ4J0EAAAAAzNsfQQAAAIA1bkJBAAAAgDVuQkEAAAAAFDgnQQAAAADVQzRBAAAAALLhO0EAAAAAa9UxQQAAAIBV+UFBAAAAAFg8LEEAAAAAv/QzQQAAAAAAAPh/AAAAAL/0M0F7FK5HYUHxQMP1KFzAKy1BAAAAgLZUZEEAAAAAkL4JQQAAAACy4TtB",
            "dtype": "f8"
           }
          }
         ],
         "name": "2009"
        },
        {
         "data": [
          {
           "coloraxis": "coloraxis",
           "geo": "geo",
           "hovertemplate": "<b>%{hovertext}</b><br><br>Year=2010<br>CountryCode=%{location}<br>Pop. requiring PC=%{z}<extra></extra>",
           "hovertext": [
            "CMR",
            "CMR",
            "SLE",
            "SLE",
            "GNQ",
            "BFA",
            "CIV",
            "ETH",
            "CIV",
            "BDI",
            "BDI",
            "ZMB",
            "LSO",
            "ZAF",
            "MLI",
            "MLI",
            "MRT",
            "CIV",
            "TGO",
            "SLE",
            "MUS",
            "MWI",
            "MWI",
            "MOZ",
            "CPV",
            "GHA",
            "GHA",
            "TGO",
            "KEN",
            "UGA",
            "SWZ",
            "GIN",
            "GIN",
            "NER",
            "UGA",
            "TZA",
            "RWA",
            "GAB",
            "AGO",
            "TZA",
            "ETH",
            "COM",
            "TCD",
            "GNB",
            "GNB",
            "BEN",
            "NGA",
            "ZWE",
            "COG",
            "COD",
            "SEN",
            "LBR",
            "GMB",
            "MDG",
            "MDG",
            "LBR",
            "NAM",
            "BWA",
            "STP",
            "UGA",
            "CAF"
           ],
           "locations": [
            "CMR",
            "CMR",
            "SLE",
            "SLE",
            "GNQ",
            "BFA",
            "CIV",
            "ETH",
            "CIV",
            "BDI",
            "BDI",
            "ZMB",
            "LSO",
            "ZAF",
            "MLI",
            "MLI",
            "MRT",
            "CIV",
            "TGO",
            "SLE",
            "MUS",
            "MWI",
            "MWI",
            "MOZ",
            "CPV",
            "GHA",
            "GHA",
            "TGO",
            "KEN",
            "UGA",
            "SWZ",
            "GIN",
            "GIN",
            "NER",
            "UGA",
            "TZA",
            "RWA",
            "GAB",
            "AGO",
            "TZA",
            "ETH",
            "COM",
            "TCD",
            "GNB",
            "GNB",
            "BEN",
            "NGA",
            "ZWE",
            "COG",
            "COD",
            "SEN",
            "LBR",
            "GMB",
            "MDG",
            "MDG",
            "LBR",
            "NAM",
            "BWA",
            "STP",
            "UGA",
            "CAF"
           ],
           "name": "",
           "type": "choropleth",
           "z": {
            "bdata": "AAAAAMDFQkEAAAAAwMVCQQAAAADiridBAAAAAOKuJ0EfhetR0EPkQAAAAIBJrkJBAAAAgOV8Q0EAAACANrJkQQAAAAAAAPh/AAAAAFbfLEEAAAAAVt8sQQAAAABdZTxBrkfhesKuAkHD9ShcJBotQQAAAAAAAPh/AAAAAI2DO0EAAAAAAAD4fwAAAAAAAPh/AAAAAHqAJ0EAAAAAAAD4f83MzMzMG7lAAAAAAAAA+H8AAACAqyZAQQAAAIBLg0dBAAAAAED05kAAAAAAMI75QAAAAAAAAPh/AAAAAHqAJ0EAAABAUZxUQQAAAAAAAPh/AAAAAAAt/0AAAAAA5Fs0QQAAAADkWzRBAAAAAOELREEAAACA049TQQAAAEAS+1dBAAAAAFfXNEEAAAAAqOQBQQAAAIASn0NBAAAAQBL7V0EAAACANrJkQaRwPQrX0ehAAAAAAMOvOEEAAAAAkDYKQQAAAACQNgpBAAAAABtOMkEAAABAwk9zQa5H4Xr0XSdBAAAAAIgkG0EAAACA2kRiQQAAAABEgzlBAAAAAOSjH0E9CtejRIjxQAAAAAD/80JBAAAAAP/zQkEAAAAA5KMfQQAAAADASAtBAAAAAOBn8UBI4XoUbhXLQAAAAIDTj1NBAAAAAJ4BIEE=",
            "dtype": "f8"
           }
          }
         ],
         "name": "2010"
        },
        {
         "data": [
          {
           "coloraxis": "coloraxis",
           "geo": "geo",
           "hovertemplate": "<b>%{hovertext}</b><br><br>Year=2011<br>CountryCode=%{location}<br>Pop. requiring PC=%{z}<extra></extra>",
           "hovertext": [
            "GHA",
            "LBR",
            "COD",
            "TZA",
            "MLI",
            "LBR",
            "MLI",
            "BEN",
            "UGA",
            "TZA",
            "MDG",
            "UGA",
            "GNQ",
            "TGO",
            "TGO",
            "LSO",
            "MWI",
            "SWZ",
            "BWA",
            "BFA",
            "GHA",
            "ETH",
            "AGO",
            "NGA",
            "ZAF",
            "MUS",
            "NER",
            "KEN",
            "RWA",
            "CIV",
            "CPV",
            "CMR",
            "CMR",
            "MOZ",
            "MOZ",
            "CAF",
            "COG",
            "GMB",
            "BDI",
            "STP",
            "ZWE",
            "NAM",
            "GAB",
            "SLE",
            "NER",
            "SEN",
            "GNB",
            "MRT",
            "TCD",
            "ZMB",
            "GIN",
            "COM",
            "SLE",
            "BDI",
            "GIN"
           ],
           "locations": [
            "GHA",
            "LBR",
            "COD",
            "TZA",
            "MLI",
            "LBR",
            "MLI",
            "BEN",
            "UGA",
            "TZA",
            "MDG",
            "UGA",
            "GNQ",
            "TGO",
            "TGO",
            "LSO",
            "MWI",
            "SWZ",
            "BWA",
            "BFA",
            "GHA",
            "ETH",
            "AGO",
            "NGA",
            "ZAF",
            "MUS",
            "NER",
            "KEN",
            "RWA",
            "CIV",
            "CPV",
            "CMR",
            "CMR",
            "MOZ",
            "MOZ",
            "CAF",
            "COG",
            "GMB",
            "BDI",
            "STP",
            "ZWE",
            "NAM",
            "GAB",
            "SLE",
            "NER",
            "SEN",
            "GNB",
            "MRT",
            "TCD",
            "ZMB",
            "GIN",
            "COM",
            "SLE",
            "BDI",
            "GIN"
           ],
           "name": "",
           "type": "choropleth",
           "z": {
            "bdata": "AAAAADCO+UAAAAAAQCsgQQAAAOBxjmJBAAAAAAAA+H8AAAAAAAD4fwAAAABAKyBBAAAAAIYbPEEAAAAAYMQyQQAAAIC+HlRBAAAAADWpWEEAAACAvDVDQQAAAAAAAPh/pHA9CjfG5EAAAAAAAsonQQAAAAACyidB7FG4HmOrAkEAAACAtW9AQQAAAADAbf9AzczMzGyb8UAAAAAAHktDQQAAAAAAAPh/AAAAQIkMZUEAAACAMfNDQQAAAKAsj3NBhetRuAgHLUGPwvUo3AO5QAAAAABA2kRBAAAAgL8PVUEAAAAAxW01QQAAAIDDvUNBAAAAAKDZ5kAAAACAKg1DQQAAAAAAAPh/AAAAAP2mR0EAAAAA/aZHQQAAAAAmGCBBAAAAAHhdG0FxPQrXL87xQAAAAAAkgy1BzczMzMwVy0B7FK5HiZ8nQQAAAAA4gAtBAAAAAHAGAkEAAAAApBUoQQAAAABA2kRBAAAAAKD3OUEAAAAA6LAKQQAAAAAAAPh/AAAAAB0tOUEAAAAAxOU8QQAAAACaxjRBH4XrUbgq6UAAAAAApBUoQQAAAAAkgy1BAAAAAJrGNEE=",
            "dtype": "f8"
           }
          }
         ],
         "name": "2011"
        },
        {
         "data": [
          {
           "coloraxis": "coloraxis",
           "geo": "geo",
           "hovertemplate": "<b>%{hovertext}</b><br><br>Year=2012<br>CountryCode=%{location}<br>Pop. requiring PC=%{z}<extra></extra>",
           "hovertext": [
            "BEN",
            "STP",
            "COG",
            "GNB",
            "NGA",
            "UGA",
            "TZA",
            "UGA",
            "ETH",
            "TCD",
            "GAB",
            "CAF",
            "GHA",
            "GHA",
            "CAF",
            "RWA",
            "LBR",
            "BWA",
            "SWZ",
            "NER",
            "COM",
            "NER",
            "TZA",
            "UGA",
            "COD",
            "MDG",
            "BDI",
            "BDI",
            "ZAF",
            "MLI",
            "NGA",
            "GIN",
            "MRT",
            "SLE",
            "TGO",
            "AGO",
            "LSO",
            "NAM",
            "MWI",
            "MUS",
            "KEN",
            "MWI",
            "BFA",
            "MDG",
            "GMB",
            "CMR",
            "MOZ",
            "CMR",
            "CIV",
            "GNQ",
            "SEN",
            "ZWE",
            "ZMB",
            "CPV",
            "BFA"
           ],
           "locations": [
            "BEN",
            "STP",
            "COG",
            "GNB",
            "NGA",
            "UGA",
            "TZA",
            "UGA",
            "ETH",
            "TCD",
            "GAB",
            "CAF",
            "GHA",
            "GHA",
            "CAF",
            "RWA",
            "LBR",
            "BWA",
            "SWZ",
            "NER",
            "COM",
            "NER",
            "TZA",
            "UGA",
            "COD",
            "MDG",
            "BDI",
            "BDI",
            "ZAF",
            "MLI",
            "NGA",
            "GIN",
            "MRT",
            "SLE",
            "TGO",
            "AGO",
            "LSO",
            "NAM",
            "MWI",
            "MUS",
            "KEN",
            "MWI",
            "BFA",
            "MDG",
            "GMB",
            "CMR",
            "MOZ",
            "CMR",
            "CIV",
            "GNQ",
            "SEN",
            "ZWE",
            "ZMB",
            "CPV",
            "BFA"
           ],
           "name": "",
           "type": "choropleth",
           "z": {
            "bdata": "AAAAAMDyMkHNzMzMjDHLQAAAAAC8OB9BAAAAAMjPB0EAAAAAAAD4fwAAAMC5ZVRBAAAAAAAA+H8AAAAAAAD4fwAAAOCsHmJBAAAAAMb+OEEAAAAASG0CQQAAAAAmDiBBAAAAADCO+UAAAAAAAAD4fwAAAAAmDiBBAAAAAPOFN0EAAAAAHDAhQTMzMzNz4fFAAAAA/K/r/kAAAACA86xDQUjhehSuJe9AAAAAAAAA+H8AAAAA8oVZQQAAAAAAAPh/AAAAwBlZYkEAAAAAMMREQQAAAADS4i1BAAAAANLiLUHsUbgeWO4rQQAAAABjVUJBAAAAYCXXdEEAAAAAsK40QQAAAAAAAPh/AAAAAODzJ0EAAAAAwDwlQQAAAABzt0RBXI/C9ZwaA0EAAAAAYCMMQQAAAADBfkFBXI/C9eijtkAAAACAWPRUQQAAAAAAAPh/AAAAAAAA+H8AAAAAAAD4fx+F61E43fJAAAAAgM32QkEAAAAA1LBHQQAAAIDN9kJBAAAAgOFJQkHD9ShcP0XlQAAAAADyDzpBmpmZmdVeJ0EAAAAA4fw+QQAAAABAQ+NAAAAAABeyQkE=",
            "dtype": "f8"
           }
          }
         ],
         "name": "2012"
        },
        {
         "data": [
          {
           "coloraxis": "coloraxis",
           "geo": "geo",
           "hovertemplate": "<b>%{hovertext}</b><br><br>Year=2013<br>CountryCode=%{location}<br>Pop. requiring PC=%{z}<extra></extra>",
           "hovertext": [
            "KEN",
            "GIN",
            "LSO",
            "GHA",
            "GMB",
            "ETH",
            "ETH",
            "GNB",
            "GNB",
            "GAB",
            "GIN",
            "COG",
            "LBR",
            "CPV",
            "NAM",
            "NER",
            "NER",
            "NER",
            "COM",
            "TGO",
            "BDI",
            "NGA",
            "NGA",
            "BDI",
            "TCD",
            "TCD",
            "LBR",
            "BFA",
            "RWA",
            "CAF",
            "CAF",
            "ZMB",
            "STP",
            "ZAF",
            "ZMB",
            "SEN",
            "SEN",
            "SEN",
            "SLE",
            "SLE",
            "ZMB",
            "CMR",
            "CMR",
            "SSD",
            "BFA",
            "NAM",
            "MOZ",
            "SWZ",
            "MDG",
            "MDG",
            "MDG",
            "TZA",
            "GNQ",
            "MWI",
            "TZA",
            "MWI",
            "BEN",
            "BEN",
            "MLI",
            "BWA",
            "AGO",
            "COD",
            "SLE",
            "ZWE",
            "MRT",
            "MRT",
            "MOZ",
            "UGA",
            "UGA",
            "MUS",
            "CIV",
            "UGA",
            "CIV"
           ],
           "locations": [
            "KEN",
            "GIN",
            "LSO",
            "GHA",
            "GMB",
            "ETH",
            "ETH",
            "GNB",
            "GNB",
            "GAB",
            "GIN",
            "COG",
            "LBR",
            "CPV",
            "NAM",
            "NER",
            "NER",
            "NER",
            "COM",
            "TGO",
            "BDI",
            "NGA",
            "NGA",
            "BDI",
            "TCD",
            "TCD",
            "LBR",
            "BFA",
            "RWA",
            "CAF",
            "CAF",
            "ZMB",
            "STP",
            "ZAF",
            "ZMB",
            "SEN",
            "SEN",
            "SEN",
            "SLE",
            "SLE",
            "ZMB",
            "CMR",
            "CMR",
            "SSD",
            "BFA",
            "NAM",
            "MOZ",
            "SWZ",
            "MDG",
            "MDG",
            "MDG",
            "TZA",
            "GNQ",
            "MWI",
            "TZA",
            "MWI",
            "BEN",
            "BEN",
            "MLI",
            "BWA",
            "AGO",
            "COD",
            "SLE",
            "ZWE",
            "MRT",
            "MRT",
            "MOZ",
            "UGA",
            "UGA",
            "MUS",
            "CIV",
            "UGA",
            "CIV"
           ],
           "name": "",
           "type": "choropleth",
           "z": {
            "bdata": "AAAAgHFdVUEAAAAAsKM2QTMzMzO7kgJBKlyPwuEY+kAK16Nwva/0QAAAAEBcimVBAAAAQFyKZUEAAAAAaOAJQQAAAABo4AlBAAAAAFBmB0EAAAAAAAD4fwAAAADspyFBAAAAACSTIEEAAAAAoMXiQAAAAADYpAtBAAAAgMbhRUEAAAAAAAD4fwAAAAAAAPh/pHA9CtfT7EAAAAAAakgqQQAAAABkcTZBAAAAcJjUdkEAAABwmNR2QQAAAABkcTZBAAAAAJhXPUEAAAAAmFc9QQAAAAAkkyBBAAAAAAAA+H8AAAAARoM2QQAAAAD+LyBBAAAAAP4vIEEAAAAAVsU/Qa5H4XqUfM9A16NwvTpWMUEAAAAAVsU/QQAAAABPlDxBAAAAAE+UPEEAAAAAT5Q8QQAAAACGjyZBAAAAAIaPJkEAAAAAVsU/QQAAAABb2EVBAAAAAFvYRUEAAAAAQlQ1QQAAAICx3EFBAAAAANikC0EAAACAq71KQQAAAACYYQBBAAAAgGisRUEAAACAaKxFQQAAAIBorEVBAAAAwLEIWkHNzMzMdIHlQAAAAACKOkFBAAAAwLEIWkEAAAAAijpBQQAAAACi9TNBAAAAAAAA+H8AAAAANIRBQdejcD26MvBAAAAAgOEcSEEAAABA4cNhQQAAAACGjyZBZmZmZoi/LUEAAAAAAAD4fwAAAAAAAPh/AAAAgKu9SkEAAAAAAAD4fwAAAAAAAPh/AAAAAABStEAAAAAAlhlDQQAAAAC8W1VBAAAAAAAA+H8=",
            "dtype": "f8"
           }
          }
         ],
         "name": "2013"
        },
        {
         "data": [
          {
           "coloraxis": "coloraxis",
           "geo": "geo",
           "hovertemplate": "<b>%{hovertext}</b><br><br>Year=2014<br>CountryCode=%{location}<br>Pop. requiring PC=%{z}<extra></extra>",
           "hovertext": [
            "TZA",
            "TGO",
            "SLE",
            "SSD",
            "TZA",
            "UGA",
            "TGO",
            "UGA",
            "ZAF",
            "TZA",
            "UGA",
            "ZMB",
            "SEN",
            "LBR",
            "MDG",
            "MDG",
            "MDG",
            "LSO",
            "MWI",
            "MWI",
            "MLI",
            "ZWE",
            "MRT",
            "KEN",
            "MRT",
            "MUS",
            "MOZ",
            "MOZ",
            "MOZ",
            "NAM",
            "NER",
            "GNB",
            "GNB",
            "NGA",
            "NGA",
            "RWA",
            "RWA",
            "STP",
            "SEN",
            "SEN",
            "GIN",
            "NER",
            "KEN",
            "BFA",
            "ETH",
            "TCD",
            "GAB",
            "BWA",
            "BFA",
            "GNQ",
            "BEN",
            "BEN",
            "AGO",
            "COD",
            "CMR",
            "CMR",
            "BDI",
            "GMB",
            "BDI",
            "COG",
            "ETH",
            "TCD",
            "CAF",
            "COD",
            "COD",
            "ETH",
            "CIV",
            "CAF",
            "COM",
            "CMR",
            "CPV",
            "GHA",
            "SWZ",
            "GHA"
           ],
           "locations": [
            "TZA",
            "TGO",
            "SLE",
            "SSD",
            "TZA",
            "UGA",
            "TGO",
            "UGA",
            "ZAF",
            "TZA",
            "UGA",
            "ZMB",
            "SEN",
            "LBR",
            "MDG",
            "MDG",
            "MDG",
            "LSO",
            "MWI",
            "MWI",
            "MLI",
            "ZWE",
            "MRT",
            "KEN",
            "MRT",
            "MUS",
            "MOZ",
            "MOZ",
            "MOZ",
            "NAM",
            "NER",
            "GNB",
            "GNB",
            "NGA",
            "NGA",
            "RWA",
            "RWA",
            "STP",
            "SEN",
            "SEN",
            "GIN",
            "NER",
            "KEN",
            "BFA",
            "ETH",
            "TCD",
            "GAB",
            "BWA",
            "BFA",
            "GNQ",
            "BEN",
            "BEN",
            "AGO",
            "COD",
            "CMR",
            "CMR",
            "BDI",
            "GMB",
            "BDI",
            "COG",
            "ETH",
            "TCD",
            "CAF",
            "COD",
            "COD",
            "ETH",
            "CIV",
            "CAF",
            "COM",
            "CMR",
            "CPV",
            "GHA",
            "SWZ",
            "GHA"
           ],
           "name": "",
           "type": "choropleth",
           "z": {
            "bdata": "AAAAAAAA+H8AAAAAiDYnQQAAAABQsSZBAAAAAFEBNkEAAABAkodaQQAAAMD1qlRBAAAAAIg2J0EAAADA9apUQQAAAACNLjFBAAAAQJKHWkEAAAAAAAD4fwAAAIAsZUBBAAAAAAAA+H8AAAAADsMgQQAAAABlKUZBAAAAAGUpRkEAAAAAZSlGQQAAAADAyQJBAAAAgFF/QUEAAACAUX9BQQAAAABBEkJBAAAAAFZLLkEAAAAAAAD4fwAAAIBuiEtBAAAAAAAA+H8AAAAAAAD4fwAAAICoKE9BAAAAAAAA+H8AAAAAAAD4fwAAAABw0AtBAAAAgAbBRkEAAAAAoFMKQQAAAACgUwpBAAAAgBKWc0EAAACAEpZzQQAAAAC08CxBAAAAALTwLEEAAAAAAMPPQAAAAAC8ST9BAAAAALxJP0EAAAAA4gc3QQAAAIAGwUZBAAAAgG6IS0EAAACAHDVCQQAAAAAAAPh/AAAAAK3+PUEAAAAAwOIHQQAAAACwO/BAAAAAgBw1QkEAAAAA4PzlQAAAAABCCSJBAAAAAAAA+H8AAACAvzRKQQAAAAC2HmJBAAAAAEcoRUEAAAAARyhFQQAAAABcHjRBAAAAAPBP9UAAAAAAXB40QQAAAACCECJBAAAAYDXDZUEAAAAArf49QQAAAAC4ayBBAAAAALYeYkEAAAAAAAD4fwAAAGA1w2VBAAAAAECqJkEAAAAAuGsgQQAAAACAHu1AAAAAAAAA+H8AAAAAIKviQAAAAAAAAPh/AAAAAFCQAEEAAACAD3lGQQ==",
            "dtype": "f8"
           }
          }
         ],
         "name": "2014"
        },
        {
         "data": [
          {
           "coloraxis": "coloraxis",
           "geo": "geo",
           "hovertemplate": "<b>%{hovertext}</b><br><br>Year=2015<br>CountryCode=%{location}<br>Pop. requiring PC=%{z}<extra></extra>",
           "hovertext": [
            "COD",
            "SWZ",
            "ZMB",
            "ZAF",
            "BDI",
            "MLI",
            "CAF",
            "MLI",
            "KEN",
            "BDI",
            "KEN",
            "BDI",
            "COD",
            "KEN",
            "MRT",
            "STP",
            "CMR",
            "CMR",
            "CMR",
            "SEN",
            "SEN",
            "ERI",
            "MDG",
            "MDG",
            "MDG",
            "LBR",
            "SEN",
            "ETH",
            "ETH",
            "ETH",
            "TZA",
            "TZA",
            "TZA",
            "GNQ",
            "LSO",
            "BEN",
            "BEN",
            "BEN",
            "MWI",
            "SSD",
            "MRT",
            "ZMB",
            "BFA",
            "SLE",
            "NER",
            "GHA",
            "GHA",
            "NER",
            "GMB",
            "BWA",
            "COM",
            "COG",
            "COG",
            "BFA",
            "AGO",
            "ZWE",
            "GIN",
            "NAM",
            "COG",
            "TGO",
            "MOZ",
            "MOZ",
            "SLE",
            "RWA",
            "UGA",
            "CIV",
            "RWA",
            "RWA",
            "TCD",
            "NGA",
            "UGA",
            "UGA",
            "GNB",
            "GNB",
            "GAB",
            "CPV",
            "NGA"
           ],
           "locations": [
            "COD",
            "SWZ",
            "ZMB",
            "ZAF",
            "BDI",
            "MLI",
            "CAF",
            "MLI",
            "KEN",
            "BDI",
            "KEN",
            "BDI",
            "COD",
            "KEN",
            "MRT",
            "STP",
            "CMR",
            "CMR",
            "CMR",
            "SEN",
            "SEN",
            "ERI",
            "MDG",
            "MDG",
            "MDG",
            "LBR",
            "SEN",
            "ETH",
            "ETH",
            "ETH",
            "TZA",
            "TZA",
            "TZA",
            "GNQ",
            "LSO",
            "BEN",
            "BEN",
            "BEN",
            "MWI",
            "SSD",
            "MRT",
            "ZMB",
            "BFA",
            "SLE",
            "NER",
            "GHA",
            "GHA",
            "NER",
            "GMB",
            "BWA",
            "COM",
            "COG",
            "COG",
            "BFA",
            "AGO",
            "ZWE",
            "GIN",
            "NAM",
            "COG",
            "TGO",
            "MOZ",
            "MOZ",
            "SLE",
            "RWA",
            "UGA",
            "CIV",
            "RWA",
            "RWA",
            "TCD",
            "NGA",
            "UGA",
            "UGA",
            "GNB",
            "GNB",
            "GAB",
            "CPV",
            "NGA"
           ],
           "name": "",
           "type": "choropleth",
           "z": {
            "bdata": "AAAAQJ5xYUEAAAAAACTEQAAAAABgoidBAAAAAAtZMUEAAAAAVI4zQQAAAABBEkJBAAAAAK6/IEEAAAAAQRJCQQAAAACqqUlBAAAAAAAA+H8AAAAAqqlJQQAAAABUjjNBAAAAQJ5xYUEAAAAAqqlJQQAAAAAAAPh/AAAAAIBl3UAAAAAAAAD4fwAAAAAAAPh/AAAAACRvRkEAAAAA+PY/QQAAAAD49j9BAAAAAAAA+H8AAACA0ulKQQAAAIDS6UpBAAAAgNLpSkEAAAAAYCshQQAAAAAAAPh/AAAAgPNOZkEAAACA805mQQAAAAAAAPh/AAAAwBFHV0EAAADAEUdXQQAAAMARR1dBAAAAAKCi5kAAAAAAoAQDQQAAAADeqiJBAAAAAN6qIkEAAAAAAAD4fwAAAADUCkJBAAAAAAnMNkEAAAAAAAD4fwAAAAAAAPh/AAAAAAAA+H8AAAAAAAD4fwAAAICUXUtBAAAAAAAA+H8AAACALgxHQQAAAICUXUtBAAAAAGA34kAAAAAAUIvwQAAAAACA0e1AAAAAAIBeEEEAAAAAAAD4fwAAAIAcNUJBAAAAAPeRTEEAAAAAiQM5QQAAAAA4wyhBAAAAAJAk+kAAAAAAAAD4fwAAAACINidBAAAAAO8DUEEAAAAA7wNQQQAAAACE8x9BAAAAAAAA+H8AAAAAAAD4fwAAAACWKCtBAAAAACnyMkEAAAAAKfIyQQAAAAAwF/9AAAAAcON9c0EAAADAXgtTQQAAAMBeC1NBAAAAAHBFBEEAAAAAcEUEQQAAAAAQawhBAAAAAIDo4kAAAAAAAAD4fw==",
            "dtype": "f8"
           }
          }
         ],
         "name": "2015"
        },
        {
         "data": [
          {
           "coloraxis": "coloraxis",
           "geo": "geo",
           "hovertemplate": "<b>%{hovertext}</b><br><br>Year=2016<br>CountryCode=%{location}<br>Pop. requiring PC=%{z}<extra></extra>",
           "hovertext": [
            "ERI",
            "TGO",
            "TCD",
            "TZA",
            "NGA",
            "TZA",
            "TZA",
            "NGA",
            "MDG",
            "MDG",
            "MDG",
            "TZA",
            "NER",
            "NGA",
            "ERI",
            "COM",
            "COG",
            "UGA",
            "TGO",
            "RWA",
            "UGA",
            "CIV",
            "CAF",
            "SSD",
            "CAF",
            "MLI",
            "CAF",
            "MOZ",
            "COD",
            "MOZ",
            "COD",
            "COD",
            "SSD",
            "BFA",
            "BFA",
            "STP",
            "MWI",
            "MWI",
            "BWA",
            "BEN",
            "BEN",
            "BEN",
            "UGA",
            "COG",
            "NAM",
            "GNQ",
            "COG",
            "SWZ",
            "TZA",
            "CMR",
            "BDI",
            "CPV",
            "SEN",
            "GMB",
            "ETH",
            "GHA",
            "GHA",
            "LSO",
            "ETH",
            "ETH",
            "BDI",
            "ETH",
            "AGO",
            "AGO",
            "ZMB",
            "ZWE",
            "ZWE",
            "KEN",
            "KEN",
            "KEN",
            "GIN",
            "ZAF",
            "AGO",
            "SLE",
            "ZMB",
            "GNB",
            "GAB",
            "SLE",
            "GNB",
            "SEN",
            "LBR",
            "LBR",
            "CMR",
            "SEN",
            "CMR"
           ],
           "locations": [
            "ERI",
            "TGO",
            "TCD",
            "TZA",
            "NGA",
            "TZA",
            "TZA",
            "NGA",
            "MDG",
            "MDG",
            "MDG",
            "TZA",
            "NER",
            "NGA",
            "ERI",
            "COM",
            "COG",
            "UGA",
            "TGO",
            "RWA",
            "UGA",
            "CIV",
            "CAF",
            "SSD",
            "CAF",
            "MLI",
            "CAF",
            "MOZ",
            "COD",
            "MOZ",
            "COD",
            "COD",
            "SSD",
            "BFA",
            "BFA",
            "STP",
            "MWI",
            "MWI",
            "BWA",
            "BEN",
            "BEN",
            "BEN",
            "UGA",
            "COG",
            "NAM",
            "GNQ",
            "COG",
            "SWZ",
            "TZA",
            "CMR",
            "BDI",
            "CPV",
            "SEN",
            "GMB",
            "ETH",
            "GHA",
            "GHA",
            "LSO",
            "ETH",
            "ETH",
            "BDI",
            "ETH",
            "AGO",
            "AGO",
            "ZMB",
            "ZWE",
            "ZWE",
            "KEN",
            "KEN",
            "KEN",
            "GIN",
            "ZAF",
            "AGO",
            "SLE",
            "ZMB",
            "GNB",
            "GAB",
            "SLE",
            "GNB",
            "SEN",
            "LBR",
            "LBR",
            "CMR",
            "SEN",
            "CMR"
           ],
           "name": "",
           "type": "choropleth",
           "z": {
            "bdata": "AAAAAAAA+H8AAAAAAAD4fwAAAACg8PpAAAAAgLfAWEEAAADAkSJyQQAAAAAAAPh/AAAAAAAA+H8AAAAAAAD4fwAAAAAVpDhBAAAAABWkOEEAAAAAFaQ4QQAAAIC3wFhBAAAAgM9uTEEAAAAAAAD4fwAAAAAAAPh/AAAAAOCD7kAAAAAA8JEkQQAAAAAAAPh/AAAAAPSUL0EAAAAAQmozQQAAAIC9/lNBAAAAAIqwKEEAAAAAcO0gQQAAAABBdzdBAAAAAHDtIEEAAAAAzp1CQQAAAAAAAPh/AAAAAKVGUUEAAABgpnVhQQAAAAAAAPh/AAAAYKZ1YUEAAAAAAAD4fwAAAABBdzdBAAAAAAS/QkEAAAAABL9CQQAAAABAmdZAAAAAgBmKRkEAAACAGYpGQQAAAAAQ2vBAAAAAAAAA+H8AAAAAAAD4fwAAAABkCS5BAAAAgL3+U0EAAAAAAAD4fwAAAACQJPpAAAAAAACG50AAAAAAAAD4fwAAAAAALb5AAAAAAAAA+H8AAAAAAAD4fwAAAABezjRBAAAAAMA75EAAAAAAAAD4fwAAAAAAx+JAAAAAYJPqYUEAAAAAAAD4fwAAAAAvDEdBAAAAAPBFA0EAAAAAAAD4fwAAAAAAAPh/AAAAAF7ONEEAAAAAAAD4fwAAAAAAAPh/AAAAgF+ET0EAAAAAmkInQQAAAAAAAPh/AAAAAIhxNUEAAAAAYy5JQQAAAABjLklBAAAAAAAA+H8AAAAAOMMoQQAAAAA3kzFBAAAAAAAA+H8AAAAAWoQyQQAAAAAAAPh/AAAAAFBS/EAAAAAAqC4CQQAAAABahDJBAAAAAAAA+H8AAAAAAAD4fwAAAACA+hFBAAAAAID6EUEAAAAAJG9GQQAAAICNckBBAAAAAAAA+H8=",
            "dtype": "f8"
           }
          }
         ],
         "name": "2016"
        },
        {
         "data": [
          {
           "coloraxis": "coloraxis",
           "geo": "geo",
           "hovertemplate": "<b>%{hovertext}</b><br><br>Year=2017<br>CountryCode=%{location}<br>Pop. requiring PC=%{z}<extra></extra>",
           "hovertext": [
            "AGO",
            "COG",
            "MOZ",
            "COG",
            "COG",
            "MOZ",
            "SLE",
            "NAM",
            "SLE",
            "MLI",
            "MLI",
            "GAB",
            "MOZ",
            "MOZ",
            "KEN",
            "KEN",
            "BDI",
            "ZAF",
            "SSD",
            "CAF",
            "AGO",
            "UGA",
            "CIV",
            "CPV",
            "AGO",
            "ZMB",
            "RWA",
            "RWA",
            "CIV",
            "BDI",
            "MRT",
            "COD",
            "SWZ",
            "GMB",
            "BDI",
            "BWA",
            "UGA",
            "UGA",
            "BFA",
            "GNB",
            "GNB",
            "COG",
            "COD",
            "ZAF",
            "NER",
            "ETH",
            "ETH",
            "LBR",
            "ETH",
            "LSO",
            "ZWE",
            "GNQ",
            "NER",
            "COD",
            "SEN",
            "SEN",
            "TGO",
            "SEN",
            "TZA",
            "GHA",
            "GHA",
            "TZA",
            "TZA",
            "TGO",
            "MDG",
            "MDG",
            "ETH",
            "BEN",
            "LBR",
            "STP",
            "BFA",
            "TCD",
            "CMR",
            "CMR",
            "GIN",
            "NGA",
            "BEN",
            "GIN",
            "TCD",
            "ERI",
            "NGA",
            "MWI",
            "MWI",
            "NGA",
            "ERI",
            "COM",
            "ZWE",
            "BEN",
            "NGA",
            "CMR"
           ],
           "locations": [
            "AGO",
            "COG",
            "MOZ",
            "COG",
            "COG",
            "MOZ",
            "SLE",
            "NAM",
            "SLE",
            "MLI",
            "MLI",
            "GAB",
            "MOZ",
            "MOZ",
            "KEN",
            "KEN",
            "BDI",
            "ZAF",
            "SSD",
            "CAF",
            "AGO",
            "UGA",
            "CIV",
            "CPV",
            "AGO",
            "ZMB",
            "RWA",
            "RWA",
            "CIV",
            "BDI",
            "MRT",
            "COD",
            "SWZ",
            "GMB",
            "BDI",
            "BWA",
            "UGA",
            "UGA",
            "BFA",
            "GNB",
            "GNB",
            "COG",
            "COD",
            "ZAF",
            "NER",
            "ETH",
            "ETH",
            "LBR",
            "ETH",
            "LSO",
            "ZWE",
            "GNQ",
            "NER",
            "COD",
            "SEN",
            "SEN",
            "TGO",
            "SEN",
            "TZA",
            "GHA",
            "GHA",
            "TZA",
            "TZA",
            "TGO",
            "MDG",
            "MDG",
            "ETH",
            "BEN",
            "LBR",
            "STP",
            "BFA",
            "TCD",
            "CMR",
            "CMR",
            "GIN",
            "NGA",
            "BEN",
            "GIN",
            "TCD",
            "ERI",
            "NGA",
            "MWI",
            "MWI",
            "NGA",
            "ERI",
            "COM",
            "ZWE",
            "BEN",
            "NGA",
            "CMR"
           ],
           "name": "",
           "type": "choropleth",
           "z": {
            "bdata": "AAAAAAAA+H8AAAAAAAD4fwAAAAAAAPh/AAAAAAAA+H8AAAAAuFwRQQAAAAAAAPh/AAAAAOaUNEEAAAAAkCT6QAAAAADmlDRBAAAAAAAA+H8AAAAAAAD4fwAAAACoLgJBAAAAAAAA+H8AAAAAh+dQQQAAAIC/h0VBAAAAgL+HRUEAAAAAAAD4fwAAAAACIlVBAAAAAEF3N0EAAAAAcO0gQQAAAAAAAPh/AAAAAAAA+H8AAAAAAAD4fwAAAABgeuRAAAAAQBkNUEEAAAAABrMpQQAAAACSnzNBAAAAAJKfM0EAAAAAfskpQQAAAAC90zZBAAAAAAAA+H8AAABA3jBjQQAAAACgd+9AAAAAACDG4UAAAAAAvdM2QQAAAADA0u1AAAAAAN+BVEEAAAAA34FUQQAAAAAAAPh/AAAAANgGCkEAAAAA2AYKQQAAAAAAAPh/AAAAQN4wY0EAAAAAAiJVQQAAAIB7I0dBAAAAAAAA+H8AAABgNG5gQQAAAADINBBBAAAAYDRuYEEAAAAAYKH6QAAAAAD6vjlBAAAAAACG50AAAACAeyNHQQAAAAAAAPh/AAAAAAAA+H8AAAAAAAD4fwAAAACAPgJBAAAAAIT1QEEAAAAAAAD4fwAAAIB2SEhBAAAAAAAA+H8AAADAXN5YQQAAAMBc3lhBAAAAAIA+AkEAAACA8qBCQQAAAIDyoEJBAAAAAAAA+H8AAAAA1rojQQAAAADINBBBAAAAAECZ1kAAAAAAAAD4fwAAAADgigFBAAAAAAAA+H8AAAAAAAD4fwAAAABYoi9BAAAAAAAA+H8AAAAAAAD4fwAAAAAAAPh/AAAAAOCKAUEAAAAAAAD4fwAAAGCPk3JBAAAAgAg0R0EAAACACDRHQQAAAGCPk3JBAAAAAAAA+H8AAAAAQEP4QAAAAAD6vjlBAAAAAAAA+H8AAAAAAAD4fwAAAABN6EdB",
            "dtype": "f8"
           }
          }
         ],
         "name": "2017"
        },
        {
         "data": [
          {
           "coloraxis": "coloraxis",
           "geo": "geo",
           "hovertemplate": "<b>%{hovertext}</b><br><br>Year=2018<br>CountryCode=%{location}<br>Pop. requiring PC=%{z}<extra></extra>",
           "hovertext": [
            "ZWE",
            "BDI",
            "MOZ",
            "MOZ",
            "BDI",
            "GIN",
            "TGO",
            "GIN",
            "GMB",
            "SLE",
            "NGA",
            "NGA",
            "NGA",
            "SLE",
            "TGO",
            "NAM",
            "COG",
            "BWA",
            "NER",
            "NER",
            "GHA",
            "GHA",
            "TGO",
            "COM",
            "GAB",
            "RWA",
            "GAB",
            "COD",
            "COD",
            "ZAF",
            "GAB",
            "ETH",
            "BEN",
            "BEN",
            "STP",
            "MWI",
            "ETH",
            "ETH",
            "ETH",
            "STP",
            "BEN",
            "LSO",
            "GNQ",
            "SEN",
            "SEN",
            "TCD",
            "MDG",
            "SWZ",
            "CMR",
            "TZA",
            "LBR",
            "ERI",
            "TZA",
            "TZA",
            "COD",
            "KEN",
            "ZAF",
            "MLI",
            "BFA",
            "BFA",
            "CAF",
            "GNB",
            "GNB",
            "GNB",
            "CIV",
            "CIV",
            "ZMB",
            "MLI",
            "RWA",
            "UGA",
            "UGA",
            "UGA",
            "MRT",
            "TCD",
            "MLI",
            "AGO",
            "SSD",
            "AGO",
            "CPV",
            "AGO"
           ],
           "locations": [
            "ZWE",
            "BDI",
            "MOZ",
            "MOZ",
            "BDI",
            "GIN",
            "TGO",
            "GIN",
            "GMB",
            "SLE",
            "NGA",
            "NGA",
            "NGA",
            "SLE",
            "TGO",
            "NAM",
            "COG",
            "BWA",
            "NER",
            "NER",
            "GHA",
            "GHA",
            "TGO",
            "COM",
            "GAB",
            "RWA",
            "GAB",
            "COD",
            "COD",
            "ZAF",
            "GAB",
            "ETH",
            "BEN",
            "BEN",
            "STP",
            "MWI",
            "ETH",
            "ETH",
            "ETH",
            "STP",
            "BEN",
            "LSO",
            "GNQ",
            "SEN",
            "SEN",
            "TCD",
            "MDG",
            "SWZ",
            "CMR",
            "TZA",
            "LBR",
            "ERI",
            "TZA",
            "TZA",
            "COD",
            "KEN",
            "ZAF",
            "MLI",
            "BFA",
            "BFA",
            "CAF",
            "GNB",
            "GNB",
            "GNB",
            "CIV",
            "CIV",
            "ZMB",
            "MLI",
            "RWA",
            "UGA",
            "UGA",
            "UGA",
            "MRT",
            "TCD",
            "MLI",
            "AGO",
            "SSD",
            "AGO",
            "CPV",
            "AGO"
           ],
           "name": "",
           "type": "choropleth",
           "z": {
            "bdata": "AAAAAPq+OUEAAAAA+F83QQAAAIC4mk1BAAAAAAAA+H8AAAAA+F83QQAAAAAKeytBAAAAAAAA+H8AAAAAAAD4fwAAAACgOOBAAAAAAEs1M0EAAAAAAAD4fwAAAAAAAPh/AAAA0D0ec0EAAAAASzUzQQAAAAACjClBAAAAAJAk+kAAAAAAuFwRQQAAAADA0u1AAAAAAF0MTkEAAAAAAAD4fwAAAAC1YklBAAAAAAAA+H8AAAAAAAD4fwAAAABAQ/hAAAAAAAAA+H8AAAAAUGAwQQAAAABIIQNBAAAAAAAA+H8AAAAAAAD4fwAAAABWYlRBAAAAAAAA+H8AAAAAAAD4fwAAAAAAAPh/AAAAAAAA+H8AAAAAwDzYQAAAAAA/mEhBAAAAAAAA+H8AAAAAAAD4fwAAAKC2OmFBAAAAAAAA+H8AAAAA0CMkQQAAAABgH/xAAAAAAACG50AAAAAAAAD4fwAAAACUeitBAAAAAKDM/EAAAACA8qBCQQAAAAAAAqtAAAAAABuCSEEeuv17ovZVQQAAAADYvRJBAAAAAAAA+H8AAAAAAAD4fwAAAAAAAPh/AAAAwJPNYUEAAACA76ZBQQAAAAAAAPh/AAAAAAAA+H8AAAAAAAD4fwAAAAAAAPh/AAAAAJQzFkEAAAAAIPbkQAAAAAAAAPh/AAAAAAAA+H8AAAAAGHIqQQAAAAAAAPh/AAAAAIy+KEEAAAAAAAD4fwAAAABQYDBBAAAAAOFLVUEAAAAAAAD4fwAAAAAAAPh/AAAAAAAA+H8AAAAAAAD4fwAAAAAAAPh/AAAAgA7eUEEAAAAAQXc3QQAAAAAAAPh/AAAAAOC45EAAAAAAAAD4fw==",
            "dtype": "f8"
           }
          }
         ],
         "name": "2018"
        },
        {
         "data": [
          {
           "coloraxis": "coloraxis",
           "geo": "geo",
           "hovertemplate": "<b>%{hovertext}</b><br><br>Year=2019<br>CountryCode=%{location}<br>Pop. requiring PC=%{z}<extra></extra>",
           "hovertext": [
            "NGA",
            "CMR",
            "CAF",
            "CMR",
            "SLE",
            "CAF",
            "BFA",
            "NGA",
            "NGA",
            "SLE",
            "BFA",
            "CMR",
            "SSD",
            "STP",
            "STP",
            "CPV",
            "SEN",
            "SEN",
            "SLE",
            "NGA",
            "RWA",
            "SEN",
            "RWA",
            "CMR",
            "ZAF",
            "BDI",
            "TCD",
            "AGO",
            "UGA",
            "KEN",
            "KEN",
            "KEN",
            "KEN",
            "UGA",
            "ETH",
            "UGA",
            "ETH",
            "ETH",
            "BDI",
            "MRT",
            "MRT",
            "TZA",
            "CIV",
            "BEN",
            "AGO",
            "AGO",
            "MLI",
            "MLI",
            "TZA",
            "TZA",
            "ERI",
            "LBR",
            "GNQ",
            "MDG",
            "MDG",
            "LBR",
            "BEN",
            "SWZ",
            "LSO",
            "MWI",
            "ETH",
            "AGO",
            "COD",
            "COD",
            "COD",
            "COD",
            "TCD",
            "BEN",
            "CIV",
            "COG",
            "TGO",
            "TGO",
            "COM",
            "GMB",
            "GIN",
            "COM",
            "NER",
            "NAM",
            "NER",
            "NAM",
            "COG",
            "GHA",
            "BWA",
            "COM",
            "GAB",
            "MOZ",
            "MOZ",
            "GNB",
            "GNB",
            "TGO",
            "GHA",
            "ZMB",
            "ZWE",
            "ZMB"
           ],
           "locations": [
            "NGA",
            "CMR",
            "CAF",
            "CMR",
            "SLE",
            "CAF",
            "BFA",
            "NGA",
            "NGA",
            "SLE",
            "BFA",
            "CMR",
            "SSD",
            "STP",
            "STP",
            "CPV",
            "SEN",
            "SEN",
            "SLE",
            "NGA",
            "RWA",
            "SEN",
            "RWA",
            "CMR",
            "ZAF",
            "BDI",
            "TCD",
            "AGO",
            "UGA",
            "KEN",
            "KEN",
            "KEN",
            "KEN",
            "UGA",
            "ETH",
            "UGA",
            "ETH",
            "ETH",
            "BDI",
            "MRT",
            "MRT",
            "TZA",
            "CIV",
            "BEN",
            "AGO",
            "AGO",
            "MLI",
            "MLI",
            "TZA",
            "TZA",
            "ERI",
            "LBR",
            "GNQ",
            "MDG",
            "MDG",
            "LBR",
            "BEN",
            "SWZ",
            "LSO",
            "MWI",
            "ETH",
            "AGO",
            "COD",
            "COD",
            "COD",
            "COD",
            "TCD",
            "BEN",
            "CIV",
            "COG",
            "TGO",
            "TGO",
            "COM",
            "GMB",
            "GIN",
            "COM",
            "NER",
            "NAM",
            "NER",
            "NAM",
            "COG",
            "GHA",
            "BWA",
            "COM",
            "GAB",
            "MOZ",
            "MOZ",
            "GNB",
            "GNB",
            "TGO",
            "GHA",
            "ZMB",
            "ZWE",
            "ZMB"
           ],
           "name": "",
           "type": "choropleth",
           "z": {
            "bdata": "AAAAgI1ab0EAAACA1SBJQQAAAAA4AhdBAAAAgNUgSUEAAAAAAAD4fwAAAAAAAPh/AAAAAAAA+H8AAAAAAAD4fwAAAAAAAPh/AAAAAO4qNEEAAAAAAAD4fwAAAAAAAPh/AAAAANAjCUEAAAAAQCjYQAAAAABAKNhAAAAAACA04UAAAAAAAAD4fwAAAAB0FRZBAAAAAO4qNEEAAACAjVpvQQAAAAA7kzFBAAAAAHQVFkEAAAAAO5MxQQAAAAAAAPh/AAAAwM33UUEAAAAAqsInQQAAAAAAAPh/AAAAwFD0UEEAAAAAAAD4fwAAAAAAAPh/AAAAADAoPEEAAAAAMCg8QQAAAAAwKDxBAAAAQAunVUEAAABAqI9hQQAAAEALp1VBAAAAAAAA+H8AAAAAAAD4fwAAAACqwidBAAAAAAAA+H8AAAAAAAD4fwAAAAAAAPh/AAAAALgzJ0EAAAAA4islQQAAAAAAAPh/AAAAAAAA+H8AAAAAAAD4fwAAAAAAAPh/AAAAAAAA+H8AAABANjBaQQAAAAAAAPh/AAAAAEg7E0EAAAAAAIbnQAAAAACWzEZBAAAAAJbMRkEAAAAASDsTQQAAAAAAAPh/AAAAAAACq0AAAAAAMH/8QAAAAIBAAUBBAAAAQKiPYUEAAAAAAAD4fwAAAAAAAPh/AAAAgAh8YkEAAACACHxiQQAAAIAIfGJBAAAAALhQBkEAAAAAAAD4fwAAAAC4MydBAAAAAAAA+H8AAAAARmgpQQAAAAAAAPh/AAAAACCt7EAAAAAAoDjgQAAAAAAKeytBAAAAACCt7EAAAAAAFLZPQQAAAAAAAPh/AAAAABS2T0EAAAAAEDf6QAAAAABkwBNBAAAAANNzSUEAAAAAwNLtQAAAAAAgrexAAAAAAEghA0EAAAAAAAD4fwAAAACZRkhBAAAAAGCn/kAAAAAAAAD4fwAAAABGaClBAAAAAAAA+H8AAAAAjL4oQQAAAAD6vjlBAAAAAIy+KEE=",
            "dtype": "f8"
           }
          }
         ],
         "name": "2019"
        },
        {
         "data": [
          {
           "coloraxis": "coloraxis",
           "geo": "geo",
           "hovertemplate": "<b>%{hovertext}</b><br><br>Year=2020<br>CountryCode=%{location}<br>Pop. requiring PC=%{z}<extra></extra>",
           "hovertext": [
            "SLE",
            "ZWE",
            "AGO",
            "AGO",
            "LBR",
            "AGO",
            "SWZ",
            "SLE",
            "ETH",
            "GIN",
            "SEN",
            "ZMB",
            "ZMB",
            "CPV",
            "GNB",
            "GNB",
            "BDI",
            "LSO",
            "BDI",
            "BDI",
            "GAB",
            "GAB",
            "GIN",
            "ETH",
            "GMB",
            "KEN",
            "TZA",
            "MDG",
            "BEN",
            "MRT",
            "TZA",
            "BEN",
            "BEN",
            "CAF",
            "COG",
            "COG",
            "COG",
            "COG",
            "MOZ",
            "MOZ",
            "MOZ",
            "NAM",
            "NGA",
            "NGA",
            "BWA",
            "TGO",
            "TGO",
            "COM",
            "NER",
            "NER",
            "TCD",
            "TCD",
            "CIV",
            "CIV",
            "GHA",
            "BFA",
            "MDG",
            "ZAF",
            "RWA",
            "STP",
            "MDG",
            "COD",
            "MWI",
            "CMR",
            "MDG",
            "UGA",
            "GNQ",
            "ERI",
            "UGA",
            "UGA",
            "SSD",
            "MLI"
           ],
           "locations": [
            "SLE",
            "ZWE",
            "AGO",
            "AGO",
            "LBR",
            "AGO",
            "SWZ",
            "SLE",
            "ETH",
            "GIN",
            "SEN",
            "ZMB",
            "ZMB",
            "CPV",
            "GNB",
            "GNB",
            "BDI",
            "LSO",
            "BDI",
            "BDI",
            "GAB",
            "GAB",
            "GIN",
            "ETH",
            "GMB",
            "KEN",
            "TZA",
            "MDG",
            "BEN",
            "MRT",
            "TZA",
            "BEN",
            "BEN",
            "CAF",
            "COG",
            "COG",
            "COG",
            "COG",
            "MOZ",
            "MOZ",
            "MOZ",
            "NAM",
            "NGA",
            "NGA",
            "BWA",
            "TGO",
            "TGO",
            "COM",
            "NER",
            "NER",
            "TCD",
            "TCD",
            "CIV",
            "CIV",
            "GHA",
            "BFA",
            "MDG",
            "ZAF",
            "RWA",
            "STP",
            "MDG",
            "COD",
            "MWI",
            "CMR",
            "MDG",
            "UGA",
            "GNQ",
            "ERI",
            "UGA",
            "UGA",
            "SSD",
            "MLI"
           ],
           "name": "",
           "type": "choropleth",
           "z": {
            "bdata": "AAAAAA4gMEEAAAAAANYCQQAAAADdvjJBAAAAAAAA+H8AAAAAlCITQQAAAAAAAPh/AAAAAAACq0AAAAAAAAD4fwAAAAAAAPh/AAAAAApmJ0EAAAAA6AgaQQAAAACtqjVBAAAAAAAA+H8AAAAAgGfmQAAAAAAAAPh/AAAAAOB3/0AAAAAAAAD4fwAAAAAwf/xAAAAAAKRUKEEAAAAApFQoQQAAAADwnQJBAAAAAAAA+H8AAAAAAAD4fwAAAED8pWFBAAAAAKA44EAAAAAA0WxCQQAAAAAAAPh/AAAAAAAA+H8AAAAA0DgkQQAAAAAAAPh/AAAAABfWWkEAAAAAAAD4fwAAAAAAAPh/AAAAADgCF0EAAAAAAAD4fwAAAAAAAPh/AAAAAAAA+H8AAAAAEFgUQQAAAICx+k1BAAAAAAAA+H8AAAAAAAD4fwAAAAAQN/pAAAAAAAAA+H8AAADwwwlwQQAAAAAg/O9AAAAAAAAA+H8AAAAAAMkqQQAAAACAv/RAAAAAAAAA+H8AAAAAAAD4fwAAAAAAAPh/AAAAALhQBkEAAAAAhlQoQQAAAAAAAPh/AAAAANNzSUEAAAAAAAD4fwAAAADypEBBAAAAwM33UUEAAAAAmj4xQQAAAADAQNlAAAAAAAAA+H8AAABgUg1lQQAAAADVekBBAAAAACZAMkEAAAAA8qRAQQAAAAAAAPh/AAAAAACG50AAAAAAAAD4fwAAAIACJVRBAAAAgAIlVEEAAAAAYHIJQQAAAAAAAPh/",
            "dtype": "f8"
           }
          }
         ],
         "name": "2020"
        },
        {
         "data": [
          {
           "coloraxis": "coloraxis",
           "geo": "geo",
           "hovertemplate": "<b>%{hovertext}</b><br><br>Year=2021<br>CountryCode=%{location}<br>Pop. requiring PC=%{z}<extra></extra>",
           "hovertext": [
            "TGO",
            "TZA",
            "ZWE",
            "TZA",
            "BWA",
            "ZAF",
            "ZMB",
            "ZMB",
            "AGO",
            "UGA",
            "UGA",
            "BEN",
            "BEN",
            "SSD",
            "BFA",
            "AGO",
            "TZA",
            "TCD",
            "NAM",
            "MDG",
            "ETH",
            "RWA",
            "CAF",
            "CAF",
            "LBR",
            "LSO",
            "GAB",
            "GNB",
            "GNB",
            "NGA",
            "NGA",
            "TCD",
            "CIV",
            "MLI",
            "CIV",
            "MRT",
            "NER",
            "COM",
            "COM",
            "LBR",
            "KEN",
            "COG",
            "COG",
            "ETH",
            "ETH",
            "COG",
            "MOZ",
            "MOZ",
            "COG",
            "CIV",
            "MDG",
            "RWA",
            "GNQ",
            "SEN",
            "COD",
            "GIN",
            "GNQ",
            "COD",
            "COD",
            "SEN",
            "CPV",
            "BDI",
            "BDI",
            "SLE",
            "SLE",
            "GHA",
            "GHA",
            "ERI",
            "COD",
            "GMB",
            "MWI",
            "STP",
            "MWI",
            "SWZ",
            "CMR",
            "CMR"
           ],
           "locations": [
            "TGO",
            "TZA",
            "ZWE",
            "TZA",
            "BWA",
            "ZAF",
            "ZMB",
            "ZMB",
            "AGO",
            "UGA",
            "UGA",
            "BEN",
            "BEN",
            "SSD",
            "BFA",
            "AGO",
            "TZA",
            "TCD",
            "NAM",
            "MDG",
            "ETH",
            "RWA",
            "CAF",
            "CAF",
            "LBR",
            "LSO",
            "GAB",
            "GNB",
            "GNB",
            "NGA",
            "NGA",
            "TCD",
            "CIV",
            "MLI",
            "CIV",
            "MRT",
            "NER",
            "COM",
            "COM",
            "LBR",
            "KEN",
            "COG",
            "COG",
            "ETH",
            "ETH",
            "COG",
            "MOZ",
            "MOZ",
            "COG",
            "CIV",
            "MDG",
            "RWA",
            "GNQ",
            "SEN",
            "COD",
            "GIN",
            "GNQ",
            "COD",
            "COD",
            "SEN",
            "CPV",
            "BDI",
            "BDI",
            "SLE",
            "SLE",
            "GHA",
            "GHA",
            "ERI",
            "COD",
            "GMB",
            "MWI",
            "STP",
            "MWI",
            "SWZ",
            "CMR",
            "CMR"
           ],
           "name": "",
           "type": "choropleth",
           "z": {
            "bdata": "AAAAAJJ+K0EAAAAAAAD4fwAAAABYHANBAAAAAAAA+H8AAAAAAPfLQAAAAMDN91FBAAAAAAAA+H8AAAAANk02QQAAAADH4DtBAAAAAAAA+H8AAABAxUlXQQAAAAAAAPh/AAAAAIiTHEEAAAAAOAgKQQAAAAAAAPh/AAAAAMfgO0EAAACAuEpdQQAAAAAAAPh/AAAAABA3+kAAAAAAAAD4fwAAAEBCTGBBAAAAAPR0MkEAAAAA3KQhQQAAAAAAAPh/AAAAAAjXD0EAAAAAMH/8QAAAAADwnQJBAAAAAJgnAEEAAAAAAAD4fwAAAAAAAPh/AAAAwBt0cEEAAAAAYL4IQQAAAAAAAPh/AAAAAAAA+H8AAAAAAAD4fwAAAAAAAPh/AAAAAAAA+H8AAAAAgKn1QAAAAAAAAPh/AAAAAAAA+H8AAACA+fxCQQAAAAAAAPh/AAAAAAAA+H8AAAAAAAD4fwAAAAAAAPh/AAAAAAAA+H8AAAAAAAD4fwAAAMC79FBBAAAAAGzdFEEAAAAAgjEpQQAAAAAiZz9BAAAAAPR0MkEAAAAAELP+QAAAAAAAAPh/AAAAAAAA+H8AAAAA9gsoQQAAAAAQs/5AAAAAAAAA+H8AAAAAAAD4fwAAAABAvBpBAAAAAIBn5kAAAAAAIA4QQQAAAAAgDhBBAAAAANgcGUEAAAAAAAD4fwAAAAAAAPh/AAAAAAAA+H8AAAAAAAD4fwAAAMBtVVlBAAAAAIBzy0AAAAAADetAQQAAAADAutlAAAAAAA3rQEEAAAAAAAKrQAAAAADCJTJBAAAAAAAA+H8=",
            "dtype": "f8"
           }
          }
         ],
         "name": "2021"
        },
        {
         "data": [
          {
           "coloraxis": "coloraxis",
           "geo": "geo",
           "hovertemplate": "<b>%{hovertext}</b><br><br>Year=2022<br>CountryCode=%{location}<br>Pop. requiring PC=%{z}<extra></extra>",
           "hovertext": [
            "CIV",
            "COG",
            "COG",
            "MLI",
            "UGA",
            "COD",
            "SWZ",
            "COG",
            "TZA",
            "MWI",
            "UGA",
            "UGA",
            "COG",
            "KEN",
            "COD",
            "KEN",
            "COD",
            "AGO",
            "AGO",
            "COD",
            "MRT",
            "AGO",
            "LSO",
            "CIV",
            "CIV",
            "ZWE",
            "BEN",
            "COM",
            "MOZ",
            "GAB",
            "SSD",
            "SSD",
            "RWA",
            "GNQ",
            "GIN",
            "CMR",
            "CMR",
            "GIN",
            "BFA",
            "ZAF",
            "GIN",
            "SEN",
            "GMB",
            "LBR",
            "CPV",
            "GHA",
            "BDI",
            "SLE",
            "SLE",
            "STP",
            "BEN",
            "RWA",
            "ZMB",
            "ERI",
            "NAM",
            "BWA",
            "ETH",
            "ETH",
            "LBR",
            "TGO",
            "TGO",
            "MDG",
            "CAF",
            "MDG",
            "NER",
            "MDG",
            "GNB",
            "GNB",
            "TCD",
            "NGA",
            "NGA",
            "NGA",
            "GAB",
            "TZA",
            "TZA"
           ],
           "locations": [
            "CIV",
            "COG",
            "COG",
            "MLI",
            "UGA",
            "COD",
            "SWZ",
            "COG",
            "TZA",
            "MWI",
            "UGA",
            "UGA",
            "COG",
            "KEN",
            "COD",
            "KEN",
            "COD",
            "AGO",
            "AGO",
            "COD",
            "MRT",
            "AGO",
            "LSO",
            "CIV",
            "CIV",
            "ZWE",
            "BEN",
            "COM",
            "MOZ",
            "GAB",
            "SSD",
            "SSD",
            "RWA",
            "GNQ",
            "GIN",
            "CMR",
            "CMR",
            "GIN",
            "BFA",
            "ZAF",
            "GIN",
            "SEN",
            "GMB",
            "LBR",
            "CPV",
            "GHA",
            "BDI",
            "SLE",
            "SLE",
            "STP",
            "BEN",
            "RWA",
            "ZMB",
            "ERI",
            "NAM",
            "BWA",
            "ETH",
            "ETH",
            "LBR",
            "TGO",
            "TGO",
            "MDG",
            "CAF",
            "MDG",
            "NER",
            "MDG",
            "GNB",
            "GNB",
            "TCD",
            "NGA",
            "NGA",
            "NGA",
            "GAB",
            "TZA",
            "TZA"
           ],
           "name": "",
           "type": "choropleth",
           "z": {
            "bdata": "AAAAAAAA+H8AAAAAAAD4fwAAAAB4yQ5BAAAAAAAA+H8AAAAAAAD4fwAAAAAAAPh/AAAAAAChtkAAAAAAAAD4fwAAAMBN91xBAAAAgMQOQkEAAADAtgdYQQAAAMC2B1hBAAAAAAAA+H8AAAAAj6g3QQAAAAAAAPh/AAAAAI+oN0EAAAAAAAD4fwAAAAAAAPh/AAAAAISGOEEAAACA9ZBaQQAAAAAAAPh/AAAAAISGOEEAAAAAMH/8QAAAAAD41SlBAAAAAAAA+H8AAAAA4FsEQQAAAACWCSFBAAAAAICp9UAAAAAA5/ZNQQAAAAAAAPh/AAAAAAAA+H8AAAAAGB0JQQAAAACHmDJBAAAAABCz/kAAAAAAAAD4fwAAAAAAAPh/AAAAANUcNUEAAAAAAAD4fwAAAAAAAPh/AAAAACeRTkEAAAAA5OYtQQAAAADEcRtBAAAAAIBzy0AAAAAAAAD4fwAAAADAWeRAAAAAAAAA+H8AAAAAaOcPQQAAAADMMhZBAAAAAAAA+H8AAAAAQDTaQAAAAAAAAPh/AAAAAIeYMkEAAAAANk02QQAAAAAAAPh/AAAAABA3+kAAAAAAgJXJQAAAAED+/ltBAAAAAAAA+H8AAAAAiFMOQQAAAAAAAPh/AAAAAD4BK0EAAAAAAAD4fwAAAADcpCFBAAAAAFn1QEEAAAAAAAD4fwAAAABZ9UBBAAAAAAAA+H8AAAAAQE/8QAAAAAC4rAZBAAAAsNzhcEEAAAAAAAD4fwAAAAAAAPh/AAAAAEiSAUEAAAAAAAD4fwAAAAAAAPh/",
            "dtype": "f8"
           }
          }
         ],
         "name": "2022"
        },
        {
         "data": [
          {
           "coloraxis": "coloraxis",
           "geo": "geo",
           "hovertemplate": "<b>%{hovertext}</b><br><br>Year=2023<br>CountryCode=%{location}<br>Pop. requiring PC=%{z}<extra></extra>",
           "hovertext": [
            "SLE",
            "TZA",
            "GHA",
            "GMB",
            "GIN",
            "GIN",
            "GIN",
            "GAB",
            "ZMB",
            "GNB",
            "GNB",
            "ETH",
            "ETH",
            "KEN",
            "LSO",
            "SWZ",
            "TZA",
            "TZA",
            "TZA",
            "TZA",
            "LBR",
            "CIV",
            "ERI",
            "NAM",
            "COM",
            "NER",
            "NER",
            "TCD",
            "NGA",
            "NGA",
            "NGA",
            "CAF",
            "CAF",
            "BFA",
            "SSD",
            "RWA",
            "RWA",
            "RWA",
            "CMR",
            "CMR",
            "ZAF",
            "STP",
            "SEN",
            "SEN",
            "SEN",
            "CPV",
            "BDI",
            "BDI",
            "SLE",
            "SLE",
            "TGO",
            "LBR",
            "TGO",
            "MOZ",
            "GNQ",
            "MDG",
            "MDG",
            "MDG",
            "AGO",
            "AGO",
            "AGO",
            "AGO",
            "COD",
            "COD",
            "COD",
            "COD",
            "UGA",
            "UGA",
            "UGA",
            "MWI",
            "MLI",
            "CIV",
            "SLE",
            "CIV",
            "MRT",
            "COG",
            "COG",
            "COG",
            "COG",
            "BEN",
            "MOZ",
            "BWA",
            "ZWE"
           ],
           "locations": [
            "SLE",
            "TZA",
            "GHA",
            "GMB",
            "GIN",
            "GIN",
            "GIN",
            "GAB",
            "ZMB",
            "GNB",
            "GNB",
            "ETH",
            "ETH",
            "KEN",
            "LSO",
            "SWZ",
            "TZA",
            "TZA",
            "TZA",
            "TZA",
            "LBR",
            "CIV",
            "ERI",
            "NAM",
            "COM",
            "NER",
            "NER",
            "TCD",
            "NGA",
            "NGA",
            "NGA",
            "CAF",
            "CAF",
            "BFA",
            "SSD",
            "RWA",
            "RWA",
            "RWA",
            "CMR",
            "CMR",
            "ZAF",
            "STP",
            "SEN",
            "SEN",
            "SEN",
            "CPV",
            "BDI",
            "BDI",
            "SLE",
            "SLE",
            "TGO",
            "LBR",
            "TGO",
            "MOZ",
            "GNQ",
            "MDG",
            "MDG",
            "MDG",
            "AGO",
            "AGO",
            "AGO",
            "AGO",
            "COD",
            "COD",
            "COD",
            "COD",
            "UGA",
            "UGA",
            "UGA",
            "MWI",
            "MLI",
            "CIV",
            "SLE",
            "CIV",
            "MRT",
            "COG",
            "COG",
            "COG",
            "COG",
            "BEN",
            "MOZ",
            "BWA",
            "ZWE"
           ],
           "name": "",
           "type": "choropleth",
           "z": {
            "bdata": "AAAAAAAA+H8AAACAJrxdQQAAAAAAAPh/AAAAAIBzy0AAAAAAOnMhQQAAAAAAAPh/AAAAAAAA+H8AAAAACAQCQQAAAACFszdBAAAAANCt/0AAAAAAAAD4fwAAAAAAAPh/AAAAQPB/WEEAAAAAZwVBQQAAAAAwf/xAAAAAAABGvkAAAAAAAAD4fwAAAAAAAPh/AAAAAAAA+H8AAACAJrxdQQAAAACgpw9BAAAAAAAA+H8AAAAAAAD4fwAAAAAQN/pAAAAAAICp9UAAAAAAAAD4fwAAAAAAAPh/AAAAAMCjCUEAAABg6E1xQQAAAAAAAPh/AAAAAAAA+H8AAAAAiPkiQQAAAACI+SJBAAAAAAAA+H8AAAAAaEILQQAAAABevzNBAAAAAF6/M0EAAAAAAAD4fwAAAABsuTFBAAAAAGy5MUEAAAAAJ5FOQQAAAACAr9pAAAAAAB7bKUEAAAAAAAD4fwAAAAAAAPh/AAAAAMBZ5EAAAAAAqLoPQQAAAACoug9BAAAAAAAA+H8AAAAAAAD4fwAAAAAiGSxBAAAAAAAA+H8AAAAAAAD4fwAAAAAAAPh/AAAAAKgjAEEAAAAAVPVBQQAAAABU9UFBAAAAAAAA+H8AAAAAWr01QQAAAAAAAPh/AAAAAAAA+H8AAAAAAAD4fwAAAAAAAPh/AAAAAAAA+H8AAAAAAAD4fwAAAABSXGFBAAAAAAAA+H8AAABAzshWQQAAAEDOyFZBAAAAALihL0EAAAAAAAD4fwAAAAAAAPh/AAAAAG7gJkEAAAAAmn4qQQAAAAAAAPh/AAAAAAAA+H8AAAAAAAD4fwAAAAAAAPh/AAAAAPh9D0EAAAAA1NUdQQAAAAC/uE5BAAAAAAD3yUAAAAAA4FsEQQ==",
            "dtype": "f8"
           }
          }
         ],
         "name": "2023"
        }
       ],
       "layout": {
        "coloraxis": {
         "cmax": 23939463,
         "cmin": 0,
         "colorbar": {
          "title": {
           "text": "Pop. requiring PC"
          }
         },
         "colorscale": [
          [
           0,
           "#0d0887"
          ],
          [
           0.1111111111111111,
           "#46039f"
          ],
          [
           0.2222222222222222,
           "#7201a8"
          ],
          [
           0.3333333333333333,
           "#9c179e"
          ],
          [
           0.4444444444444444,
           "#bd3786"
          ],
          [
           0.5555555555555556,
           "#d8576b"
          ],
          [
           0.6666666666666666,
           "#ed7953"
          ],
          [
           0.7777777777777778,
           "#fb9f3a"
          ],
          [
           0.8888888888888888,
           "#fdca26"
          ],
          [
           1,
           "#f0f921"
          ]
         ]
        },
        "geo": {
         "center": {},
         "domain": {
          "x": [
           0,
           1
          ],
          "y": [
           0,
           1
          ]
         },
         "scope": "africa"
        },
        "legend": {
         "tracegroupgap": 0
        },
        "margin": {
         "b": 0,
         "l": 0,
         "r": 0,
         "t": 40
        },
        "sliders": [
         {
          "active": 0,
          "currentvalue": {
           "prefix": "Year="
          },
          "len": 0.9,
          "pad": {
           "b": 10,
           "t": 60
          },
          "steps": [
           {
            "args": [
             [
              "2003"
             ],
             {
              "frame": {
               "duration": 0,
               "redraw": true
              },
              "fromcurrent": true,
              "mode": "immediate",
              "transition": {
               "duration": 0,
               "easing": "linear"
              }
             }
            ],
            "label": "2003",
            "method": "animate"
           },
           {
            "args": [
             [
              "2004"
             ],
             {
              "frame": {
               "duration": 0,
               "redraw": true
              },
              "fromcurrent": true,
              "mode": "immediate",
              "transition": {
               "duration": 0,
               "easing": "linear"
              }
             }
            ],
            "label": "2004",
            "method": "animate"
           },
           {
            "args": [
             [
              "2005"
             ],
             {
              "frame": {
               "duration": 0,
               "redraw": true
              },
              "fromcurrent": true,
              "mode": "immediate",
              "transition": {
               "duration": 0,
               "easing": "linear"
              }
             }
            ],
            "label": "2005",
            "method": "animate"
           },
           {
            "args": [
             [
              "2006"
             ],
             {
              "frame": {
               "duration": 0,
               "redraw": true
              },
              "fromcurrent": true,
              "mode": "immediate",
              "transition": {
               "duration": 0,
               "easing": "linear"
              }
             }
            ],
            "label": "2006",
            "method": "animate"
           },
           {
            "args": [
             [
              "2007"
             ],
             {
              "frame": {
               "duration": 0,
               "redraw": true
              },
              "fromcurrent": true,
              "mode": "immediate",
              "transition": {
               "duration": 0,
               "easing": "linear"
              }
             }
            ],
            "label": "2007",
            "method": "animate"
           },
           {
            "args": [
             [
              "2008"
             ],
             {
              "frame": {
               "duration": 0,
               "redraw": true
              },
              "fromcurrent": true,
              "mode": "immediate",
              "transition": {
               "duration": 0,
               "easing": "linear"
              }
             }
            ],
            "label": "2008",
            "method": "animate"
           },
           {
            "args": [
             [
              "2009"
             ],
             {
              "frame": {
               "duration": 0,
               "redraw": true
              },
              "fromcurrent": true,
              "mode": "immediate",
              "transition": {
               "duration": 0,
               "easing": "linear"
              }
             }
            ],
            "label": "2009",
            "method": "animate"
           },
           {
            "args": [
             [
              "2010"
             ],
             {
              "frame": {
               "duration": 0,
               "redraw": true
              },
              "fromcurrent": true,
              "mode": "immediate",
              "transition": {
               "duration": 0,
               "easing": "linear"
              }
             }
            ],
            "label": "2010",
            "method": "animate"
           },
           {
            "args": [
             [
              "2011"
             ],
             {
              "frame": {
               "duration": 0,
               "redraw": true
              },
              "fromcurrent": true,
              "mode": "immediate",
              "transition": {
               "duration": 0,
               "easing": "linear"
              }
             }
            ],
            "label": "2011",
            "method": "animate"
           },
           {
            "args": [
             [
              "2012"
             ],
             {
              "frame": {
               "duration": 0,
               "redraw": true
              },
              "fromcurrent": true,
              "mode": "immediate",
              "transition": {
               "duration": 0,
               "easing": "linear"
              }
             }
            ],
            "label": "2012",
            "method": "animate"
           },
           {
            "args": [
             [
              "2013"
             ],
             {
              "frame": {
               "duration": 0,
               "redraw": true
              },
              "fromcurrent": true,
              "mode": "immediate",
              "transition": {
               "duration": 0,
               "easing": "linear"
              }
             }
            ],
            "label": "2013",
            "method": "animate"
           },
           {
            "args": [
             [
              "2014"
             ],
             {
              "frame": {
               "duration": 0,
               "redraw": true
              },
              "fromcurrent": true,
              "mode": "immediate",
              "transition": {
               "duration": 0,
               "easing": "linear"
              }
             }
            ],
            "label": "2014",
            "method": "animate"
           },
           {
            "args": [
             [
              "2015"
             ],
             {
              "frame": {
               "duration": 0,
               "redraw": true
              },
              "fromcurrent": true,
              "mode": "immediate",
              "transition": {
               "duration": 0,
               "easing": "linear"
              }
             }
            ],
            "label": "2015",
            "method": "animate"
           },
           {
            "args": [
             [
              "2016"
             ],
             {
              "frame": {
               "duration": 0,
               "redraw": true
              },
              "fromcurrent": true,
              "mode": "immediate",
              "transition": {
               "duration": 0,
               "easing": "linear"
              }
             }
            ],
            "label": "2016",
            "method": "animate"
           },
           {
            "args": [
             [
              "2017"
             ],
             {
              "frame": {
               "duration": 0,
               "redraw": true
              },
              "fromcurrent": true,
              "mode": "immediate",
              "transition": {
               "duration": 0,
               "easing": "linear"
              }
             }
            ],
            "label": "2017",
            "method": "animate"
           },
           {
            "args": [
             [
              "2018"
             ],
             {
              "frame": {
               "duration": 0,
               "redraw": true
              },
              "fromcurrent": true,
              "mode": "immediate",
              "transition": {
               "duration": 0,
               "easing": "linear"
              }
             }
            ],
            "label": "2018",
            "method": "animate"
           },
           {
            "args": [
             [
              "2019"
             ],
             {
              "frame": {
               "duration": 0,
               "redraw": true
              },
              "fromcurrent": true,
              "mode": "immediate",
              "transition": {
               "duration": 0,
               "easing": "linear"
              }
             }
            ],
            "label": "2019",
            "method": "animate"
           },
           {
            "args": [
             [
              "2020"
             ],
             {
              "frame": {
               "duration": 0,
               "redraw": true
              },
              "fromcurrent": true,
              "mode": "immediate",
              "transition": {
               "duration": 0,
               "easing": "linear"
              }
             }
            ],
            "label": "2020",
            "method": "animate"
           },
           {
            "args": [
             [
              "2021"
             ],
             {
              "frame": {
               "duration": 0,
               "redraw": true
              },
              "fromcurrent": true,
              "mode": "immediate",
              "transition": {
               "duration": 0,
               "easing": "linear"
              }
             }
            ],
            "label": "2021",
            "method": "animate"
           },
           {
            "args": [
             [
              "2022"
             ],
             {
              "frame": {
               "duration": 0,
               "redraw": true
              },
              "fromcurrent": true,
              "mode": "immediate",
              "transition": {
               "duration": 0,
               "easing": "linear"
              }
             }
            ],
            "label": "2022",
            "method": "animate"
           },
           {
            "args": [
             [
              "2023"
             ],
             {
              "frame": {
               "duration": 0,
               "redraw": true
              },
              "fromcurrent": true,
              "mode": "immediate",
              "transition": {
               "duration": 0,
               "easing": "linear"
              }
             }
            ],
            "label": "2023",
            "method": "animate"
           }
          ],
          "x": 0.1,
          "xanchor": "left",
          "y": 0,
          "yanchor": "top"
         }
        ],
        "template": {
         "data": {
          "bar": [
           {
            "error_x": {
             "color": "#2a3f5f"
            },
            "error_y": {
             "color": "#2a3f5f"
            },
            "marker": {
             "line": {
              "color": "#E5ECF6",
              "width": 0.5
             },
             "pattern": {
              "fillmode": "overlay",
              "size": 10,
              "solidity": 0.2
             }
            },
            "type": "bar"
           }
          ],
          "barpolar": [
           {
            "marker": {
             "line": {
              "color": "#E5ECF6",
              "width": 0.5
             },
             "pattern": {
              "fillmode": "overlay",
              "size": 10,
              "solidity": 0.2
             }
            },
            "type": "barpolar"
           }
          ],
          "carpet": [
           {
            "aaxis": {
             "endlinecolor": "#2a3f5f",
             "gridcolor": "white",
             "linecolor": "white",
             "minorgridcolor": "white",
             "startlinecolor": "#2a3f5f"
            },
            "baxis": {
             "endlinecolor": "#2a3f5f",
             "gridcolor": "white",
             "linecolor": "white",
             "minorgridcolor": "white",
             "startlinecolor": "#2a3f5f"
            },
            "type": "carpet"
           }
          ],
          "choropleth": [
           {
            "colorbar": {
             "outlinewidth": 0,
             "ticks": ""
            },
            "type": "choropleth"
           }
          ],
          "contour": [
           {
            "colorbar": {
             "outlinewidth": 0,
             "ticks": ""
            },
            "colorscale": [
             [
              0,
              "#0d0887"
             ],
             [
              0.1111111111111111,
              "#46039f"
             ],
             [
              0.2222222222222222,
              "#7201a8"
             ],
             [
              0.3333333333333333,
              "#9c179e"
             ],
             [
              0.4444444444444444,
              "#bd3786"
             ],
             [
              0.5555555555555556,
              "#d8576b"
             ],
             [
              0.6666666666666666,
              "#ed7953"
             ],
             [
              0.7777777777777778,
              "#fb9f3a"
             ],
             [
              0.8888888888888888,
              "#fdca26"
             ],
             [
              1,
              "#f0f921"
             ]
            ],
            "type": "contour"
           }
          ],
          "contourcarpet": [
           {
            "colorbar": {
             "outlinewidth": 0,
             "ticks": ""
            },
            "type": "contourcarpet"
           }
          ],
          "heatmap": [
           {
            "colorbar": {
             "outlinewidth": 0,
             "ticks": ""
            },
            "colorscale": [
             [
              0,
              "#0d0887"
             ],
             [
              0.1111111111111111,
              "#46039f"
             ],
             [
              0.2222222222222222,
              "#7201a8"
             ],
             [
              0.3333333333333333,
              "#9c179e"
             ],
             [
              0.4444444444444444,
              "#bd3786"
             ],
             [
              0.5555555555555556,
              "#d8576b"
             ],
             [
              0.6666666666666666,
              "#ed7953"
             ],
             [
              0.7777777777777778,
              "#fb9f3a"
             ],
             [
              0.8888888888888888,
              "#fdca26"
             ],
             [
              1,
              "#f0f921"
             ]
            ],
            "type": "heatmap"
           }
          ],
          "histogram": [
           {
            "marker": {
             "pattern": {
              "fillmode": "overlay",
              "size": 10,
              "solidity": 0.2
             }
            },
            "type": "histogram"
           }
          ],
          "histogram2d": [
           {
            "colorbar": {
             "outlinewidth": 0,
             "ticks": ""
            },
            "colorscale": [
             [
              0,
              "#0d0887"
             ],
             [
              0.1111111111111111,
              "#46039f"
             ],
             [
              0.2222222222222222,
              "#7201a8"
             ],
             [
              0.3333333333333333,
              "#9c179e"
             ],
             [
              0.4444444444444444,
              "#bd3786"
             ],
             [
              0.5555555555555556,
              "#d8576b"
             ],
             [
              0.6666666666666666,
              "#ed7953"
             ],
             [
              0.7777777777777778,
              "#fb9f3a"
             ],
             [
              0.8888888888888888,
              "#fdca26"
             ],
             [
              1,
              "#f0f921"
             ]
            ],
            "type": "histogram2d"
           }
          ],
          "histogram2dcontour": [
           {
            "colorbar": {
             "outlinewidth": 0,
             "ticks": ""
            },
            "colorscale": [
             [
              0,
              "#0d0887"
             ],
             [
              0.1111111111111111,
              "#46039f"
             ],
             [
              0.2222222222222222,
              "#7201a8"
             ],
             [
              0.3333333333333333,
              "#9c179e"
             ],
             [
              0.4444444444444444,
              "#bd3786"
             ],
             [
              0.5555555555555556,
              "#d8576b"
             ],
             [
              0.6666666666666666,
              "#ed7953"
             ],
             [
              0.7777777777777778,
              "#fb9f3a"
             ],
             [
              0.8888888888888888,
              "#fdca26"
             ],
             [
              1,
              "#f0f921"
             ]
            ],
            "type": "histogram2dcontour"
           }
          ],
          "mesh3d": [
           {
            "colorbar": {
             "outlinewidth": 0,
             "ticks": ""
            },
            "type": "mesh3d"
           }
          ],
          "parcoords": [
           {
            "line": {
             "colorbar": {
              "outlinewidth": 0,
              "ticks": ""
             }
            },
            "type": "parcoords"
           }
          ],
          "pie": [
           {
            "automargin": true,
            "type": "pie"
           }
          ],
          "scatter": [
           {
            "fillpattern": {
             "fillmode": "overlay",
             "size": 10,
             "solidity": 0.2
            },
            "type": "scatter"
           }
          ],
          "scatter3d": [
           {
            "line": {
             "colorbar": {
              "outlinewidth": 0,
              "ticks": ""
             }
            },
            "marker": {
             "colorbar": {
              "outlinewidth": 0,
              "ticks": ""
             }
            },
            "type": "scatter3d"
           }
          ],
          "scattercarpet": [
           {
            "marker": {
             "colorbar": {
              "outlinewidth": 0,
              "ticks": ""
             }
            },
            "type": "scattercarpet"
           }
          ],
          "scattergeo": [
           {
            "marker": {
             "colorbar": {
              "outlinewidth": 0,
              "ticks": ""
             }
            },
            "type": "scattergeo"
           }
          ],
          "scattergl": [
           {
            "marker": {
             "colorbar": {
              "outlinewidth": 0,
              "ticks": ""
             }
            },
            "type": "scattergl"
           }
          ],
          "scattermap": [
           {
            "marker": {
             "colorbar": {
              "outlinewidth": 0,
              "ticks": ""
             }
            },
            "type": "scattermap"
           }
          ],
          "scattermapbox": [
           {
            "marker": {
             "colorbar": {
              "outlinewidth": 0,
              "ticks": ""
             }
            },
            "type": "scattermapbox"
           }
          ],
          "scatterpolar": [
           {
            "marker": {
             "colorbar": {
              "outlinewidth": 0,
              "ticks": ""
             }
            },
            "type": "scatterpolar"
           }
          ],
          "scatterpolargl": [
           {
            "marker": {
             "colorbar": {
              "outlinewidth": 0,
              "ticks": ""
             }
            },
            "type": "scatterpolargl"
           }
          ],
          "scatterternary": [
           {
            "marker": {
             "colorbar": {
              "outlinewidth": 0,
              "ticks": ""
             }
            },
            "type": "scatterternary"
           }
          ],
          "surface": [
           {
            "colorbar": {
             "outlinewidth": 0,
             "ticks": ""
            },
            "colorscale": [
             [
              0,
              "#0d0887"
             ],
             [
              0.1111111111111111,
              "#46039f"
             ],
             [
              0.2222222222222222,
              "#7201a8"
             ],
             [
              0.3333333333333333,
              "#9c179e"
             ],
             [
              0.4444444444444444,
              "#bd3786"
             ],
             [
              0.5555555555555556,
              "#d8576b"
             ],
             [
              0.6666666666666666,
              "#ed7953"
             ],
             [
              0.7777777777777778,
              "#fb9f3a"
             ],
             [
              0.8888888888888888,
              "#fdca26"
             ],
             [
              1,
              "#f0f921"
             ]
            ],
            "type": "surface"
           }
          ],
          "table": [
           {
            "cells": {
             "fill": {
              "color": "#EBF0F8"
             },
             "line": {
              "color": "white"
             }
            },
            "header": {
             "fill": {
              "color": "#C8D4E3"
             },
             "line": {
              "color": "white"
             }
            },
            "type": "table"
           }
          ]
         },
         "layout": {
          "annotationdefaults": {
           "arrowcolor": "#2a3f5f",
           "arrowhead": 0,
           "arrowwidth": 1
          },
          "autotypenumbers": "strict",
          "coloraxis": {
           "colorbar": {
            "outlinewidth": 0,
            "ticks": ""
           }
          },
          "colorscale": {
           "diverging": [
            [
             0,
             "#8e0152"
            ],
            [
             0.1,
             "#c51b7d"
            ],
            [
             0.2,
             "#de77ae"
            ],
            [
             0.3,
             "#f1b6da"
            ],
            [
             0.4,
             "#fde0ef"
            ],
            [
             0.5,
             "#f7f7f7"
            ],
            [
             0.6,
             "#e6f5d0"
            ],
            [
             0.7,
             "#b8e186"
            ],
            [
             0.8,
             "#7fbc41"
            ],
            [
             0.9,
             "#4d9221"
            ],
            [
             1,
             "#276419"
            ]
           ],
           "sequential": [
            [
             0,
             "#0d0887"
            ],
            [
             0.1111111111111111,
             "#46039f"
            ],
            [
             0.2222222222222222,
             "#7201a8"
            ],
            [
             0.3333333333333333,
             "#9c179e"
            ],
            [
             0.4444444444444444,
             "#bd3786"
            ],
            [
             0.5555555555555556,
             "#d8576b"
            ],
            [
             0.6666666666666666,
             "#ed7953"
            ],
            [
             0.7777777777777778,
             "#fb9f3a"
            ],
            [
             0.8888888888888888,
             "#fdca26"
            ],
            [
             1,
             "#f0f921"
            ]
           ],
           "sequentialminus": [
            [
             0,
             "#0d0887"
            ],
            [
             0.1111111111111111,
             "#46039f"
            ],
            [
             0.2222222222222222,
             "#7201a8"
            ],
            [
             0.3333333333333333,
             "#9c179e"
            ],
            [
             0.4444444444444444,
             "#bd3786"
            ],
            [
             0.5555555555555556,
             "#d8576b"
            ],
            [
             0.6666666666666666,
             "#ed7953"
            ],
            [
             0.7777777777777778,
             "#fb9f3a"
            ],
            [
             0.8888888888888888,
             "#fdca26"
            ],
            [
             1,
             "#f0f921"
            ]
           ]
          },
          "colorway": [
           "#636efa",
           "#EF553B",
           "#00cc96",
           "#ab63fa",
           "#FFA15A",
           "#19d3f3",
           "#FF6692",
           "#B6E880",
           "#FF97FF",
           "#FECB52"
          ],
          "font": {
           "color": "#2a3f5f"
          },
          "geo": {
           "bgcolor": "white",
           "lakecolor": "white",
           "landcolor": "#E5ECF6",
           "showlakes": true,
           "showland": true,
           "subunitcolor": "white"
          },
          "hoverlabel": {
           "align": "left"
          },
          "hovermode": "closest",
          "mapbox": {
           "style": "light"
          },
          "paper_bgcolor": "white",
          "plot_bgcolor": "#E5ECF6",
          "polar": {
           "angularaxis": {
            "gridcolor": "white",
            "linecolor": "white",
            "ticks": ""
           },
           "bgcolor": "#E5ECF6",
           "radialaxis": {
            "gridcolor": "white",
            "linecolor": "white",
            "ticks": ""
           }
          },
          "scene": {
           "xaxis": {
            "backgroundcolor": "#E5ECF6",
            "gridcolor": "white",
            "gridwidth": 2,
            "linecolor": "white",
            "showbackground": true,
            "ticks": "",
            "zerolinecolor": "white"
           },
           "yaxis": {
            "backgroundcolor": "#E5ECF6",
            "gridcolor": "white",
            "gridwidth": 2,
            "linecolor": "white",
            "showbackground": true,
            "ticks": "",
            "zerolinecolor": "white"
           },
           "zaxis": {
            "backgroundcolor": "#E5ECF6",
            "gridcolor": "white",
            "gridwidth": 2,
            "linecolor": "white",
            "showbackground": true,
            "ticks": "",
            "zerolinecolor": "white"
           }
          },
          "shapedefaults": {
           "line": {
            "color": "#2a3f5f"
           }
          },
          "ternary": {
           "aaxis": {
            "gridcolor": "white",
            "linecolor": "white",
            "ticks": ""
           },
           "baxis": {
            "gridcolor": "white",
            "linecolor": "white",
            "ticks": ""
           },
           "bgcolor": "#E5ECF6",
           "caxis": {
            "gridcolor": "white",
            "linecolor": "white",
            "ticks": ""
           }
          },
          "title": {
           "x": 0.05
          },
          "xaxis": {
           "automargin": true,
           "gridcolor": "white",
           "linecolor": "white",
           "ticks": "",
           "title": {
            "standoff": 15
           },
           "zerolinecolor": "white",
           "zerolinewidth": 2
          },
          "yaxis": {
           "automargin": true,
           "gridcolor": "white",
           "linecolor": "white",
           "ticks": "",
           "title": {
            "standoff": 15
           },
           "zerolinecolor": "white",
           "zerolinewidth": 2
          }
         }
        },
        "title": {
         "text": "STH: Population Requiring Preventive Chemotherapy Over Time"
        },
        "updatemenus": [
         {
          "buttons": [
           {
            "args": [
             null,
             {
              "frame": {
               "duration": 500,
               "redraw": true
              },
              "fromcurrent": true,
              "mode": "immediate",
              "transition": {
               "duration": 500,
               "easing": "linear"
              }
             }
            ],
            "label": "&#9654;",
            "method": "animate"
           },
           {
            "args": [
             [
              null
             ],
             {
              "frame": {
               "duration": 0,
               "redraw": true
              },
              "fromcurrent": true,
              "mode": "immediate",
              "transition": {
               "duration": 0,
               "easing": "linear"
              }
             }
            ],
            "label": "&#9724;",
            "method": "animate"
           }
          ],
          "direction": "left",
          "pad": {
           "r": 10,
           "t": 70
          },
          "showactive": false,
          "type": "buttons",
          "x": 0.1,
          "xanchor": "right",
          "y": 0,
          "yanchor": "top"
         }
        ]
       }
      },
      "text/html": [
       "<div>            <script src=\"https://cdnjs.cloudflare.com/ajax/libs/mathjax/2.7.5/MathJax.js?config=TeX-AMS-MML_SVG\"></script><script type=\"text/javascript\">if (window.MathJax && window.MathJax.Hub && window.MathJax.Hub.Config) {window.MathJax.Hub.Config({SVG: {font: \"STIX-Web\"}});}</script>                <script type=\"text/javascript\">window.PlotlyConfig = {MathJaxConfig: 'local'};</script>\n",
       "        <script charset=\"utf-8\" src=\"https://cdn.plot.ly/plotly-3.0.1.min.js\"></script>                <div id=\"8cf1a216-0335-4503-85e2-3c2762fdb9d1\" class=\"plotly-graph-div\" style=\"height:525px; width:100%;\"></div>            <script type=\"text/javascript\">                window.PLOTLYENV=window.PLOTLYENV || {};                                if (document.getElementById(\"8cf1a216-0335-4503-85e2-3c2762fdb9d1\")) {                    Plotly.newPlot(                        \"8cf1a216-0335-4503-85e2-3c2762fdb9d1\",                        [{\"coloraxis\":\"coloraxis\",\"geo\":\"geo\",\"hovertemplate\":\"\\u003cb\\u003e%{hovertext}\\u003c\\u002fb\\u003e\\u003cbr\\u003e\\u003cbr\\u003eYear=2003\\u003cbr\\u003eCountryCode=%{location}\\u003cbr\\u003ePop. requiring PC=%{z}\\u003cextra\\u003e\\u003c\\u002fextra\\u003e\",\"hovertext\":[\"AGO\",\"TZA\",\"UGA\",\"BFA\",\"TGO\",\"BDI\",\"ZAF\",\"CMR\",\"SLE\",\"SEN\",\"CAF\",\"TCD\",\"RWA\",\"COM\",\"NGA\",\"NER\",\"CIV\",\"MOZ\",\"COD\",\"MRT\",\"MLI\",\"MWI\",\"SWZ\",\"MDG\",\"ETH\",\"LSO\",\"KEN\",\"GMB\",\"GNB\",\"GHA\",\"BEN\",\"ZMB\",\"GIN\"],\"locations\":[\"AGO\",\"TZA\",\"UGA\",\"BFA\",\"TGO\",\"BDI\",\"ZAF\",\"CMR\",\"SLE\",\"SEN\",\"CAF\",\"TCD\",\"RWA\",\"COM\",\"NGA\",\"NER\",\"CIV\",\"MOZ\",\"COD\",\"MRT\",\"MLI\",\"MWI\",\"SWZ\",\"MDG\",\"ETH\",\"LSO\",\"KEN\",\"GMB\",\"GNB\",\"GHA\",\"BEN\",\"ZMB\",\"GIN\"],\"name\":\"\",\"z\":{\"dtype\":\"f8\",\"bdata\":\"AAAAADJAQUEAAADAEUlTQQAAAABLp09BAAAAAKnnO0EAAAAA3GclQQAAAACElylBAAAAAEJeT0EAAACASwNAQQAAAAAYKyNBAAAAAPTXNUEAAAAAdGUeQQAAAAD4rDRBAAAAANojMUEAAAAA0GLwQAAAAIA273BBAAAAABwcPUEAAAAA9E5BQQAAAAATwERBAAAAAPX4X0EAAAAAyAoVQQAAAAC7PzdBAAAAAJa7PEEAAAAAIJz+QAAAAIAGN0FBAAAAAGVjYkEAAAAASOYKQQAAAMCBo1BBAAAAALBMB0EAAAAAsMsGQQAAAICvo0JBAAAAAJ5GLkEAAAAAm3Y4QQAAAADo+jFB\"},\"type\":\"choropleth\"}],                        {\"template\":{\"data\":{\"histogram2dcontour\":[{\"type\":\"histogram2dcontour\",\"colorbar\":{\"outlinewidth\":0,\"ticks\":\"\"},\"colorscale\":[[0.0,\"#0d0887\"],[0.1111111111111111,\"#46039f\"],[0.2222222222222222,\"#7201a8\"],[0.3333333333333333,\"#9c179e\"],[0.4444444444444444,\"#bd3786\"],[0.5555555555555556,\"#d8576b\"],[0.6666666666666666,\"#ed7953\"],[0.7777777777777778,\"#fb9f3a\"],[0.8888888888888888,\"#fdca26\"],[1.0,\"#f0f921\"]]}],\"choropleth\":[{\"type\":\"choropleth\",\"colorbar\":{\"outlinewidth\":0,\"ticks\":\"\"}}],\"histogram2d\":[{\"type\":\"histogram2d\",\"colorbar\":{\"outlinewidth\":0,\"ticks\":\"\"},\"colorscale\":[[0.0,\"#0d0887\"],[0.1111111111111111,\"#46039f\"],[0.2222222222222222,\"#7201a8\"],[0.3333333333333333,\"#9c179e\"],[0.4444444444444444,\"#bd3786\"],[0.5555555555555556,\"#d8576b\"],[0.6666666666666666,\"#ed7953\"],[0.7777777777777778,\"#fb9f3a\"],[0.8888888888888888,\"#fdca26\"],[1.0,\"#f0f921\"]]}],\"heatmap\":[{\"type\":\"heatmap\",\"colorbar\":{\"outlinewidth\":0,\"ticks\":\"\"},\"colorscale\":[[0.0,\"#0d0887\"],[0.1111111111111111,\"#46039f\"],[0.2222222222222222,\"#7201a8\"],[0.3333333333333333,\"#9c179e\"],[0.4444444444444444,\"#bd3786\"],[0.5555555555555556,\"#d8576b\"],[0.6666666666666666,\"#ed7953\"],[0.7777777777777778,\"#fb9f3a\"],[0.8888888888888888,\"#fdca26\"],[1.0,\"#f0f921\"]]}],\"contourcarpet\":[{\"type\":\"contourcarpet\",\"colorbar\":{\"outlinewidth\":0,\"ticks\":\"\"}}],\"contour\":[{\"type\":\"contour\",\"colorbar\":{\"outlinewidth\":0,\"ticks\":\"\"},\"colorscale\":[[0.0,\"#0d0887\"],[0.1111111111111111,\"#46039f\"],[0.2222222222222222,\"#7201a8\"],[0.3333333333333333,\"#9c179e\"],[0.4444444444444444,\"#bd3786\"],[0.5555555555555556,\"#d8576b\"],[0.6666666666666666,\"#ed7953\"],[0.7777777777777778,\"#fb9f3a\"],[0.8888888888888888,\"#fdca26\"],[1.0,\"#f0f921\"]]}],\"surface\":[{\"type\":\"surface\",\"colorbar\":{\"outlinewidth\":0,\"ticks\":\"\"},\"colorscale\":[[0.0,\"#0d0887\"],[0.1111111111111111,\"#46039f\"],[0.2222222222222222,\"#7201a8\"],[0.3333333333333333,\"#9c179e\"],[0.4444444444444444,\"#bd3786\"],[0.5555555555555556,\"#d8576b\"],[0.6666666666666666,\"#ed7953\"],[0.7777777777777778,\"#fb9f3a\"],[0.8888888888888888,\"#fdca26\"],[1.0,\"#f0f921\"]]}],\"mesh3d\":[{\"type\":\"mesh3d\",\"colorbar\":{\"outlinewidth\":0,\"ticks\":\"\"}}],\"scatter\":[{\"fillpattern\":{\"fillmode\":\"overlay\",\"size\":10,\"solidity\":0.2},\"type\":\"scatter\"}],\"parcoords\":[{\"type\":\"parcoords\",\"line\":{\"colorbar\":{\"outlinewidth\":0,\"ticks\":\"\"}}}],\"scatterpolargl\":[{\"type\":\"scatterpolargl\",\"marker\":{\"colorbar\":{\"outlinewidth\":0,\"ticks\":\"\"}}}],\"bar\":[{\"error_x\":{\"color\":\"#2a3f5f\"},\"error_y\":{\"color\":\"#2a3f5f\"},\"marker\":{\"line\":{\"color\":\"#E5ECF6\",\"width\":0.5},\"pattern\":{\"fillmode\":\"overlay\",\"size\":10,\"solidity\":0.2}},\"type\":\"bar\"}],\"scattergeo\":[{\"type\":\"scattergeo\",\"marker\":{\"colorbar\":{\"outlinewidth\":0,\"ticks\":\"\"}}}],\"scatterpolar\":[{\"type\":\"scatterpolar\",\"marker\":{\"colorbar\":{\"outlinewidth\":0,\"ticks\":\"\"}}}],\"histogram\":[{\"marker\":{\"pattern\":{\"fillmode\":\"overlay\",\"size\":10,\"solidity\":0.2}},\"type\":\"histogram\"}],\"scattergl\":[{\"type\":\"scattergl\",\"marker\":{\"colorbar\":{\"outlinewidth\":0,\"ticks\":\"\"}}}],\"scatter3d\":[{\"type\":\"scatter3d\",\"line\":{\"colorbar\":{\"outlinewidth\":0,\"ticks\":\"\"}},\"marker\":{\"colorbar\":{\"outlinewidth\":0,\"ticks\":\"\"}}}],\"scattermap\":[{\"type\":\"scattermap\",\"marker\":{\"colorbar\":{\"outlinewidth\":0,\"ticks\":\"\"}}}],\"scattermapbox\":[{\"type\":\"scattermapbox\",\"marker\":{\"colorbar\":{\"outlinewidth\":0,\"ticks\":\"\"}}}],\"scatterternary\":[{\"type\":\"scatterternary\",\"marker\":{\"colorbar\":{\"outlinewidth\":0,\"ticks\":\"\"}}}],\"scattercarpet\":[{\"type\":\"scattercarpet\",\"marker\":{\"colorbar\":{\"outlinewidth\":0,\"ticks\":\"\"}}}],\"carpet\":[{\"aaxis\":{\"endlinecolor\":\"#2a3f5f\",\"gridcolor\":\"white\",\"linecolor\":\"white\",\"minorgridcolor\":\"white\",\"startlinecolor\":\"#2a3f5f\"},\"baxis\":{\"endlinecolor\":\"#2a3f5f\",\"gridcolor\":\"white\",\"linecolor\":\"white\",\"minorgridcolor\":\"white\",\"startlinecolor\":\"#2a3f5f\"},\"type\":\"carpet\"}],\"table\":[{\"cells\":{\"fill\":{\"color\":\"#EBF0F8\"},\"line\":{\"color\":\"white\"}},\"header\":{\"fill\":{\"color\":\"#C8D4E3\"},\"line\":{\"color\":\"white\"}},\"type\":\"table\"}],\"barpolar\":[{\"marker\":{\"line\":{\"color\":\"#E5ECF6\",\"width\":0.5},\"pattern\":{\"fillmode\":\"overlay\",\"size\":10,\"solidity\":0.2}},\"type\":\"barpolar\"}],\"pie\":[{\"automargin\":true,\"type\":\"pie\"}]},\"layout\":{\"autotypenumbers\":\"strict\",\"colorway\":[\"#636efa\",\"#EF553B\",\"#00cc96\",\"#ab63fa\",\"#FFA15A\",\"#19d3f3\",\"#FF6692\",\"#B6E880\",\"#FF97FF\",\"#FECB52\"],\"font\":{\"color\":\"#2a3f5f\"},\"hovermode\":\"closest\",\"hoverlabel\":{\"align\":\"left\"},\"paper_bgcolor\":\"white\",\"plot_bgcolor\":\"#E5ECF6\",\"polar\":{\"bgcolor\":\"#E5ECF6\",\"angularaxis\":{\"gridcolor\":\"white\",\"linecolor\":\"white\",\"ticks\":\"\"},\"radialaxis\":{\"gridcolor\":\"white\",\"linecolor\":\"white\",\"ticks\":\"\"}},\"ternary\":{\"bgcolor\":\"#E5ECF6\",\"aaxis\":{\"gridcolor\":\"white\",\"linecolor\":\"white\",\"ticks\":\"\"},\"baxis\":{\"gridcolor\":\"white\",\"linecolor\":\"white\",\"ticks\":\"\"},\"caxis\":{\"gridcolor\":\"white\",\"linecolor\":\"white\",\"ticks\":\"\"}},\"coloraxis\":{\"colorbar\":{\"outlinewidth\":0,\"ticks\":\"\"}},\"colorscale\":{\"sequential\":[[0.0,\"#0d0887\"],[0.1111111111111111,\"#46039f\"],[0.2222222222222222,\"#7201a8\"],[0.3333333333333333,\"#9c179e\"],[0.4444444444444444,\"#bd3786\"],[0.5555555555555556,\"#d8576b\"],[0.6666666666666666,\"#ed7953\"],[0.7777777777777778,\"#fb9f3a\"],[0.8888888888888888,\"#fdca26\"],[1.0,\"#f0f921\"]],\"sequentialminus\":[[0.0,\"#0d0887\"],[0.1111111111111111,\"#46039f\"],[0.2222222222222222,\"#7201a8\"],[0.3333333333333333,\"#9c179e\"],[0.4444444444444444,\"#bd3786\"],[0.5555555555555556,\"#d8576b\"],[0.6666666666666666,\"#ed7953\"],[0.7777777777777778,\"#fb9f3a\"],[0.8888888888888888,\"#fdca26\"],[1.0,\"#f0f921\"]],\"diverging\":[[0,\"#8e0152\"],[0.1,\"#c51b7d\"],[0.2,\"#de77ae\"],[0.3,\"#f1b6da\"],[0.4,\"#fde0ef\"],[0.5,\"#f7f7f7\"],[0.6,\"#e6f5d0\"],[0.7,\"#b8e186\"],[0.8,\"#7fbc41\"],[0.9,\"#4d9221\"],[1,\"#276419\"]]},\"xaxis\":{\"gridcolor\":\"white\",\"linecolor\":\"white\",\"ticks\":\"\",\"title\":{\"standoff\":15},\"zerolinecolor\":\"white\",\"automargin\":true,\"zerolinewidth\":2},\"yaxis\":{\"gridcolor\":\"white\",\"linecolor\":\"white\",\"ticks\":\"\",\"title\":{\"standoff\":15},\"zerolinecolor\":\"white\",\"automargin\":true,\"zerolinewidth\":2},\"scene\":{\"xaxis\":{\"backgroundcolor\":\"#E5ECF6\",\"gridcolor\":\"white\",\"linecolor\":\"white\",\"showbackground\":true,\"ticks\":\"\",\"zerolinecolor\":\"white\",\"gridwidth\":2},\"yaxis\":{\"backgroundcolor\":\"#E5ECF6\",\"gridcolor\":\"white\",\"linecolor\":\"white\",\"showbackground\":true,\"ticks\":\"\",\"zerolinecolor\":\"white\",\"gridwidth\":2},\"zaxis\":{\"backgroundcolor\":\"#E5ECF6\",\"gridcolor\":\"white\",\"linecolor\":\"white\",\"showbackground\":true,\"ticks\":\"\",\"zerolinecolor\":\"white\",\"gridwidth\":2}},\"shapedefaults\":{\"line\":{\"color\":\"#2a3f5f\"}},\"annotationdefaults\":{\"arrowcolor\":\"#2a3f5f\",\"arrowhead\":0,\"arrowwidth\":1},\"geo\":{\"bgcolor\":\"white\",\"landcolor\":\"#E5ECF6\",\"subunitcolor\":\"white\",\"showland\":true,\"showlakes\":true,\"lakecolor\":\"white\"},\"title\":{\"x\":0.05},\"mapbox\":{\"style\":\"light\"}}},\"geo\":{\"domain\":{\"x\":[0.0,1.0],\"y\":[0.0,1.0]},\"center\":{},\"scope\":\"africa\"},\"coloraxis\":{\"colorbar\":{\"title\":{\"text\":\"Pop. requiring PC\"}},\"colorscale\":[[0.0,\"#0d0887\"],[0.1111111111111111,\"#46039f\"],[0.2222222222222222,\"#7201a8\"],[0.3333333333333333,\"#9c179e\"],[0.4444444444444444,\"#bd3786\"],[0.5555555555555556,\"#d8576b\"],[0.6666666666666666,\"#ed7953\"],[0.7777777777777778,\"#fb9f3a\"],[0.8888888888888888,\"#fdca26\"],[1.0,\"#f0f921\"]],\"cmin\":0,\"cmax\":23939463.0},\"legend\":{\"tracegroupgap\":0},\"title\":{\"text\":\"STH: Population Requiring Preventive Chemotherapy Over Time\"},\"updatemenus\":[{\"buttons\":[{\"args\":[null,{\"frame\":{\"duration\":500,\"redraw\":true},\"mode\":\"immediate\",\"fromcurrent\":true,\"transition\":{\"duration\":500,\"easing\":\"linear\"}}],\"label\":\"&#9654;\",\"method\":\"animate\"},{\"args\":[[null],{\"frame\":{\"duration\":0,\"redraw\":true},\"mode\":\"immediate\",\"fromcurrent\":true,\"transition\":{\"duration\":0,\"easing\":\"linear\"}}],\"label\":\"&#9724;\",\"method\":\"animate\"}],\"direction\":\"left\",\"pad\":{\"r\":10,\"t\":70},\"showactive\":false,\"type\":\"buttons\",\"x\":0.1,\"xanchor\":\"right\",\"y\":0,\"yanchor\":\"top\"}],\"sliders\":[{\"active\":0,\"currentvalue\":{\"prefix\":\"Year=\"},\"len\":0.9,\"pad\":{\"b\":10,\"t\":60},\"steps\":[{\"args\":[[\"2003\"],{\"frame\":{\"duration\":0,\"redraw\":true},\"mode\":\"immediate\",\"fromcurrent\":true,\"transition\":{\"duration\":0,\"easing\":\"linear\"}}],\"label\":\"2003\",\"method\":\"animate\"},{\"args\":[[\"2004\"],{\"frame\":{\"duration\":0,\"redraw\":true},\"mode\":\"immediate\",\"fromcurrent\":true,\"transition\":{\"duration\":0,\"easing\":\"linear\"}}],\"label\":\"2004\",\"method\":\"animate\"},{\"args\":[[\"2005\"],{\"frame\":{\"duration\":0,\"redraw\":true},\"mode\":\"immediate\",\"fromcurrent\":true,\"transition\":{\"duration\":0,\"easing\":\"linear\"}}],\"label\":\"2005\",\"method\":\"animate\"},{\"args\":[[\"2006\"],{\"frame\":{\"duration\":0,\"redraw\":true},\"mode\":\"immediate\",\"fromcurrent\":true,\"transition\":{\"duration\":0,\"easing\":\"linear\"}}],\"label\":\"2006\",\"method\":\"animate\"},{\"args\":[[\"2007\"],{\"frame\":{\"duration\":0,\"redraw\":true},\"mode\":\"immediate\",\"fromcurrent\":true,\"transition\":{\"duration\":0,\"easing\":\"linear\"}}],\"label\":\"2007\",\"method\":\"animate\"},{\"args\":[[\"2008\"],{\"frame\":{\"duration\":0,\"redraw\":true},\"mode\":\"immediate\",\"fromcurrent\":true,\"transition\":{\"duration\":0,\"easing\":\"linear\"}}],\"label\":\"2008\",\"method\":\"animate\"},{\"args\":[[\"2009\"],{\"frame\":{\"duration\":0,\"redraw\":true},\"mode\":\"immediate\",\"fromcurrent\":true,\"transition\":{\"duration\":0,\"easing\":\"linear\"}}],\"label\":\"2009\",\"method\":\"animate\"},{\"args\":[[\"2010\"],{\"frame\":{\"duration\":0,\"redraw\":true},\"mode\":\"immediate\",\"fromcurrent\":true,\"transition\":{\"duration\":0,\"easing\":\"linear\"}}],\"label\":\"2010\",\"method\":\"animate\"},{\"args\":[[\"2011\"],{\"frame\":{\"duration\":0,\"redraw\":true},\"mode\":\"immediate\",\"fromcurrent\":true,\"transition\":{\"duration\":0,\"easing\":\"linear\"}}],\"label\":\"2011\",\"method\":\"animate\"},{\"args\":[[\"2012\"],{\"frame\":{\"duration\":0,\"redraw\":true},\"mode\":\"immediate\",\"fromcurrent\":true,\"transition\":{\"duration\":0,\"easing\":\"linear\"}}],\"label\":\"2012\",\"method\":\"animate\"},{\"args\":[[\"2013\"],{\"frame\":{\"duration\":0,\"redraw\":true},\"mode\":\"immediate\",\"fromcurrent\":true,\"transition\":{\"duration\":0,\"easing\":\"linear\"}}],\"label\":\"2013\",\"method\":\"animate\"},{\"args\":[[\"2014\"],{\"frame\":{\"duration\":0,\"redraw\":true},\"mode\":\"immediate\",\"fromcurrent\":true,\"transition\":{\"duration\":0,\"easing\":\"linear\"}}],\"label\":\"2014\",\"method\":\"animate\"},{\"args\":[[\"2015\"],{\"frame\":{\"duration\":0,\"redraw\":true},\"mode\":\"immediate\",\"fromcurrent\":true,\"transition\":{\"duration\":0,\"easing\":\"linear\"}}],\"label\":\"2015\",\"method\":\"animate\"},{\"args\":[[\"2016\"],{\"frame\":{\"duration\":0,\"redraw\":true},\"mode\":\"immediate\",\"fromcurrent\":true,\"transition\":{\"duration\":0,\"easing\":\"linear\"}}],\"label\":\"2016\",\"method\":\"animate\"},{\"args\":[[\"2017\"],{\"frame\":{\"duration\":0,\"redraw\":true},\"mode\":\"immediate\",\"fromcurrent\":true,\"transition\":{\"duration\":0,\"easing\":\"linear\"}}],\"label\":\"2017\",\"method\":\"animate\"},{\"args\":[[\"2018\"],{\"frame\":{\"duration\":0,\"redraw\":true},\"mode\":\"immediate\",\"fromcurrent\":true,\"transition\":{\"duration\":0,\"easing\":\"linear\"}}],\"label\":\"2018\",\"method\":\"animate\"},{\"args\":[[\"2019\"],{\"frame\":{\"duration\":0,\"redraw\":true},\"mode\":\"immediate\",\"fromcurrent\":true,\"transition\":{\"duration\":0,\"easing\":\"linear\"}}],\"label\":\"2019\",\"method\":\"animate\"},{\"args\":[[\"2020\"],{\"frame\":{\"duration\":0,\"redraw\":true},\"mode\":\"immediate\",\"fromcurrent\":true,\"transition\":{\"duration\":0,\"easing\":\"linear\"}}],\"label\":\"2020\",\"method\":\"animate\"},{\"args\":[[\"2021\"],{\"frame\":{\"duration\":0,\"redraw\":true},\"mode\":\"immediate\",\"fromcurrent\":true,\"transition\":{\"duration\":0,\"easing\":\"linear\"}}],\"label\":\"2021\",\"method\":\"animate\"},{\"args\":[[\"2022\"],{\"frame\":{\"duration\":0,\"redraw\":true},\"mode\":\"immediate\",\"fromcurrent\":true,\"transition\":{\"duration\":0,\"easing\":\"linear\"}}],\"label\":\"2022\",\"method\":\"animate\"},{\"args\":[[\"2023\"],{\"frame\":{\"duration\":0,\"redraw\":true},\"mode\":\"immediate\",\"fromcurrent\":true,\"transition\":{\"duration\":0,\"easing\":\"linear\"}}],\"label\":\"2023\",\"method\":\"animate\"}],\"x\":0.1,\"xanchor\":\"left\",\"y\":0,\"yanchor\":\"top\"}],\"margin\":{\"r\":0,\"t\":40,\"l\":0,\"b\":0}},                        {\"responsive\": true}                    ).then(function(){\n",
       "                            Plotly.addFrames('8cf1a216-0335-4503-85e2-3c2762fdb9d1', [{\"data\":[{\"coloraxis\":\"coloraxis\",\"geo\":\"geo\",\"hovertemplate\":\"\\u003cb\\u003e%{hovertext}\\u003c\\u002fb\\u003e\\u003cbr\\u003e\\u003cbr\\u003eYear=2003\\u003cbr\\u003eCountryCode=%{location}\\u003cbr\\u003ePop. requiring PC=%{z}\\u003cextra\\u003e\\u003c\\u002fextra\\u003e\",\"hovertext\":[\"AGO\",\"TZA\",\"UGA\",\"BFA\",\"TGO\",\"BDI\",\"ZAF\",\"CMR\",\"SLE\",\"SEN\",\"CAF\",\"TCD\",\"RWA\",\"COM\",\"NGA\",\"NER\",\"CIV\",\"MOZ\",\"COD\",\"MRT\",\"MLI\",\"MWI\",\"SWZ\",\"MDG\",\"ETH\",\"LSO\",\"KEN\",\"GMB\",\"GNB\",\"GHA\",\"BEN\",\"ZMB\",\"GIN\"],\"locations\":[\"AGO\",\"TZA\",\"UGA\",\"BFA\",\"TGO\",\"BDI\",\"ZAF\",\"CMR\",\"SLE\",\"SEN\",\"CAF\",\"TCD\",\"RWA\",\"COM\",\"NGA\",\"NER\",\"CIV\",\"MOZ\",\"COD\",\"MRT\",\"MLI\",\"MWI\",\"SWZ\",\"MDG\",\"ETH\",\"LSO\",\"KEN\",\"GMB\",\"GNB\",\"GHA\",\"BEN\",\"ZMB\",\"GIN\"],\"name\":\"\",\"z\":{\"dtype\":\"f8\",\"bdata\":\"AAAAADJAQUEAAADAEUlTQQAAAABLp09BAAAAAKnnO0EAAAAA3GclQQAAAACElylBAAAAAEJeT0EAAACASwNAQQAAAAAYKyNBAAAAAPTXNUEAAAAAdGUeQQAAAAD4rDRBAAAAANojMUEAAAAA0GLwQAAAAIA273BBAAAAABwcPUEAAAAA9E5BQQAAAAATwERBAAAAAPX4X0EAAAAAyAoVQQAAAAC7PzdBAAAAAJa7PEEAAAAAIJz+QAAAAIAGN0FBAAAAAGVjYkEAAAAASOYKQQAAAMCBo1BBAAAAALBMB0EAAAAAsMsGQQAAAICvo0JBAAAAAJ5GLkEAAAAAm3Y4QQAAAADo+jFB\"},\"type\":\"choropleth\"}],\"name\":\"2003\"},{\"data\":[{\"coloraxis\":\"coloraxis\",\"geo\":\"geo\",\"hovertemplate\":\"\\u003cb\\u003e%{hovertext}\\u003c\\u002fb\\u003e\\u003cbr\\u003e\\u003cbr\\u003eYear=2004\\u003cbr\\u003eCountryCode=%{location}\\u003cbr\\u003ePop. requiring PC=%{z}\\u003cextra\\u003e\\u003c\\u002fextra\\u003e\",\"hovertext\":[\"MOZ\",\"CMR\",\"ETH\",\"GMB\",\"MDG\",\"MRT\",\"SEN\",\"KEN\",\"TCD\",\"BDI\",\"SWZ\",\"TGO\",\"TZA\",\"SLE\",\"GIN\",\"UGA\",\"ZMB\",\"CIV\",\"GHA\",\"LSO\",\"MWI\",\"NER\",\"BFA\",\"ZAF\",\"CAF\",\"GNB\",\"BEN\",\"RWA\",\"NGA\",\"COM\",\"AGO\",\"COD\",\"MLI\"],\"locations\":[\"MOZ\",\"CMR\",\"ETH\",\"GMB\",\"MDG\",\"MRT\",\"SEN\",\"KEN\",\"TCD\",\"BDI\",\"SWZ\",\"TGO\",\"TZA\",\"SLE\",\"GIN\",\"UGA\",\"ZMB\",\"CIV\",\"GHA\",\"LSO\",\"MWI\",\"NER\",\"BFA\",\"ZAF\",\"CAF\",\"GNB\",\"BEN\",\"RWA\",\"NGA\",\"COM\",\"AGO\",\"COD\",\"MLI\"],\"name\":\"\",\"z\":{\"dtype\":\"f8\",\"bdata\":\"AAAAgO9gRUEAAACA8l9AQQAAAMAWo2JBAAAAAAjUB0EAAAAAEnpBQQAAAAAscBVBAAAAAPJCNkEAAAAAuS5RQQAAAADzYzVBAAAAAJbMKUEAAAAAAJH+QAAAAABEvCVBAAAAwM3jU0EAAAAAlh8kQQAAAACNPjJBAAAAwKVNUEEAAAAAVxM5QQAAAIBpqUFBAAAAAA\\u002fkQkEAAAAAUNgKQQAAAACZQz1BAAAAAP86PkEAAAAAh8k8QQAAAIARlE9BAAAAADTKHkEAAAAAqFQHQQAAAABeFC9BAAAAANaTMUEAAAAgmUlxQQAAAAAQxvBAAAAAgLu1QUEAAADg8GpgQQAAAACXwjdB\"},\"type\":\"choropleth\"}],\"name\":\"2004\"},{\"data\":[{\"coloraxis\":\"coloraxis\",\"geo\":\"geo\",\"hovertemplate\":\"\\u003cb\\u003e%{hovertext}\\u003c\\u002fb\\u003e\\u003cbr\\u003e\\u003cbr\\u003eYear=2005\\u003cbr\\u003eCountryCode=%{location}\\u003cbr\\u003ePop. requiring PC=%{z}\\u003cextra\\u003e\\u003c\\u002fextra\\u003e\",\"hovertext\":[\"BFA\",\"GMB\",\"SEN\",\"BFA\",\"LBR\",\"BDI\",\"KEN\",\"TGO\",\"GNB\",\"MOZ\",\"MRT\",\"CMR\",\"SLE\",\"GHA\",\"COD\",\"COD\",\"ZAF\",\"CIV\",\"LSO\",\"AGO\",\"MLI\",\"UGA\",\"ZMB\",\"COM\",\"RWA\",\"MDG\",\"STP\",\"TCD\",\"ETH\",\"NER\",\"SWZ\",\"BEN\",\"TZA\",\"MWI\",\"NGA\",\"CAF\",\"GIN\"],\"locations\":[\"BFA\",\"GMB\",\"SEN\",\"BFA\",\"LBR\",\"BDI\",\"KEN\",\"TGO\",\"GNB\",\"MOZ\",\"MRT\",\"CMR\",\"SLE\",\"GHA\",\"COD\",\"COD\",\"ZAF\",\"CIV\",\"LSO\",\"AGO\",\"MLI\",\"UGA\",\"ZMB\",\"COM\",\"RWA\",\"MDG\",\"STP\",\"TCD\",\"ETH\",\"NER\",\"SWZ\",\"BEN\",\"TZA\",\"MWI\",\"NGA\",\"CAF\",\"GIN\"],\"name\":\"\",\"z\":{\"dtype\":\"f8\",\"bdata\":\"AAAAAPThPUEAAAAAoFUIQQAAAAA+uzZBAAAAAAAA+H8AAAAAZOEaQQAAAABKGypBAAAAwAbAUUEAAAAABg4mQQAAAADg2AdBAAAAALvtRUEAAAAAvNIVQQAAAIDLwkBBAAAAALz5JEEAAAAATiZDQQAAAKCyzmBBAAAAoLLOYEEAAACAOLpPQQAAAICrAEJBAAAAAODFCkEAAAAAiR5CQQAAAAAQUThBAAAAQI\\u002fNUEEAAAAAP6w5QQAAAAAwMvFAAAAAAFUQMkEAAAAAJrtBQQAAAACA3NFAAAAAANANNkEAAADAwupiQQAAAAB9ij9BAAAAANCP\\u002fkAAAAAAau0vQQAAAEBkhlRBAAAAAJnIPUEAAAAQz6RxQQAAAACMHh9BAAAAAJ2IMkE=\"},\"type\":\"choropleth\"}],\"name\":\"2005\"},{\"data\":[{\"coloraxis\":\"coloraxis\",\"geo\":\"geo\",\"hovertemplate\":\"\\u003cb\\u003e%{hovertext}\\u003c\\u002fb\\u003e\\u003cbr\\u003e\\u003cbr\\u003eYear=2006\\u003cbr\\u003eCountryCode=%{location}\\u003cbr\\u003ePop. requiring PC=%{z}\\u003cextra\\u003e\\u003c\\u002fextra\\u003e\",\"hovertext\":[\"SLE\",\"CIV\",\"BDI\",\"MOZ\",\"MDG\",\"GIN\",\"CMR\",\"TCD\",\"NGA\",\"ETH\",\"ETH\",\"GHA\",\"COM\",\"COD\",\"BEN\",\"ZMB\",\"LSO\",\"MRT\",\"SLE\",\"ZAF\",\"UGA\",\"RWA\",\"BFA\",\"LBR\",\"GMB\",\"SEN\",\"TZA\",\"BFA\",\"CAF\",\"SWZ\",\"GAB\",\"MWI\",\"SWZ\",\"AGO\",\"MWI\",\"KEN\",\"NER\",\"GNB\",\"TGO\",\"MLI\",\"GNB\"],\"locations\":[\"SLE\",\"CIV\",\"BDI\",\"MOZ\",\"MDG\",\"GIN\",\"CMR\",\"TCD\",\"NGA\",\"ETH\",\"ETH\",\"GHA\",\"COM\",\"COD\",\"BEN\",\"ZMB\",\"LSO\",\"MRT\",\"SLE\",\"ZAF\",\"UGA\",\"RWA\",\"BFA\",\"LBR\",\"GMB\",\"SEN\",\"TZA\",\"BFA\",\"CAF\",\"SWZ\",\"GAB\",\"MWI\",\"SWZ\",\"AGO\",\"MWI\",\"KEN\",\"NER\",\"GNB\",\"TGO\",\"MLI\",\"GNB\"],\"name\":\"\",\"z\":{\"dtype\":\"f8\",\"bdata\":\"AAAAAPaxJUEAAACAH1RCQQAAAAC+hCpBAAAAgLFjRkEAAAAAj\\u002fpBQQAAAADx2TJBAAAAADIsQUEAAAAA0qc2QQAAACCoAHJBAAAAAAo8Y0EAAAAACjxjQQAAAABbakNBAAAAAHCn8UAAAACAxCVhQQAAAAAoaTBBAAAAAJtAOkEAAAAAqK4KQQAAAACwMRZBAAAAAPaxJUEAAAAAV81PQQAAAACzU1FBAAAAALGYMkEAAAAAAAD4fwAAAABowBtBAAAAADjRCEEAAAAAnkI3QQAAAMBaMFVBAAAAANM3P0EAAAAAjGAfQQAAAABQmP5AAAAAALh2AUEAAAAAqEo+QQAAAAAAAPh\\u002fAAAAANh3QkEAAAAAqEo+QQAAAACqVlJBAAAAADOIQEEAAAAAiFcIQQAAAADEXCZBAAAAAJ7rOEEAAAAAiFcIQQ==\"},\"type\":\"choropleth\"}],\"name\":\"2006\"},{\"data\":[{\"coloraxis\":\"coloraxis\",\"geo\":\"geo\",\"hovertemplate\":\"\\u003cb\\u003e%{hovertext}\\u003c\\u002fb\\u003e\\u003cbr\\u003e\\u003cbr\\u003eYear=2007\\u003cbr\\u003eCountryCode=%{location}\\u003cbr\\u003ePop. requiring PC=%{z}\\u003cextra\\u003e\\u003c\\u002fextra\\u003e\",\"hovertext\":[\"SLE\",\"SLE\",\"NGA\",\"NER\",\"CAF\",\"COG\",\"CIV\",\"KEN\",\"GAB\",\"COM\",\"TCD\",\"GMB\",\"STP\",\"AGO\",\"GNB\",\"CMR\",\"RWA\",\"MOZ\",\"RWA\",\"GNB\",\"SEN\",\"ZAF\",\"CPV\",\"BDI\",\"TGO\",\"MLI\",\"GHA\",\"MWI\",\"UGA\",\"LBR\",\"BDI\",\"MDG\",\"SWZ\",\"ZMB\",\"TZA\",\"ETH\",\"ETH\",\"BEN\",\"GIN\",\"SWZ\",\"LSO\",\"BFA\",\"MRT\",\"COD\"],\"locations\":[\"SLE\",\"SLE\",\"NGA\",\"NER\",\"CAF\",\"COG\",\"CIV\",\"KEN\",\"GAB\",\"COM\",\"TCD\",\"GMB\",\"STP\",\"AGO\",\"GNB\",\"CMR\",\"RWA\",\"MOZ\",\"RWA\",\"GNB\",\"SEN\",\"ZAF\",\"CPV\",\"BDI\",\"TGO\",\"MLI\",\"GHA\",\"MWI\",\"UGA\",\"LBR\",\"BDI\",\"MDG\",\"SWZ\",\"ZMB\",\"TZA\",\"ETH\",\"ETH\",\"BEN\",\"GIN\",\"SWZ\",\"LSO\",\"BFA\",\"MRT\",\"COD\"],\"name\":\"\",\"z\":{\"dtype\":\"f8\",\"bdata\":\"AAAAAFBMJkEAAAAAUEwmQQAAAPAeXHJBAAAAADdiQUEAAAAAsJEfQQAAAAB4JxpBAAAAAOejQkEAAADA8vBSQQAAAAAoiAFBAAAAAKAi8kAAAAAA6TM3QQAAAADIRglBAAAAAAAc0kAAAACADMVCQQAAAABI0QhBAAAAAM2aQUEAAAAA8CMzQQAAAAA0xUZBAAAAAPAjM0EAAAAASNEIQQAAAADb1TdBAAAAABHQT0EAAAAAAJnnQAAAAAAwBytBAAAAALSnJkEAAAAAfJA5QQAAAIAbsENBAAAAAL3HPkEAAAAAW99RQQAAAABUvxxBAAAAADAHK0EAAACAgzhCQQAAAAAAAPh\\u002fAAAAAPTPOkEAAABAy+BVQQAAAKColWNBAAAAoKiVY0EAAAAAgOAwQQAAAABbMjNBAAAAAGCs\\u002fkAAAAAA2JIKQQAAAAD\\u002fX0BBAAAAALiMFkEAAACAz3JhQQ==\"},\"type\":\"choropleth\"}],\"name\":\"2007\"},{\"data\":[{\"coloraxis\":\"coloraxis\",\"geo\":\"geo\",\"hovertemplate\":\"\\u003cb\\u003e%{hovertext}\\u003c\\u002fb\\u003e\\u003cbr\\u003e\\u003cbr\\u003eYear=2008\\u003cbr\\u003eCountryCode=%{location}\\u003cbr\\u003ePop. requiring PC=%{z}\\u003cextra\\u003e\\u003c\\u002fextra\\u003e\",\"hovertext\":[\"BDI\",\"SLE\",\"LBR\",\"MDG\",\"NER\",\"MDG\",\"COG\",\"BWA\",\"MDG\",\"STP\",\"AGO\",\"MUS\",\"SWZ\",\"GNB\",\"GNB\",\"SWZ\",\"RWA\",\"CIV\",\"TZA\",\"COM\",\"AGO\",\"TCD\",\"ETH\",\"BEN\",\"BEN\",\"KEN\",\"ZWE\",\"GIN\",\"GIN\",\"UGA\",\"MRT\",\"CAF\",\"CPV\",\"ZMB\",\"MLI\",\"ZAF\",\"NAM\",\"GMB\",\"NGA\",\"MOZ\",\"TGO\",\"GHA\",\"MOZ\",\"GAB\",\"LSO\",\"SEN\",\"COD\",\"COD\",\"MWI\",\"BDI\",\"CMR\",\"CMR\",\"GNQ\",\"BFA\"],\"locations\":[\"BDI\",\"SLE\",\"LBR\",\"MDG\",\"NER\",\"MDG\",\"COG\",\"BWA\",\"MDG\",\"STP\",\"AGO\",\"MUS\",\"SWZ\",\"GNB\",\"GNB\",\"SWZ\",\"RWA\",\"CIV\",\"TZA\",\"COM\",\"AGO\",\"TCD\",\"ETH\",\"BEN\",\"BEN\",\"KEN\",\"ZWE\",\"GIN\",\"GIN\",\"UGA\",\"MRT\",\"CAF\",\"CPV\",\"ZMB\",\"MLI\",\"ZAF\",\"NAM\",\"GMB\",\"NGA\",\"MOZ\",\"TGO\",\"GHA\",\"MOZ\",\"GAB\",\"LSO\",\"SEN\",\"COD\",\"COD\",\"MWI\",\"BDI\",\"CMR\",\"CMR\",\"GNQ\",\"BFA\"],\"name\":\"\",\"z\":{\"dtype\":\"f8\",\"bdata\":\"AAAAAIycK0EAAAAAPM4mQQAAAACEyx1BAAAAgAh2QkEAAACAdElCQQAAAIAIdkJBAAAAAByIGkEAAAAAAEoFQQAAAIAIdkJBAAAAAIAz0kAAAACAMwtDQQAAAABQxPFAAAAAANDL\\u002fkAAAAAAGEgJQQAAAAAYSAlBAAAAAAAA+H8AAAAAaLIzQQAAAADk70JBAAAAgPOUVkEAAAAA4JvyQAAAAIAzC0NBAAAAAKm1N0EAAABgs\\u002fRjQQAAAADOWjFBAAAAAM5aMUEAAADAe4lTQQAAAABJkzRBAAAAABqRM0EAAAAAGpEzQQAAAADKblJBAAAAACDjFkEAAAAA+LcfQQAAAAAgWOdAAAAAALtaO0EAAAAAczo6QQAAAAD6xU9BAAAAAGjECkEAAAAAgLcJQQAAALCMtHJBAAAAgJgTR0EAAAAAOPAmQQAAAAAwjvlAAAAAgJgTR0EAAAAAUKMBQQAAAACgdgpBAAAAAIVtOEEAAAAgIblhQQAAACAhuWFBAAAAABNEP0EAAAAAjJwrQQAAAACwCEJBAAAAALAIQkEAAAAAcLrzQAAAAID2L0FB\"},\"type\":\"choropleth\"}],\"name\":\"2008\"},{\"data\":[{\"coloraxis\":\"coloraxis\",\"geo\":\"geo\",\"hovertemplate\":\"\\u003cb\\u003e%{hovertext}\\u003c\\u002fb\\u003e\\u003cbr\\u003e\\u003cbr\\u003eYear=2009\\u003cbr\\u003eCountryCode=%{location}\\u003cbr\\u003ePop. requiring PC=%{z}\\u003cextra\\u003e\\u003c\\u002fextra\\u003e\",\"hovertext\":[\"SWZ\",\"AGO\",\"MOZ\",\"KEN\",\"MOZ\",\"CIV\",\"ZWE\",\"CIV\",\"ETH\",\"MLI\",\"MUS\",\"GNQ\",\"LBR\",\"MDG\",\"MDG\",\"COD\",\"MWI\",\"COG\",\"LSO\",\"MWI\",\"NAM\",\"NER\",\"NER\",\"GAB\",\"COM\",\"MLI\",\"SWZ\",\"MRT\",\"NGA\",\"TCD\",\"UGA\",\"STP\",\"CPV\",\"CPV\",\"TZA\",\"BWA\",\"TZA\",\"GHA\",\"SEN\",\"SLE\",\"SLE\",\"RWA\",\"TGO\",\"CAF\",\"CMR\",\"CMR\",\"TGO\",\"RWA\",\"ZMB\",\"BEN\",\"BFA\",\"BDI\",\"GIN\",\"BFA\",\"GIN\",\"GMB\",\"ZAF\",\"ETH\",\"GNB\",\"ZMB\"],\"locations\":[\"SWZ\",\"AGO\",\"MOZ\",\"KEN\",\"MOZ\",\"CIV\",\"ZWE\",\"CIV\",\"ETH\",\"MLI\",\"MUS\",\"GNQ\",\"LBR\",\"MDG\",\"MDG\",\"COD\",\"MWI\",\"COG\",\"LSO\",\"MWI\",\"NAM\",\"NER\",\"NER\",\"GAB\",\"COM\",\"MLI\",\"SWZ\",\"MRT\",\"NGA\",\"TCD\",\"UGA\",\"STP\",\"CPV\",\"CPV\",\"TZA\",\"BWA\",\"TZA\",\"GHA\",\"SEN\",\"SLE\",\"SLE\",\"RWA\",\"TGO\",\"CAF\",\"CMR\",\"CMR\",\"TGO\",\"RWA\",\"ZMB\",\"BEN\",\"BFA\",\"BDI\",\"GIN\",\"BFA\",\"GIN\",\"GMB\",\"ZAF\",\"ETH\",\"GNB\",\"ZMB\"],\"name\":\"\",\"z\":{\"dtype\":\"f8\",\"bdata\":\"AAAAAAAA+H8AAAAAAVJDQQAAAAAAUkdBAAAAQKEZVEEAAAAAAFJHQQAAAAAAAPh\\u002fAAAAAIAsJ0EAAACAMThDQQAAAIC2VGRBAAAAAJ3iOkGamZmZ2Uy5QDMzMzPDyONAAAAAAAzJHkEAAAAAAAD4fwAAAIBGtEJBAAAAoOD9YUEAAAAAt8Q\\u002fQQAAAADE3BpBUrgehV25AkEAAAAAt8Q\\u002fQQAAAACQCQtBAAAAgBgwQ0EAAAAAAAD4fwAAAABwwwFBAAAAAABe6EAAAAAAAAD4fwAAAADg9v5AAAAAAAAA+H8AAACwmQZzQQAAAADVMjhBAAAAQJj\\u002fUkEUrkfhegjLQAAAAAAAAPh\\u002fAAAAAAAf50AAAADAX0lXQWZmZmamNvFAAAAAAAAA+H8AAAAAMI75QAAAAABH\\u002fzhBAAAAAN5BJ0EAAAAA3kEnQQAAAAAAAPh\\u002fAAAAABQ4J0EAAAAAzNsfQQAAAIA1bkJBAAAAgDVuQkEAAAAAFDgnQQAAAADVQzRBAAAAALLhO0EAAAAAa9UxQQAAAIBV+UFBAAAAAFg8LEEAAAAAv\\u002fQzQQAAAAAAAPh\\u002fAAAAAL\\u002f0M0F7FK5HYUHxQMP1KFzAKy1BAAAAgLZUZEEAAAAAkL4JQQAAAACy4TtB\"},\"type\":\"choropleth\"}],\"name\":\"2009\"},{\"data\":[{\"coloraxis\":\"coloraxis\",\"geo\":\"geo\",\"hovertemplate\":\"\\u003cb\\u003e%{hovertext}\\u003c\\u002fb\\u003e\\u003cbr\\u003e\\u003cbr\\u003eYear=2010\\u003cbr\\u003eCountryCode=%{location}\\u003cbr\\u003ePop. requiring PC=%{z}\\u003cextra\\u003e\\u003c\\u002fextra\\u003e\",\"hovertext\":[\"CMR\",\"CMR\",\"SLE\",\"SLE\",\"GNQ\",\"BFA\",\"CIV\",\"ETH\",\"CIV\",\"BDI\",\"BDI\",\"ZMB\",\"LSO\",\"ZAF\",\"MLI\",\"MLI\",\"MRT\",\"CIV\",\"TGO\",\"SLE\",\"MUS\",\"MWI\",\"MWI\",\"MOZ\",\"CPV\",\"GHA\",\"GHA\",\"TGO\",\"KEN\",\"UGA\",\"SWZ\",\"GIN\",\"GIN\",\"NER\",\"UGA\",\"TZA\",\"RWA\",\"GAB\",\"AGO\",\"TZA\",\"ETH\",\"COM\",\"TCD\",\"GNB\",\"GNB\",\"BEN\",\"NGA\",\"ZWE\",\"COG\",\"COD\",\"SEN\",\"LBR\",\"GMB\",\"MDG\",\"MDG\",\"LBR\",\"NAM\",\"BWA\",\"STP\",\"UGA\",\"CAF\"],\"locations\":[\"CMR\",\"CMR\",\"SLE\",\"SLE\",\"GNQ\",\"BFA\",\"CIV\",\"ETH\",\"CIV\",\"BDI\",\"BDI\",\"ZMB\",\"LSO\",\"ZAF\",\"MLI\",\"MLI\",\"MRT\",\"CIV\",\"TGO\",\"SLE\",\"MUS\",\"MWI\",\"MWI\",\"MOZ\",\"CPV\",\"GHA\",\"GHA\",\"TGO\",\"KEN\",\"UGA\",\"SWZ\",\"GIN\",\"GIN\",\"NER\",\"UGA\",\"TZA\",\"RWA\",\"GAB\",\"AGO\",\"TZA\",\"ETH\",\"COM\",\"TCD\",\"GNB\",\"GNB\",\"BEN\",\"NGA\",\"ZWE\",\"COG\",\"COD\",\"SEN\",\"LBR\",\"GMB\",\"MDG\",\"MDG\",\"LBR\",\"NAM\",\"BWA\",\"STP\",\"UGA\",\"CAF\"],\"name\":\"\",\"z\":{\"dtype\":\"f8\",\"bdata\":\"AAAAAMDFQkEAAAAAwMVCQQAAAADiridBAAAAAOKuJ0EfhetR0EPkQAAAAIBJrkJBAAAAgOV8Q0EAAACANrJkQQAAAAAAAPh\\u002fAAAAAFbfLEEAAAAAVt8sQQAAAABdZTxBrkfhesKuAkHD9ShcJBotQQAAAAAAAPh\\u002fAAAAAI2DO0EAAAAAAAD4fwAAAAAAAPh\\u002fAAAAAHqAJ0EAAAAAAAD4f83MzMzMG7lAAAAAAAAA+H8AAACAqyZAQQAAAIBLg0dBAAAAAED05kAAAAAAMI75QAAAAAAAAPh\\u002fAAAAAHqAJ0EAAABAUZxUQQAAAAAAAPh\\u002fAAAAAAAt\\u002f0AAAAAA5Fs0QQAAAADkWzRBAAAAAOELREEAAACA049TQQAAAEAS+1dBAAAAAFfXNEEAAAAAqOQBQQAAAIASn0NBAAAAQBL7V0EAAACANrJkQaRwPQrX0ehAAAAAAMOvOEEAAAAAkDYKQQAAAACQNgpBAAAAABtOMkEAAABAwk9zQa5H4Xr0XSdBAAAAAIgkG0EAAACA2kRiQQAAAABEgzlBAAAAAOSjH0E9CtejRIjxQAAAAAD\\u002f80JBAAAAAP\\u002fzQkEAAAAA5KMfQQAAAADASAtBAAAAAOBn8UBI4XoUbhXLQAAAAIDTj1NBAAAAAJ4BIEE=\"},\"type\":\"choropleth\"}],\"name\":\"2010\"},{\"data\":[{\"coloraxis\":\"coloraxis\",\"geo\":\"geo\",\"hovertemplate\":\"\\u003cb\\u003e%{hovertext}\\u003c\\u002fb\\u003e\\u003cbr\\u003e\\u003cbr\\u003eYear=2011\\u003cbr\\u003eCountryCode=%{location}\\u003cbr\\u003ePop. requiring PC=%{z}\\u003cextra\\u003e\\u003c\\u002fextra\\u003e\",\"hovertext\":[\"GHA\",\"LBR\",\"COD\",\"TZA\",\"MLI\",\"LBR\",\"MLI\",\"BEN\",\"UGA\",\"TZA\",\"MDG\",\"UGA\",\"GNQ\",\"TGO\",\"TGO\",\"LSO\",\"MWI\",\"SWZ\",\"BWA\",\"BFA\",\"GHA\",\"ETH\",\"AGO\",\"NGA\",\"ZAF\",\"MUS\",\"NER\",\"KEN\",\"RWA\",\"CIV\",\"CPV\",\"CMR\",\"CMR\",\"MOZ\",\"MOZ\",\"CAF\",\"COG\",\"GMB\",\"BDI\",\"STP\",\"ZWE\",\"NAM\",\"GAB\",\"SLE\",\"NER\",\"SEN\",\"GNB\",\"MRT\",\"TCD\",\"ZMB\",\"GIN\",\"COM\",\"SLE\",\"BDI\",\"GIN\"],\"locations\":[\"GHA\",\"LBR\",\"COD\",\"TZA\",\"MLI\",\"LBR\",\"MLI\",\"BEN\",\"UGA\",\"TZA\",\"MDG\",\"UGA\",\"GNQ\",\"TGO\",\"TGO\",\"LSO\",\"MWI\",\"SWZ\",\"BWA\",\"BFA\",\"GHA\",\"ETH\",\"AGO\",\"NGA\",\"ZAF\",\"MUS\",\"NER\",\"KEN\",\"RWA\",\"CIV\",\"CPV\",\"CMR\",\"CMR\",\"MOZ\",\"MOZ\",\"CAF\",\"COG\",\"GMB\",\"BDI\",\"STP\",\"ZWE\",\"NAM\",\"GAB\",\"SLE\",\"NER\",\"SEN\",\"GNB\",\"MRT\",\"TCD\",\"ZMB\",\"GIN\",\"COM\",\"SLE\",\"BDI\",\"GIN\"],\"name\":\"\",\"z\":{\"dtype\":\"f8\",\"bdata\":\"AAAAADCO+UAAAAAAQCsgQQAAAOBxjmJBAAAAAAAA+H8AAAAAAAD4fwAAAABAKyBBAAAAAIYbPEEAAAAAYMQyQQAAAIC+HlRBAAAAADWpWEEAAACAvDVDQQAAAAAAAPh\\u002fpHA9CjfG5EAAAAAAAsonQQAAAAACyidB7FG4HmOrAkEAAACAtW9AQQAAAADAbf9AzczMzGyb8UAAAAAAHktDQQAAAAAAAPh\\u002fAAAAQIkMZUEAAACAMfNDQQAAAKAsj3NBhetRuAgHLUGPwvUo3AO5QAAAAABA2kRBAAAAgL8PVUEAAAAAxW01QQAAAIDDvUNBAAAAAKDZ5kAAAACAKg1DQQAAAAAAAPh\\u002fAAAAAP2mR0EAAAAA\\u002faZHQQAAAAAmGCBBAAAAAHhdG0FxPQrXL87xQAAAAAAkgy1BzczMzMwVy0B7FK5HiZ8nQQAAAAA4gAtBAAAAAHAGAkEAAAAApBUoQQAAAABA2kRBAAAAAKD3OUEAAAAA6LAKQQAAAAAAAPh\\u002fAAAAAB0tOUEAAAAAxOU8QQAAAACaxjRBH4XrUbgq6UAAAAAApBUoQQAAAAAkgy1BAAAAAJrGNEE=\"},\"type\":\"choropleth\"}],\"name\":\"2011\"},{\"data\":[{\"coloraxis\":\"coloraxis\",\"geo\":\"geo\",\"hovertemplate\":\"\\u003cb\\u003e%{hovertext}\\u003c\\u002fb\\u003e\\u003cbr\\u003e\\u003cbr\\u003eYear=2012\\u003cbr\\u003eCountryCode=%{location}\\u003cbr\\u003ePop. requiring PC=%{z}\\u003cextra\\u003e\\u003c\\u002fextra\\u003e\",\"hovertext\":[\"BEN\",\"STP\",\"COG\",\"GNB\",\"NGA\",\"UGA\",\"TZA\",\"UGA\",\"ETH\",\"TCD\",\"GAB\",\"CAF\",\"GHA\",\"GHA\",\"CAF\",\"RWA\",\"LBR\",\"BWA\",\"SWZ\",\"NER\",\"COM\",\"NER\",\"TZA\",\"UGA\",\"COD\",\"MDG\",\"BDI\",\"BDI\",\"ZAF\",\"MLI\",\"NGA\",\"GIN\",\"MRT\",\"SLE\",\"TGO\",\"AGO\",\"LSO\",\"NAM\",\"MWI\",\"MUS\",\"KEN\",\"MWI\",\"BFA\",\"MDG\",\"GMB\",\"CMR\",\"MOZ\",\"CMR\",\"CIV\",\"GNQ\",\"SEN\",\"ZWE\",\"ZMB\",\"CPV\",\"BFA\"],\"locations\":[\"BEN\",\"STP\",\"COG\",\"GNB\",\"NGA\",\"UGA\",\"TZA\",\"UGA\",\"ETH\",\"TCD\",\"GAB\",\"CAF\",\"GHA\",\"GHA\",\"CAF\",\"RWA\",\"LBR\",\"BWA\",\"SWZ\",\"NER\",\"COM\",\"NER\",\"TZA\",\"UGA\",\"COD\",\"MDG\",\"BDI\",\"BDI\",\"ZAF\",\"MLI\",\"NGA\",\"GIN\",\"MRT\",\"SLE\",\"TGO\",\"AGO\",\"LSO\",\"NAM\",\"MWI\",\"MUS\",\"KEN\",\"MWI\",\"BFA\",\"MDG\",\"GMB\",\"CMR\",\"MOZ\",\"CMR\",\"CIV\",\"GNQ\",\"SEN\",\"ZWE\",\"ZMB\",\"CPV\",\"BFA\"],\"name\":\"\",\"z\":{\"dtype\":\"f8\",\"bdata\":\"AAAAAMDyMkHNzMzMjDHLQAAAAAC8OB9BAAAAAMjPB0EAAAAAAAD4fwAAAMC5ZVRBAAAAAAAA+H8AAAAAAAD4fwAAAOCsHmJBAAAAAMb+OEEAAAAASG0CQQAAAAAmDiBBAAAAADCO+UAAAAAAAAD4fwAAAAAmDiBBAAAAAPOFN0EAAAAAHDAhQTMzMzNz4fFAAAAA\\u002fK\\u002fr\\u002fkAAAACA86xDQUjhehSuJe9AAAAAAAAA+H8AAAAA8oVZQQAAAAAAAPh\\u002fAAAAwBlZYkEAAAAAMMREQQAAAADS4i1BAAAAANLiLUHsUbgeWO4rQQAAAABjVUJBAAAAYCXXdEEAAAAAsK40QQAAAAAAAPh\\u002fAAAAAODzJ0EAAAAAwDwlQQAAAABzt0RBXI\\u002fC9ZwaA0EAAAAAYCMMQQAAAADBfkFBXI\\u002fC9eijtkAAAACAWPRUQQAAAAAAAPh\\u002fAAAAAAAA+H8AAAAAAAD4fx+F61E43fJAAAAAgM32QkEAAAAA1LBHQQAAAIDN9kJBAAAAgOFJQkHD9ShcP0XlQAAAAADyDzpBmpmZmdVeJ0EAAAAA4fw+QQAAAABAQ+NAAAAAABeyQkE=\"},\"type\":\"choropleth\"}],\"name\":\"2012\"},{\"data\":[{\"coloraxis\":\"coloraxis\",\"geo\":\"geo\",\"hovertemplate\":\"\\u003cb\\u003e%{hovertext}\\u003c\\u002fb\\u003e\\u003cbr\\u003e\\u003cbr\\u003eYear=2013\\u003cbr\\u003eCountryCode=%{location}\\u003cbr\\u003ePop. requiring PC=%{z}\\u003cextra\\u003e\\u003c\\u002fextra\\u003e\",\"hovertext\":[\"KEN\",\"GIN\",\"LSO\",\"GHA\",\"GMB\",\"ETH\",\"ETH\",\"GNB\",\"GNB\",\"GAB\",\"GIN\",\"COG\",\"LBR\",\"CPV\",\"NAM\",\"NER\",\"NER\",\"NER\",\"COM\",\"TGO\",\"BDI\",\"NGA\",\"NGA\",\"BDI\",\"TCD\",\"TCD\",\"LBR\",\"BFA\",\"RWA\",\"CAF\",\"CAF\",\"ZMB\",\"STP\",\"ZAF\",\"ZMB\",\"SEN\",\"SEN\",\"SEN\",\"SLE\",\"SLE\",\"ZMB\",\"CMR\",\"CMR\",\"SSD\",\"BFA\",\"NAM\",\"MOZ\",\"SWZ\",\"MDG\",\"MDG\",\"MDG\",\"TZA\",\"GNQ\",\"MWI\",\"TZA\",\"MWI\",\"BEN\",\"BEN\",\"MLI\",\"BWA\",\"AGO\",\"COD\",\"SLE\",\"ZWE\",\"MRT\",\"MRT\",\"MOZ\",\"UGA\",\"UGA\",\"MUS\",\"CIV\",\"UGA\",\"CIV\"],\"locations\":[\"KEN\",\"GIN\",\"LSO\",\"GHA\",\"GMB\",\"ETH\",\"ETH\",\"GNB\",\"GNB\",\"GAB\",\"GIN\",\"COG\",\"LBR\",\"CPV\",\"NAM\",\"NER\",\"NER\",\"NER\",\"COM\",\"TGO\",\"BDI\",\"NGA\",\"NGA\",\"BDI\",\"TCD\",\"TCD\",\"LBR\",\"BFA\",\"RWA\",\"CAF\",\"CAF\",\"ZMB\",\"STP\",\"ZAF\",\"ZMB\",\"SEN\",\"SEN\",\"SEN\",\"SLE\",\"SLE\",\"ZMB\",\"CMR\",\"CMR\",\"SSD\",\"BFA\",\"NAM\",\"MOZ\",\"SWZ\",\"MDG\",\"MDG\",\"MDG\",\"TZA\",\"GNQ\",\"MWI\",\"TZA\",\"MWI\",\"BEN\",\"BEN\",\"MLI\",\"BWA\",\"AGO\",\"COD\",\"SLE\",\"ZWE\",\"MRT\",\"MRT\",\"MOZ\",\"UGA\",\"UGA\",\"MUS\",\"CIV\",\"UGA\",\"CIV\"],\"name\":\"\",\"z\":{\"dtype\":\"f8\",\"bdata\":\"AAAAgHFdVUEAAAAAsKM2QTMzMzO7kgJBKlyPwuEY+kAK16Nwva\\u002f0QAAAAEBcimVBAAAAQFyKZUEAAAAAaOAJQQAAAABo4AlBAAAAAFBmB0EAAAAAAAD4fwAAAADspyFBAAAAACSTIEEAAAAAoMXiQAAAAADYpAtBAAAAgMbhRUEAAAAAAAD4fwAAAAAAAPh\\u002fpHA9CtfT7EAAAAAAakgqQQAAAABkcTZBAAAAcJjUdkEAAABwmNR2QQAAAABkcTZBAAAAAJhXPUEAAAAAmFc9QQAAAAAkkyBBAAAAAAAA+H8AAAAARoM2QQAAAAD+LyBBAAAAAP4vIEEAAAAAVsU\\u002fQa5H4XqUfM9A16NwvTpWMUEAAAAAVsU\\u002fQQAAAABPlDxBAAAAAE+UPEEAAAAAT5Q8QQAAAACGjyZBAAAAAIaPJkEAAAAAVsU\\u002fQQAAAABb2EVBAAAAAFvYRUEAAAAAQlQ1QQAAAICx3EFBAAAAANikC0EAAACAq71KQQAAAACYYQBBAAAAgGisRUEAAACAaKxFQQAAAIBorEVBAAAAwLEIWkHNzMzMdIHlQAAAAACKOkFBAAAAwLEIWkEAAAAAijpBQQAAAACi9TNBAAAAAAAA+H8AAAAANIRBQdejcD26MvBAAAAAgOEcSEEAAABA4cNhQQAAAACGjyZBZmZmZoi\\u002fLUEAAAAAAAD4fwAAAAAAAPh\\u002fAAAAgKu9SkEAAAAAAAD4fwAAAAAAAPh\\u002fAAAAAABStEAAAAAAlhlDQQAAAAC8W1VBAAAAAAAA+H8=\"},\"type\":\"choropleth\"}],\"name\":\"2013\"},{\"data\":[{\"coloraxis\":\"coloraxis\",\"geo\":\"geo\",\"hovertemplate\":\"\\u003cb\\u003e%{hovertext}\\u003c\\u002fb\\u003e\\u003cbr\\u003e\\u003cbr\\u003eYear=2014\\u003cbr\\u003eCountryCode=%{location}\\u003cbr\\u003ePop. requiring PC=%{z}\\u003cextra\\u003e\\u003c\\u002fextra\\u003e\",\"hovertext\":[\"TZA\",\"TGO\",\"SLE\",\"SSD\",\"TZA\",\"UGA\",\"TGO\",\"UGA\",\"ZAF\",\"TZA\",\"UGA\",\"ZMB\",\"SEN\",\"LBR\",\"MDG\",\"MDG\",\"MDG\",\"LSO\",\"MWI\",\"MWI\",\"MLI\",\"ZWE\",\"MRT\",\"KEN\",\"MRT\",\"MUS\",\"MOZ\",\"MOZ\",\"MOZ\",\"NAM\",\"NER\",\"GNB\",\"GNB\",\"NGA\",\"NGA\",\"RWA\",\"RWA\",\"STP\",\"SEN\",\"SEN\",\"GIN\",\"NER\",\"KEN\",\"BFA\",\"ETH\",\"TCD\",\"GAB\",\"BWA\",\"BFA\",\"GNQ\",\"BEN\",\"BEN\",\"AGO\",\"COD\",\"CMR\",\"CMR\",\"BDI\",\"GMB\",\"BDI\",\"COG\",\"ETH\",\"TCD\",\"CAF\",\"COD\",\"COD\",\"ETH\",\"CIV\",\"CAF\",\"COM\",\"CMR\",\"CPV\",\"GHA\",\"SWZ\",\"GHA\"],\"locations\":[\"TZA\",\"TGO\",\"SLE\",\"SSD\",\"TZA\",\"UGA\",\"TGO\",\"UGA\",\"ZAF\",\"TZA\",\"UGA\",\"ZMB\",\"SEN\",\"LBR\",\"MDG\",\"MDG\",\"MDG\",\"LSO\",\"MWI\",\"MWI\",\"MLI\",\"ZWE\",\"MRT\",\"KEN\",\"MRT\",\"MUS\",\"MOZ\",\"MOZ\",\"MOZ\",\"NAM\",\"NER\",\"GNB\",\"GNB\",\"NGA\",\"NGA\",\"RWA\",\"RWA\",\"STP\",\"SEN\",\"SEN\",\"GIN\",\"NER\",\"KEN\",\"BFA\",\"ETH\",\"TCD\",\"GAB\",\"BWA\",\"BFA\",\"GNQ\",\"BEN\",\"BEN\",\"AGO\",\"COD\",\"CMR\",\"CMR\",\"BDI\",\"GMB\",\"BDI\",\"COG\",\"ETH\",\"TCD\",\"CAF\",\"COD\",\"COD\",\"ETH\",\"CIV\",\"CAF\",\"COM\",\"CMR\",\"CPV\",\"GHA\",\"SWZ\",\"GHA\"],\"name\":\"\",\"z\":{\"dtype\":\"f8\",\"bdata\":\"AAAAAAAA+H8AAAAAiDYnQQAAAABQsSZBAAAAAFEBNkEAAABAkodaQQAAAMD1qlRBAAAAAIg2J0EAAADA9apUQQAAAACNLjFBAAAAQJKHWkEAAAAAAAD4fwAAAIAsZUBBAAAAAAAA+H8AAAAADsMgQQAAAABlKUZBAAAAAGUpRkEAAAAAZSlGQQAAAADAyQJBAAAAgFF\\u002fQUEAAACAUX9BQQAAAABBEkJBAAAAAFZLLkEAAAAAAAD4fwAAAIBuiEtBAAAAAAAA+H8AAAAAAAD4fwAAAICoKE9BAAAAAAAA+H8AAAAAAAD4fwAAAABw0AtBAAAAgAbBRkEAAAAAoFMKQQAAAACgUwpBAAAAgBKWc0EAAACAEpZzQQAAAAC08CxBAAAAALTwLEEAAAAAAMPPQAAAAAC8ST9BAAAAALxJP0EAAAAA4gc3QQAAAIAGwUZBAAAAgG6IS0EAAACAHDVCQQAAAAAAAPh\\u002fAAAAAK3+PUEAAAAAwOIHQQAAAACwO\\u002fBAAAAAgBw1QkEAAAAA4PzlQAAAAABCCSJBAAAAAAAA+H8AAACAvzRKQQAAAAC2HmJBAAAAAEcoRUEAAAAARyhFQQAAAABcHjRBAAAAAPBP9UAAAAAAXB40QQAAAACCECJBAAAAYDXDZUEAAAAArf49QQAAAAC4ayBBAAAAALYeYkEAAAAAAAD4fwAAAGA1w2VBAAAAAECqJkEAAAAAuGsgQQAAAACAHu1AAAAAAAAA+H8AAAAAIKviQAAAAAAAAPh\\u002fAAAAAFCQAEEAAACAD3lGQQ==\"},\"type\":\"choropleth\"}],\"name\":\"2014\"},{\"data\":[{\"coloraxis\":\"coloraxis\",\"geo\":\"geo\",\"hovertemplate\":\"\\u003cb\\u003e%{hovertext}\\u003c\\u002fb\\u003e\\u003cbr\\u003e\\u003cbr\\u003eYear=2015\\u003cbr\\u003eCountryCode=%{location}\\u003cbr\\u003ePop. requiring PC=%{z}\\u003cextra\\u003e\\u003c\\u002fextra\\u003e\",\"hovertext\":[\"COD\",\"SWZ\",\"ZMB\",\"ZAF\",\"BDI\",\"MLI\",\"CAF\",\"MLI\",\"KEN\",\"BDI\",\"KEN\",\"BDI\",\"COD\",\"KEN\",\"MRT\",\"STP\",\"CMR\",\"CMR\",\"CMR\",\"SEN\",\"SEN\",\"ERI\",\"MDG\",\"MDG\",\"MDG\",\"LBR\",\"SEN\",\"ETH\",\"ETH\",\"ETH\",\"TZA\",\"TZA\",\"TZA\",\"GNQ\",\"LSO\",\"BEN\",\"BEN\",\"BEN\",\"MWI\",\"SSD\",\"MRT\",\"ZMB\",\"BFA\",\"SLE\",\"NER\",\"GHA\",\"GHA\",\"NER\",\"GMB\",\"BWA\",\"COM\",\"COG\",\"COG\",\"BFA\",\"AGO\",\"ZWE\",\"GIN\",\"NAM\",\"COG\",\"TGO\",\"MOZ\",\"MOZ\",\"SLE\",\"RWA\",\"UGA\",\"CIV\",\"RWA\",\"RWA\",\"TCD\",\"NGA\",\"UGA\",\"UGA\",\"GNB\",\"GNB\",\"GAB\",\"CPV\",\"NGA\"],\"locations\":[\"COD\",\"SWZ\",\"ZMB\",\"ZAF\",\"BDI\",\"MLI\",\"CAF\",\"MLI\",\"KEN\",\"BDI\",\"KEN\",\"BDI\",\"COD\",\"KEN\",\"MRT\",\"STP\",\"CMR\",\"CMR\",\"CMR\",\"SEN\",\"SEN\",\"ERI\",\"MDG\",\"MDG\",\"MDG\",\"LBR\",\"SEN\",\"ETH\",\"ETH\",\"ETH\",\"TZA\",\"TZA\",\"TZA\",\"GNQ\",\"LSO\",\"BEN\",\"BEN\",\"BEN\",\"MWI\",\"SSD\",\"MRT\",\"ZMB\",\"BFA\",\"SLE\",\"NER\",\"GHA\",\"GHA\",\"NER\",\"GMB\",\"BWA\",\"COM\",\"COG\",\"COG\",\"BFA\",\"AGO\",\"ZWE\",\"GIN\",\"NAM\",\"COG\",\"TGO\",\"MOZ\",\"MOZ\",\"SLE\",\"RWA\",\"UGA\",\"CIV\",\"RWA\",\"RWA\",\"TCD\",\"NGA\",\"UGA\",\"UGA\",\"GNB\",\"GNB\",\"GAB\",\"CPV\",\"NGA\"],\"name\":\"\",\"z\":{\"dtype\":\"f8\",\"bdata\":\"AAAAQJ5xYUEAAAAAACTEQAAAAABgoidBAAAAAAtZMUEAAAAAVI4zQQAAAABBEkJBAAAAAK6\\u002fIEEAAAAAQRJCQQAAAACqqUlBAAAAAAAA+H8AAAAAqqlJQQAAAABUjjNBAAAAQJ5xYUEAAAAAqqlJQQAAAAAAAPh\\u002fAAAAAIBl3UAAAAAAAAD4fwAAAAAAAPh\\u002fAAAAACRvRkEAAAAA+PY\\u002fQQAAAAD49j9BAAAAAAAA+H8AAACA0ulKQQAAAIDS6UpBAAAAgNLpSkEAAAAAYCshQQAAAAAAAPh\\u002fAAAAgPNOZkEAAACA805mQQAAAAAAAPh\\u002fAAAAwBFHV0EAAADAEUdXQQAAAMARR1dBAAAAAKCi5kAAAAAAoAQDQQAAAADeqiJBAAAAAN6qIkEAAAAAAAD4fwAAAADUCkJBAAAAAAnMNkEAAAAAAAD4fwAAAAAAAPh\\u002fAAAAAAAA+H8AAAAAAAD4fwAAAICUXUtBAAAAAAAA+H8AAACALgxHQQAAAICUXUtBAAAAAGA34kAAAAAAUIvwQAAAAACA0e1AAAAAAIBeEEEAAAAAAAD4fwAAAIAcNUJBAAAAAPeRTEEAAAAAiQM5QQAAAAA4wyhBAAAAAJAk+kAAAAAAAAD4fwAAAACINidBAAAAAO8DUEEAAAAA7wNQQQAAAACE8x9BAAAAAAAA+H8AAAAAAAD4fwAAAACWKCtBAAAAACnyMkEAAAAAKfIyQQAAAAAwF\\u002f9AAAAAcON9c0EAAADAXgtTQQAAAMBeC1NBAAAAAHBFBEEAAAAAcEUEQQAAAAAQawhBAAAAAIDo4kAAAAAAAAD4fw==\"},\"type\":\"choropleth\"}],\"name\":\"2015\"},{\"data\":[{\"coloraxis\":\"coloraxis\",\"geo\":\"geo\",\"hovertemplate\":\"\\u003cb\\u003e%{hovertext}\\u003c\\u002fb\\u003e\\u003cbr\\u003e\\u003cbr\\u003eYear=2016\\u003cbr\\u003eCountryCode=%{location}\\u003cbr\\u003ePop. requiring PC=%{z}\\u003cextra\\u003e\\u003c\\u002fextra\\u003e\",\"hovertext\":[\"ERI\",\"TGO\",\"TCD\",\"TZA\",\"NGA\",\"TZA\",\"TZA\",\"NGA\",\"MDG\",\"MDG\",\"MDG\",\"TZA\",\"NER\",\"NGA\",\"ERI\",\"COM\",\"COG\",\"UGA\",\"TGO\",\"RWA\",\"UGA\",\"CIV\",\"CAF\",\"SSD\",\"CAF\",\"MLI\",\"CAF\",\"MOZ\",\"COD\",\"MOZ\",\"COD\",\"COD\",\"SSD\",\"BFA\",\"BFA\",\"STP\",\"MWI\",\"MWI\",\"BWA\",\"BEN\",\"BEN\",\"BEN\",\"UGA\",\"COG\",\"NAM\",\"GNQ\",\"COG\",\"SWZ\",\"TZA\",\"CMR\",\"BDI\",\"CPV\",\"SEN\",\"GMB\",\"ETH\",\"GHA\",\"GHA\",\"LSO\",\"ETH\",\"ETH\",\"BDI\",\"ETH\",\"AGO\",\"AGO\",\"ZMB\",\"ZWE\",\"ZWE\",\"KEN\",\"KEN\",\"KEN\",\"GIN\",\"ZAF\",\"AGO\",\"SLE\",\"ZMB\",\"GNB\",\"GAB\",\"SLE\",\"GNB\",\"SEN\",\"LBR\",\"LBR\",\"CMR\",\"SEN\",\"CMR\"],\"locations\":[\"ERI\",\"TGO\",\"TCD\",\"TZA\",\"NGA\",\"TZA\",\"TZA\",\"NGA\",\"MDG\",\"MDG\",\"MDG\",\"TZA\",\"NER\",\"NGA\",\"ERI\",\"COM\",\"COG\",\"UGA\",\"TGO\",\"RWA\",\"UGA\",\"CIV\",\"CAF\",\"SSD\",\"CAF\",\"MLI\",\"CAF\",\"MOZ\",\"COD\",\"MOZ\",\"COD\",\"COD\",\"SSD\",\"BFA\",\"BFA\",\"STP\",\"MWI\",\"MWI\",\"BWA\",\"BEN\",\"BEN\",\"BEN\",\"UGA\",\"COG\",\"NAM\",\"GNQ\",\"COG\",\"SWZ\",\"TZA\",\"CMR\",\"BDI\",\"CPV\",\"SEN\",\"GMB\",\"ETH\",\"GHA\",\"GHA\",\"LSO\",\"ETH\",\"ETH\",\"BDI\",\"ETH\",\"AGO\",\"AGO\",\"ZMB\",\"ZWE\",\"ZWE\",\"KEN\",\"KEN\",\"KEN\",\"GIN\",\"ZAF\",\"AGO\",\"SLE\",\"ZMB\",\"GNB\",\"GAB\",\"SLE\",\"GNB\",\"SEN\",\"LBR\",\"LBR\",\"CMR\",\"SEN\",\"CMR\"],\"name\":\"\",\"z\":{\"dtype\":\"f8\",\"bdata\":\"AAAAAAAA+H8AAAAAAAD4fwAAAACg8PpAAAAAgLfAWEEAAADAkSJyQQAAAAAAAPh\\u002fAAAAAAAA+H8AAAAAAAD4fwAAAAAVpDhBAAAAABWkOEEAAAAAFaQ4QQAAAIC3wFhBAAAAgM9uTEEAAAAAAAD4fwAAAAAAAPh\\u002fAAAAAOCD7kAAAAAA8JEkQQAAAAAAAPh\\u002fAAAAAPSUL0EAAAAAQmozQQAAAIC9\\u002flNBAAAAAIqwKEEAAAAAcO0gQQAAAABBdzdBAAAAAHDtIEEAAAAAzp1CQQAAAAAAAPh\\u002fAAAAAKVGUUEAAABgpnVhQQAAAAAAAPh\\u002fAAAAYKZ1YUEAAAAAAAD4fwAAAABBdzdBAAAAAAS\\u002fQkEAAAAABL9CQQAAAABAmdZAAAAAgBmKRkEAAACAGYpGQQAAAAAQ2vBAAAAAAAAA+H8AAAAAAAD4fwAAAABkCS5BAAAAgL3+U0EAAAAAAAD4fwAAAACQJPpAAAAAAACG50AAAAAAAAD4fwAAAAAALb5AAAAAAAAA+H8AAAAAAAD4fwAAAABezjRBAAAAAMA75EAAAAAAAAD4fwAAAAAAx+JAAAAAYJPqYUEAAAAAAAD4fwAAAAAvDEdBAAAAAPBFA0EAAAAAAAD4fwAAAAAAAPh\\u002fAAAAAF7ONEEAAAAAAAD4fwAAAAAAAPh\\u002fAAAAgF+ET0EAAAAAmkInQQAAAAAAAPh\\u002fAAAAAIhxNUEAAAAAYy5JQQAAAABjLklBAAAAAAAA+H8AAAAAOMMoQQAAAAA3kzFBAAAAAAAA+H8AAAAAWoQyQQAAAAAAAPh\\u002fAAAAAFBS\\u002fEAAAAAAqC4CQQAAAABahDJBAAAAAAAA+H8AAAAAAAD4fwAAAACA+hFBAAAAAID6EUEAAAAAJG9GQQAAAICNckBBAAAAAAAA+H8=\"},\"type\":\"choropleth\"}],\"name\":\"2016\"},{\"data\":[{\"coloraxis\":\"coloraxis\",\"geo\":\"geo\",\"hovertemplate\":\"\\u003cb\\u003e%{hovertext}\\u003c\\u002fb\\u003e\\u003cbr\\u003e\\u003cbr\\u003eYear=2017\\u003cbr\\u003eCountryCode=%{location}\\u003cbr\\u003ePop. requiring PC=%{z}\\u003cextra\\u003e\\u003c\\u002fextra\\u003e\",\"hovertext\":[\"AGO\",\"COG\",\"MOZ\",\"COG\",\"COG\",\"MOZ\",\"SLE\",\"NAM\",\"SLE\",\"MLI\",\"MLI\",\"GAB\",\"MOZ\",\"MOZ\",\"KEN\",\"KEN\",\"BDI\",\"ZAF\",\"SSD\",\"CAF\",\"AGO\",\"UGA\",\"CIV\",\"CPV\",\"AGO\",\"ZMB\",\"RWA\",\"RWA\",\"CIV\",\"BDI\",\"MRT\",\"COD\",\"SWZ\",\"GMB\",\"BDI\",\"BWA\",\"UGA\",\"UGA\",\"BFA\",\"GNB\",\"GNB\",\"COG\",\"COD\",\"ZAF\",\"NER\",\"ETH\",\"ETH\",\"LBR\",\"ETH\",\"LSO\",\"ZWE\",\"GNQ\",\"NER\",\"COD\",\"SEN\",\"SEN\",\"TGO\",\"SEN\",\"TZA\",\"GHA\",\"GHA\",\"TZA\",\"TZA\",\"TGO\",\"MDG\",\"MDG\",\"ETH\",\"BEN\",\"LBR\",\"STP\",\"BFA\",\"TCD\",\"CMR\",\"CMR\",\"GIN\",\"NGA\",\"BEN\",\"GIN\",\"TCD\",\"ERI\",\"NGA\",\"MWI\",\"MWI\",\"NGA\",\"ERI\",\"COM\",\"ZWE\",\"BEN\",\"NGA\",\"CMR\"],\"locations\":[\"AGO\",\"COG\",\"MOZ\",\"COG\",\"COG\",\"MOZ\",\"SLE\",\"NAM\",\"SLE\",\"MLI\",\"MLI\",\"GAB\",\"MOZ\",\"MOZ\",\"KEN\",\"KEN\",\"BDI\",\"ZAF\",\"SSD\",\"CAF\",\"AGO\",\"UGA\",\"CIV\",\"CPV\",\"AGO\",\"ZMB\",\"RWA\",\"RWA\",\"CIV\",\"BDI\",\"MRT\",\"COD\",\"SWZ\",\"GMB\",\"BDI\",\"BWA\",\"UGA\",\"UGA\",\"BFA\",\"GNB\",\"GNB\",\"COG\",\"COD\",\"ZAF\",\"NER\",\"ETH\",\"ETH\",\"LBR\",\"ETH\",\"LSO\",\"ZWE\",\"GNQ\",\"NER\",\"COD\",\"SEN\",\"SEN\",\"TGO\",\"SEN\",\"TZA\",\"GHA\",\"GHA\",\"TZA\",\"TZA\",\"TGO\",\"MDG\",\"MDG\",\"ETH\",\"BEN\",\"LBR\",\"STP\",\"BFA\",\"TCD\",\"CMR\",\"CMR\",\"GIN\",\"NGA\",\"BEN\",\"GIN\",\"TCD\",\"ERI\",\"NGA\",\"MWI\",\"MWI\",\"NGA\",\"ERI\",\"COM\",\"ZWE\",\"BEN\",\"NGA\",\"CMR\"],\"name\":\"\",\"z\":{\"dtype\":\"f8\",\"bdata\":\"AAAAAAAA+H8AAAAAAAD4fwAAAAAAAPh\\u002fAAAAAAAA+H8AAAAAuFwRQQAAAAAAAPh\\u002fAAAAAOaUNEEAAAAAkCT6QAAAAADmlDRBAAAAAAAA+H8AAAAAAAD4fwAAAACoLgJBAAAAAAAA+H8AAAAAh+dQQQAAAIC\\u002fh0VBAAAAgL+HRUEAAAAAAAD4fwAAAAACIlVBAAAAAEF3N0EAAAAAcO0gQQAAAAAAAPh\\u002fAAAAAAAA+H8AAAAAAAD4fwAAAABgeuRAAAAAQBkNUEEAAAAABrMpQQAAAACSnzNBAAAAAJKfM0EAAAAAfskpQQAAAAC90zZBAAAAAAAA+H8AAABA3jBjQQAAAACgd+9AAAAAACDG4UAAAAAAvdM2QQAAAADA0u1AAAAAAN+BVEEAAAAA34FUQQAAAAAAAPh\\u002fAAAAANgGCkEAAAAA2AYKQQAAAAAAAPh\\u002fAAAAQN4wY0EAAAAAAiJVQQAAAIB7I0dBAAAAAAAA+H8AAABgNG5gQQAAAADINBBBAAAAYDRuYEEAAAAAYKH6QAAAAAD6vjlBAAAAAACG50AAAACAeyNHQQAAAAAAAPh\\u002fAAAAAAAA+H8AAAAAAAD4fwAAAACAPgJBAAAAAIT1QEEAAAAAAAD4fwAAAIB2SEhBAAAAAAAA+H8AAADAXN5YQQAAAMBc3lhBAAAAAIA+AkEAAACA8qBCQQAAAIDyoEJBAAAAAAAA+H8AAAAA1rojQQAAAADINBBBAAAAAECZ1kAAAAAAAAD4fwAAAADgigFBAAAAAAAA+H8AAAAAAAD4fwAAAABYoi9BAAAAAAAA+H8AAAAAAAD4fwAAAAAAAPh\\u002fAAAAAOCKAUEAAAAAAAD4fwAAAGCPk3JBAAAAgAg0R0EAAACACDRHQQAAAGCPk3JBAAAAAAAA+H8AAAAAQEP4QAAAAAD6vjlBAAAAAAAA+H8AAAAAAAD4fwAAAABN6EdB\"},\"type\":\"choropleth\"}],\"name\":\"2017\"},{\"data\":[{\"coloraxis\":\"coloraxis\",\"geo\":\"geo\",\"hovertemplate\":\"\\u003cb\\u003e%{hovertext}\\u003c\\u002fb\\u003e\\u003cbr\\u003e\\u003cbr\\u003eYear=2018\\u003cbr\\u003eCountryCode=%{location}\\u003cbr\\u003ePop. requiring PC=%{z}\\u003cextra\\u003e\\u003c\\u002fextra\\u003e\",\"hovertext\":[\"ZWE\",\"BDI\",\"MOZ\",\"MOZ\",\"BDI\",\"GIN\",\"TGO\",\"GIN\",\"GMB\",\"SLE\",\"NGA\",\"NGA\",\"NGA\",\"SLE\",\"TGO\",\"NAM\",\"COG\",\"BWA\",\"NER\",\"NER\",\"GHA\",\"GHA\",\"TGO\",\"COM\",\"GAB\",\"RWA\",\"GAB\",\"COD\",\"COD\",\"ZAF\",\"GAB\",\"ETH\",\"BEN\",\"BEN\",\"STP\",\"MWI\",\"ETH\",\"ETH\",\"ETH\",\"STP\",\"BEN\",\"LSO\",\"GNQ\",\"SEN\",\"SEN\",\"TCD\",\"MDG\",\"SWZ\",\"CMR\",\"TZA\",\"LBR\",\"ERI\",\"TZA\",\"TZA\",\"COD\",\"KEN\",\"ZAF\",\"MLI\",\"BFA\",\"BFA\",\"CAF\",\"GNB\",\"GNB\",\"GNB\",\"CIV\",\"CIV\",\"ZMB\",\"MLI\",\"RWA\",\"UGA\",\"UGA\",\"UGA\",\"MRT\",\"TCD\",\"MLI\",\"AGO\",\"SSD\",\"AGO\",\"CPV\",\"AGO\"],\"locations\":[\"ZWE\",\"BDI\",\"MOZ\",\"MOZ\",\"BDI\",\"GIN\",\"TGO\",\"GIN\",\"GMB\",\"SLE\",\"NGA\",\"NGA\",\"NGA\",\"SLE\",\"TGO\",\"NAM\",\"COG\",\"BWA\",\"NER\",\"NER\",\"GHA\",\"GHA\",\"TGO\",\"COM\",\"GAB\",\"RWA\",\"GAB\",\"COD\",\"COD\",\"ZAF\",\"GAB\",\"ETH\",\"BEN\",\"BEN\",\"STP\",\"MWI\",\"ETH\",\"ETH\",\"ETH\",\"STP\",\"BEN\",\"LSO\",\"GNQ\",\"SEN\",\"SEN\",\"TCD\",\"MDG\",\"SWZ\",\"CMR\",\"TZA\",\"LBR\",\"ERI\",\"TZA\",\"TZA\",\"COD\",\"KEN\",\"ZAF\",\"MLI\",\"BFA\",\"BFA\",\"CAF\",\"GNB\",\"GNB\",\"GNB\",\"CIV\",\"CIV\",\"ZMB\",\"MLI\",\"RWA\",\"UGA\",\"UGA\",\"UGA\",\"MRT\",\"TCD\",\"MLI\",\"AGO\",\"SSD\",\"AGO\",\"CPV\",\"AGO\"],\"name\":\"\",\"z\":{\"dtype\":\"f8\",\"bdata\":\"AAAAAPq+OUEAAAAA+F83QQAAAIC4mk1BAAAAAAAA+H8AAAAA+F83QQAAAAAKeytBAAAAAAAA+H8AAAAAAAD4fwAAAACgOOBAAAAAAEs1M0EAAAAAAAD4fwAAAAAAAPh\\u002fAAAA0D0ec0EAAAAASzUzQQAAAAACjClBAAAAAJAk+kAAAAAAuFwRQQAAAADA0u1AAAAAAF0MTkEAAAAAAAD4fwAAAAC1YklBAAAAAAAA+H8AAAAAAAD4fwAAAABAQ\\u002fhAAAAAAAAA+H8AAAAAUGAwQQAAAABIIQNBAAAAAAAA+H8AAAAAAAD4fwAAAABWYlRBAAAAAAAA+H8AAAAAAAD4fwAAAAAAAPh\\u002fAAAAAAAA+H8AAAAAwDzYQAAAAAA\\u002fmEhBAAAAAAAA+H8AAAAAAAD4fwAAAKC2OmFBAAAAAAAA+H8AAAAA0CMkQQAAAABgH\\u002fxAAAAAAACG50AAAAAAAAD4fwAAAACUeitBAAAAAKDM\\u002fEAAAACA8qBCQQAAAAAAAqtAAAAAABuCSEEeuv17ovZVQQAAAADYvRJBAAAAAAAA+H8AAAAAAAD4fwAAAAAAAPh\\u002fAAAAwJPNYUEAAACA76ZBQQAAAAAAAPh\\u002fAAAAAAAA+H8AAAAAAAD4fwAAAAAAAPh\\u002fAAAAAJQzFkEAAAAAIPbkQAAAAAAAAPh\\u002fAAAAAAAA+H8AAAAAGHIqQQAAAAAAAPh\\u002fAAAAAIy+KEEAAAAAAAD4fwAAAABQYDBBAAAAAOFLVUEAAAAAAAD4fwAAAAAAAPh\\u002fAAAAAAAA+H8AAAAAAAD4fwAAAAAAAPh\\u002fAAAAgA7eUEEAAAAAQXc3QQAAAAAAAPh\\u002fAAAAAOC45EAAAAAAAAD4fw==\"},\"type\":\"choropleth\"}],\"name\":\"2018\"},{\"data\":[{\"coloraxis\":\"coloraxis\",\"geo\":\"geo\",\"hovertemplate\":\"\\u003cb\\u003e%{hovertext}\\u003c\\u002fb\\u003e\\u003cbr\\u003e\\u003cbr\\u003eYear=2019\\u003cbr\\u003eCountryCode=%{location}\\u003cbr\\u003ePop. requiring PC=%{z}\\u003cextra\\u003e\\u003c\\u002fextra\\u003e\",\"hovertext\":[\"NGA\",\"CMR\",\"CAF\",\"CMR\",\"SLE\",\"CAF\",\"BFA\",\"NGA\",\"NGA\",\"SLE\",\"BFA\",\"CMR\",\"SSD\",\"STP\",\"STP\",\"CPV\",\"SEN\",\"SEN\",\"SLE\",\"NGA\",\"RWA\",\"SEN\",\"RWA\",\"CMR\",\"ZAF\",\"BDI\",\"TCD\",\"AGO\",\"UGA\",\"KEN\",\"KEN\",\"KEN\",\"KEN\",\"UGA\",\"ETH\",\"UGA\",\"ETH\",\"ETH\",\"BDI\",\"MRT\",\"MRT\",\"TZA\",\"CIV\",\"BEN\",\"AGO\",\"AGO\",\"MLI\",\"MLI\",\"TZA\",\"TZA\",\"ERI\",\"LBR\",\"GNQ\",\"MDG\",\"MDG\",\"LBR\",\"BEN\",\"SWZ\",\"LSO\",\"MWI\",\"ETH\",\"AGO\",\"COD\",\"COD\",\"COD\",\"COD\",\"TCD\",\"BEN\",\"CIV\",\"COG\",\"TGO\",\"TGO\",\"COM\",\"GMB\",\"GIN\",\"COM\",\"NER\",\"NAM\",\"NER\",\"NAM\",\"COG\",\"GHA\",\"BWA\",\"COM\",\"GAB\",\"MOZ\",\"MOZ\",\"GNB\",\"GNB\",\"TGO\",\"GHA\",\"ZMB\",\"ZWE\",\"ZMB\"],\"locations\":[\"NGA\",\"CMR\",\"CAF\",\"CMR\",\"SLE\",\"CAF\",\"BFA\",\"NGA\",\"NGA\",\"SLE\",\"BFA\",\"CMR\",\"SSD\",\"STP\",\"STP\",\"CPV\",\"SEN\",\"SEN\",\"SLE\",\"NGA\",\"RWA\",\"SEN\",\"RWA\",\"CMR\",\"ZAF\",\"BDI\",\"TCD\",\"AGO\",\"UGA\",\"KEN\",\"KEN\",\"KEN\",\"KEN\",\"UGA\",\"ETH\",\"UGA\",\"ETH\",\"ETH\",\"BDI\",\"MRT\",\"MRT\",\"TZA\",\"CIV\",\"BEN\",\"AGO\",\"AGO\",\"MLI\",\"MLI\",\"TZA\",\"TZA\",\"ERI\",\"LBR\",\"GNQ\",\"MDG\",\"MDG\",\"LBR\",\"BEN\",\"SWZ\",\"LSO\",\"MWI\",\"ETH\",\"AGO\",\"COD\",\"COD\",\"COD\",\"COD\",\"TCD\",\"BEN\",\"CIV\",\"COG\",\"TGO\",\"TGO\",\"COM\",\"GMB\",\"GIN\",\"COM\",\"NER\",\"NAM\",\"NER\",\"NAM\",\"COG\",\"GHA\",\"BWA\",\"COM\",\"GAB\",\"MOZ\",\"MOZ\",\"GNB\",\"GNB\",\"TGO\",\"GHA\",\"ZMB\",\"ZWE\",\"ZMB\"],\"name\":\"\",\"z\":{\"dtype\":\"f8\",\"bdata\":\"AAAAgI1ab0EAAACA1SBJQQAAAAA4AhdBAAAAgNUgSUEAAAAAAAD4fwAAAAAAAPh\\u002fAAAAAAAA+H8AAAAAAAD4fwAAAAAAAPh\\u002fAAAAAO4qNEEAAAAAAAD4fwAAAAAAAPh\\u002fAAAAANAjCUEAAAAAQCjYQAAAAABAKNhAAAAAACA04UAAAAAAAAD4fwAAAAB0FRZBAAAAAO4qNEEAAACAjVpvQQAAAAA7kzFBAAAAAHQVFkEAAAAAO5MxQQAAAAAAAPh\\u002fAAAAwM33UUEAAAAAqsInQQAAAAAAAPh\\u002fAAAAwFD0UEEAAAAAAAD4fwAAAAAAAPh\\u002fAAAAADAoPEEAAAAAMCg8QQAAAAAwKDxBAAAAQAunVUEAAABAqI9hQQAAAEALp1VBAAAAAAAA+H8AAAAAAAD4fwAAAACqwidBAAAAAAAA+H8AAAAAAAD4fwAAAAAAAPh\\u002fAAAAALgzJ0EAAAAA4islQQAAAAAAAPh\\u002fAAAAAAAA+H8AAAAAAAD4fwAAAAAAAPh\\u002fAAAAAAAA+H8AAABANjBaQQAAAAAAAPh\\u002fAAAAAEg7E0EAAAAAAIbnQAAAAACWzEZBAAAAAJbMRkEAAAAASDsTQQAAAAAAAPh\\u002fAAAAAAACq0AAAAAAMH\\u002f8QAAAAIBAAUBBAAAAQKiPYUEAAAAAAAD4fwAAAAAAAPh\\u002fAAAAgAh8YkEAAACACHxiQQAAAIAIfGJBAAAAALhQBkEAAAAAAAD4fwAAAAC4MydBAAAAAAAA+H8AAAAARmgpQQAAAAAAAPh\\u002fAAAAACCt7EAAAAAAoDjgQAAAAAAKeytBAAAAACCt7EAAAAAAFLZPQQAAAAAAAPh\\u002fAAAAABS2T0EAAAAAEDf6QAAAAABkwBNBAAAAANNzSUEAAAAAwNLtQAAAAAAgrexAAAAAAEghA0EAAAAAAAD4fwAAAACZRkhBAAAAAGCn\\u002fkAAAAAAAAD4fwAAAABGaClBAAAAAAAA+H8AAAAAjL4oQQAAAAD6vjlBAAAAAIy+KEE=\"},\"type\":\"choropleth\"}],\"name\":\"2019\"},{\"data\":[{\"coloraxis\":\"coloraxis\",\"geo\":\"geo\",\"hovertemplate\":\"\\u003cb\\u003e%{hovertext}\\u003c\\u002fb\\u003e\\u003cbr\\u003e\\u003cbr\\u003eYear=2020\\u003cbr\\u003eCountryCode=%{location}\\u003cbr\\u003ePop. requiring PC=%{z}\\u003cextra\\u003e\\u003c\\u002fextra\\u003e\",\"hovertext\":[\"SLE\",\"ZWE\",\"AGO\",\"AGO\",\"LBR\",\"AGO\",\"SWZ\",\"SLE\",\"ETH\",\"GIN\",\"SEN\",\"ZMB\",\"ZMB\",\"CPV\",\"GNB\",\"GNB\",\"BDI\",\"LSO\",\"BDI\",\"BDI\",\"GAB\",\"GAB\",\"GIN\",\"ETH\",\"GMB\",\"KEN\",\"TZA\",\"MDG\",\"BEN\",\"MRT\",\"TZA\",\"BEN\",\"BEN\",\"CAF\",\"COG\",\"COG\",\"COG\",\"COG\",\"MOZ\",\"MOZ\",\"MOZ\",\"NAM\",\"NGA\",\"NGA\",\"BWA\",\"TGO\",\"TGO\",\"COM\",\"NER\",\"NER\",\"TCD\",\"TCD\",\"CIV\",\"CIV\",\"GHA\",\"BFA\",\"MDG\",\"ZAF\",\"RWA\",\"STP\",\"MDG\",\"COD\",\"MWI\",\"CMR\",\"MDG\",\"UGA\",\"GNQ\",\"ERI\",\"UGA\",\"UGA\",\"SSD\",\"MLI\"],\"locations\":[\"SLE\",\"ZWE\",\"AGO\",\"AGO\",\"LBR\",\"AGO\",\"SWZ\",\"SLE\",\"ETH\",\"GIN\",\"SEN\",\"ZMB\",\"ZMB\",\"CPV\",\"GNB\",\"GNB\",\"BDI\",\"LSO\",\"BDI\",\"BDI\",\"GAB\",\"GAB\",\"GIN\",\"ETH\",\"GMB\",\"KEN\",\"TZA\",\"MDG\",\"BEN\",\"MRT\",\"TZA\",\"BEN\",\"BEN\",\"CAF\",\"COG\",\"COG\",\"COG\",\"COG\",\"MOZ\",\"MOZ\",\"MOZ\",\"NAM\",\"NGA\",\"NGA\",\"BWA\",\"TGO\",\"TGO\",\"COM\",\"NER\",\"NER\",\"TCD\",\"TCD\",\"CIV\",\"CIV\",\"GHA\",\"BFA\",\"MDG\",\"ZAF\",\"RWA\",\"STP\",\"MDG\",\"COD\",\"MWI\",\"CMR\",\"MDG\",\"UGA\",\"GNQ\",\"ERI\",\"UGA\",\"UGA\",\"SSD\",\"MLI\"],\"name\":\"\",\"z\":{\"dtype\":\"f8\",\"bdata\":\"AAAAAA4gMEEAAAAAANYCQQAAAADdvjJBAAAAAAAA+H8AAAAAlCITQQAAAAAAAPh\\u002fAAAAAAACq0AAAAAAAAD4fwAAAAAAAPh\\u002fAAAAAApmJ0EAAAAA6AgaQQAAAACtqjVBAAAAAAAA+H8AAAAAgGfmQAAAAAAAAPh\\u002fAAAAAOB3\\u002f0AAAAAAAAD4fwAAAAAwf\\u002fxAAAAAAKRUKEEAAAAApFQoQQAAAADwnQJBAAAAAAAA+H8AAAAAAAD4fwAAAED8pWFBAAAAAKA44EAAAAAA0WxCQQAAAAAAAPh\\u002fAAAAAAAA+H8AAAAA0DgkQQAAAAAAAPh\\u002fAAAAABfWWkEAAAAAAAD4fwAAAAAAAPh\\u002fAAAAADgCF0EAAAAAAAD4fwAAAAAAAPh\\u002fAAAAAAAA+H8AAAAAEFgUQQAAAICx+k1BAAAAAAAA+H8AAAAAAAD4fwAAAAAQN\\u002fpAAAAAAAAA+H8AAADwwwlwQQAAAAAg\\u002fO9AAAAAAAAA+H8AAAAAAMkqQQAAAACAv\\u002fRAAAAAAAAA+H8AAAAAAAD4fwAAAAAAAPh\\u002fAAAAALhQBkEAAAAAhlQoQQAAAAAAAPh\\u002fAAAAANNzSUEAAAAAAAD4fwAAAADypEBBAAAAwM33UUEAAAAAmj4xQQAAAADAQNlAAAAAAAAA+H8AAABgUg1lQQAAAADVekBBAAAAACZAMkEAAAAA8qRAQQAAAAAAAPh\\u002fAAAAAACG50AAAAAAAAD4fwAAAIACJVRBAAAAgAIlVEEAAAAAYHIJQQAAAAAAAPh\\u002f\"},\"type\":\"choropleth\"}],\"name\":\"2020\"},{\"data\":[{\"coloraxis\":\"coloraxis\",\"geo\":\"geo\",\"hovertemplate\":\"\\u003cb\\u003e%{hovertext}\\u003c\\u002fb\\u003e\\u003cbr\\u003e\\u003cbr\\u003eYear=2021\\u003cbr\\u003eCountryCode=%{location}\\u003cbr\\u003ePop. requiring PC=%{z}\\u003cextra\\u003e\\u003c\\u002fextra\\u003e\",\"hovertext\":[\"TGO\",\"TZA\",\"ZWE\",\"TZA\",\"BWA\",\"ZAF\",\"ZMB\",\"ZMB\",\"AGO\",\"UGA\",\"UGA\",\"BEN\",\"BEN\",\"SSD\",\"BFA\",\"AGO\",\"TZA\",\"TCD\",\"NAM\",\"MDG\",\"ETH\",\"RWA\",\"CAF\",\"CAF\",\"LBR\",\"LSO\",\"GAB\",\"GNB\",\"GNB\",\"NGA\",\"NGA\",\"TCD\",\"CIV\",\"MLI\",\"CIV\",\"MRT\",\"NER\",\"COM\",\"COM\",\"LBR\",\"KEN\",\"COG\",\"COG\",\"ETH\",\"ETH\",\"COG\",\"MOZ\",\"MOZ\",\"COG\",\"CIV\",\"MDG\",\"RWA\",\"GNQ\",\"SEN\",\"COD\",\"GIN\",\"GNQ\",\"COD\",\"COD\",\"SEN\",\"CPV\",\"BDI\",\"BDI\",\"SLE\",\"SLE\",\"GHA\",\"GHA\",\"ERI\",\"COD\",\"GMB\",\"MWI\",\"STP\",\"MWI\",\"SWZ\",\"CMR\",\"CMR\"],\"locations\":[\"TGO\",\"TZA\",\"ZWE\",\"TZA\",\"BWA\",\"ZAF\",\"ZMB\",\"ZMB\",\"AGO\",\"UGA\",\"UGA\",\"BEN\",\"BEN\",\"SSD\",\"BFA\",\"AGO\",\"TZA\",\"TCD\",\"NAM\",\"MDG\",\"ETH\",\"RWA\",\"CAF\",\"CAF\",\"LBR\",\"LSO\",\"GAB\",\"GNB\",\"GNB\",\"NGA\",\"NGA\",\"TCD\",\"CIV\",\"MLI\",\"CIV\",\"MRT\",\"NER\",\"COM\",\"COM\",\"LBR\",\"KEN\",\"COG\",\"COG\",\"ETH\",\"ETH\",\"COG\",\"MOZ\",\"MOZ\",\"COG\",\"CIV\",\"MDG\",\"RWA\",\"GNQ\",\"SEN\",\"COD\",\"GIN\",\"GNQ\",\"COD\",\"COD\",\"SEN\",\"CPV\",\"BDI\",\"BDI\",\"SLE\",\"SLE\",\"GHA\",\"GHA\",\"ERI\",\"COD\",\"GMB\",\"MWI\",\"STP\",\"MWI\",\"SWZ\",\"CMR\",\"CMR\"],\"name\":\"\",\"z\":{\"dtype\":\"f8\",\"bdata\":\"AAAAAJJ+K0EAAAAAAAD4fwAAAABYHANBAAAAAAAA+H8AAAAAAPfLQAAAAMDN91FBAAAAAAAA+H8AAAAANk02QQAAAADH4DtBAAAAAAAA+H8AAABAxUlXQQAAAAAAAPh\\u002fAAAAAIiTHEEAAAAAOAgKQQAAAAAAAPh\\u002fAAAAAMfgO0EAAACAuEpdQQAAAAAAAPh\\u002fAAAAABA3+kAAAAAAAAD4fwAAAEBCTGBBAAAAAPR0MkEAAAAA3KQhQQAAAAAAAPh\\u002fAAAAAAjXD0EAAAAAMH\\u002f8QAAAAADwnQJBAAAAAJgnAEEAAAAAAAD4fwAAAAAAAPh\\u002fAAAAwBt0cEEAAAAAYL4IQQAAAAAAAPh\\u002fAAAAAAAA+H8AAAAAAAD4fwAAAAAAAPh\\u002fAAAAAAAA+H8AAAAAgKn1QAAAAAAAAPh\\u002fAAAAAAAA+H8AAACA+fxCQQAAAAAAAPh\\u002fAAAAAAAA+H8AAAAAAAD4fwAAAAAAAPh\\u002fAAAAAAAA+H8AAAAAAAD4fwAAAMC79FBBAAAAAGzdFEEAAAAAgjEpQQAAAAAiZz9BAAAAAPR0MkEAAAAAELP+QAAAAAAAAPh\\u002fAAAAAAAA+H8AAAAA9gsoQQAAAAAQs\\u002f5AAAAAAAAA+H8AAAAAAAD4fwAAAABAvBpBAAAAAIBn5kAAAAAAIA4QQQAAAAAgDhBBAAAAANgcGUEAAAAAAAD4fwAAAAAAAPh\\u002fAAAAAAAA+H8AAAAAAAD4fwAAAMBtVVlBAAAAAIBzy0AAAAAADetAQQAAAADAutlAAAAAAA3rQEEAAAAAAAKrQAAAAADCJTJBAAAAAAAA+H8=\"},\"type\":\"choropleth\"}],\"name\":\"2021\"},{\"data\":[{\"coloraxis\":\"coloraxis\",\"geo\":\"geo\",\"hovertemplate\":\"\\u003cb\\u003e%{hovertext}\\u003c\\u002fb\\u003e\\u003cbr\\u003e\\u003cbr\\u003eYear=2022\\u003cbr\\u003eCountryCode=%{location}\\u003cbr\\u003ePop. requiring PC=%{z}\\u003cextra\\u003e\\u003c\\u002fextra\\u003e\",\"hovertext\":[\"CIV\",\"COG\",\"COG\",\"MLI\",\"UGA\",\"COD\",\"SWZ\",\"COG\",\"TZA\",\"MWI\",\"UGA\",\"UGA\",\"COG\",\"KEN\",\"COD\",\"KEN\",\"COD\",\"AGO\",\"AGO\",\"COD\",\"MRT\",\"AGO\",\"LSO\",\"CIV\",\"CIV\",\"ZWE\",\"BEN\",\"COM\",\"MOZ\",\"GAB\",\"SSD\",\"SSD\",\"RWA\",\"GNQ\",\"GIN\",\"CMR\",\"CMR\",\"GIN\",\"BFA\",\"ZAF\",\"GIN\",\"SEN\",\"GMB\",\"LBR\",\"CPV\",\"GHA\",\"BDI\",\"SLE\",\"SLE\",\"STP\",\"BEN\",\"RWA\",\"ZMB\",\"ERI\",\"NAM\",\"BWA\",\"ETH\",\"ETH\",\"LBR\",\"TGO\",\"TGO\",\"MDG\",\"CAF\",\"MDG\",\"NER\",\"MDG\",\"GNB\",\"GNB\",\"TCD\",\"NGA\",\"NGA\",\"NGA\",\"GAB\",\"TZA\",\"TZA\"],\"locations\":[\"CIV\",\"COG\",\"COG\",\"MLI\",\"UGA\",\"COD\",\"SWZ\",\"COG\",\"TZA\",\"MWI\",\"UGA\",\"UGA\",\"COG\",\"KEN\",\"COD\",\"KEN\",\"COD\",\"AGO\",\"AGO\",\"COD\",\"MRT\",\"AGO\",\"LSO\",\"CIV\",\"CIV\",\"ZWE\",\"BEN\",\"COM\",\"MOZ\",\"GAB\",\"SSD\",\"SSD\",\"RWA\",\"GNQ\",\"GIN\",\"CMR\",\"CMR\",\"GIN\",\"BFA\",\"ZAF\",\"GIN\",\"SEN\",\"GMB\",\"LBR\",\"CPV\",\"GHA\",\"BDI\",\"SLE\",\"SLE\",\"STP\",\"BEN\",\"RWA\",\"ZMB\",\"ERI\",\"NAM\",\"BWA\",\"ETH\",\"ETH\",\"LBR\",\"TGO\",\"TGO\",\"MDG\",\"CAF\",\"MDG\",\"NER\",\"MDG\",\"GNB\",\"GNB\",\"TCD\",\"NGA\",\"NGA\",\"NGA\",\"GAB\",\"TZA\",\"TZA\"],\"name\":\"\",\"z\":{\"dtype\":\"f8\",\"bdata\":\"AAAAAAAA+H8AAAAAAAD4fwAAAAB4yQ5BAAAAAAAA+H8AAAAAAAD4fwAAAAAAAPh\\u002fAAAAAAChtkAAAAAAAAD4fwAAAMBN91xBAAAAgMQOQkEAAADAtgdYQQAAAMC2B1hBAAAAAAAA+H8AAAAAj6g3QQAAAAAAAPh\\u002fAAAAAI+oN0EAAAAAAAD4fwAAAAAAAPh\\u002fAAAAAISGOEEAAACA9ZBaQQAAAAAAAPh\\u002fAAAAAISGOEEAAAAAMH\\u002f8QAAAAAD41SlBAAAAAAAA+H8AAAAA4FsEQQAAAACWCSFBAAAAAICp9UAAAAAA5\\u002fZNQQAAAAAAAPh\\u002fAAAAAAAA+H8AAAAAGB0JQQAAAACHmDJBAAAAABCz\\u002fkAAAAAAAAD4fwAAAAAAAPh\\u002fAAAAANUcNUEAAAAAAAD4fwAAAAAAAPh\\u002fAAAAACeRTkEAAAAA5OYtQQAAAADEcRtBAAAAAIBzy0AAAAAAAAD4fwAAAADAWeRAAAAAAAAA+H8AAAAAaOcPQQAAAADMMhZBAAAAAAAA+H8AAAAAQDTaQAAAAAAAAPh\\u002fAAAAAIeYMkEAAAAANk02QQAAAAAAAPh\\u002fAAAAABA3+kAAAAAAgJXJQAAAAED+\\u002fltBAAAAAAAA+H8AAAAAiFMOQQAAAAAAAPh\\u002fAAAAAD4BK0EAAAAAAAD4fwAAAADcpCFBAAAAAFn1QEEAAAAAAAD4fwAAAABZ9UBBAAAAAAAA+H8AAAAAQE\\u002f8QAAAAAC4rAZBAAAAsNzhcEEAAAAAAAD4fwAAAAAAAPh\\u002fAAAAAEiSAUEAAAAAAAD4fwAAAAAAAPh\\u002f\"},\"type\":\"choropleth\"}],\"name\":\"2022\"},{\"data\":[{\"coloraxis\":\"coloraxis\",\"geo\":\"geo\",\"hovertemplate\":\"\\u003cb\\u003e%{hovertext}\\u003c\\u002fb\\u003e\\u003cbr\\u003e\\u003cbr\\u003eYear=2023\\u003cbr\\u003eCountryCode=%{location}\\u003cbr\\u003ePop. requiring PC=%{z}\\u003cextra\\u003e\\u003c\\u002fextra\\u003e\",\"hovertext\":[\"SLE\",\"TZA\",\"GHA\",\"GMB\",\"GIN\",\"GIN\",\"GIN\",\"GAB\",\"ZMB\",\"GNB\",\"GNB\",\"ETH\",\"ETH\",\"KEN\",\"LSO\",\"SWZ\",\"TZA\",\"TZA\",\"TZA\",\"TZA\",\"LBR\",\"CIV\",\"ERI\",\"NAM\",\"COM\",\"NER\",\"NER\",\"TCD\",\"NGA\",\"NGA\",\"NGA\",\"CAF\",\"CAF\",\"BFA\",\"SSD\",\"RWA\",\"RWA\",\"RWA\",\"CMR\",\"CMR\",\"ZAF\",\"STP\",\"SEN\",\"SEN\",\"SEN\",\"CPV\",\"BDI\",\"BDI\",\"SLE\",\"SLE\",\"TGO\",\"LBR\",\"TGO\",\"MOZ\",\"GNQ\",\"MDG\",\"MDG\",\"MDG\",\"AGO\",\"AGO\",\"AGO\",\"AGO\",\"COD\",\"COD\",\"COD\",\"COD\",\"UGA\",\"UGA\",\"UGA\",\"MWI\",\"MLI\",\"CIV\",\"SLE\",\"CIV\",\"MRT\",\"COG\",\"COG\",\"COG\",\"COG\",\"BEN\",\"MOZ\",\"BWA\",\"ZWE\"],\"locations\":[\"SLE\",\"TZA\",\"GHA\",\"GMB\",\"GIN\",\"GIN\",\"GIN\",\"GAB\",\"ZMB\",\"GNB\",\"GNB\",\"ETH\",\"ETH\",\"KEN\",\"LSO\",\"SWZ\",\"TZA\",\"TZA\",\"TZA\",\"TZA\",\"LBR\",\"CIV\",\"ERI\",\"NAM\",\"COM\",\"NER\",\"NER\",\"TCD\",\"NGA\",\"NGA\",\"NGA\",\"CAF\",\"CAF\",\"BFA\",\"SSD\",\"RWA\",\"RWA\",\"RWA\",\"CMR\",\"CMR\",\"ZAF\",\"STP\",\"SEN\",\"SEN\",\"SEN\",\"CPV\",\"BDI\",\"BDI\",\"SLE\",\"SLE\",\"TGO\",\"LBR\",\"TGO\",\"MOZ\",\"GNQ\",\"MDG\",\"MDG\",\"MDG\",\"AGO\",\"AGO\",\"AGO\",\"AGO\",\"COD\",\"COD\",\"COD\",\"COD\",\"UGA\",\"UGA\",\"UGA\",\"MWI\",\"MLI\",\"CIV\",\"SLE\",\"CIV\",\"MRT\",\"COG\",\"COG\",\"COG\",\"COG\",\"BEN\",\"MOZ\",\"BWA\",\"ZWE\"],\"name\":\"\",\"z\":{\"dtype\":\"f8\",\"bdata\":\"AAAAAAAA+H8AAACAJrxdQQAAAAAAAPh\\u002fAAAAAIBzy0AAAAAAOnMhQQAAAAAAAPh\\u002fAAAAAAAA+H8AAAAACAQCQQAAAACFszdBAAAAANCt\\u002f0AAAAAAAAD4fwAAAAAAAPh\\u002fAAAAQPB\\u002fWEEAAAAAZwVBQQAAAAAwf\\u002fxAAAAAAABGvkAAAAAAAAD4fwAAAAAAAPh\\u002fAAAAAAAA+H8AAACAJrxdQQAAAACgpw9BAAAAAAAA+H8AAAAAAAD4fwAAAAAQN\\u002fpAAAAAAICp9UAAAAAAAAD4fwAAAAAAAPh\\u002fAAAAAMCjCUEAAABg6E1xQQAAAAAAAPh\\u002fAAAAAAAA+H8AAAAAiPkiQQAAAACI+SJBAAAAAAAA+H8AAAAAaEILQQAAAABevzNBAAAAAF6\\u002fM0EAAAAAAAD4fwAAAABsuTFBAAAAAGy5MUEAAAAAJ5FOQQAAAACAr9pAAAAAAB7bKUEAAAAAAAD4fwAAAAAAAPh\\u002fAAAAAMBZ5EAAAAAAqLoPQQAAAACoug9BAAAAAAAA+H8AAAAAAAD4fwAAAAAiGSxBAAAAAAAA+H8AAAAAAAD4fwAAAAAAAPh\\u002fAAAAAKgjAEEAAAAAVPVBQQAAAABU9UFBAAAAAAAA+H8AAAAAWr01QQAAAAAAAPh\\u002fAAAAAAAA+H8AAAAAAAD4fwAAAAAAAPh\\u002fAAAAAAAA+H8AAAAAAAD4fwAAAABSXGFBAAAAAAAA+H8AAABAzshWQQAAAEDOyFZBAAAAALihL0EAAAAAAAD4fwAAAAAAAPh\\u002fAAAAAG7gJkEAAAAAmn4qQQAAAAAAAPh\\u002fAAAAAAAA+H8AAAAAAAD4fwAAAAAAAPh\\u002fAAAAAPh9D0EAAAAA1NUdQQAAAAC\\u002fuE5BAAAAAAD3yUAAAAAA4FsEQQ==\"},\"type\":\"choropleth\"}],\"name\":\"2023\"}]);\n",
       "                        }).then(function(){\n",
       "                            \n",
       "var gd = document.getElementById('8cf1a216-0335-4503-85e2-3c2762fdb9d1');\n",
       "var x = new MutationObserver(function (mutations, observer) {{\n",
       "        var display = window.getComputedStyle(gd).display;\n",
       "        if (!display || display === 'none') {{\n",
       "            console.log([gd, 'removed!']);\n",
       "            Plotly.purge(gd);\n",
       "            observer.disconnect();\n",
       "        }}\n",
       "}});\n",
       "\n",
       "// Listen for the removal of the full notebook cells\n",
       "var notebookContainer = gd.closest('#notebook-container');\n",
       "if (notebookContainer) {{\n",
       "    x.observe(notebookContainer, {childList: true});\n",
       "}}\n",
       "\n",
       "// Listen for the clearing of the current output cell\n",
       "var outputEl = gd.closest('.output');\n",
       "if (outputEl) {{\n",
       "    x.observe(outputEl, {childList: true});\n",
       "}}\n",
       "\n",
       "                        })                };            </script>        </div>"
      ]
     },
     "metadata": {},
     "output_type": "display_data"
    }
   ],
   "source": [
    "# -- STH choropleth --\n",
    "fig_sth = px.choropleth(\n",
    "    sth,\n",
    "    locations='CountryCode',\n",
    "    color='Population requiring PC for STH, Pre-SAC',\n",
    "    hover_name='CountryCode',\n",
    "    animation_frame='Year',\n",
    "    color_continuous_scale='Plasma',\n",
    "    range_color=[0, sth['Population requiring PC for STH, Pre-SAC'].max()],\n",
    "    scope='africa',\n",
    "    labels={'Population requiring PC for STH, Pre-SAC':'Pop. requiring PC'},\n",
    "    title='STH: Population Requiring Preventive Chemotherapy Over Time'\n",
    ")\n",
    "fig_sth.update_layout(margin={\"r\":0,\"t\":40,\"l\":0,\"b\":0})\n",
    "fig_sth.show()\n"
   ]
  },
  {
   "cell_type": "code",
   "execution_count": 23,
   "metadata": {},
   "outputs": [
    {
     "name": "stdout",
     "output_type": "stream",
     "text": [
      "\n",
      "H₁ ANOVA Results (Δ5y by avg_coverage bin):\n",
      "  F-statistic = 9.01\n",
      "  p-value     = 0.2292\n"
     ]
    }
   ],
   "source": [
    "# --- H1: ANOVA on LF delta_5y by coverage bins ---\n",
    "# Create coverage bins (<50%, 50-75%, >75%)\n",
    "\n",
    "from scipy.stats import f_oneway, pearsonr\n",
    "import statsmodels.formula.api as smf\n",
    "\n",
    "baseline_year = 2000\n",
    "future_year = baseline_year + 5\n",
    "\n",
    "# Baseline and future series\n",
    "base = (lf[lf['Year'] == baseline_year]\n",
    "        .groupby('CountryCode')['Population requiring PC for LF']\n",
    "        .mean()\n",
    "        .rename('baseline_PC'))\n",
    "\n",
    "future = (lf[lf['Year'] == future_year]\n",
    "          .groupby('CountryCode')['Population requiring PC for LF']\n",
    "          .mean()\n",
    "          .rename('future_PC'))\n",
    "\n",
    "# Average coverage across all years\n",
    "avg_cov = (lf.groupby('CountryCode')['Programme (drug) coverage (%)']\n",
    "           .mean()\n",
    "           .rename('avg_coverage'))\n",
    "\n",
    "# Combine\n",
    "summary = pd.concat([base, future, avg_cov], axis=1).dropna()\n",
    "summary['delta_5y'] = summary['future_PC'] - summary['baseline_PC']\n",
    "\n",
    "# 5. Create coverage bins\n",
    "summary['coverage_bin'] = pd.cut(\n",
    "    summary['avg_coverage'],\n",
    "    bins=[0, 50, 75, 100],\n",
    "    labels=['<50%', '50-75%', '>75%']\n",
    ")\n",
    "\n",
    "# 6. Prepare groups for ANOVA\n",
    "groups = [grp['delta_5y'].values for _, grp in summary.groupby('coverage_bin')]\n",
    "\n",
    "# 7. Run one-way ANOVA\n",
    "F_stat, p_val = f_oneway(*groups)\n",
    "\n",
    "print(\"\\nH₁ ANOVA Results (Δ5y by avg_coverage bin):\")\n",
    "print(f\"  F-statistic = {F_stat:.2f}\")\n",
    "print(f\"  p-value     = {p_val:.4f}\")"
   ]
  },
  {
   "cell_type": "code",
   "execution_count": 24,
   "metadata": {},
   "outputs": [
    {
     "ename": "KeyError",
     "evalue": "'baseline_PC'",
     "output_type": "error",
     "traceback": [
      "\u001b[0;31m---------------------------------------------------------------------------\u001b[0m",
      "\u001b[0;31mKeyError\u001b[0m                                  Traceback (most recent call last)",
      "File \u001b[0;32m~/Library/Python/3.9/lib/python/site-packages/pandas/core/indexes/base.py:3791\u001b[0m, in \u001b[0;36mIndex.get_loc\u001b[0;34m(self, key)\u001b[0m\n\u001b[1;32m   3790\u001b[0m \u001b[39mtry\u001b[39;00m:\n\u001b[0;32m-> 3791\u001b[0m     \u001b[39mreturn\u001b[39;00m \u001b[39mself\u001b[39;49m\u001b[39m.\u001b[39;49m_engine\u001b[39m.\u001b[39;49mget_loc(casted_key)\n\u001b[1;32m   3792\u001b[0m \u001b[39mexcept\u001b[39;00m \u001b[39mKeyError\u001b[39;00m \u001b[39mas\u001b[39;00m err:\n",
      "File \u001b[0;32mindex.pyx:152\u001b[0m, in \u001b[0;36mpandas._libs.index.IndexEngine.get_loc\u001b[0;34m()\u001b[0m\n",
      "File \u001b[0;32mindex.pyx:181\u001b[0m, in \u001b[0;36mpandas._libs.index.IndexEngine.get_loc\u001b[0;34m()\u001b[0m\n",
      "File \u001b[0;32mpandas/_libs/hashtable_class_helper.pxi:7080\u001b[0m, in \u001b[0;36mpandas._libs.hashtable.PyObjectHashTable.get_item\u001b[0;34m()\u001b[0m\n",
      "File \u001b[0;32mpandas/_libs/hashtable_class_helper.pxi:7088\u001b[0m, in \u001b[0;36mpandas._libs.hashtable.PyObjectHashTable.get_item\u001b[0;34m()\u001b[0m\n",
      "\u001b[0;31mKeyError\u001b[0m: 'baseline_PC'",
      "\nThe above exception was the direct cause of the following exception:\n",
      "\u001b[0;31mKeyError\u001b[0m                                  Traceback (most recent call last)",
      "Cell \u001b[0;32mIn[24], line 5\u001b[0m\n\u001b[1;32m      3\u001b[0m lf[\u001b[39m'\u001b[39m\u001b[39mlog_GDP\u001b[39m\u001b[39m'\u001b[39m] \u001b[39m=\u001b[39m np\u001b[39m.\u001b[39mlog(lf[\u001b[39m'\u001b[39m\u001b[39mGDP_per_capita\u001b[39m\u001b[39m'\u001b[39m])\n\u001b[1;32m      4\u001b[0m lf[\u001b[39m'\u001b[39m\u001b[39mlog_HE\u001b[39m\u001b[39m'\u001b[39m]  \u001b[39m=\u001b[39m np\u001b[39m.\u001b[39mlog(lf[\u001b[39m'\u001b[39m\u001b[39mHealthExp_per_capita\u001b[39m\u001b[39m'\u001b[39m])\n\u001b[0;32m----> 5\u001b[0m y \u001b[39m=\u001b[39m lf[\u001b[39m'\u001b[39;49m\u001b[39mbaseline_PC\u001b[39;49m\u001b[39m'\u001b[39;49m]\n\u001b[1;32m      7\u001b[0m \u001b[39m# 3. Pearson correlations\u001b[39;00m\n\u001b[1;32m      8\u001b[0m r_gdp, p_gdp \u001b[39m=\u001b[39m pearsonr(lf[\u001b[39m'\u001b[39m\u001b[39mlog_GDP\u001b[39m\u001b[39m'\u001b[39m], y)\n",
      "File \u001b[0;32m~/Library/Python/3.9/lib/python/site-packages/pandas/core/frame.py:3893\u001b[0m, in \u001b[0;36mDataFrame.__getitem__\u001b[0;34m(self, key)\u001b[0m\n\u001b[1;32m   3891\u001b[0m \u001b[39mif\u001b[39;00m \u001b[39mself\u001b[39m\u001b[39m.\u001b[39mcolumns\u001b[39m.\u001b[39mnlevels \u001b[39m>\u001b[39m \u001b[39m1\u001b[39m:\n\u001b[1;32m   3892\u001b[0m     \u001b[39mreturn\u001b[39;00m \u001b[39mself\u001b[39m\u001b[39m.\u001b[39m_getitem_multilevel(key)\n\u001b[0;32m-> 3893\u001b[0m indexer \u001b[39m=\u001b[39m \u001b[39mself\u001b[39;49m\u001b[39m.\u001b[39;49mcolumns\u001b[39m.\u001b[39;49mget_loc(key)\n\u001b[1;32m   3894\u001b[0m \u001b[39mif\u001b[39;00m is_integer(indexer):\n\u001b[1;32m   3895\u001b[0m     indexer \u001b[39m=\u001b[39m [indexer]\n",
      "File \u001b[0;32m~/Library/Python/3.9/lib/python/site-packages/pandas/core/indexes/base.py:3798\u001b[0m, in \u001b[0;36mIndex.get_loc\u001b[0;34m(self, key)\u001b[0m\n\u001b[1;32m   3793\u001b[0m     \u001b[39mif\u001b[39;00m \u001b[39misinstance\u001b[39m(casted_key, \u001b[39mslice\u001b[39m) \u001b[39mor\u001b[39;00m (\n\u001b[1;32m   3794\u001b[0m         \u001b[39misinstance\u001b[39m(casted_key, abc\u001b[39m.\u001b[39mIterable)\n\u001b[1;32m   3795\u001b[0m         \u001b[39mand\u001b[39;00m \u001b[39many\u001b[39m(\u001b[39misinstance\u001b[39m(x, \u001b[39mslice\u001b[39m) \u001b[39mfor\u001b[39;00m x \u001b[39min\u001b[39;00m casted_key)\n\u001b[1;32m   3796\u001b[0m     ):\n\u001b[1;32m   3797\u001b[0m         \u001b[39mraise\u001b[39;00m InvalidIndexError(key)\n\u001b[0;32m-> 3798\u001b[0m     \u001b[39mraise\u001b[39;00m \u001b[39mKeyError\u001b[39;00m(key) \u001b[39mfrom\u001b[39;00m\u001b[39m \u001b[39m\u001b[39merr\u001b[39;00m\n\u001b[1;32m   3799\u001b[0m \u001b[39mexcept\u001b[39;00m \u001b[39mTypeError\u001b[39;00m:\n\u001b[1;32m   3800\u001b[0m     \u001b[39m# If we have a listlike key, _check_indexing_error will raise\u001b[39;00m\n\u001b[1;32m   3801\u001b[0m     \u001b[39m#  InvalidIndexError. Otherwise we fall through and re-raise\u001b[39;00m\n\u001b[1;32m   3802\u001b[0m     \u001b[39m#  the TypeError.\u001b[39;00m\n\u001b[1;32m   3803\u001b[0m     \u001b[39mself\u001b[39m\u001b[39m.\u001b[39m_check_indexing_error(key)\n",
      "\u001b[0;31mKeyError\u001b[0m: 'baseline_PC'"
     ]
    }
   ],
   "source": [
    "import statsmodels.api as sm\n",
    "\n",
    "lf['log_GDP'] = np.log(lf['GDP_per_capita'])\n",
    "lf['log_HE']  = np.log(lf['HealthExp_per_capita'])\n",
    "y = lf['baseline_PC']\n",
    "\n",
    "r_gdp, p_gdp = pearsonr(lf['log_GDP'], y)\n",
    "r_he,  p_he  = pearsonr(lf['log_HE'],  y)\n",
    "print(f\"Correlation: log(GDP) vs baseline_PC: r={r_gdp:.2f}, p={p_gdp:.4f}\")\n",
    "print(f\"Correlation: log(HealthExp) vs baseline_PC: r={r_he:.2f}, p={p_he:.4f}\")\n",
    "\n",
    "X = lf[['log_GDP', 'log_HE']]\n",
    "X = sm.add_constant(X)\n",
    "model = sm.OLS(y, X).fit()\n",
    "print(model.summary())"
   ]
  }
 ],
 "metadata": {
  "kernelspec": {
   "display_name": "Python 3",
   "language": "python",
   "name": "python3"
  },
  "language_info": {
   "codemirror_mode": {
    "name": "ipython",
    "version": 3
   },
   "file_extension": ".py",
   "mimetype": "text/x-python",
   "name": "python",
   "nbconvert_exporter": "python",
   "pygments_lexer": "ipython3",
   "version": "3.9.6"
  },
  "orig_nbformat": 4
 },
 "nbformat": 4,
 "nbformat_minor": 2
}
